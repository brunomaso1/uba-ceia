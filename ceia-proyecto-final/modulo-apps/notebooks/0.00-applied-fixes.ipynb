{
 "cells": [
  {
   "cell_type": "markdown",
   "metadata": {},
   "source": [
    "# <div align=\"center\"><b> Fixes aplicados </b></div>"
   ]
  },
  {
   "cell_type": "markdown",
   "metadata": {},
   "source": [
    "<div align=\"right\">\n",
    "\n",
    "<!-- [![Binder](http://mybinder.org/badge.svg)](https://mybinder.org/) -->\n",
    "[![nbviewer](https://img.shields.io/badge/render-nbviewer-orange?logo=Jupyter)](https://nbviewer.org/)\n",
    "[![Open In Colab](https://colab.research.google.com/assets/colab-badge.svg)](https://githubtocolab.com/)\n",
    "\n",
    "</div>"
   ]
  },
  {
   "cell_type": "markdown",
   "metadata": {},
   "source": [
    "* * *"
   ]
  },
  {
   "cell_type": "markdown",
   "metadata": {},
   "source": [
    "<style>\n",
    "/* Limitar la altura de las celdas de salida en html */\n",
    ".jp-OutputArea.jp-Cell-outputArea {\n",
    "    max-height: 500px;\n",
    "}\n",
    "</style>"
   ]
  },
  {
   "cell_type": "markdown",
   "metadata": {},
   "source": [
    "🛻 <em><font color='MediumSeaGreen'>  Instalaciones: </font></em> 🛻\n"
   ]
  },
  {
   "cell_type": "markdown",
   "metadata": {},
   "source": [
    "Este notebook utiliza [Poetry](https://python-poetry.org/) para la gestión de dependencias.\n",
    "Primero instala Poetry siguiendo las instrucciones de su [documentación oficial](https://python-poetry.org/docs/#installation).\n",
    "Luego ejecuta el siguiente comando para instalar las dependencias necesarias y activar el entorno virtual:\n",
    "\n",
    "- Bash:\n",
    "\n",
    "```bash\n",
    "poetry install\n",
    "eval $(poetry env activate)\n",
    "```\n",
    "\n",
    "- PowerShell:\n",
    "\n",
    "```powershell\n",
    "poetry install\n",
    "Invoke-Expression (poetry env activate)\n",
    "```\n",
    "\n",
    "> 📝 <em><font color='Gray'>Nota:</font></em> Para agregar `pytorch` utilizando Poetry, se utiliza el siguiente comando:\n",
    "> ```bash\n",
    "> # Más info: https://github.com/python-poetry/poetry/issues/6409\n",
    "> potery source add --priority explicit pytorch_gpu https://download.pytorch.org/whl/cu128 # Seleccionar la wheel adecuada para tu GPU\n",
    "> poetry add --source pytorch_gpu torch torchvision \n",
    "> ```"
   ]
  },
  {
   "cell_type": "markdown",
   "metadata": {},
   "source": [
    "✋ <em><font color='DodgerBlue'>Importaciones:</font></em> ✋"
   ]
  },
  {
   "cell_type": "code",
   "execution_count": null,
   "metadata": {},
   "outputs": [],
   "source": [
    "# Recarga automática de módulos en Jupyter Notebook\n",
    "%reload_ext autoreload\n",
    "%autoreload 2\n",
    "\n",
    "import sys, datetime, os\n",
    "from pprint import pprint\n",
    "\n",
    "from modulo_apps.config import config as CONFIG\n",
    "from loguru import logger as LOGGER\n",
    "from modulo_apps.utils.helpers import set_log_to_file\n",
    "\n",
    "import cv2\n",
    "\n",
    "from modulo_apps.database_comunication.mongodb_client import mongodb as DB\n",
    "from modulo_apps.s3_comunication.s3_client import s3client as S3\n"
   ]
  },
  {
   "cell_type": "markdown",
   "metadata": {},
   "source": [
    "🔧 <em><font color='tomato'>Configuraciones:</font></em> 🔧\n"
   ]
  },
  {
   "cell_type": "code",
   "execution_count": 2,
   "metadata": {},
   "outputs": [
    {
     "name": "stdout",
     "output_type": "stream",
     "text": [
      "\u001b[32m2025-08-09 16:13:04.308\u001b[0m | \u001b[1mINFO    \u001b[0m | \u001b[36m__main__\u001b[0m:\u001b[36m<module>\u001b[0m:\u001b[36m1\u001b[0m - \u001b[1mConfiguración cargada correctamente.\u001b[0m\n"
     ]
    }
   ],
   "source": [
    "LOGGER.info(\"Configuración cargada correctamente.\")"
   ]
  },
  {
   "cell_type": "markdown",
   "metadata": {},
   "source": [
    "<div align=\"center\">✨Datos del proyecto:✨</div>\n",
    "\n",
    "<p></p>\n",
    "\n",
    "<div align=\"center\">\n",
    "\n",
    "| Subtitulo       | Arreglo de los datos                                                                       |\n",
    "| --------------- | -------------------------------------------------------------------------------------------------------------------------------------- |\n",
    "| **Descrpción**  | <small>Este notebook regstra los arreglos de los datos que se hicieron durante el proyecto. Impacta principalmente MongoDB pero también MinIO</small>|\n",
    "\n",
    "</div>"
   ]
  },
  {
   "cell_type": "markdown",
   "metadata": {},
   "source": [
    "## Pruebas de conexión"
   ]
  },
  {
   "cell_type": "code",
   "execution_count": 8,
   "metadata": {},
   "outputs": [
    {
     "name": "stdout",
     "output_type": "stream",
     "text": [
      "\u001b[32m2025-08-09 16:17:18.612\u001b[0m | \u001b[1mINFO    \u001b[0m | \u001b[36m__main__\u001b[0m:\u001b[36m<module>\u001b[0m:\u001b[36m4\u001b[0m - \u001b[1mConexión a MongoDB exitosa.\u001b[0m\n",
      "\u001b[32m2025-08-09 16:17:18.621\u001b[0m | \u001b[1mINFO    \u001b[0m | \u001b[36m__main__\u001b[0m:\u001b[36m<module>\u001b[0m:\u001b[36m11\u001b[0m - \u001b[1mConexión a S3 exitosa.\u001b[0m\n"
     ]
    }
   ],
   "source": [
    "try:\n",
    "    # Verificar conexión a MongoDB\n",
    "    DB.list_collections()\n",
    "    LOGGER.info(\"Conexión a MongoDB exitosa.\")\n",
    "except Exception as e:\n",
    "    LOGGER.error(f\"Error al conectar a MongoDB: {e}\")\n",
    "\n",
    "try:\n",
    "    # Verificar conexión a S3\n",
    "    S3.list_buckets()\n",
    "    LOGGER.info(\"Conexión a S3 exitosa.\")\n",
    "except Exception as e:\n",
    "    LOGGER.error(f\"Error al conectar a S3: {e}\")"
   ]
  },
  {
   "cell_type": "markdown",
   "metadata": {},
   "source": [
    "## Fixes aplicados"
   ]
  },
  {
   "cell_type": "code",
   "execution_count": null,
   "metadata": {},
   "outputs": [],
   "source": [
    "def fix_image_width_height(image_id: str, width: int, height: int) -> bool:\n",
    "    \"\"\"Actualiza el ancho y alto de una imagen en la base de datos.\n",
    "\n",
    "    Args:\n",
    "        image_id (str): Identificador de la imagen a actualizar.\n",
    "        width (int): Nuevo ancho de la imagen.\n",
    "        height (int): Nuevo alto de la imagen.\n",
    "\n",
    "    Returns:\n",
    "        bool: True si la actualización fue exitosa, False en caso contrario.\n",
    "    \"\"\"\n",
    "    try:\n",
    "        imagenes = DB.get_collection(\"imagenes\")\n",
    "        result = imagenes.update_one(\n",
    "            {\"id\": image_id},\n",
    "            {\n",
    "                \"$set\": {\n",
    "                    \"width\": width,\n",
    "                    \"height\": height,\n",
    "                }\n",
    "            },\n",
    "        )\n",
    "        if result.modified_count > 0:\n",
    "            LOGGER.debug(f\"Ancho y alto de la imagen {image_id} actualizados correctamente.\")\n",
    "            return True\n",
    "        else:\n",
    "            LOGGER.warning(f\"No se encontraron cambios para la imagen {image_id}.\")\n",
    "            return False\n",
    "    except Exception as e:\n",
    "        LOGGER.error(f\"Error al actualizar el ancho y alto de la imagen {image_id}: {e}\")\n",
    "        return False"
   ]
  },
  {
   "cell_type": "code",
   "execution_count": null,
   "metadata": {},
   "outputs": [],
   "source": [
    "def fix_width_height_images():\n",
    "    \"\"\"Corrige el ancho y alto de las imágenes en la base de datos.\n",
    "\n",
    "    Esta función descarga las imágenes desde MinIO, obtiene sus dimensiones (ancho y alto),\n",
    "    actualiza estos valores en la base de datos y elimina las imágenes descargadas localmente.\n",
    "\n",
    "    Pasos realizados:\n",
    "    1. Configura el logger para registrar las actualizaciones.\n",
    "    2. Obtiene todas las imágenes almacenadas en la base de datos.\n",
    "    3. Descarga cada imagen desde MinIO si está marcada como descargada.\n",
    "    4. Calcula las dimensiones de la imagen descargada.\n",
    "    5. Actualiza las dimensiones en la base de datos.\n",
    "    6. Elimina la imagen descargada localmente.\n",
    "\n",
    "    Raises:\n",
    "        OSError: Si ocurre un error al eliminar la imagen descargada localmente.\n",
    "    \"\"\"\n",
    "\n",
    "    set_log_to_file(f\"updates_{datetime.date.today()}.log\", level=\"INFO\")\n",
    "    LOGGER.info(\"Iniciando actualización de imágenes y parches.\")\n",
    "    # Actualizar el width y height de las imágenes en la base de datos\n",
    "    # 1 - Obtener todas las imágenes de la base de datos\n",
    "    imagenes = DB.get_collection(\"imagenes\")\n",
    "\n",
    "    # 2 - Para cada imagen:\n",
    "    for image in imagenes.find():\n",
    "        image_id = image[\"id\"]\n",
    "        downloaded: bool = image[\"downloaded\"]\n",
    "        if not downloaded:\n",
    "            LOGGER.warning(f\"La imagen {image_id} no está descargada, se omitirá.\")\n",
    "            continue\n",
    "        LOGGER.info(f\"Actualizando imagen {image_id}...\")\n",
    "        # 2.1 - Descargar la imagen desde MinIO\n",
    "\n",
    "        jpg_path = download_image_from_minio(image_id)\n",
    "        LOGGER.info(f\"Imagen {image_id} descargada correctamente.\")\n",
    "        # 2.2 - Obtener el ancho y alto de la imagen descargada\n",
    "        img = cv.imread(jpg_path)\n",
    "        height, width = img.shape[:2]\n",
    "        # 2.3 - Actualizar el ancho y alto de la imagen en la base de datos\n",
    "        fix_image_width_height(image_id, width, height)\n",
    "        LOGGER.info(f\"Ancho y alto de la imagen {image_id} actualizados correctamente.\")\n",
    "        # 2.4 - Eliminar la imagen descargada\n",
    "        try:\n",
    "            os.remove(jpg_path)\n",
    "            LOGGER.info(f\"Imagen {jpg_path} eliminada correctamente.\")\n",
    "        except OSError as e:\n",
    "            LOGGER.warning(f\"Error al eliminar la imagen {jpg_path}: {e}\")\n",
    "            continue\n",
    "    LOGGER.info(\"Actualización de imágenes y parches finalizada.\")"
   ]
  },
  {
   "cell_type": "code",
   "execution_count": null,
   "metadata": {},
   "outputs": [],
   "source": [
    "def fix_dates_images():\n",
    "    set_log_to_file(f\"fix_dates_images_{datetime.date.today()}.log\")\n",
    "    LOGGER.setLevel(logging.INFO)\n",
    "    LOGGER.info(\"Iniciando actualización de fechas de imágenes.\")\n",
    "    # Actualizar el width y height de las imágenes en la base de datos\n",
    "    # 1 - Obtener todas las imágenes de la base de datos\n",
    "    imagenes = DB.get_collection(\"imagenes\")\n",
    "    date_format = \"%d/%m/%Y\"\n",
    "\n",
    "    # 2 - Para cada imagen:\n",
    "    for image in imagenes.find():\n",
    "        # 2.1 - Obtener el título de la imagen\n",
    "        image_title = image[\"title\"]\n",
    "\n",
    "        # 2.2 - Extraer la fecha del título de la imagen\n",
    "        match = re.search(r\"\\d{2}/\\d{2}/\\d{4}\", image_title)\n",
    "        date_str = match.group(0) if match else None\n",
    "        if not date_str:\n",
    "            LOGGER.warning(f\"No se encontró una fecha válida en el título de la imagen {image_title}.\")\n",
    "            continue\n",
    "\n",
    "        # 2.3 - Actualizar la fecha de captura en la base de datos\n",
    "        try:\n",
    "            date_captured = datetime.datetime.strptime(date_str, date_format)\n",
    "            imagenes.update_one(\n",
    "                {\"id\": image[\"id\"]},\n",
    "                {\n",
    "                    \"$set\": {\n",
    "                        \"date_captured\": date_captured,\n",
    "                    }\n",
    "                },\n",
    "            )\n",
    "            LOGGER.info(f\"Fecha de captura de la imagen {image_title} actualizada correctamente.\")\n",
    "        except Exception as e:\n",
    "            LOGGER.warning(f\"Error al actualizar la fecha de captura: {e}\")\n",
    "\n",
    "    LOGGER.info(\"Actualización de fechas de imágenes finalizada.\")"
   ]
  },
  {
   "cell_type": "code",
   "execution_count": null,
   "metadata": {},
   "outputs": [],
   "source": [
    "def fix_patch_name():\n",
    "    \"\"\"Corrige el nombre de los parches en la base de datos.\n",
    "    Le saca el .jpg al final del nombre del parche y lo actualiza en la base de datos.\n",
    "    \"\"\"\n",
    "    set_log_to_file(f\"fix_patch_name_{datetime.date.today()}.log\")\n",
    "    LOGGER.setLevel(logging.INFO)\n",
    "    LOGGER.info(\"Iniciando actualización de nombres de parches.\")\n",
    "    # 1 - Obtener todas las imágenes de la base de datos\n",
    "    imagenes = DB.get_collection(\"imagenes\")\n",
    "\n",
    "    # 2 - Para cada imagen:\n",
    "    for image in imagenes.find():\n",
    "        image_id = image[\"id\"]\n",
    "        # 2.1 - Obtener los parches de la imagen\n",
    "        try:\n",
    "            patches = image[\"patches\"]\n",
    "        except KeyError:\n",
    "            LOGGER.warning(f\"No se encontraron parches para la imagen {image_id}.\")\n",
    "            continue\n",
    "        # 2.2 - Para cada parche:\n",
    "        for patch in patches:\n",
    "            patch_name = patch[\"patch_name\"]\n",
    "            if patch_name.endswith(\".jpg\"):\n",
    "                new_patch_name = patch_name[:-4]\n",
    "                # 2.3 - Actualizar el nombre del parche en la base de datos\n",
    "                imagenes.update_one(\n",
    "                    {\"id\": image_id, \"patches.patch_name\": patch_name},\n",
    "                    {\"$set\": {\"patches.$.patch_name\": new_patch_name}},\n",
    "                )\n",
    "                LOGGER.info(f\"Nombre del parche {patch_name} actualizado a {new_patch_name}.\")\n",
    "            else:\n",
    "                LOGGER.warning(f\"El parche {patch_name} no tiene .jpg al final.\")\n",
    "    LOGGER.info(\"Actualización de nombres de parches finalizada.\")"
   ]
  }
 ],
 "metadata": {
  "kernelspec": {
   "display_name": ".venv",
   "language": "python",
   "name": "python3"
  },
  "language_info": {
   "codemirror_mode": {
    "name": "ipython",
    "version": 3
   },
   "file_extension": ".py",
   "mimetype": "text/x-python",
   "name": "python",
   "nbconvert_exporter": "python",
   "pygments_lexer": "ipython3",
   "version": "3.13.3"
  }
 },
 "nbformat": 4,
 "nbformat_minor": 2
}
