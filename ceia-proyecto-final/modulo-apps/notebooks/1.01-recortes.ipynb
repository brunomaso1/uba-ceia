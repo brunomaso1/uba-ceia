{
 "cells": [
  {
   "cell_type": "markdown",
   "metadata": {},
   "source": [
    "# <div align=\"center\"><b> Procesamiento de los recortes </b></div>"
   ]
  },
  {
   "cell_type": "markdown",
   "metadata": {},
   "source": [
    "<div align=\"right\">\n",
    "\n",
    "<!-- [![Binder](http://mybinder.org/badge.svg)](https://mybinder.org/) -->\n",
    "[![nbviewer](https://img.shields.io/badge/render-nbviewer-orange?logo=Jupyter)](https://nbviewer.org/)\n",
    "[![Open In Colab](https://colab.research.google.com/assets/colab-badge.svg)](https://githubtocolab.com/)\n",
    "\n",
    "</div>"
   ]
  },
  {
   "cell_type": "markdown",
   "metadata": {},
   "source": [
    "* * *"
   ]
  },
  {
   "cell_type": "markdown",
   "metadata": {},
   "source": [
    "<style>\n",
    "/* Limitar la altura de las celdas de salida en html */\n",
    ".jp-OutputArea.jp-Cell-outputArea {\n",
    "    max-height: 500px;\n",
    "}\n",
    "</style>"
   ]
  },
  {
   "cell_type": "markdown",
   "metadata": {},
   "source": [
    "🛻 <em><font color='MediumSeaGreen'>  Instalaciones: </font></em> 🛻\n"
   ]
  },
  {
   "cell_type": "markdown",
   "metadata": {},
   "source": [
    "Este notebook utiliza [Poetry](https://python-poetry.org/) para la gestión de dependencias.\n",
    "Primero instala Poetry siguiendo las instrucciones de su [documentación oficial](https://python-poetry.org/docs/#installation).\n",
    "Luego ejecuta el siguiente comando para instalar las dependencias necesarias y activar el entorno virtual:\n",
    "\n",
    "- Bash:\n",
    "\n",
    "```bash\n",
    "poetry install\n",
    "eval $(poetry env activate)\n",
    "```\n",
    "\n",
    "- PowerShell:\n",
    "\n",
    "```powershell\n",
    "poetry install\n",
    "Invoke-Expression (poetry env activate)\n",
    "```\n",
    "\n",
    "> 📝 <em><font color='Gray'>Nota:</font></em> Para agregar `pytorch` utilizando Poetry, se utiliza el siguiente comando:\n",
    "> ```bash\n",
    "> # Más info: https://github.com/python-poetry/poetry/issues/6409\n",
    "> potery source add --priority explicit pytorch_gpu https://download.pytorch.org/whl/cu128 # Seleccionar la wheel adecuada para tu GPU\n",
    "> poetry add --source pytorch_gpu torch torchvision \n",
    "> ```"
   ]
  },
  {
   "cell_type": "markdown",
   "metadata": {},
   "source": [
    "✋ <em><font color='DodgerBlue'>Importaciones:</font></em> ✋"
   ]
  },
  {
   "cell_type": "code",
   "execution_count": null,
   "metadata": {},
   "outputs": [],
   "source": [
    "# Recarga automática de módulos en Jupyter Notebook\n",
    "%reload_ext autoreload\n",
    "%autoreload 2\n",
    "\n",
    "from modulo_apps.config import config as CONFIG\n",
    "from loguru import logger as LOGGER\n",
    "\n",
    "import modulo_apps.labeling.procesador_recortes as ProcesadorRecortes\n",
    "import modulo_apps.s3_comunication.procesador_s3 as ProcesadorS3\n",
    "import modulo_apps.labeling.procesador_anotaciones_mongodb as ProcesadorAnotacionesMongoDB\n",
    "\n",
    "import cv2 as cv"
   ]
  },
  {
   "cell_type": "markdown",
   "metadata": {},
   "source": [
    "🔧 <em><font color='tomato'>Configuraciones:</font></em> 🔧\n"
   ]
  },
  {
   "cell_type": "code",
   "execution_count": null,
   "metadata": {},
   "outputs": [],
   "source": [
    "LOGGER.info(\"Configuración cargada correctamente.\")"
   ]
  },
  {
   "cell_type": "markdown",
   "metadata": {},
   "source": [
    "<div align=\"center\">✨Datos del proyecto:✨</div>\n",
    "\n",
    "<p></p>\n",
    "\n",
    "<div align=\"center\">\n",
    "\n",
    "| Subtitulo       | Procesamiento de los recortes.                                                                       |\n",
    "| --------------- | -------------------------------------------------------------------------------------------------------------------------------------- |\n",
    "| **Descrpción**  | <small>Notebook encargado de realizar el procesamiento de los recortes. Esto implica actualizar los recortes realizados en Minio de las anotaciones</small>|\n",
    "\n",
    "</div>"
   ]
  },
  {
   "cell_type": "markdown",
   "metadata": {},
   "source": [
    "## Tabla de contenidos\n",
    "\n",
    "1. [Procesamiento de los recortes](#procesamiento-de-los-recortes)"
   ]
  },
  {
   "cell_type": "markdown",
   "metadata": {},
   "source": [
    "## 1. [Procesamiento de los recortes](#procesamiento-de-los-recortes)"
   ]
  },
  {
   "cell_type": "code",
   "execution_count": null,
   "metadata": {},
   "outputs": [],
   "source": [
    "# TODO: Implementar esto con prefect."
   ]
  },
  {
   "cell_type": "markdown",
   "metadata": {},
   "source": [
    "Flujo de datos:\n",
    "1. Descargar el dataset de todas las imágenes y sus anotaciones.\n",
    "2. Recortar las imágenes según las anotaciones.\n",
    "3. Subir los recortes a Minio."
   ]
  },
  {
   "cell_type": "markdown",
   "metadata": {},
   "source": [
    "```mermaid\n",
    "flowchart TD\n",
    "    A[Descargar dataset] --> B[Recortar imágenes]\n",
    "    B --> C[Subir recortes a Minio]\n",
    "```"
   ]
  },
  {
   "cell_type": "code",
   "execution_count": 8,
   "metadata": {},
   "outputs": [
    {
     "name": "stdout",
     "output_type": "stream",
     "text": [
      "\u001b[32m2025-06-27 17:34:43.821\u001b[0m | \u001b[34m\u001b[1mDEBUG   \u001b[0m | \u001b[36mmodulo_apps.s3_comunication.procesador_s3\u001b[0m:\u001b[36mdownload_image_from_minio\u001b[0m:\u001b[36m50\u001b[0m - \u001b[34m\u001b[1mImagen 8deOctubreyCentenario-EspLibreLarranaga_20190828_dji_pc_5cm descargada correctamente en downloads\\images\\8deOctubreyCentenario-EspLibreLarranaga_20190828_dji_pc_5cm.jpg.\u001b[0m\n"
     ]
    },
    {
     "data": {
      "text/plain": [
       "WindowsPath('downloads/images/8deOctubreyCentenario-EspLibreLarranaga_20190828_dji_pc_5cm.jpg')"
      ]
     },
     "execution_count": 8,
     "metadata": {},
     "output_type": "execute_result"
    }
   ],
   "source": [
    "ProcesadorS3.download_image_from_minio(\"8deOctubreyCentenario-EspLibreLarranaga_20190828_dji_pc_5cm\")"
   ]
  },
  {
   "cell_type": "code",
   "execution_count": 11,
   "metadata": {},
   "outputs": [
    {
     "name": "stdout",
     "output_type": "stream",
     "text": [
      "\u001b[32m2025-06-27 17:38:05.685\u001b[0m | \u001b[33m\u001b[1mWARNING \u001b[0m | \u001b[36mmodulo_apps.labeling.procesador_anotaciones_mongodb\u001b[0m:\u001b[36m_create_images_fields\u001b[0m:\u001b[36m257\u001b[0m - \u001b[33m\u001b[1mNo se encontraron anotaciones para el parche 8deOctubreyCentenario-EspLibreLarranaga_20190828_dji_pc_5cm_patch_1.\u001b[0m\n",
      "\u001b[32m2025-06-27 17:38:05.686\u001b[0m | \u001b[33m\u001b[1mWARNING \u001b[0m | \u001b[36mmodulo_apps.labeling.procesador_anotaciones_mongodb\u001b[0m:\u001b[36m_create_images_fields\u001b[0m:\u001b[36m257\u001b[0m - \u001b[33m\u001b[1mNo se encontraron anotaciones para el parche 8deOctubreyCentenario-EspLibreLarranaga_20190828_dji_pc_5cm_patch_3.\u001b[0m\n",
      "\u001b[32m2025-06-27 17:38:05.687\u001b[0m | \u001b[34m\u001b[1mDEBUG   \u001b[0m | \u001b[36mmodulo_apps.labeling.procesador_anotaciones_mongodb\u001b[0m:\u001b[36m_download_annotation_as_coco_from_mongodb\u001b[0m:\u001b[36m365\u001b[0m - \u001b[34m\u001b[1mArchivo JSON guardado en downloads\\coco_annotations\\cvat_8deOctubreyCentenario-EspLibreLarranaga_20190828_dji_pc_5cm_annotations.json.\u001b[0m\n",
      "\u001b[32m2025-06-27 17:38:05.694\u001b[0m | \u001b[34m\u001b[1mDEBUG   \u001b[0m | \u001b[36mmodulo_apps.labeling.procesador_anotaciones_mongodb\u001b[0m:\u001b[36m_load_coco_annotation_from_mongodb\u001b[0m:\u001b[36m416\u001b[0m - \u001b[34m\u001b[1mAnotaciones cargadas desde downloads\\coco_annotations\\cvat_8deOctubreyCentenario-EspLibreLarranaga_20190828_dji_pc_5cm_annotations.json.\u001b[0m\n",
      "\u001b[32m2025-06-27 17:38:05.695\u001b[0m | \u001b[34m\u001b[1mDEBUG   \u001b[0m | \u001b[36mmodulo_apps.labeling.procesador_anotaciones_mongodb\u001b[0m:\u001b[36m_load_coco_annotation_from_mongodb\u001b[0m:\u001b[36m420\u001b[0m - \u001b[34m\u001b[1mArchivo downloads\\coco_annotations\\cvat_8deOctubreyCentenario-EspLibreLarranaga_20190828_dji_pc_5cm_annotations.json eliminado correctamente.\u001b[0m\n",
      "\u001b[32m2025-06-27 17:38:05.695\u001b[0m | \u001b[34m\u001b[1mDEBUG   \u001b[0m | \u001b[36mmodulo_apps.labeling.procesador_anotaciones_mongodb\u001b[0m:\u001b[36m_create_images_coco_annotations\u001b[0m:\u001b[36m505\u001b[0m - \u001b[34m\u001b[1mAnotaciones de la imagen 8deOctubreyCentenario-EspLibreLarranaga_20190828_dji_pc_5cm agregadas correctamente.\u001b[0m\n",
      "\u001b[32m2025-06-27 17:38:05.696\u001b[0m | \u001b[34m\u001b[1mDEBUG   \u001b[0m | \u001b[36mmodulo_apps.labeling.procesador_anotaciones_mongodb\u001b[0m:\u001b[36mdownload_annotations_as_coco_from_mongodb\u001b[0m:\u001b[36m567\u001b[0m - \u001b[34m\u001b[1mArchivo JSON guardado en downloads\\coco_annotations\\cvat_images_annotations.json.\u001b[0m\n"
     ]
    },
    {
     "data": {
      "text/plain": [
       "WindowsPath('downloads/coco_annotations/cvat_images_annotations.json')"
      ]
     },
     "execution_count": 11,
     "metadata": {},
     "output_type": "execute_result"
    }
   ],
   "source": [
    "ProcesadorAnotacionesMongoDB.download_annotations_as_coco_from_mongodb(images_names=[\"8deOctubreyCentenario-EspLibreLarranaga_20190828_dji_pc_5cm\"])"
   ]
  },
  {
   "cell_type": "code",
   "execution_count": 17,
   "metadata": {},
   "outputs": [
    {
     "name": "stdout",
     "output_type": "stream",
     "text": [
      "\u001b[32m2025-06-27 17:45:24.844\u001b[0m | \u001b[33m\u001b[1mWARNING \u001b[0m | \u001b[36mmodulo_apps.labeling.procesador_anotaciones_mongodb\u001b[0m:\u001b[36m_create_images_fields\u001b[0m:\u001b[36m257\u001b[0m - \u001b[33m\u001b[1mNo se encontraron anotaciones para el parche 8deOctubreyCentenario-EspLibreLarranaga_20190828_dji_pc_5cm_patch_1.\u001b[0m\n",
      "\u001b[32m2025-06-27 17:45:24.844\u001b[0m | \u001b[33m\u001b[1mWARNING \u001b[0m | \u001b[36mmodulo_apps.labeling.procesador_anotaciones_mongodb\u001b[0m:\u001b[36m_create_images_fields\u001b[0m:\u001b[36m257\u001b[0m - \u001b[33m\u001b[1mNo se encontraron anotaciones para el parche 8deOctubreyCentenario-EspLibreLarranaga_20190828_dji_pc_5cm_patch_3.\u001b[0m\n",
      "\u001b[32m2025-06-27 17:45:24.845\u001b[0m | \u001b[34m\u001b[1mDEBUG   \u001b[0m | \u001b[36mmodulo_apps.labeling.procesador_anotaciones_mongodb\u001b[0m:\u001b[36m_download_annotation_as_coco_from_mongodb\u001b[0m:\u001b[36m365\u001b[0m - \u001b[34m\u001b[1mArchivo JSON guardado en downloads\\coco_annotations\\cvat_8deOctubreyCentenario-EspLibreLarranaga_20190828_dji_pc_5cm_annotations.json.\u001b[0m\n",
      "\u001b[32m2025-06-27 17:45:24.847\u001b[0m | \u001b[34m\u001b[1mDEBUG   \u001b[0m | \u001b[36mmodulo_apps.labeling.procesador_anotaciones_mongodb\u001b[0m:\u001b[36m_load_coco_annotation_from_mongodb\u001b[0m:\u001b[36m416\u001b[0m - \u001b[34m\u001b[1mAnotaciones cargadas desde downloads\\coco_annotations\\cvat_8deOctubreyCentenario-EspLibreLarranaga_20190828_dji_pc_5cm_annotations.json.\u001b[0m\n",
      "\u001b[32m2025-06-27 17:45:24.847\u001b[0m | \u001b[34m\u001b[1mDEBUG   \u001b[0m | \u001b[36mmodulo_apps.labeling.procesador_anotaciones_mongodb\u001b[0m:\u001b[36m_load_coco_annotation_from_mongodb\u001b[0m:\u001b[36m420\u001b[0m - \u001b[34m\u001b[1mArchivo downloads\\coco_annotations\\cvat_8deOctubreyCentenario-EspLibreLarranaga_20190828_dji_pc_5cm_annotations.json eliminado correctamente.\u001b[0m\n",
      "\u001b[32m2025-06-27 17:45:24.847\u001b[0m | \u001b[34m\u001b[1mDEBUG   \u001b[0m | \u001b[36mmodulo_apps.labeling.procesador_anotaciones_mongodb\u001b[0m:\u001b[36m_create_images_coco_annotations\u001b[0m:\u001b[36m505\u001b[0m - \u001b[34m\u001b[1mAnotaciones de la imagen 8deOctubreyCentenario-EspLibreLarranaga_20190828_dji_pc_5cm agregadas correctamente.\u001b[0m\n",
      "\u001b[32m2025-06-27 17:45:24.848\u001b[0m | \u001b[34m\u001b[1mDEBUG   \u001b[0m | \u001b[36mmodulo_apps.labeling.procesador_anotaciones_mongodb\u001b[0m:\u001b[36mdownload_annotations_as_coco_from_mongodb\u001b[0m:\u001b[36m567\u001b[0m - \u001b[34m\u001b[1mArchivo JSON guardado en downloads\\coco_annotations\\cvat_images_annotations.json.\u001b[0m\n",
      "\u001b[32m2025-06-27 17:45:24.848\u001b[0m | \u001b[34m\u001b[1mDEBUG   \u001b[0m | \u001b[36mmodulo_apps.labeling.procesador_anotaciones_mongodb\u001b[0m:\u001b[36mload_coco_annotations_from_mongodb\u001b[0m:\u001b[36m592\u001b[0m - \u001b[34m\u001b[1mAnotaciones cargadas desde downloads\\coco_annotations\\cvat_images_annotations.json.\u001b[0m\n",
      "\u001b[32m2025-06-27 17:45:24.849\u001b[0m | \u001b[34m\u001b[1mDEBUG   \u001b[0m | \u001b[36mmodulo_apps.labeling.procesador_anotaciones_mongodb\u001b[0m:\u001b[36mload_coco_annotations_from_mongodb\u001b[0m:\u001b[36m596\u001b[0m - \u001b[34m\u001b[1mArchivo downloads\\coco_annotations\\cvat_images_annotations.json eliminado correctamente.\u001b[0m\n",
      "\u001b[32m2025-06-27 17:45:24.872\u001b[0m | \u001b[34m\u001b[1mDEBUG   \u001b[0m | \u001b[36mmodulo_apps.labeling.procesador_recortes\u001b[0m:\u001b[36mcut_palms_from_image\u001b[0m:\u001b[36m59\u001b[0m - \u001b[34m\u001b[1mCarpeta de recortes creada: downloads\\cutouts\\8deOctubreyCentenario-EspLibreLarranaga_20190828_dji_pc_5cm\u001b[0m\n",
      "\u001b[32m2025-06-27 17:45:24.872\u001b[0m | \u001b[34m\u001b[1mDEBUG   \u001b[0m | \u001b[36mmodulo_apps.labeling.procesador_recortes\u001b[0m:\u001b[36mcut_palms_from_image\u001b[0m:\u001b[36m63\u001b[0m - \u001b[34m\u001b[1mCarpeta de metadatos creada: downloads\\cutouts_metadata\\8deOctubreyCentenario-EspLibreLarranaga_20190828_dji_pc_5cm\u001b[0m\n",
      "\u001b[32m2025-06-27 17:45:25.080\u001b[0m | \u001b[34m\u001b[1mDEBUG   \u001b[0m | \u001b[36mmodulo_apps.labeling.procesador_recortes\u001b[0m:\u001b[36mcut_palms_from_image\u001b[0m:\u001b[36m72\u001b[0m - \u001b[34m\u001b[1mRecorte guardado: downloads\\cutouts\\8deOctubreyCentenario-EspLibreLarranaga_20190828_dji_pc_5cm\\8deOctubreyCentenario-EspLibreLarranaga_20190828_dji_pc_5cm_cutout_1.jpg\u001b[0m\n",
      "\u001b[32m2025-06-27 17:45:25.081\u001b[0m | \u001b[34m\u001b[1mDEBUG   \u001b[0m | \u001b[36mmodulo_apps.labeling.procesador_recortes\u001b[0m:\u001b[36mcut_palms_from_image\u001b[0m:\u001b[36m72\u001b[0m - \u001b[34m\u001b[1mRecorte guardado: downloads\\cutouts\\8deOctubreyCentenario-EspLibreLarranaga_20190828_dji_pc_5cm\\8deOctubreyCentenario-EspLibreLarranaga_20190828_dji_pc_5cm_cutout_2.jpg\u001b[0m\n",
      "\u001b[32m2025-06-27 17:45:25.082\u001b[0m | \u001b[34m\u001b[1mDEBUG   \u001b[0m | \u001b[36mmodulo_apps.labeling.procesador_recortes\u001b[0m:\u001b[36mcut_palms_from_image\u001b[0m:\u001b[36m72\u001b[0m - \u001b[34m\u001b[1mRecorte guardado: downloads\\cutouts\\8deOctubreyCentenario-EspLibreLarranaga_20190828_dji_pc_5cm\\8deOctubreyCentenario-EspLibreLarranaga_20190828_dji_pc_5cm_cutout_3.jpg\u001b[0m\n",
      "\u001b[32m2025-06-27 17:45:25.083\u001b[0m | \u001b[34m\u001b[1mDEBUG   \u001b[0m | \u001b[36mmodulo_apps.labeling.procesador_recortes\u001b[0m:\u001b[36mcut_palms_from_image\u001b[0m:\u001b[36m72\u001b[0m - \u001b[34m\u001b[1mRecorte guardado: downloads\\cutouts\\8deOctubreyCentenario-EspLibreLarranaga_20190828_dji_pc_5cm\\8deOctubreyCentenario-EspLibreLarranaga_20190828_dji_pc_5cm_cutout_4.jpg\u001b[0m\n",
      "\u001b[32m2025-06-27 17:45:25.083\u001b[0m | \u001b[34m\u001b[1mDEBUG   \u001b[0m | \u001b[36mmodulo_apps.labeling.procesador_recortes\u001b[0m:\u001b[36mcut_palms_from_image\u001b[0m:\u001b[36m72\u001b[0m - \u001b[34m\u001b[1mRecorte guardado: downloads\\cutouts\\8deOctubreyCentenario-EspLibreLarranaga_20190828_dji_pc_5cm\\8deOctubreyCentenario-EspLibreLarranaga_20190828_dji_pc_5cm_cutout_5.jpg\u001b[0m\n",
      "\u001b[32m2025-06-27 17:45:25.083\u001b[0m | \u001b[34m\u001b[1mDEBUG   \u001b[0m | \u001b[36mmodulo_apps.labeling.procesador_recortes\u001b[0m:\u001b[36mcut_palms_from_image\u001b[0m:\u001b[36m72\u001b[0m - \u001b[34m\u001b[1mRecorte guardado: downloads\\cutouts\\8deOctubreyCentenario-EspLibreLarranaga_20190828_dji_pc_5cm\\8deOctubreyCentenario-EspLibreLarranaga_20190828_dji_pc_5cm_cutout_6.jpg\u001b[0m\n",
      "\u001b[32m2025-06-27 17:45:25.084\u001b[0m | \u001b[34m\u001b[1mDEBUG   \u001b[0m | \u001b[36mmodulo_apps.labeling.procesador_recortes\u001b[0m:\u001b[36mcut_palms_from_image\u001b[0m:\u001b[36m72\u001b[0m - \u001b[34m\u001b[1mRecorte guardado: downloads\\cutouts\\8deOctubreyCentenario-EspLibreLarranaga_20190828_dji_pc_5cm\\8deOctubreyCentenario-EspLibreLarranaga_20190828_dji_pc_5cm_cutout_7.jpg\u001b[0m\n",
      "\u001b[32m2025-06-27 17:45:25.084\u001b[0m | \u001b[34m\u001b[1mDEBUG   \u001b[0m | \u001b[36mmodulo_apps.labeling.procesador_recortes\u001b[0m:\u001b[36mcut_palms_from_image\u001b[0m:\u001b[36m82\u001b[0m - \u001b[34m\u001b[1mMetadatos guardados en downloads\\cutouts_metadata\\8deOctubreyCentenario-EspLibreLarranaga_20190828_dji_pc_5cm\\8deOctubreyCentenario-EspLibreLarranaga_20190828_dji_pc_5cm_metadata.json.\u001b[0m\n"
     ]
    },
    {
     "data": {
      "text/plain": [
       "WindowsPath('downloads/cutouts/8deOctubreyCentenario-EspLibreLarranaga_20190828_dji_pc_5cm')"
      ]
     },
     "execution_count": 17,
     "metadata": {},
     "output_type": "execute_result"
    }
   ],
   "source": [
    "image = cv.imread(\"downloads/images/8deOctubreyCentenario-EspLibreLarranaga_20190828_dji_pc_5cm.jpg\")\n",
    "coco_annotations = ProcesadorAnotacionesMongoDB.load_coco_annotations_from_mongodb(images_names=[\"8deOctubreyCentenario-EspLibreLarranaga_20190828_dji_pc_5cm\"])\n",
    "ProcesadorRecortes.cut_palms_from_image(image, coco_annotations, \"8deOctubreyCentenario-EspLibreLarranaga_20190828_dji_pc_5cm\")"
   ]
  },
  {
   "cell_type": "code",
   "execution_count": 18,
   "metadata": {},
   "outputs": [
    {
     "name": "stdout",
     "output_type": "stream",
     "text": [
      "\u001b[32m2025-06-27 17:54:11.231\u001b[0m | \u001b[34m\u001b[1mDEBUG   \u001b[0m | \u001b[36mmodulo_apps.labeling.procesador_recortes\u001b[0m:\u001b[36mclear_minio_cutouts_folder\u001b[0m:\u001b[36m193\u001b[0m - \u001b[34m\u001b[1mNo se encontraron objetos para eliminar con el prefijo recortes/8deOctubreyCentenario-EspLibreLarranaga_20190828_dji_pc_5cm/.\u001b[0m\n",
      "\u001b[32m2025-06-27 17:54:11.260\u001b[0m | \u001b[34m\u001b[1mDEBUG   \u001b[0m | \u001b[36mmodulo_apps.labeling.procesador_recortes\u001b[0m:\u001b[36mupload_cutouts_to_mino\u001b[0m:\u001b[36m236\u001b[0m - \u001b[34m\u001b[1mImagen 8deOctubreyCentenario-EspLibreLarranaga_20190828_dji_pc_5cm_cutout_1.jpg subida a MinIO.\u001b[0m\n",
      "\u001b[32m2025-06-27 17:54:11.280\u001b[0m | \u001b[34m\u001b[1mDEBUG   \u001b[0m | \u001b[36mmodulo_apps.labeling.procesador_recortes\u001b[0m:\u001b[36mupload_cutouts_to_mino\u001b[0m:\u001b[36m236\u001b[0m - \u001b[34m\u001b[1mImagen 8deOctubreyCentenario-EspLibreLarranaga_20190828_dji_pc_5cm_cutout_2.jpg subida a MinIO.\u001b[0m\n",
      "\u001b[32m2025-06-27 17:54:11.299\u001b[0m | \u001b[34m\u001b[1mDEBUG   \u001b[0m | \u001b[36mmodulo_apps.labeling.procesador_recortes\u001b[0m:\u001b[36mupload_cutouts_to_mino\u001b[0m:\u001b[36m236\u001b[0m - \u001b[34m\u001b[1mImagen 8deOctubreyCentenario-EspLibreLarranaga_20190828_dji_pc_5cm_cutout_3.jpg subida a MinIO.\u001b[0m\n",
      "\u001b[32m2025-06-27 17:54:11.312\u001b[0m | \u001b[34m\u001b[1mDEBUG   \u001b[0m | \u001b[36mmodulo_apps.labeling.procesador_recortes\u001b[0m:\u001b[36mupload_cutouts_to_mino\u001b[0m:\u001b[36m236\u001b[0m - \u001b[34m\u001b[1mImagen 8deOctubreyCentenario-EspLibreLarranaga_20190828_dji_pc_5cm_cutout_4.jpg subida a MinIO.\u001b[0m\n",
      "\u001b[32m2025-06-27 17:54:11.333\u001b[0m | \u001b[34m\u001b[1mDEBUG   \u001b[0m | \u001b[36mmodulo_apps.labeling.procesador_recortes\u001b[0m:\u001b[36mupload_cutouts_to_mino\u001b[0m:\u001b[36m236\u001b[0m - \u001b[34m\u001b[1mImagen 8deOctubreyCentenario-EspLibreLarranaga_20190828_dji_pc_5cm_cutout_5.jpg subida a MinIO.\u001b[0m\n",
      "\u001b[32m2025-06-27 17:54:11.356\u001b[0m | \u001b[34m\u001b[1mDEBUG   \u001b[0m | \u001b[36mmodulo_apps.labeling.procesador_recortes\u001b[0m:\u001b[36mupload_cutouts_to_mino\u001b[0m:\u001b[36m236\u001b[0m - \u001b[34m\u001b[1mImagen 8deOctubreyCentenario-EspLibreLarranaga_20190828_dji_pc_5cm_cutout_6.jpg subida a MinIO.\u001b[0m\n",
      "\u001b[32m2025-06-27 17:54:11.379\u001b[0m | \u001b[34m\u001b[1mDEBUG   \u001b[0m | \u001b[36mmodulo_apps.labeling.procesador_recortes\u001b[0m:\u001b[36mupload_cutouts_to_mino\u001b[0m:\u001b[36m236\u001b[0m - \u001b[34m\u001b[1mImagen 8deOctubreyCentenario-EspLibreLarranaga_20190828_dji_pc_5cm_cutout_7.jpg subida a MinIO.\u001b[0m\n",
      "\u001b[32m2025-06-27 17:54:11.383\u001b[0m | \u001b[34m\u001b[1mDEBUG   \u001b[0m | \u001b[36mmodulo_apps.labeling.procesador_recortes\u001b[0m:\u001b[36mclear_minio_cutouts_folder\u001b[0m:\u001b[36m193\u001b[0m - \u001b[34m\u001b[1mNo se encontraron objetos para eliminar con el prefijo recortes_metadatos/8deOctubreyCentenario-EspLibreLarranaga_20190828_dji_pc_5cm/.\u001b[0m\n",
      "\u001b[32m2025-06-27 17:54:11.401\u001b[0m | \u001b[34m\u001b[1mDEBUG   \u001b[0m | \u001b[36mmodulo_apps.labeling.procesador_recortes\u001b[0m:\u001b[36mupload_cutouts_to_mino\u001b[0m:\u001b[36m254\u001b[0m - \u001b[34m\u001b[1mArchivo JSON de metadatos 8deOctubreyCentenario-EspLibreLarranaga_20190828_dji_pc_5cm_metadata.json subido a MinIO.\u001b[0m\n"
     ]
    }
   ],
   "source": [
    "ProcesadorRecortes.upload_cutouts_to_mino()"
   ]
  }
 ],
 "metadata": {
  "kernelspec": {
   "display_name": "modulo-ia-py3.13",
   "language": "python",
   "name": "python3"
  },
  "language_info": {
   "codemirror_mode": {
    "name": "ipython",
    "version": 3
   },
   "file_extension": ".py",
   "mimetype": "text/x-python",
   "name": "python",
   "nbconvert_exporter": "python",
   "pygments_lexer": "ipython3",
   "version": "3.13.3"
  }
 },
 "nbformat": 4,
 "nbformat_minor": 2
}
