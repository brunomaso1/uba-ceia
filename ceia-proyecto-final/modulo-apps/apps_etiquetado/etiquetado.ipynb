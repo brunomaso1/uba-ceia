{
 "cells": [
  {
   "cell_type": "markdown",
   "metadata": {},
   "source": [
    "# <div align=\"center\"><b> ETIQUETADO - PROYECTO FINAL </b></div>"
   ]
  },
  {
   "cell_type": "markdown",
   "metadata": {},
   "source": [
    "<div align=\"right\">📝 <em><small><font color='Gray'>Nota:</font></small></em></div>\n",
    "\n",
    "<div align=\"right\"> <em><small><font color='Gray'> La funcionalidad de visualización de jupyter notebooks en <a href=\"https://github.com/\" target=\"_blank\">github</a> es solamente un preview.</font></small></em> </div>\n",
    "\n",
    "<div align=\"right\"> <em><small><font color='Gray'> Para mejor visualización se sugiere utilizar el visualizador recomendado por la comunidad: <a href=\"https://nbviewer.org/\" target=\"_blank\">nbviewer</a></font></small></em> </div>\n",
    "\n",
    "<div align=\"right\"> <em><small><font color='Gray'> Puedes a acceder al siguiente enlace para ver este notebook en dicha página: <a href=\"https://nbviewer.org/ruta/de/archivo.ipynb\">Ruta archivo</a></font></small></em> </div>"
   ]
  },
  {
   "cell_type": "markdown",
   "metadata": {},
   "source": [
    "* * *"
   ]
  },
  {
   "cell_type": "markdown",
   "metadata": {},
   "source": [
    "<style>\n",
    "/* Limitar la altura de las celdas de salida en html */\n",
    ".jp-OutputArea.jp-Cell-outputArea {\n",
    "    max-height: 500px;\n",
    "}\n",
    "</style>"
   ]
  },
  {
   "cell_type": "markdown",
   "metadata": {},
   "source": [
    "✋ <em><font color='DodgerBlue'>Importaciones:</font></em> ✋"
   ]
  },
  {
   "cell_type": "code",
   "execution_count": 11,
   "metadata": {},
   "outputs": [],
   "source": [
    "# TODO: Arreglar este notebook. Dejar proceso de guardado de anotaciones. Sacar las interacciones para otra clase. Dejar proceso de recortes.\n",
    "import os, sys, logging, json, shutil, zipfile, copy, datetime, re, requests\n",
    "from pathlib import Path\n",
    "from typing import List, Dict, Tuple, Any, Optional, Literal\n",
    "from concurrent.futures import ProcessPoolExecutor\n",
    "\n",
    "sys.path.append(os.path.abspath(\"../\"))  # Agregar el directorio padre al path\n",
    "\n",
    "from dotenv import load_dotenv\n",
    "load_dotenv(\"../.env.dev\")\n",
    "\n",
    "from pprint import pprint\n",
    "\n",
    "\n",
    "from cvat_sdk import make_client\n",
    "from cvat_sdk.core.proxies.types import Location\n",
    "\n",
    "from pymongo import UpdateOne\n",
    "\n",
    "from pycocotools.coco import COCO\n",
    "\n",
    "import matplotlib.pyplot as plt\n",
    "\n",
    "import layoutparser as lp\n",
    "\n",
    "OPENCV_IO_MAX_IMAGE_PIXELS = 50000 * 50000  # Para imágenes grandes, ej: barrio3Ombues_20180801_dji_pc_3cm.jpg\n",
    "os.environ[\"OPENCV_IO_MAX_IMAGE_PIXELS\"] = str(OPENCV_IO_MAX_IMAGE_PIXELS)\n",
    "\n",
    "import cv2 as cv\n",
    "import numpy as np\n",
    "\n",
    "from fastkml import kml\n",
    "import kml2geojson\n",
    "\n",
    "import geopandas as gpd\n",
    "from shapely.geometry import Point, Polygon, box\n",
    "import pandas as pd\n",
    "\n",
    "from tqdm import tqdm\n",
    "from apps_config.settings import Config\n",
    "from apps_com_db.mongodb_client import MongoDB\n",
    "from apps_com_s3.cliente_s3 import S3Client\n",
    "from apps_com_s3.procesador_s3 import ProcesadorS3\n",
    "from apps_utils.logging import Logging\n",
    "\n",
    "import apps_etiquetado.procesador_recortes as ProcesadorRecortes\n",
    "import apps_etiquetado.procesador_coco_dataset as ProcesadorCocoDataset"
   ]
  },
  {
   "cell_type": "markdown",
   "metadata": {},
   "source": [
    "🔧 <em><font color='tomato'>Configuraciones:</font></em> 🔧\n"
   ]
  },
  {
   "cell_type": "code",
   "execution_count": 7,
   "metadata": {},
   "outputs": [
    {
     "name": "stderr",
     "output_type": "stream",
     "text": [
      "2025-05-19 18:42:23,358 - root - INFO - <module> - Configuración cargada correctamente.\n"
     ]
    }
   ],
   "source": [
    "CONFIG = Config().config_data\n",
    "DB = MongoDB().db\n",
    "MINIO_CLIENT = S3Client().client\n",
    "LOGGER = Logging().logger\n",
    "\n",
    "MINIO_BUCKET = CONFIG[\"minio\"][\"bucket\"]\n",
    "\n",
    "MINIO_PATCHES_FOLDER = CONFIG[\"minio\"][\"paths\"][\"patches\"]\n",
    "download_folder = Path(CONFIG[\"folders\"][\"download_folder\"])\n",
    "DOWNLOAD_TASK_FOLDER = download_folder / \"tasks\"\n",
    "DOWNLOAD_JOB_FOLDER = download_folder / \"jobs\"\n",
    "DOWNLOAD_TEMP_FOLDER = download_folder / \"temp\"\n",
    "DOWNLOAD_COCO_ANNOTATIONS_FOLDER = download_folder / \"coco_annotations\"\n",
    "DOWNLOAD_IMAGES_FOLDER = download_folder / \"images\"\n",
    "DOWNLOAD_PATCHES_FOLDER = download_folder / \"patches\"\n",
    "DOWNLOAD_CUTOUTS_FOLDER = download_folder / \"cutouts\"\n",
    "DOWNLOAD_CUTOUTS_METADATA_FOLDER = download_folder / \"cutouts_metadata\"\n",
    "DOWNLOAD_GOOGLE_MAPS_FOLDER = download_folder / \"google_maps\"\n",
    "KMLS_FOLDER = download_folder / \"kmls\"\n",
    "GEOJSON_FOLDER = download_folder / \"geojson\"\n",
    "\n",
    "LOGGER.info(\"Configuración cargada correctamente.\")"
   ]
  },
  {
   "cell_type": "markdown",
   "metadata": {},
   "source": [
    "<!-- Colab -->\n",
    "<!-- <div align=\"center\"><img src=\"https://drive.google.com/uc?export=view&id=1QSNrTsz1hQbmZwpgwx0qpfpNtLW19Orm\" width=\"600\" alt=\"Figura 1: A data scientist is working on word generation using the Lord of the Rings lore. The image is dark and moody, with a focus on the scientist's computer screen. The screen displays a visualization the one ring, with a map of Middle Earth in the background. - Generada con DALL-E3\"></div> -->\n",
    "\n",
    "<!-- <div align=\"center\"><img src=\"./ceia-materia/resources/portada.jpeg\" width=\"600\" alt=\"Figura 1: A data scientist playing with convolutional neural networks. - Generada con Microsoft Image Creator\"></div>\n",
    "\n",
    "<div align=\"center\"><small><em>Figura 1: A data scientist playing with convolutional neural networks. - Generada con Microsoft Image Creator</em></small></div> -->"
   ]
  },
  {
   "cell_type": "markdown",
   "metadata": {},
   "source": [
    "<div align=\"center\">✨Datos del proyecto:✨</div>\n",
    "\n",
    "<p></p>\n",
    "\n",
    "<div align=\"center\">\n",
    "\n",
    "| Subtitulo       | Etiquetado                                                                                                                             |\n",
    "| --------------- | -------------------------------------------------------------------------------------------------------------------------------------- |\n",
    "| **Descrpción**  | Herramientas y scripts para el etiquetado y guardado de los datos                                                                      |\n",
    "| **Integrantes** | Bruno Masoller (brunomaso1@gmail.com)                                                                                                  |\n",
    "\n",
    "</div>"
   ]
  },
  {
   "cell_type": "markdown",
   "metadata": {},
   "source": [
    "## Consinga"
   ]
  },
  {
   "cell_type": "markdown",
   "metadata": {},
   "source": [
    "El objetivo de este proyecto es brindar herramientas y scripts para el etiquetado y guardado de los datos."
   ]
  },
  {
   "cell_type": "markdown",
   "metadata": {},
   "source": [
    "## Resolución"
   ]
  },
  {
   "cell_type": "markdown",
   "metadata": {},
   "source": [
    "Utilidades de Ultralytics:\n",
    "\n",
    "- [https://docs.ultralytics.com/es/usage/simple-utilities/](https://docs.ultralytics.com/es/usage/simple-utilities/)"
   ]
  },
  {
   "cell_type": "markdown",
   "metadata": {},
   "source": [
    "### Anotaciones"
   ]
  },
  {
   "cell_type": "markdown",
   "metadata": {},
   "source": [
    "Para las anotaciones, entre varios formatos estudiados, se eligió el formato de COCO.\n",
    "\n",
    "- [https://roboflow.com/formats/coco-json](https://roboflow.com/formats/coco-json)\n",
    "- [https://docs.voxel51.com/recipes/convert_datasets.html](https://docs.voxel51.com/recipes/convert_datasets.html)\n",
    "- [https://stackoverflow.com/questions/75927857/how-to-convert-coco-json-to-yolov8-segmentation-format](https://stackoverflow.com/questions/75927857/how-to-convert-coco-json-to-yolov8-segmentation-format)"
   ]
  },
  {
   "cell_type": "markdown",
   "metadata": {},
   "source": [
    "### Interacción con google maps"
   ]
  },
  {
   "cell_type": "markdown",
   "metadata": {},
   "source": [
    "#### Generación de mapa"
   ]
  },
  {
   "cell_type": "markdown",
   "metadata": {},
   "source": [
    "Procesamiento de archivos KML:\n",
    "- `fastkml` $\\rightarrow$ [https://fastkml.readthedocs.io/en/latest/quickstart.html](https://fastkml.readthedocs.io/en/latest/quickstart.html)\n",
    "\n",
    "Conversión de archivos KML a GeoJSON:\n",
    "- `kml2geojson` $\\rightarrow$ [https://pypi.org/project/kml2geojson/](https://pypi.org/project/kml2geojson/) | [https://github.com/mrcagney/kml2geojson](https://github.com/mrcagney/kml2geojson)\n",
    "\n",
    "Visualización:\n",
    "- `folium` $\\rightarrow$ [https://python-visualization.github.io/folium/latest/](https://python-visualization.github.io/folium/latest/)\n",
    "- `geojson.io` $\\rightarrow$ [https://geojson.io/#map=2/0/20](https://geojson.io/#map=2/0/20)\n",
    "\n",
    "Trabajo con archivos GeoJSON:\n",
    "- `geojson` $\\rightarrow$ [https://github.com/jazzband/geojson](https://github.com/jazzband/geojson) | [https://geojson.org/](https://geojson.org/)\n",
    "- `geopandas` $\\rightarrow$ [https://geopandas.org/](https://geopandas.org/)\n",
    "- `shapely` $\\rightarrow$ [https://shapely.readthedocs.io/en/latest/manual.html](https://shapely.readthedocs.io/en/latest/manual.html)"
   ]
  },
  {
   "cell_type": "code",
   "execution_count": null,
   "metadata": {},
   "outputs": [],
   "source": []
  },
  {
   "cell_type": "markdown",
   "metadata": {},
   "source": [
    "#### Procesamiento de mapas"
   ]
  },
  {
   "cell_type": "code",
   "execution_count": 45,
   "metadata": {},
   "outputs": [],
   "source": [
    "# gdf = load_gdf_from_file(DOWNLOAD_TEMP_FOLDER / \"google_maps.geojson\", crs=CONFIG[\"georeferenciacion\"][\"codigo_epsg\"])\n",
    "# output_filename = None\n",
    "# use_parallel = False\n",
    "# max_workers = 10"
   ]
  },
  {
   "cell_type": "markdown",
   "metadata": {},
   "source": [
    "### Ejemplo de carga de anotaciones\n",
    "\n",
    "- Desde CVAT:\n",
    "```python\n",
    "coco_annotations = load_annotations_from_cvat(task_id=8)\n",
    "save_coco_annotations(coco_annotations=coco_annotations, field_name=\"cvat\")\n",
    "```\n",
    "\n",
    "- Desde un archivo:\n",
    "```python\n",
    "coco_annotations = load_annotations_from_file(file_path=\"cvat.json\")\n",
    "save_coco_annotations(coco_annotations=coco_annotations, field_name=\"cvat\")\n",
    "```"
   ]
  },
  {
   "cell_type": "code",
   "execution_count": 47,
   "metadata": {},
   "outputs": [],
   "source": [
    "# patches_list = [\n",
    "#     \"8deOctubreyCentenario-EspLibreLarranaga_20190828_dji_pc_5cm_patch_0\",\n",
    "#     \"8deOctubreyCentenario-EspLibreLarranaga_20190828_dji_pc_5cm_patch_2\",\n",
    "# ]\n",
    "# images_list = [\"8deOctubreyCentenario-EspLibreLarranaga_20190828_dji_pc_5cm\", \"AntelArena_20200804_dji_pc_5c\"]\n",
    "# coco_annotations = load_coco_annotations_from_mongodb(field_name=\"cvat\", images_names=images_list, clean_files=False)\n",
    "# save_coco_annotations(coco_annotations, \"test\")"
   ]
  },
  {
   "cell_type": "markdown",
   "metadata": {},
   "source": [
    "### Fixes"
   ]
  },
  {
   "cell_type": "code",
   "execution_count": null,
   "metadata": {},
   "outputs": [],
   "source": [
    "def fix_image_width_height(image_id: str, width: int, height: int) -> bool:\n",
    "    \"\"\"Actualiza el ancho y alto de una imagen en la base de datos.\n",
    "\n",
    "    Args:\n",
    "        image_id (str): Identificador de la imagen a actualizar.\n",
    "        width (int): Nuevo ancho de la imagen.\n",
    "        height (int): Nuevo alto de la imagen.\n",
    "\n",
    "    Returns:\n",
    "        bool: True si la actualización fue exitosa, False en caso contrario.\n",
    "    \"\"\"\n",
    "    try:\n",
    "        imagenes = DB.get_collection(\"imagenes\")\n",
    "        result = imagenes.update_one(\n",
    "            {\"id\": image_id},\n",
    "            {\n",
    "                \"$set\": {\n",
    "                    \"width\": width,\n",
    "                    \"height\": height,\n",
    "                }\n",
    "            },\n",
    "        )\n",
    "        if result.modified_count > 0:\n",
    "            LOGGER.debug(f\"Ancho y alto de la imagen {image_id} actualizados correctamente.\")\n",
    "            return True\n",
    "        else:\n",
    "            LOGGER.warning(f\"No se encontraron cambios para la imagen {image_id}.\")\n",
    "            return False\n",
    "    except Exception as e:\n",
    "        LOGGER.error(f\"Error al actualizar el ancho y alto de la imagen {image_id}: {e}\")\n",
    "        return False"
   ]
  },
  {
   "cell_type": "code",
   "execution_count": null,
   "metadata": {},
   "outputs": [],
   "source": [
    "def fix_width_height_images():\n",
    "    \"\"\"Corrige el ancho y alto de las imágenes en la base de datos.\n",
    "\n",
    "    Esta función descarga las imágenes desde MinIO, obtiene sus dimensiones (ancho y alto),\n",
    "    actualiza estos valores en la base de datos y elimina las imágenes descargadas localmente.\n",
    "\n",
    "    Pasos realizados:\n",
    "    1. Configura el logger para registrar las actualizaciones.\n",
    "    2. Obtiene todas las imágenes almacenadas en la base de datos.\n",
    "    3. Descarga cada imagen desde MinIO si está marcada como descargada.\n",
    "    4. Calcula las dimensiones de la imagen descargada.\n",
    "    5. Actualiza las dimensiones en la base de datos.\n",
    "    6. Elimina la imagen descargada localmente.\n",
    "\n",
    "    Raises:\n",
    "        OSError: Si ocurre un error al eliminar la imagen descargada localmente.\n",
    "    \"\"\"\n",
    "\n",
    "    set_log_to_file(f\"updates_{datetime.date.today()}.log\")\n",
    "    LOGGER.setLevel(logging.INFO)\n",
    "    LOGGER.info(\"Iniciando actualización de imágenes y parches.\")\n",
    "    # Actualizar el width y height de las imágenes en la base de datos\n",
    "    # 1 - Obtener todas las imágenes de la base de datos\n",
    "    imagenes = DB.get_collection(\"imagenes\")\n",
    "\n",
    "    # 2 - Para cada imagen:\n",
    "    for image in imagenes.find():\n",
    "        image_id = image[\"id\"]\n",
    "        downloaded: bool = image[\"downloaded\"]\n",
    "        if not downloaded:\n",
    "            LOGGER.warning(f\"La imagen {image_id} no está descargada, se omitirá.\")\n",
    "            continue\n",
    "        LOGGER.info(f\"Actualizando imagen {image_id}...\")\n",
    "        # 2.1 - Descargar la imagen desde MinIO\n",
    "\n",
    "        jpg_path = download_image_from_minio(image_id)\n",
    "        LOGGER.info(f\"Imagen {image_id} descargada correctamente.\")\n",
    "        # 2.2 - Obtener el ancho y alto de la imagen descargada\n",
    "        img = cv.imread(jpg_path)\n",
    "        height, width = img.shape[:2]\n",
    "        # 2.3 - Actualizar el ancho y alto de la imagen en la base de datos\n",
    "        fix_image_width_height(image_id, width, height)\n",
    "        LOGGER.info(f\"Ancho y alto de la imagen {image_id} actualizados correctamente.\")\n",
    "        # 2.4 - Eliminar la imagen descargada\n",
    "        try:\n",
    "            os.remove(jpg_path)\n",
    "            LOGGER.info(f\"Imagen {jpg_path} eliminada correctamente.\")\n",
    "        except OSError as e:\n",
    "            LOGGER.warning(f\"Error al eliminar la imagen {jpg_path}: {e}\")\n",
    "            continue\n",
    "    LOGGER.info(\"Actualización de imágenes y parches finalizada.\")"
   ]
  },
  {
   "cell_type": "code",
   "execution_count": null,
   "metadata": {},
   "outputs": [],
   "source": [
    "def fix_dates_images():\n",
    "    set_log_to_file(f\"fix_dates_images_{datetime.date.today()}.log\")\n",
    "    LOGGER.setLevel(logging.INFO)\n",
    "    LOGGER.info(\"Iniciando actualización de fechas de imágenes.\")\n",
    "    # Actualizar el width y height de las imágenes en la base de datos\n",
    "    # 1 - Obtener todas las imágenes de la base de datos\n",
    "    imagenes = DB.get_collection(\"imagenes\")\n",
    "    date_format = \"%d/%m/%Y\"\n",
    "\n",
    "    # 2 - Para cada imagen:\n",
    "    for image in imagenes.find():\n",
    "        # 2.1 - Obtener el título de la imagen\n",
    "        image_title = image[\"title\"]\n",
    "\n",
    "        # 2.2 - Extraer la fecha del título de la imagen\n",
    "        match = re.search(r\"\\d{2}/\\d{2}/\\d{4}\", image_title)\n",
    "        date_str = match.group(0) if match else None\n",
    "        if not date_str:\n",
    "            LOGGER.warning(f\"No se encontró una fecha válida en el título de la imagen {image_title}.\")\n",
    "            continue\n",
    "\n",
    "        # 2.3 - Actualizar la fecha de captura en la base de datos\n",
    "        try:\n",
    "            date_captured = datetime.datetime.strptime(date_str, date_format)\n",
    "            imagenes.update_one(\n",
    "                {\"id\": image[\"id\"]},\n",
    "                {\n",
    "                    \"$set\": {\n",
    "                        \"date_captured\": date_captured,\n",
    "                    }\n",
    "                },\n",
    "            )\n",
    "            LOGGER.info(f\"Fecha de captura de la imagen {image_title} actualizada correctamente.\")\n",
    "        except Exception as e:\n",
    "            LOGGER.warning(f\"Error al actualizar la fecha de captura: {e}\")\n",
    "\n",
    "    LOGGER.info(\"Actualización de fechas de imágenes finalizada.\")"
   ]
  },
  {
   "cell_type": "code",
   "execution_count": null,
   "metadata": {},
   "outputs": [],
   "source": [
    "def fix_patch_name():\n",
    "    \"\"\"Corrige el nombre de los parches en la base de datos.\n",
    "    Le saca el .jpg al final del nombre del parche y lo actualiza en la base de datos.\n",
    "    \"\"\"\n",
    "    set_log_to_file(f\"fix_patch_name_{datetime.date.today()}.log\")\n",
    "    LOGGER.setLevel(logging.INFO)\n",
    "    LOGGER.info(\"Iniciando actualización de nombres de parches.\")\n",
    "    # 1 - Obtener todas las imágenes de la base de datos\n",
    "    imagenes = DB.get_collection(\"imagenes\")\n",
    "\n",
    "    # 2 - Para cada imagen:\n",
    "    for image in imagenes.find():\n",
    "        image_id = image[\"id\"]\n",
    "        # 2.1 - Obtener los parches de la imagen\n",
    "        try:\n",
    "            patches = image[\"patches\"]\n",
    "        except KeyError:\n",
    "            LOGGER.warning(f\"No se encontraron parches para la imagen {image_id}.\")\n",
    "            continue\n",
    "        # 2.2 - Para cada parche:\n",
    "        for patch in patches:\n",
    "            patch_name = patch[\"patch_name\"]\n",
    "            if patch_name.endswith(\".jpg\"):\n",
    "                new_patch_name = patch_name[:-4]\n",
    "                # 2.3 - Actualizar el nombre del parche en la base de datos\n",
    "                imagenes.update_one(\n",
    "                    {\"id\": image_id, \"patches.patch_name\": patch_name},\n",
    "                    {\"$set\": {\"patches.$.patch_name\": new_patch_name}},\n",
    "                )\n",
    "                LOGGER.info(f\"Nombre del parche {patch_name} actualizado a {new_patch_name}.\")\n",
    "            else:\n",
    "                LOGGER.warning(f\"El parche {patch_name} no tiene .jpg al final.\")\n",
    "    LOGGER.info(\"Actualización de nombres de parches finalizada.\")"
   ]
  }
 ],
 "metadata": {
  "kernelspec": {
   "display_name": ".venv",
   "language": "python",
   "name": "python3"
  },
  "language_info": {
   "codemirror_mode": {
    "name": "ipython",
    "version": 3
   },
   "file_extension": ".py",
   "mimetype": "text/x-python",
   "name": "python",
   "nbconvert_exporter": "python",
   "pygments_lexer": "ipython3",
   "version": "3.13.3"
  }
 },
 "nbformat": 4,
 "nbformat_minor": 2
}
