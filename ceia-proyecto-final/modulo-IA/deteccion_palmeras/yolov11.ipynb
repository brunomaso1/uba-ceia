{
 "cells": [
  {
   "cell_type": "markdown",
   "id": "e0d30414",
   "metadata": {},
   "source": [
    "# <div align=\"center\"><b> YOLOV11 - PROYECTO FINAL </b></div>"
   ]
  },
  {
   "cell_type": "markdown",
   "id": "65ad5c2f",
   "metadata": {},
   "source": [
    "<div align=\"right\">📝 <em><small><font color='Gray'>Nota:</font></small></em></div>\n",
    "\n",
    "<div align=\"right\"> <em><small><font color='Gray'> La funcionalidad de visualización de jupyter notebooks en <a href=\"https://github.com/\" target=\"_blank\">github</a> es solamente un preview.</font></small></em> </div>\n",
    "\n",
    "<div align=\"right\"> <em><small><font color='Gray'> Para mejor visualización se sugiere utilizar el visualizador recomendado por la comunidad: <a href=\"https://nbviewer.org/\" target=\"_blank\">nbviewer</a></font></small></em> </div>\n",
    "\n",
    "<div align=\"right\"> <em><small><font color='Gray'> Puedes a acceder al siguiente enlace para ver este notebook en dicha página: <a href=\"https://nbviewer.org/ruta/de/archivo.ipynb\">Ruta archivo</a></font></small></em> </div>"
   ]
  },
  {
   "cell_type": "markdown",
   "id": "a863e6c4",
   "metadata": {},
   "source": [
    "* * *"
   ]
  },
  {
   "cell_type": "markdown",
   "id": "ed7caf0b",
   "metadata": {},
   "source": [
    "<style>\n",
    "/* Limitar la altura de las celdas de salida en html */\n",
    ".jp-OutputArea.jp-Cell-outputArea {\n",
    "    max-height: 500px;\n",
    "}\n",
    "</style>"
   ]
  },
  {
   "cell_type": "markdown",
   "id": "f69aa621",
   "metadata": {},
   "source": [
    "🛻 <em><font color='MediumSeaGreen'>  Instalaciones: </font></em> 🛻\n",
    "\n",
    "Este notebook utiliza [Poetry](https://python-poetry.org/) para la gestión de dependencias.\n",
    "Primero instala Poetry siguiendo las instrucciones de su [documentación oficial](https://python-poetry.org/docs/#installation).\n",
    "Luego ejecuta el siguiente comando para instalar las dependencias necesarias y activar el entorno virtual:\n",
    "\n",
    "- Bash:\n",
    "```bash\n",
    "poetry install\n",
    "eval $(poetry env activate)\n",
    "```\n",
    "\n",
    "- PowerShell:\n",
    "```powershell\n",
    "poetry install\n",
    "Invoke-Expression (poetry env activate)\n",
    "```"
   ]
  },
  {
   "cell_type": "markdown",
   "id": "f4ff4977",
   "metadata": {},
   "source": [
    "<!-- Descargar archivos adicionales:\n",
    "!gdown https://drive.google.com/drive/folders/1UBZ8PEbtmiWMGkULu7GAt3VhUpeTy9l7?usp=sharing --folder -->"
   ]
  },
  {
   "cell_type": "code",
   "execution_count": 1,
   "id": "a6704569",
   "metadata": {},
   "outputs": [
    {
     "name": "stdout",
     "output_type": "stream",
     "text": [
      "nvcc: NVIDIA (R) Cuda compiler driver\n",
      "Copyright (c) 2005-2024 NVIDIA Corporation\n",
      "Built on Wed_Oct_30_01:18:48_Pacific_Daylight_Time_2024\n",
      "Cuda compilation tools, release 12.6, V12.6.85\n",
      "Build cuda_12.6.r12.6/compiler.35059454_0\n"
     ]
    }
   ],
   "source": [
    "# Chequear versión de CUDA\n",
    "!nvcc --version"
   ]
  },
  {
   "cell_type": "code",
   "execution_count": 2,
   "id": "4fa9d921",
   "metadata": {},
   "outputs": [
    {
     "name": "stdout",
     "output_type": "stream",
     "text": [
      "Mon May 19 17:49:41 2025       \n",
      "+-----------------------------------------------------------------------------------------+\n",
      "| NVIDIA-SMI 566.36                 Driver Version: 566.36         CUDA Version: 12.7     |\n",
      "|-----------------------------------------+------------------------+----------------------+\n",
      "| GPU  Name                  Driver-Model | Bus-Id          Disp.A | Volatile Uncorr. ECC |\n",
      "| Fan  Temp   Perf          Pwr:Usage/Cap |           Memory-Usage | GPU-Util  Compute M. |\n",
      "|                                         |                        |               MIG M. |\n",
      "|=========================================+========================+======================|\n",
      "|   0  NVIDIA GeForce RTX 4080 ...  WDDM  |   00000000:01:00.0 Off |                  N/A |\n",
      "|  0%   37C    P8              5W /  320W |     499MiB /  16376MiB |      7%      Default |\n",
      "|                                         |                        |                  N/A |\n",
      "+-----------------------------------------+------------------------+----------------------+\n",
      "                                                                                         \n",
      "+-----------------------------------------------------------------------------------------+\n",
      "| Processes:                                                                              |\n",
      "|  GPU   GI   CI        PID   Type   Process name                              GPU Memory |\n",
      "|        ID   ID                                                               Usage      |\n",
      "|=========================================================================================|\n",
      "|    0   N/A  N/A      1596    C+G   ... Software\\IntelGraphicsSoftware.exe      N/A      |\n",
      "|    0   N/A  N/A      6148    C+G   ...2txyewy\\StartMenuExperienceHost.exe      N/A      |\n",
      "|    0   N/A  N/A     11492    C+G   C:\\Windows\\explorer.exe                     N/A      |\n",
      "|    0   N/A  N/A     11552    C+G   ...nt.CBS_cw5n1h2txyewy\\SearchHost.exe      N/A      |\n",
      "|    0   N/A  N/A     12072    C+G   ....0_x64__kzh8wxbdkxb8p\\DCv2\\DCv2.exe      N/A      |\n",
      "|    0   N/A  N/A     14756    C+G   ...5n1h2txyewy\\ShellExperienceHost.exe      N/A      |\n",
      "|    0   N/A  N/A     17836    C+G   ...CBS_cw5n1h2txyewy\\TextInputHost.exe      N/A      |\n",
      "|    0   N/A  N/A     21724    C+G   ...ft Office\\root\\Office16\\ONENOTE.EXE      N/A      |\n",
      "|    0   N/A  N/A     28464    C+G   ...__8wekyb3d8bbwe\\Microsoft.Notes.exe      N/A      |\n",
      "|    0   N/A  N/A     30900    C+G   ...n\\NVIDIA app\\CEF\\NVIDIA Overlay.exe      N/A      |\n",
      "|    0   N/A  N/A     31544    C+G   ...n\\NVIDIA app\\CEF\\NVIDIA Overlay.exe      N/A      |\n",
      "|    0   N/A  N/A     32972    C+G   ...Programs\\Microsoft VS Code\\Code.exe      N/A      |\n",
      "+-----------------------------------------------------------------------------------------+\n"
     ]
    }
   ],
   "source": [
    "# Chequear más datos sobre la GPU\n",
    "!nvidia-smi"
   ]
  },
  {
   "cell_type": "markdown",
   "id": "1ac9e825",
   "metadata": {},
   "source": [
    "✋ <em><font color='DodgerBlue'>Importaciones:</font></em> ✋"
   ]
  },
  {
   "cell_type": "code",
   "execution_count": null,
   "id": "03fdc973",
   "metadata": {},
   "outputs": [],
   "source": [
    "import sys, os, json, uuid\n",
    "from dotenv import load_dotenv\n",
    "\n",
    "load_dotenv(\"../.env.dev\")\n",
    "\n",
    "sys.path.append(os.path.abspath(\"../\"))  # Se agrega utilidades generales del modulo IA\n",
    "sys.path.append(os.path.abspath(\"../../modulo-apps\"))  # Se agrega modulo-mini-apps\n",
    "\n",
    "from typing import List, Dict, Any, Optional\n",
    "from pathlib import Path\n",
    "\n",
    "import ultralytics\n",
    "from ultralytics import YOLO\n",
    "import torch\n",
    "\n",
    "\n",
    "import fiftyone as fo\n",
    "\n",
    "from apps_utils.logging import Logging\n",
    "from apps_config.settings import Config\n",
    "from apps_com_db.mongodb_client import MongoDB\n",
    "\n",
    "import ia_utils.dataset_utils as DatasetUtils\n",
    "import ia_utils.gpu_utils as GPUUtils\n",
    "\n",
    "from apps_com_s3.procesador_s3 import ProcesadorS3\n",
    "import apps_etiquetado.procesador_anotaciones_mongodb as ProcesadorCocoDataset\n",
    "import apps_etiquetado.procesador_anotaciones_coco_dataset as UtilsCocoDataset"
   ]
  },
  {
   "cell_type": "markdown",
   "id": "37fe56ab",
   "metadata": {},
   "source": [
    "🔧 <em><font color='tomato'>Configuraciones:</font></em> 🔧\n"
   ]
  },
  {
   "cell_type": "code",
   "execution_count": 4,
   "id": "ef1eb582",
   "metadata": {},
   "outputs": [
    {
     "name": "stdout",
     "output_type": "stream",
     "text": [
      "Ultralytics 8.3.140  Python-3.13.3 torch-2.7.0+cu126 CUDA:0 (NVIDIA GeForce RTX 4080 SUPER, 16376MiB)\n",
      "Setup complete  (20 CPUs, 127.9 GB RAM, 831.1/1862.9 GB disk)\n"
     ]
    }
   ],
   "source": [
    "# Crear instancia de Config\n",
    "CONFIG = Config().config_data\n",
    "LOGGER = Logging().logger\n",
    "DB = MongoDB().db\n",
    "\n",
    "download_folder = Path(CONFIG[\"folders\"][\"download_folder\"])\n",
    "DOWNLOAD_RAW_DATASET_FOLDER = Path(CONFIG[\"folders\"][\"raw_dataset_folder\"])\n",
    "DOWNLOAD_YOLO_DATASET_FOLDER = Path(CONFIG[\"folders\"][\"yolo_dataset\"])\n",
    "DOWNLOAD_PREDICTION_FOLDER = download_folder / \"predictions\"\n",
    "\n",
    "DEVICE = \"cuda\" if torch.cuda.is_available() else \"cpu\"  # Establece el dispositivo.\n",
    "\n",
    "# Parámetros\n",
    "BATCH_SIZE = 10  # Tamaño del batch\n",
    "N_EPOCHS = 10  # Número de épocas\n",
    "VERBOSE = True  # Muestra época a época la evolución\n",
    "RANDOM_SEED = 42  # Semilla para la aleatoriedad\n",
    "\n",
    "print(f\"Dispositivo actual: {DEVICE}\")\n",
    "ultralytics.checks()  # Verifica la instalación de ultralytics"
   ]
  },
  {
   "cell_type": "markdown",
   "id": "bdb1d6c9",
   "metadata": {},
   "source": [
    "<div align=\"center\">✨Datos del proyecto:✨</div>\n",
    "\n",
    "<p></p>\n",
    "\n",
    "<div align=\"center\">\n",
    "\n",
    "| Subtitulo       | YoloV11 - Detección de palmeras                                                                                                                |\n",
    "| --------------- | -------------------------------------------------------------------------------------------------------------------------------------- |\n",
    "| **Descrpción**  | Notebook de detección de palmeras utilizando YoloV11                                                                                                          |\n",
    "| **Integrantes** | Bruno Masoller (brunomaso1@gmail.com)                                                                                                  |\n",
    "\n",
    "</div>"
   ]
  },
  {
   "cell_type": "markdown",
   "id": "e37cda14",
   "metadata": {},
   "source": [
    "## Descarga del dataset"
   ]
  },
  {
   "cell_type": "code",
   "execution_count": 5,
   "id": "94f9bea5",
   "metadata": {},
   "outputs": [],
   "source": [
    "# DatasetUtils.download_full_dataset()"
   ]
  },
  {
   "cell_type": "markdown",
   "id": "56e6b0ac",
   "metadata": {},
   "source": [
    "## Analisis de datos"
   ]
  },
  {
   "cell_type": "markdown",
   "id": "28c2566b",
   "metadata": {},
   "source": [
    "### Convertir todas las clases a una sola"
   ]
  },
  {
   "cell_type": "code",
   "execution_count": 6,
   "id": "462ce743",
   "metadata": {},
   "outputs": [],
   "source": [
    "coco_anotations = UtilsCocoDataset.load_annotations_from_file(DOWNLOAD_RAW_DATASET_FOLDER / \"labels.json\")\n",
    "coco_annotations_one_class = UtilsCocoDataset.parse_class_annotations_to(coco_anotations, \"palmera\")\n",
    "\n",
    "with open(DOWNLOAD_RAW_DATASET_FOLDER / \"labels.json\", \"w\") as f:\n",
    "    json.dump(coco_annotations_one_class, f, indent=4)\n",
    "    LOGGER.debug(f\"Se guardó el archivo de etiquetas en {DOWNLOAD_RAW_DATASET_FOLDER / 'labels.json'}\")"
   ]
  },
  {
   "cell_type": "markdown",
   "id": "2fc1df3e",
   "metadata": {},
   "source": [
    "### Cargamos el dataset"
   ]
  },
  {
   "cell_type": "markdown",
   "id": "58ef6d05",
   "metadata": {},
   "source": [
    "> 📝 <em><font color='Gray'>Nota:</font></em> Si hay problema de versiones con `FiftyOne`, borrar la base de datos del mismo que se encuentra en: `C:\\Users\\<usuario>\\.fiftyone\\`</em>"
   ]
  },
  {
   "cell_type": "code",
   "execution_count": 7,
   "id": "a1299469",
   "metadata": {},
   "outputs": [
    {
     "name": "stdout",
     "output_type": "stream",
     "text": [
      " 100% |███████████████████| 84/84 [360.7ms elapsed, 0s remaining, 232.9 samples/s]      \n"
     ]
    },
    {
     "name": "stderr",
     "output_type": "stream",
     "text": [
      "2025-05-19 16:45:20,855 - eta.core.utils - INFO - _draw -  100% |███████████████████| 84/84 [360.7ms elapsed, 0s remaining, 232.9 samples/s]      \n"
     ]
    }
   ],
   "source": [
    "dataset_name = \"deteccion-palmeras\"\n",
    "dataset = fo.Dataset.from_dir(\n",
    "    dataset_type=fo.types.COCODetectionDataset,\n",
    "    dataset_dir=DOWNLOAD_RAW_DATASET_FOLDER,\n",
    "    overwrite=True,\n",
    "    name=dataset_name,\n",
    ")"
   ]
  },
  {
   "cell_type": "markdown",
   "id": "3f8c7c22",
   "metadata": {},
   "source": [
    "### Observamos el dataset"
   ]
  },
  {
   "cell_type": "code",
   "execution_count": 8,
   "id": "ec4a6972",
   "metadata": {},
   "outputs": [
    {
     "name": "stdout",
     "output_type": "stream",
     "text": [
      "Session launched. Run `session.show()` to open the App in a cell output.\n"
     ]
    },
    {
     "name": "stderr",
     "output_type": "stream",
     "text": [
      "2025-05-19 16:45:29,708 - fiftyone.core.session.session - INFO - launch_app - Session launched. Run `session.show()` to open the App in a cell output.\n"
     ]
    }
   ],
   "source": [
    "session = fo.launch_app(dataset, auto=False)"
   ]
  },
  {
   "cell_type": "markdown",
   "id": "cb41a16c",
   "metadata": {},
   "source": [
    "Accedemos a la visualización: <a>localhost:5151</a>"
   ]
  },
  {
   "cell_type": "markdown",
   "id": "512f7f15",
   "metadata": {},
   "source": [
    "## Convertir dataset a formato YOLO\n",
    "<small><em>https://docs.ultralytics.com/reference/cfg/__init__/</em></small>"
   ]
  },
  {
   "cell_type": "code",
   "execution_count": 9,
   "id": "1b0507e5",
   "metadata": {},
   "outputs": [
    {
     "name": "stdout",
     "output_type": "stream",
     "text": [
      "Found multiple fields ['detections', 'segmentations'] with compatible type (<class 'fiftyone.core.labels.Detections'>, <class 'fiftyone.core.labels.Polylines'>); exporting 'detections'\n"
     ]
    },
    {
     "name": "stderr",
     "output_type": "stream",
     "text": [
      "2025-05-19 16:45:30,410 - fiftyone.core.collections - INFO - _get_matching_label_field - Found multiple fields ['detections', 'segmentations'] with compatible type (<class 'fiftyone.core.labels.Detections'>, <class 'fiftyone.core.labels.Polylines'>); exporting 'detections'\n"
     ]
    },
    {
     "name": "stdout",
     "output_type": "stream",
     "text": [
      " 100% |███████████████████| 84/84 [517.5ms elapsed, 0s remaining, 162.3 samples/s]      \n"
     ]
    },
    {
     "name": "stderr",
     "output_type": "stream",
     "text": [
      "2025-05-19 16:45:30,930 - eta.core.utils - INFO - _draw -  100% |███████████████████| 84/84 [517.5ms elapsed, 0s remaining, 162.3 samples/s]      \n"
     ]
    }
   ],
   "source": [
    "Path(DOWNLOAD_YOLO_DATASET_FOLDER).mkdir(parents=True, exist_ok=True)\n",
    "dataset.export(\n",
    "    export_dir=str(DOWNLOAD_YOLO_DATASET_FOLDER),\n",
    "    dataset_type=fo.types.YOLOv5Dataset,\n",
    "    overwrite=True,\n",
    "    split=\"full\",\n",
    ")"
   ]
  },
  {
   "cell_type": "markdown",
   "id": "c369f074",
   "metadata": {},
   "source": [
    "Ejemplo con views splits:\n",
    "\n",
    "```python\n",
    "for split in splits:\n",
    "    split_view = dataset_or_view.match_tags(split)\n",
    "    split_view.export(\n",
    "        export_dir=export_dir,\n",
    "        dataset_type=fo.types.YOLOv5Dataset,\n",
    "        label_field=label_field,\n",
    "        split=split,\n",
    "        classes=classes,\n",
    "    )\n",
    "```"
   ]
  },
  {
   "cell_type": "markdown",
   "id": "1421c5d3",
   "metadata": {},
   "source": [
    "Dividimos el conjunto de datos en train y test:"
   ]
  },
  {
   "cell_type": "code",
   "execution_count": 10,
   "id": "fa2cf002",
   "metadata": {},
   "outputs": [
    {
     "name": "stderr",
     "output_type": "stream",
     "text": [
      "Moviendo archivos: 100%|██████████| 84/84 [00:00<00:00, 488.71archivo/s]\n",
      "2025-05-19 16:45:31,119 - root - INFO - dividir_dataset_yolo - División del dataset YOLO completada (archivos movidos y carpetas 'full' eliminadas).\n"
     ]
    }
   ],
   "source": [
    "DatasetUtils.dividir_dataset_yolo(DOWNLOAD_YOLO_DATASET_FOLDER, (0.8, 0.2, 0.0))"
   ]
  },
  {
   "cell_type": "markdown",
   "id": "fa142c85",
   "metadata": {},
   "source": [
    "## Entrenamiento del modelo"
   ]
  },
  {
   "cell_type": "markdown",
   "id": "1ef6bf3c",
   "metadata": {},
   "source": [
    "Creamos el modelo de detección de objetos YOLOv11:"
   ]
  },
  {
   "cell_type": "markdown",
   "id": "adec4020",
   "metadata": {},
   "source": [
    "<small><em>https://docs.ultralytics.com/modes/train/#train-settings</em></small>"
   ]
  },
  {
   "cell_type": "code",
   "execution_count": 35,
   "id": "409b1347",
   "metadata": {},
   "outputs": [
    {
     "name": "stderr",
     "output_type": "stream",
     "text": [
      "2025-05-19 17:05:03,524 - root - INFO - <module> - Ejecutando el entrenamiento del modelo yolo11n en el proyecto deteccion_palmeras_yolo11n_0504ded7023e\n"
     ]
    }
   ],
   "source": [
    "model_name = \"yolo11n\"\n",
    "model_path = model_name + \".pt\"\n",
    "project_name = f\"deteccion_palmeras_{model_name}_{str(uuid.uuid4()).split('-')[-1]}\"\n",
    "\n",
    "model = YOLO(model_path)\n",
    "LOGGER.info(f\"Ejecutando el entrenamiento del modelo {model_name} en el proyecto {project_name}\")"
   ]
  },
  {
   "cell_type": "code",
   "execution_count": 36,
   "id": "72fdf224",
   "metadata": {},
   "outputs": [
    {
     "name": "stdout",
     "output_type": "stream",
     "text": [
      "Ultralytics 8.3.140  Python-3.13.3 torch-2.7.0+cu126 CUDA:0 (NVIDIA GeForce RTX 4080 SUPER, 16376MiB)\n",
      "\u001b[34m\u001b[1mengine\\trainer: \u001b[0magnostic_nms=False, amp=True, augment=False, auto_augment=randaugment, batch=2, bgr=0.0, box=7.5, cache=False, cfg=None, classes=None, close_mosaic=10, cls=0.5, conf=None, copy_paste=0.0, copy_paste_mode=flip, cos_lr=False, cutmix=0.0, data=downloads\\yolo_dataset\\dataset.yaml, degrees=0.0, deterministic=True, device=0, dfl=1.5, dnn=False, dropout=0.0, dynamic=False, embed=None, epochs=1, erasing=0.4, exist_ok=True, fliplr=0.5, flipud=0.0, format=torchscript, fraction=1.0, freeze=None, half=False, hsv_h=0.015, hsv_s=0.7, hsv_v=0.4, imgsz=4096, int8=False, iou=0.7, keras=False, kobj=1.0, line_width=None, lr0=0.01, lrf=0.01, mask_ratio=4, max_det=300, mixup=0.0, mode=train, model=yolo11n.pt, momentum=0.937, mosaic=1.0, multi_scale=False, name=train, nbs=64, nms=False, opset=None, optimize=False, optimizer=auto, overlap_mask=True, patience=10, perspective=0.0, plots=True, pose=12.0, pretrained=True, profile=False, project=deteccion_palmeras_yolo11n_0504ded7023e, rect=False, resume=False, retina_masks=False, save=True, save_conf=False, save_crop=False, save_dir=deteccion_palmeras_yolo11n_0504ded7023e\\train, save_frames=False, save_json=False, save_period=1, save_txt=False, scale=0.5, seed=42, shear=0.0, show=False, show_boxes=True, show_conf=True, show_labels=True, simplify=True, single_cls=False, source=None, split=val, stream_buffer=False, task=detect, time=None, tracker=botsort.yaml, translate=0.1, val=True, verbose=True, vid_stride=1, visualize=False, warmup_bias_lr=0.1, warmup_epochs=3.0, warmup_momentum=0.8, weight_decay=0.0005, workers=8, workspace=None\n",
      "Overriding model.yaml nc=80 with nc=1\n",
      "\n",
      "                   from  n    params  module                                       arguments                     \n",
      "  0                  -1  1       464  ultralytics.nn.modules.conv.Conv             [3, 16, 3, 2]                 \n",
      "  1                  -1  1      4672  ultralytics.nn.modules.conv.Conv             [16, 32, 3, 2]                \n",
      "  2                  -1  1      6640  ultralytics.nn.modules.block.C3k2            [32, 64, 1, False, 0.25]      \n",
      "  3                  -1  1     36992  ultralytics.nn.modules.conv.Conv             [64, 64, 3, 2]                \n",
      "  4                  -1  1     26080  ultralytics.nn.modules.block.C3k2            [64, 128, 1, False, 0.25]     \n",
      "  5                  -1  1    147712  ultralytics.nn.modules.conv.Conv             [128, 128, 3, 2]              \n",
      "  6                  -1  1     87040  ultralytics.nn.modules.block.C3k2            [128, 128, 1, True]           \n",
      "  7                  -1  1    295424  ultralytics.nn.modules.conv.Conv             [128, 256, 3, 2]              \n",
      "  8                  -1  1    346112  ultralytics.nn.modules.block.C3k2            [256, 256, 1, True]           \n",
      "  9                  -1  1    164608  ultralytics.nn.modules.block.SPPF            [256, 256, 5]                 \n",
      " 10                  -1  1    249728  ultralytics.nn.modules.block.C2PSA           [256, 256, 1]                 \n",
      " 11                  -1  1         0  torch.nn.modules.upsampling.Upsample         [None, 2, 'nearest']          \n",
      " 12             [-1, 6]  1         0  ultralytics.nn.modules.conv.Concat           [1]                           \n",
      " 13                  -1  1    111296  ultralytics.nn.modules.block.C3k2            [384, 128, 1, False]          \n",
      " 14                  -1  1         0  torch.nn.modules.upsampling.Upsample         [None, 2, 'nearest']          \n",
      " 15             [-1, 4]  1         0  ultralytics.nn.modules.conv.Concat           [1]                           \n",
      " 16                  -1  1     32096  ultralytics.nn.modules.block.C3k2            [256, 64, 1, False]           \n",
      " 17                  -1  1     36992  ultralytics.nn.modules.conv.Conv             [64, 64, 3, 2]                \n",
      " 18            [-1, 13]  1         0  ultralytics.nn.modules.conv.Concat           [1]                           \n",
      " 19                  -1  1     86720  ultralytics.nn.modules.block.C3k2            [192, 128, 1, False]          \n",
      " 20                  -1  1    147712  ultralytics.nn.modules.conv.Conv             [128, 128, 3, 2]              \n",
      " 21            [-1, 10]  1         0  ultralytics.nn.modules.conv.Concat           [1]                           \n",
      " 22                  -1  1    378880  ultralytics.nn.modules.block.C3k2            [384, 256, 1, True]           \n",
      " 23        [16, 19, 22]  1    430867  ultralytics.nn.modules.head.Detect           [1, [64, 128, 256]]           \n"
     ]
    },
    {
     "name": "stderr",
     "output_type": "stream",
     "text": [
      "Exception ignored in: <function _MultiProcessingDataLoaderIter.__del__ at 0x000001C19714EA20>\n",
      "Traceback (most recent call last):\n",
      "  File \"e:\\Documentos\\Git Repositories\\uba-ceia-proy-final\\.venv\\Lib\\site-packages\\torch\\utils\\data\\dataloader.py\", line 1663, in __del__\n",
      "    self._shutdown_workers()\n",
      "  File \"e:\\Documentos\\Git Repositories\\uba-ceia-proy-final\\.venv\\Lib\\site-packages\\torch\\utils\\data\\dataloader.py\", line 1621, in _shutdown_workers\n",
      "    if self._persistent_workers or self._workers_status[worker_id]:\n",
      "AttributeError: '_MultiProcessingDataLoaderIter' object has no attribute '_workers_status'\n"
     ]
    },
    {
     "name": "stdout",
     "output_type": "stream",
     "text": [
      "YOLO11n summary: 181 layers, 2,590,035 parameters, 2,590,019 gradients, 6.4 GFLOPs\n",
      "\n",
      "Transferred 448/499 items from pretrained weights\n",
      "Freezing layer 'model.23.dfl.conv.weight'\n",
      "\u001b[34m\u001b[1mAMP: \u001b[0mrunning Automatic Mixed Precision (AMP) checks...\n",
      "\u001b[34m\u001b[1mAMP: \u001b[0mchecks passed \n",
      "\u001b[34m\u001b[1mtrain: \u001b[0mFast image access  (ping: 0.00.0 ms, read: 27.17.6 MB/s, size: 5008.3 KB)\n"
     ]
    },
    {
     "name": "stderr",
     "output_type": "stream",
     "text": [
      "\u001b[34m\u001b[1mtrain: \u001b[0mScanning E:\\Documentos\\Git Repositories\\uba-ceia-proy-final\\ceia-proyecto-final\\modulo-IA\\deteccion_palmeras\\downloads\\yolo_dataset\\labels\\train.cache... 67 images, 0 backgrounds, 0 corrupt: 100%|██████████| 67/67 [00:00<?, ?it/s]\n"
     ]
    },
    {
     "name": "stdout",
     "output_type": "stream",
     "text": [
      "\u001b[34m\u001b[1mval: \u001b[0mFast image access  (ping: 0.00.0 ms, read: 32.214.1 MB/s, size: 5765.5 KB)\n"
     ]
    },
    {
     "name": "stderr",
     "output_type": "stream",
     "text": [
      "\u001b[34m\u001b[1mval: \u001b[0mScanning E:\\Documentos\\Git Repositories\\uba-ceia-proy-final\\ceia-proyecto-final\\modulo-IA\\deteccion_palmeras\\downloads\\yolo_dataset\\labels\\val.cache... 17 images, 0 backgrounds, 0 corrupt: 100%|██████████| 17/17 [00:00<?, ?it/s]\n"
     ]
    },
    {
     "name": "stdout",
     "output_type": "stream",
     "text": [
      "Plotting labels to deteccion_palmeras_yolo11n_0504ded7023e\\train\\labels.jpg... \n",
      "\u001b[34m\u001b[1moptimizer:\u001b[0m 'optimizer=auto' found, ignoring 'lr0=0.01' and 'momentum=0.937' and determining best 'optimizer', 'lr0' and 'momentum' automatically... \n",
      "\u001b[34m\u001b[1moptimizer:\u001b[0m AdamW(lr=0.002, momentum=0.9) with parameter groups 81 weight(decay=0.0), 88 weight(decay=0.0005), 87 bias(decay=0.0)\n",
      "Image sizes 4096 train, 4096 val\n",
      "Using 8 dataloader workers\n",
      "Logging results to \u001b[1mdeteccion_palmeras_yolo11n_0504ded7023e\\train\u001b[0m\n",
      "Starting training for 1 epochs...\n",
      "\n",
      "      Epoch    GPU_mem   box_loss   cls_loss   dfl_loss  Instances       Size\n"
     ]
    },
    {
     "name": "stderr",
     "output_type": "stream",
     "text": [
      "        1/1      40.2G      2.047      43.19      1.972          1       4096: 100%|██████████| 34/34 [37:53<00:00, 66.86s/it]\n",
      "                 Class     Images  Instances      Box(P          R      mAP50  mAP50-95): 100%|██████████| 5/5 [01:10<00:00, 14.04s/it]\n"
     ]
    },
    {
     "name": "stdout",
     "output_type": "stream",
     "text": [
      "                   all         17         77    0.00157      0.104    0.00205    0.00113\n",
      "\n",
      "1 epochs completed in 0.652 hours.\n",
      "Optimizer stripped from deteccion_palmeras_yolo11n_0504ded7023e\\train\\weights\\last.pt, 7.5MB\n",
      "Optimizer stripped from deteccion_palmeras_yolo11n_0504ded7023e\\train\\weights\\best.pt, 7.5MB\n",
      "\n",
      "Validating deteccion_palmeras_yolo11n_0504ded7023e\\train\\weights\\best.pt...\n",
      "Ultralytics 8.3.140  Python-3.13.3 torch-2.7.0+cu126 CUDA:0 (NVIDIA GeForce RTX 4080 SUPER, 16376MiB)\n",
      "YOLO11n summary (fused): 100 layers, 2,582,347 parameters, 0 gradients, 6.3 GFLOPs\n"
     ]
    },
    {
     "name": "stderr",
     "output_type": "stream",
     "text": [
      "                 Class     Images  Instances      Box(P          R      mAP50  mAP50-95): 100%|██████████| 5/5 [00:19<00:00,  3.90s/it]\n"
     ]
    },
    {
     "name": "stdout",
     "output_type": "stream",
     "text": [
      "                   all         17         77    0.00157      0.104    0.00198    0.00106\n",
      "Speed: 3.9ms preprocess, 1115.2ms inference, 0.0ms loss, 24.6ms postprocess per image\n",
      "Results saved to \u001b[1mdeteccion_palmeras_yolo11n_0504ded7023e\\train\u001b[0m\n"
     ]
    }
   ],
   "source": [
    "results = model.train(\n",
    "    data=str(DOWNLOAD_YOLO_DATASET_FOLDER / \"dataset.yaml\"),\n",
    "    epochs=1,\n",
    "    batch=2,\n",
    "    device=0,\n",
    "    imgsz=4096,\n",
    "    project=project_name,\n",
    "    seed=CONFIG[\"seed\"],\n",
    "    exist_ok=True,\n",
    "    save_period=1,\n",
    "    patience=10,\n",
    "    # cache=True,\n",
    "    # plots=True,\n",
    ")"
   ]
  },
  {
   "cell_type": "markdown",
   "id": "2777e7cc",
   "metadata": {},
   "source": [
    "## Validación del modelo"
   ]
  },
  {
   "cell_type": "markdown",
   "id": "891ef9bd",
   "metadata": {},
   "source": [
    "Cargamos el mejor modelo:"
   ]
  },
  {
   "cell_type": "code",
   "execution_count": 5,
   "id": "5b9f2ecf",
   "metadata": {},
   "outputs": [
    {
     "name": "stdout",
     "output_type": "stream",
     "text": [
      "Nombre del proyecto: deteccion_palmeras_yolo11n_0504ded7023e\n"
     ]
    }
   ],
   "source": [
    "project_name = \"deteccion_palmeras_yolo11n_0504ded7023e\"\n",
    "print(f\"Nombre del proyecto: {project_name}\")\n",
    "best_model_path = Path(project_name) / \"train\" / \"weights\" / \"best.pt\"\n",
    "\n",
    "if not best_model_path.exists():\n",
    "    LOGGER.error(f\"El modelo {best_model_path} no existe\")\n",
    "    sys.exit(1)\n",
    "best_model = YOLO(best_model_path)"
   ]
  },
  {
   "cell_type": "markdown",
   "id": "0810494b",
   "metadata": {},
   "source": [
    "Limpiamos la GPU:"
   ]
  },
  {
   "cell_type": "code",
   "execution_count": 10,
   "id": "ccd418f5",
   "metadata": {},
   "outputs": [
    {
     "name": "stdout",
     "output_type": "stream",
     "text": [
      "Initial GPU Usage\n",
      "| ID | GPU | MEM |\n",
      "------------------\n",
      "|  0 |  3% | 52% |\n",
      "GPU Usage after emptying the cache\n",
      "| ID | GPU | MEM |\n",
      "------------------\n",
      "|  0 | 14% | 32% |\n"
     ]
    }
   ],
   "source": [
    "GPUUtils.clean_gpu_usage()"
   ]
  },
  {
   "cell_type": "markdown",
   "id": "f8c20e4c",
   "metadata": {},
   "source": [
    "Validamos el modelo:"
   ]
  },
  {
   "cell_type": "code",
   "execution_count": 12,
   "id": "347496f9",
   "metadata": {},
   "outputs": [
    {
     "name": "stdout",
     "output_type": "stream",
     "text": [
      "Ultralytics 8.3.140  Python-3.13.3 torch-2.7.0+cu126 CUDA:0 (NVIDIA GeForce RTX 4080 SUPER, 16376MiB)\n",
      "WARNING \u001b[34m\u001b[1mval: \u001b[0mSlow image access detected (ping: 15.79.2 ms, read: 70.17.2 MB/s, size: 5359.4 KB). Use local storage instead of remote/mounted storage for better performance. See https://docs.ultralytics.com/guides/model-training-tips/\n"
     ]
    },
    {
     "name": "stderr",
     "output_type": "stream",
     "text": [
      "\u001b[34m\u001b[1mval: \u001b[0mScanning E:\\Documentos\\Git Repositories\\uba-ceia-proy-final\\ceia-proyecto-final\\modulo-IA\\deteccion_palmeras\\downloads\\yolo_dataset\\labels\\val.cache... 17 images, 0 backgrounds, 0 corrupt: 100%|██████████| 17/17 [00:00<?, ?it/s]\n",
      "                 Class     Images  Instances      Box(P          R      mAP50  mAP50-95): 100%|██████████| 9/9 [00:32<00:00,  3.60s/it]\n"
     ]
    },
    {
     "name": "stdout",
     "output_type": "stream",
     "text": [
      "                   all         17         77    0.00157      0.104    0.00252    0.00108\n",
      "Speed: 36.7ms preprocess, 1317.7ms inference, 0.0ms loss, 24.8ms postprocess per image\n",
      "Results saved to \u001b[1mdeteccion_palmeras_yolo11n_0504ded7023e\\val\u001b[0m\n"
     ]
    }
   ],
   "source": [
    "metrics = best_model.val(\n",
    "    project=project_name,\n",
    "    data=str(DOWNLOAD_YOLO_DATASET_FOLDER / \"dataset.yaml\"),\n",
    "    batch=2,\n",
    "    imgsz=4096,\n",
    "    device=0,\n",
    ")"
   ]
  },
  {
   "cell_type": "markdown",
   "id": "43563ef3",
   "metadata": {},
   "source": [
    "Imprimimos el reporte de validación:"
   ]
  },
  {
   "cell_type": "code",
   "execution_count": 13,
   "id": "b1cc54d4",
   "metadata": {},
   "outputs": [
    {
     "data": {
      "text/plain": [
       "[{'class_name': 'palmera',\n",
       "  'box-p': np.float64(0.001568627450980392),\n",
       "  'box-r': np.float64(0.1038961038961039),\n",
       "  'box-f1': np.float64(0.0030905930075333177),\n",
       "  'box-map': np.float64(0.0010810674767410837),\n",
       "  'box-map50': np.float64(0.0025192620806218343),\n",
       "  'box-map75': np.float64(0.0005090611054923546)}]"
      ]
     },
     "execution_count": 13,
     "metadata": {},
     "output_type": "execute_result"
    }
   ],
   "source": [
    "metrics.summary()"
   ]
  },
  {
   "cell_type": "markdown",
   "id": "ab72263b",
   "metadata": {},
   "source": [
    "## Probamos la predicción"
   ]
  },
  {
   "cell_type": "markdown",
   "id": "2b97b6bc",
   "metadata": {},
   "source": [
    "Cargamos el modelo:"
   ]
  },
  {
   "cell_type": "code",
   "execution_count": 14,
   "id": "12d9a03d",
   "metadata": {},
   "outputs": [
    {
     "name": "stdout",
     "output_type": "stream",
     "text": [
      "Nombre del proyecto: deteccion_palmeras_yolo11n_0504ded7023e\n"
     ]
    }
   ],
   "source": [
    "print(f\"Nombre del proyecto: {project_name}\")\n",
    "best_model_path = Path(project_name) / \"train\" / \"weights\" / \"best.pt\"\n",
    "\n",
    "if not best_model_path.exists():\n",
    "    LOGGER.error(f\"El modelo {best_model_path} no existe\")\n",
    "    sys.exit(1)\n",
    "best_model = YOLO(best_model_path)"
   ]
  },
  {
   "cell_type": "markdown",
   "id": "aa2df9fe",
   "metadata": {},
   "source": [
    "### Parche"
   ]
  },
  {
   "cell_type": "markdown",
   "id": "5f0e4ece",
   "metadata": {},
   "source": [
    "Descargamos el parche:"
   ]
  },
  {
   "cell_type": "code",
   "execution_count": 15,
   "id": "371c9c6d",
   "metadata": {},
   "outputs": [],
   "source": [
    "patch_name = \"8deOctubreyCentenario-EspLibreLarranaga_20190828_dji_pc_5cm_patch_0\"\n",
    "Path(DOWNLOAD_PREDICTION_FOLDER).mkdir(parents=True, exist_ok=True)\n",
    "patch_file_path = DOWNLOAD_PREDICTION_FOLDER / f\"{patch_name}.jpg\"\n",
    "ProcesadorS3 = ProcesadorS3()\n",
    "ProcesadorS3.download_patch_from_minio(patch_name, patch_file_path)\n",
    "LOGGER.debug(f\"Se descargó el parche {patch_file_path} desde MinIO\")"
   ]
  },
  {
   "cell_type": "markdown",
   "id": "2b020085",
   "metadata": {},
   "source": [
    "Realizamos la predicción:"
   ]
  },
  {
   "cell_type": "code",
   "execution_count": 17,
   "id": "de4dc050",
   "metadata": {},
   "outputs": [
    {
     "name": "stdout",
     "output_type": "stream",
     "text": [
      "\n",
      "image 1/1 e:\\Documentos\\Git Repositories\\uba-ceia-proy-final\\ceia-proyecto-final\\modulo-IA\\deteccion_palmeras\\downloads\\predictions\\8deOctubreyCentenario-EspLibreLarranaga_20190828_dji_pc_5cm_patch_0.jpg: 4096x4096 (no detections), 53.7ms\n",
      "Speed: 46.5ms preprocess, 53.7ms inference, 1.2ms postprocess per image at shape (1, 3, 4096, 4096)\n"
     ]
    }
   ],
   "source": [
    "results = best_model(patch_file_path)"
   ]
  },
  {
   "cell_type": "markdown",
   "id": "1a230c47",
   "metadata": {},
   "source": [
    "Obtenemos los resultados:"
   ]
  },
  {
   "cell_type": "code",
   "execution_count": 19,
   "id": "9c5aed6e",
   "metadata": {},
   "outputs": [
    {
     "name": "stdout",
     "output_type": "stream",
     "text": [
      "Resultados para el parche: 8deOctubreyCentenario-EspLibreLarranaga_20190828_dji_pc_5cm_patch_0\n",
      "Cantidad de detecciones: 0\n",
      "No se detectaron objetos.\n"
     ]
    }
   ],
   "source": [
    "for result in results:\n",
    "    xywh = result.boxes.xywh  # center-x, center-y, width, height\n",
    "    xywhn = result.boxes.xywhn  # normalized\n",
    "    xyxy = result.boxes.xyxy  # top-left-x, top-left-y, bottom-right-x, bottom-right-y\n",
    "    xyxyn = result.boxes.xyxyn  # normalized\n",
    "    names = [result.names[cls.item()] for cls in result.boxes.cls.int()]  # class name of each box\n",
    "    confs = result.boxes.conf  # confidence score of each box\n",
    "\n",
    "    print(f\"Resultados para el parche: {patch_name}\")\n",
    "    print(f\"Cantidad de detecciones: {len(names)}\")\n",
    "    if len(names) == 0:\n",
    "        print(\"No se detectaron objetos.\")\n",
    "    else:\n",
    "        for i, (name, conf, box) in enumerate(zip(names, confs, xyxy)):\n",
    "            print(f\"Detección {i+1}: Clase={name}, Confianza={conf.item():.2f}, Caja={box.tolist()}\")"
   ]
  },
  {
   "cell_type": "markdown",
   "id": "195cf3c0",
   "metadata": {},
   "source": [
    "### Imagen"
   ]
  },
  {
   "cell_type": "code",
   "execution_count": null,
   "id": "9da82837",
   "metadata": {},
   "outputs": [],
   "source": [
    "image_name = \"8deOctubreyCentenario-EspLibreLarranaga_20190828_dji_pc_5cm_patch_0\"\n",
    "Path(DOWNLOAD_PREDICTION_FOLDER).mkdir(parents=True, exist_ok=True)\n",
    "image_name_path = DOWNLOAD_PREDICTION_FOLDER / f\"{image_name}.jpg\"\n",
    "ProcesadorS3 = ProcesadorS3()\n",
    "ProcesadorS3.download_patch_from_minio(image_name, image_name_path)\n",
    "LOGGER.debug(f\"Se descargó el parche {image_name_path} desde MinIO\")"
   ]
  }
 ],
 "metadata": {
  "kernelspec": {
   "display_name": ".venv",
   "language": "python",
   "name": "python3"
  },
  "language_info": {
   "codemirror_mode": {
    "name": "ipython",
    "version": 3
   },
   "file_extension": ".py",
   "mimetype": "text/x-python",
   "name": "python",
   "nbconvert_exporter": "python",
   "pygments_lexer": "ipython3",
   "version": "3.13.3"
  }
 },
 "nbformat": 4,
 "nbformat_minor": 5
}
