{
 "cells": [
  {
   "cell_type": "markdown",
   "id": "e0d30414",
   "metadata": {},
   "source": [
    "# <div align=\"center\"><b> YOLOV11 - TEST </b></div>"
   ]
  },
  {
   "cell_type": "markdown",
   "id": "65ad5c2f",
   "metadata": {},
   "source": [
    "<div align=\"right\">📝 <em><small><font color='Gray'>Nota:</font></small></em></div>\n",
    "\n",
    "<div align=\"right\"> <em><small><font color='Gray'> La funcionalidad de visualización de jupyter notebooks en <a href=\"https://github.com/\" target=\"_blank\">github</a> es solamente un preview.</font></small></em> </div>\n",
    "\n",
    "<div align=\"right\"> <em><small><font color='Gray'> Para mejor visualización se sugiere utilizar el visualizador recomendado por la comunidad: <a href=\"https://nbviewer.org/\" target=\"_blank\">nbviewer</a></font></small></em> </div>\n",
    "\n",
    "<div align=\"right\"> <em><small><font color='Gray'> Puedes a acceder al siguiente enlace para ver este notebook en dicha página: <a href=\"https://nbviewer.org/ruta/de/archivo.ipynb\">Ruta archivo</a></font></small></em> </div>"
   ]
  },
  {
   "cell_type": "markdown",
   "id": "a863e6c4",
   "metadata": {},
   "source": [
    "* * *"
   ]
  },
  {
   "cell_type": "markdown",
   "id": "ed7caf0b",
   "metadata": {},
   "source": [
    "<style>\n",
    "/* Limitar la altura de las celdas de salida en html */\n",
    ".jp-OutputArea.jp-Cell-outputArea {\n",
    "    max-height: 500px;\n",
    "}\n",
    "</style>"
   ]
  },
  {
   "cell_type": "markdown",
   "id": "f69aa621",
   "metadata": {},
   "source": [
    "🛻 <em><font color='MediumSeaGreen'>  Instalaciones: </font></em> 🛻\n",
    "\n",
    "Este notebook utiliza [Poetry](https://python-poetry.org/) para la gestión de dependencias.\n",
    "Primero instala Poetry siguiendo las instrucciones de su [documentación oficial](https://python-poetry.org/docs/#installation).\n",
    "Luego ejecuta el siguiente comando para instalar las dependencias necesarias y activar el entorno virtual:\n",
    "\n",
    "- Bash:\n",
    "```bash\n",
    "poetry install\n",
    "eval $(poetry env activate)\n",
    "```\n",
    "\n",
    "- PowerShell:\n",
    "```powershell\n",
    "poetry install\n",
    "Invoke-Expression (poetry env activate)\n",
    "```"
   ]
  },
  {
   "cell_type": "markdown",
   "id": "f4ff4977",
   "metadata": {},
   "source": [
    "<!-- Descargar archivos adicionales:\n",
    "!gdown https://drive.google.com/drive/folders/1UBZ8PEbtmiWMGkULu7GAt3VhUpeTy9l7?usp=sharing --folder -->"
   ]
  },
  {
   "cell_type": "code",
   "execution_count": 1,
   "id": "a6704569",
   "metadata": {},
   "outputs": [
    {
     "name": "stdout",
     "output_type": "stream",
     "text": [
      "nvcc: NVIDIA (R) Cuda compiler driver\n",
      "Copyright (c) 2005-2024 NVIDIA Corporation\n",
      "Built on Wed_Oct_30_01:18:48_Pacific_Daylight_Time_2024\n",
      "Cuda compilation tools, release 12.6, V12.6.85\n",
      "Build cuda_12.6.r12.6/compiler.35059454_0\n"
     ]
    }
   ],
   "source": [
    "# Chequear versión de CUDA\n",
    "!nvcc --version"
   ]
  },
  {
   "cell_type": "code",
   "execution_count": 2,
   "id": "4fa9d921",
   "metadata": {},
   "outputs": [
    {
     "name": "stdout",
     "output_type": "stream",
     "text": [
      "Sat May 24 16:14:06 2025       \n",
      "+-----------------------------------------------------------------------------------------+\n",
      "| NVIDIA-SMI 566.36                 Driver Version: 566.36         CUDA Version: 12.7     |\n",
      "|-----------------------------------------+------------------------+----------------------+\n",
      "| GPU  Name                  Driver-Model | Bus-Id          Disp.A | Volatile Uncorr. ECC |\n",
      "| Fan  Temp   Perf          Pwr:Usage/Cap |           Memory-Usage | GPU-Util  Compute M. |\n",
      "|                                         |                        |               MIG M. |\n",
      "|=========================================+========================+======================|\n",
      "|   0  NVIDIA GeForce RTX 4080 ...  WDDM  |   00000000:01:00.0 Off |                  N/A |\n",
      "|  0%   34C    P8              5W /  320W |    1267MiB /  16376MiB |      0%      Default |\n",
      "|                                         |                        |                  N/A |\n",
      "+-----------------------------------------+------------------------+----------------------+\n",
      "                                                                                         \n",
      "+-----------------------------------------------------------------------------------------+\n",
      "| Processes:                                                                              |\n",
      "|  GPU   GI   CI        PID   Type   Process name                              GPU Memory |\n",
      "|        ID   ID                                                               Usage      |\n",
      "|=========================================================================================|\n",
      "|    0   N/A  N/A      2340    C+G   ...\\Docker\\frontend\\Docker Desktop.exe      N/A      |\n",
      "|    0   N/A  N/A      6648    C+G   ...s\\System32\\ApplicationFrameHost.exe      N/A      |\n",
      "|    0   N/A  N/A      8476    C+G   ...coSparkLauncher\\CiscoCollabHost.exe      N/A      |\n",
      "|    0   N/A  N/A     10464      C   ...proy-final\\.venv\\Scripts\\python.exe      N/A      |\n",
      "|    0   N/A  N/A     11320    C+G   C:\\Windows\\explorer.exe                     N/A      |\n",
      "|    0   N/A  N/A     11368    C+G   C:\\Windows\\System32\\ShellHost.exe           N/A      |\n",
      "|    0   N/A  N/A     11380    C+G   ...nt.CBS_cw5n1h2txyewy\\SearchHost.exe      N/A      |\n",
      "|    0   N/A  N/A     11568    C+G   ...__8wekyb3d8bbwe\\Microsoft.Notes.exe      N/A      |\n",
      "|    0   N/A  N/A     11984    C+G   ...2txyewy\\StartMenuExperienceHost.exe      N/A      |\n",
      "|    0   N/A  N/A     13376    C+G   ...n\\NVIDIA app\\CEF\\NVIDIA Overlay.exe      N/A      |\n",
      "|    0   N/A  N/A     13788    C+G   ...n\\NVIDIA app\\CEF\\NVIDIA Overlay.exe      N/A      |\n",
      "|    0   N/A  N/A     15664    C+G   ...5n1h2txyewy\\ShellExperienceHost.exe      N/A      |\n",
      "|    0   N/A  N/A     18796    C+G   ...CBS_cw5n1h2txyewy\\TextInputHost.exe      N/A      |\n",
      "|    0   N/A  N/A     20744    C+G   ... Stream\\108.0.1.0\\GoogleDriveFS.exe      N/A      |\n",
      "|    0   N/A  N/A     22472    C+G   ...al\\Discord\\app-1.0.9192\\Discord.exe      N/A      |\n",
      "|    0   N/A  N/A     23732    C+G   ...a\\Local\\slack\\app-4.44.59\\slack.exe      N/A      |\n",
      "|    0   N/A  N/A     23896    C+G   ....0_x64__kzh8wxbdkxb8p\\DCv2\\DCv2.exe      N/A      |\n",
      "|    0   N/A  N/A     24732    C+G   ... Software\\IntelGraphicsSoftware.exe      N/A      |\n",
      "|    0   N/A  N/A     25008    C+G   ...on\\136.0.3240.76\\msedgewebview2.exe      N/A      |\n",
      "|    0   N/A  N/A     26140    C+G   ...Programs\\Microsoft VS Code\\Code.exe      N/A      |\n",
      "|    0   N/A  N/A     28332    C+G   ...siveControlPanel\\SystemSettings.exe      N/A      |\n",
      "+-----------------------------------------------------------------------------------------+\n"
     ]
    }
   ],
   "source": [
    "# Chequear más datos sobre la GPU\n",
    "!nvidia-smi"
   ]
  },
  {
   "cell_type": "markdown",
   "id": "1ac9e825",
   "metadata": {},
   "source": [
    "✋ <em><font color='DodgerBlue'>Importaciones:</font></em> ✋"
   ]
  },
  {
   "cell_type": "code",
   "execution_count": 3,
   "id": "03fdc973",
   "metadata": {},
   "outputs": [],
   "source": [
    "import sys, os, json, uuid\n",
    "from dotenv import load_dotenv\n",
    "\n",
    "load_dotenv(\"../../.env.dev\")\n",
    "\n",
    "sys.path.append(os.path.abspath(\"../../\"))  # Se agrega utilidades generales del modulo IA\n",
    "sys.path.append(os.path.abspath(\"../../../modulo-apps\"))  # Se agrega modulo-mini-apps\n",
    "\n",
    "from typing import List, Dict, Any, Optional\n",
    "from pathlib import Path\n",
    "\n",
    "import ultralytics\n",
    "from ultralytics import YOLO\n",
    "import torch\n",
    "\n",
    "import fiftyone as fo\n",
    "\n",
    "import cv2 as cv\n",
    "\n",
    "from apps_utils.logging import Logging\n",
    "from apps_config.settings import Config\n",
    "from apps_com_db.mongodb_client import MongoDB\n",
    "\n",
    "import ia_utils.dataset_utils as DatasetUtils\n",
    "import ia_utils.gpu_utils as GPUUtils\n",
    "import ia_utils.yolo_dataset_utils as YoloDatasetUtils\n",
    "\n",
    "from apps_com_s3.procesador_s3 import ProcesadorS3\n",
    "import apps_etiquetado.procesador_anotaciones_mongodb as ProcesadorCocoDataset\n",
    "import apps_etiquetado.procesador_anotaciones_coco_dataset as UtilsCocoDataset"
   ]
  },
  {
   "cell_type": "markdown",
   "id": "37fe56ab",
   "metadata": {},
   "source": [
    "🔧 <em><font color='tomato'>Configuraciones:</font></em> 🔧\n"
   ]
  },
  {
   "cell_type": "code",
   "execution_count": 4,
   "id": "ef1eb582",
   "metadata": {},
   "outputs": [
    {
     "name": "stdout",
     "output_type": "stream",
     "text": [
      "Ultralytics 8.3.140  Python-3.13.3 torch-2.7.0+cu126 CUDA:0 (NVIDIA GeForce RTX 4080 SUPER, 16376MiB)\n",
      "Setup complete  (20 CPUs, 127.9 GB RAM, 637.2/1862.9 GB disk)\n"
     ]
    }
   ],
   "source": [
    "# Crear instancia de Config\n",
    "CONFIG = Config().config_data\n",
    "LOGGER = Logging().logger\n",
    "DB = MongoDB().db\n",
    "\n",
    "download_folder = Path(CONFIG[\"folders\"][\"download_folder\"])\n",
    "DOWNLOAD_RAW_DATASET_FOLDER = Path(CONFIG[\"folders\"][\"raw_dataset_folder\"])\n",
    "DOWNLOAD_YOLO_DATASET_FOLDER = Path(CONFIG[\"folders\"][\"yolo_dataset\"])\n",
    "DOWNLOAD_PREDICTION_FOLDER = download_folder / \"predictions\"\n",
    "\n",
    "DEVICE = \"cuda\" if torch.cuda.is_available() else \"cpu\"  # Establece el dispositivo.\n",
    "\n",
    "# Parámetros\n",
    "BATCH_SIZE = 10  # Tamaño del batch\n",
    "N_EPOCHS = 10  # Número de épocas\n",
    "VERBOSE = True  # Muestra época a época la evolución\n",
    "RANDOM_SEED = 42  # Semilla para la aleatoriedad\n",
    "\n",
    "print(f\"Dispositivo actual: {DEVICE}\")\n",
    "ultralytics.checks()  # Verifica la instalación de ultralytics"
   ]
  },
  {
   "cell_type": "markdown",
   "id": "bdb1d6c9",
   "metadata": {},
   "source": [
    "<div align=\"center\">✨Datos del proyecto:✨</div>\n",
    "\n",
    "<p></p>\n",
    "\n",
    "<div align=\"center\">\n",
    "\n",
    "| Subtitulo       | YoloV11 - Detección de palmeras                                                                                                                |\n",
    "| --------------- | -------------------------------------------------------------------------------------------------------------------------------------- |\n",
    "| **Descrpción**  | Notebook de detección de palmeras utilizando YoloV11                                                                                                          |\n",
    "| **Integrantes** | Bruno Masoller (brunomaso1@gmail.com)                                                                                                  |\n",
    "\n",
    "</div>"
   ]
  },
  {
   "cell_type": "markdown",
   "id": "fa142c85",
   "metadata": {},
   "source": [
    "## Entrenamiento del modelo"
   ]
  },
  {
   "cell_type": "markdown",
   "id": "1ef6bf3c",
   "metadata": {},
   "source": [
    "Creamos el modelo de detección de objetos YOLOv11:"
   ]
  },
  {
   "cell_type": "markdown",
   "id": "adec4020",
   "metadata": {},
   "source": [
    "<small><em>https://docs.ultralytics.com/modes/train/#train-settings</em></small>"
   ]
  },
  {
   "cell_type": "code",
   "execution_count": 5,
   "id": "409b1347",
   "metadata": {},
   "outputs": [],
   "source": [
    "# model_name = \"yolo11n\"\n",
    "# # model_name = \"yolo11x\"\n",
    "# model_path = model_name + \".pt\"\n",
    "# project_name = f\"deteccion_palmeras_{model_name}_{str(uuid.uuid4()).split('-')[-1]}\"\n",
    "\n",
    "# model = YOLO(model_path)\n",
    "# LOGGER.info(f\"Ejecutando el entrenamiento del modelo {model_name} en el proyecto {project_name}\")"
   ]
  },
  {
   "cell_type": "code",
   "execution_count": 6,
   "id": "532ef390",
   "metadata": {},
   "outputs": [],
   "source": [
    "project_name = \"deteccion_palmeras_yolo11n_79b7c0f7f315\""
   ]
  },
  {
   "cell_type": "code",
   "execution_count": 7,
   "id": "72fdf224",
   "metadata": {},
   "outputs": [],
   "source": [
    "# results = model.train(\n",
    "#     data=str(DOWNLOAD_YOLO_DATASET_FOLDER / \"dataset.yaml\"),\n",
    "#     epochs=100,\n",
    "#     batch=64,\n",
    "#     device=0,\n",
    "#     imgsz=640,\n",
    "#     project=project_name,\n",
    "#     seed=CONFIG[\"seed\"],\n",
    "#     exist_ok=True,\n",
    "#     save_period=1,\n",
    "#     patience=10,\n",
    "#     # cache=True,\n",
    "#     # plots=True,\n",
    "# )\n",
    "\n",
    "# results = model.train(data=\"coco128.yaml\", epochs=100, imgsz=640, project=project_name, exist_ok=True)"
   ]
  },
  {
   "cell_type": "markdown",
   "id": "2777e7cc",
   "metadata": {},
   "source": [
    "## Validación del modelo"
   ]
  },
  {
   "cell_type": "markdown",
   "id": "891ef9bd",
   "metadata": {},
   "source": [
    "Cargamos el mejor modelo:"
   ]
  },
  {
   "cell_type": "code",
   "execution_count": 8,
   "id": "5b9f2ecf",
   "metadata": {},
   "outputs": [
    {
     "name": "stdout",
     "output_type": "stream",
     "text": [
      "Nombre del proyecto: deteccion_palmeras_yolo11n_79b7c0f7f315\n"
     ]
    }
   ],
   "source": [
    "# project_name = \"deteccion_palmeras_yolo11n_5fb7f6c117b1\"\n",
    "print(f\"Nombre del proyecto: {project_name}\")\n",
    "best_model_path = Path(project_name) / \"train\" / \"weights\" / \"best.pt\"\n",
    "\n",
    "if not best_model_path.exists():\n",
    "    LOGGER.error(f\"El modelo {best_model_path} no existe\")\n",
    "    sys.exit(1)\n",
    "best_model = YOLO(best_model_path)"
   ]
  },
  {
   "cell_type": "markdown",
   "id": "0810494b",
   "metadata": {},
   "source": [
    "Limpiamos la GPU:"
   ]
  },
  {
   "cell_type": "code",
   "execution_count": 9,
   "id": "ccd418f5",
   "metadata": {},
   "outputs": [
    {
     "name": "stdout",
     "output_type": "stream",
     "text": [
      "Initial GPU Usage\n",
      "| ID | GPU | MEM |\n",
      "------------------\n",
      "|  0 | 11% |  8% |\n",
      "GPU Usage after emptying the cache\n",
      "| ID | GPU | MEM |\n",
      "------------------\n",
      "|  0 | 10% |  8% |\n"
     ]
    }
   ],
   "source": [
    "GPUUtils.clean_gpu_usage()"
   ]
  },
  {
   "cell_type": "markdown",
   "id": "f8c20e4c",
   "metadata": {},
   "source": [
    "Validamos el modelo:"
   ]
  },
  {
   "cell_type": "code",
   "execution_count": 10,
   "id": "347496f9",
   "metadata": {},
   "outputs": [
    {
     "name": "stdout",
     "output_type": "stream",
     "text": [
      "Ultralytics 8.3.140  Python-3.13.3 torch-2.7.0+cu126 CUDA:0 (NVIDIA GeForce RTX 4080 SUPER, 16376MiB)\n",
      "YOLO11n summary (fused): 100 layers, 2,616,248 parameters, 0 gradients, 6.5 GFLOPs\n",
      "\u001b[34m\u001b[1mval: \u001b[0mFast image access  (ping: 0.00.0 ms, read: 868.4242.5 MB/s, size: 41.7 KB)\n"
     ]
    },
    {
     "name": "stderr",
     "output_type": "stream",
     "text": [
      "\u001b[34m\u001b[1mval: \u001b[0mScanning E:\\Documentos\\Git Repositories\\datasets\\coco128\\labels\\train2017.cache... 126 images, 2 backgrounds, 0 corrupt: 100%|██████████| 128/128 [00:00<?, ?it/s]\n",
      "                 Class     Images  Instances      Box(P          R      mAP50  mAP50-95): 100%|██████████| 8/8 [00:01<00:00,  6.29it/s]\n"
     ]
    },
    {
     "name": "stdout",
     "output_type": "stream",
     "text": [
      "                   all        128        929      0.917      0.811      0.894      0.748\n",
      "                person         61        254      0.981      0.713      0.877      0.709\n",
      "               bicycle          3          6      0.565        0.5      0.599      0.402\n",
      "                   car         12         46      0.946      0.382       0.56      0.319\n",
      "            motorcycle          4          5      0.936          1      0.995      0.916\n",
      "              airplane          5          6      0.943          1      0.995      0.961\n",
      "                   bus          5          7          1      0.787      0.995      0.897\n",
      "                 train          3          3      0.917          1      0.995       0.93\n",
      "                 truck          5         12       0.93        0.5      0.767      0.518\n",
      "                  boat          2          6      0.947      0.667      0.811      0.636\n",
      "         traffic light          4         14          1      0.377      0.489      0.324\n",
      "             stop sign          2          2      0.869          1      0.995      0.895\n",
      "                 bench          5          9      0.884          1      0.995      0.747\n",
      "                  bird          2         16      0.993          1      0.995      0.818\n",
      "                   cat          4          4      0.922          1      0.995      0.995\n",
      "                   dog          9          9      0.985          1      0.995      0.879\n",
      "                 horse          1          2      0.864          1      0.995      0.922\n",
      "              elephant          4         17      0.982          1      0.995      0.894\n",
      "                  bear          1          1      0.784          1      0.995      0.995\n",
      "                 zebra          2          4      0.921          1      0.995      0.975\n",
      "               giraffe          4          9      0.964          1      0.995      0.963\n",
      "              backpack          4          6      0.787      0.667      0.745      0.598\n",
      "              umbrella          4         18          1      0.885      0.979      0.847\n",
      "               handbag          9         19      0.899      0.471      0.693      0.502\n",
      "                   tie          6          7      0.852      0.714      0.841      0.693\n",
      "              suitcase          2          4      0.933          1      0.995      0.824\n",
      "               frisbee          5          5      0.919        0.8      0.805      0.745\n",
      "                  skis          1          1      0.835          1      0.995      0.796\n",
      "             snowboard          2          7      0.715      0.716      0.902      0.769\n",
      "           sports ball          6          6          1      0.473      0.682      0.377\n",
      "                  kite          2         10      0.929        0.3      0.701        0.4\n",
      "          baseball bat          4          4          1      0.692       0.87      0.573\n",
      "        baseball glove          4          7      0.842      0.429       0.44      0.339\n",
      "            skateboard          3          5      0.929          1      0.995      0.684\n",
      "         tennis racket          5          7          1      0.546       0.72      0.516\n",
      "                bottle          6         18          1      0.498      0.802       0.56\n",
      "            wine glass          5         16      0.847      0.688      0.884       0.58\n",
      "                   cup         10         36      0.965      0.763      0.914      0.666\n",
      "                  fork          6          6          1      0.771      0.995      0.787\n",
      "                 knife          7         16      0.958      0.688      0.824      0.595\n",
      "                 spoon          5         22          1      0.455      0.712      0.548\n",
      "                  bowl          9         28       0.95      0.821      0.895      0.778\n",
      "                banana          1          1      0.777          1      0.995      0.995\n",
      "              sandwich          2          2      0.849          1      0.995      0.922\n",
      "                orange          1          4      0.918          1      0.995      0.821\n",
      "              broccoli          4         11          1      0.624      0.747      0.576\n",
      "                carrot          3         24       0.87       0.84      0.918      0.693\n",
      "               hot dog          1          2      0.856          1      0.995      0.995\n",
      "                 pizza          5          5      0.933          1      0.995      0.958\n",
      "                 donut          2         14      0.991          1      0.995      0.949\n",
      "                  cake          4          4      0.919          1      0.995      0.965\n",
      "                 chair          9         35      0.935      0.657      0.917      0.722\n",
      "                 couch          5          6          1      0.946      0.995      0.803\n",
      "          potted plant          9         14      0.974          1      0.995      0.838\n",
      "                   bed          3          3      0.908          1      0.995      0.953\n",
      "          dining table         10         13      0.934      0.846      0.984      0.834\n",
      "                toilet          2          2      0.866          1      0.995      0.995\n",
      "                    tv          2          2      0.851          1      0.995      0.995\n",
      "                laptop          2          3      0.731          1      0.995      0.898\n",
      "                 mouse          2          2          1      0.698      0.995      0.747\n",
      "                remote          5          8      0.992       0.75      0.751      0.598\n",
      "            cell phone          5          8          1      0.591      0.637      0.443\n",
      "             microwave          3          3      0.933          1      0.995      0.851\n",
      "                  oven          5          5      0.698        0.6      0.701      0.613\n",
      "                  sink          4          6      0.932      0.667       0.83      0.682\n",
      "          refrigerator          5          5      0.974          1      0.995      0.856\n",
      "                  book          6         29       0.92      0.397      0.771      0.525\n",
      "                 clock          8          9      0.959      0.889      0.892       0.83\n",
      "                  vase          2          2      0.873          1      0.995      0.946\n",
      "              scissors          1          1      0.864          1      0.995      0.597\n",
      "            teddy bear          6         21          1      0.752      0.963      0.771\n",
      "            toothbrush          2          5      0.944          1      0.995      0.866\n",
      "Speed: 0.5ms preprocess, 3.6ms inference, 0.0ms loss, 1.8ms postprocess per image\n",
      "Results saved to \u001b[1mdeteccion_palmeras_yolo11n_79b7c0f7f315\\val9\u001b[0m\n"
     ]
    }
   ],
   "source": [
    "metrics = best_model.val(project=project_name)"
   ]
  },
  {
   "cell_type": "markdown",
   "id": "43563ef3",
   "metadata": {},
   "source": [
    "Imprimimos el reporte de validación:"
   ]
  },
  {
   "cell_type": "code",
   "execution_count": 11,
   "id": "b1cc54d4",
   "metadata": {},
   "outputs": [
    {
     "data": {
      "text/plain": [
       "[{'class_name': 'person',\n",
       "  'box-p': np.float64(0.980531943575975),\n",
       "  'box-r': np.float64(0.7125984251968503),\n",
       "  'box-f1': np.float64(0.8253652899202091),\n",
       "  'box-map': np.float64(0.7480672061581388),\n",
       "  'box-map50': np.float64(0.8935084476532619),\n",
       "  'box-map75': np.float64(0.8193343490072319)},\n",
       " {'class_name': 'bicycle',\n",
       "  'box-p': np.float64(0.5652587667426311),\n",
       "  'box-r': np.float64(0.5),\n",
       "  'box-f1': np.float64(0.5306304762654902),\n",
       "  'box-map': np.float64(0.7480672061581388),\n",
       "  'box-map50': np.float64(0.8935084476532619),\n",
       "  'box-map75': np.float64(0.8193343490072319)},\n",
       " {'class_name': 'car',\n",
       "  'box-p': np.float64(0.946152897435272),\n",
       "  'box-r': np.float64(0.3822671939752834),\n",
       "  'box-f1': np.float64(0.5445313805666997),\n",
       "  'box-map': np.float64(0.7480672061581388),\n",
       "  'box-map50': np.float64(0.8935084476532619),\n",
       "  'box-map75': np.float64(0.8193343490072319)},\n",
       " {'class_name': 'motorcycle',\n",
       "  'box-p': np.float64(0.9359790265688755),\n",
       "  'box-r': np.float64(1.0),\n",
       "  'box-f1': np.float64(0.9669309571268504),\n",
       "  'box-map': np.float64(0.7480672061581388),\n",
       "  'box-map50': np.float64(0.8935084476532619),\n",
       "  'box-map75': np.float64(0.8193343490072319)},\n",
       " {'class_name': 'airplane',\n",
       "  'box-p': np.float64(0.94283200065971),\n",
       "  'box-r': np.float64(1.0),\n",
       "  'box-f1': np.float64(0.9705749136719602),\n",
       "  'box-map': np.float64(0.7480672061581388),\n",
       "  'box-map50': np.float64(0.8935084476532619),\n",
       "  'box-map75': np.float64(0.8193343490072319)},\n",
       " {'class_name': 'bus',\n",
       "  'box-p': np.float64(1.0),\n",
       "  'box-r': np.float64(0.7865734474009196),\n",
       "  'box-f1': np.float64(0.8805386070695441),\n",
       "  'box-map': np.float64(0.7480672061581388),\n",
       "  'box-map50': np.float64(0.8935084476532619),\n",
       "  'box-map75': np.float64(0.8193343490072319)},\n",
       " {'class_name': 'train',\n",
       "  'box-p': np.float64(0.9165778572041655),\n",
       "  'box-r': np.float64(1.0),\n",
       "  'box-f1': np.float64(0.9564733869368981),\n",
       "  'box-map': np.float64(0.7480672061581388),\n",
       "  'box-map50': np.float64(0.8935084476532619),\n",
       "  'box-map75': np.float64(0.8193343490072319)},\n",
       " {'class_name': 'truck',\n",
       "  'box-p': np.float64(0.9296087580806235),\n",
       "  'box-r': np.float64(0.5),\n",
       "  'box-f1': np.float64(0.6502539613206523),\n",
       "  'box-map': np.float64(0.7480672061581388),\n",
       "  'box-map50': np.float64(0.8935084476532619),\n",
       "  'box-map75': np.float64(0.8193343490072319)},\n",
       " {'class_name': 'boat',\n",
       "  'box-p': np.float64(0.9474823121866554),\n",
       "  'box-r': np.float64(0.6666666666666666),\n",
       "  'box-f1': np.float64(0.7826475536846987),\n",
       "  'box-map': np.float64(0.7480672061581388),\n",
       "  'box-map50': np.float64(0.8935084476532619),\n",
       "  'box-map75': np.float64(0.8193343490072319)},\n",
       " {'class_name': 'traffic light',\n",
       "  'box-p': np.float64(1.0),\n",
       "  'box-r': np.float64(0.376958443226873),\n",
       "  'box-f1': np.float64(0.5475233404190163),\n",
       "  'box-map': np.float64(0.7480672061581388),\n",
       "  'box-map50': np.float64(0.8935084476532619),\n",
       "  'box-map75': np.float64(0.8193343490072319)},\n",
       " {'class_name': 'fire hydrant',\n",
       "  'box-p': np.float64(0.868533129497633),\n",
       "  'box-r': np.float64(1.0),\n",
       "  'box-f1': np.float64(0.9296416700207437),\n",
       "  'box-map': np.float64(0.7480672061581388),\n",
       "  'box-map50': np.float64(0.8935084476532619),\n",
       "  'box-map75': np.float64(0.8193343490072319)},\n",
       " {'class_name': 'stop sign',\n",
       "  'box-p': np.float64(0.883850910081867),\n",
       "  'box-r': np.float64(1.0),\n",
       "  'box-f1': np.float64(0.9383448608929008),\n",
       "  'box-map': np.float64(0.7480672061581388),\n",
       "  'box-map50': np.float64(0.8935084476532619),\n",
       "  'box-map75': np.float64(0.8193343490072319)},\n",
       " {'class_name': 'parking meter',\n",
       "  'box-p': np.float64(0.9933808839087264),\n",
       "  'box-r': np.float64(1.0),\n",
       "  'box-f1': np.float64(0.9966794524093687),\n",
       "  'box-map': np.float64(0.7480672061581388),\n",
       "  'box-map50': np.float64(0.8935084476532619),\n",
       "  'box-map75': np.float64(0.8193343490072319)},\n",
       " {'class_name': 'bench',\n",
       "  'box-p': np.float64(0.9224051605200275),\n",
       "  'box-r': np.float64(1.0),\n",
       "  'box-f1': np.float64(0.9596365838619668),\n",
       "  'box-map': np.float64(0.7480672061581388),\n",
       "  'box-map50': np.float64(0.8935084476532619),\n",
       "  'box-map75': np.float64(0.8193343490072319)},\n",
       " {'class_name': 'bird',\n",
       "  'box-p': np.float64(0.9848053202886063),\n",
       "  'box-r': np.float64(1.0),\n",
       "  'box-f1': np.float64(0.9923444986991549),\n",
       "  'box-map': np.float64(0.7480672061581388),\n",
       "  'box-map50': np.float64(0.8935084476532619),\n",
       "  'box-map75': np.float64(0.8193343490072319)},\n",
       " {'class_name': 'cat',\n",
       "  'box-p': np.float64(0.8642056118845883),\n",
       "  'box-r': np.float64(1.0),\n",
       "  'box-f1': np.float64(0.927156968496553),\n",
       "  'box-map': np.float64(0.7480672061581388),\n",
       "  'box-map50': np.float64(0.8935084476532619),\n",
       "  'box-map75': np.float64(0.8193343490072319)},\n",
       " {'class_name': 'dog',\n",
       "  'box-p': np.float64(0.9823694959116258),\n",
       "  'box-r': np.float64(1.0),\n",
       "  'box-f1': np.float64(0.9911063481733678),\n",
       "  'box-map': np.float64(0.7480672061581388),\n",
       "  'box-map50': np.float64(0.8935084476532619),\n",
       "  'box-map75': np.float64(0.8193343490072319)},\n",
       " {'class_name': 'horse',\n",
       "  'box-p': np.float64(0.7840428905125951),\n",
       "  'box-r': np.float64(1.0),\n",
       "  'box-f1': np.float64(0.878950718821925),\n",
       "  'box-map': np.float64(0.7480672061581388),\n",
       "  'box-map50': np.float64(0.8935084476532619),\n",
       "  'box-map75': np.float64(0.8193343490072319)},\n",
       " {'class_name': 'sheep',\n",
       "  'box-p': np.float64(0.9208245270885914),\n",
       "  'box-r': np.float64(1.0),\n",
       "  'box-f1': np.float64(0.9587804758868758),\n",
       "  'box-map': np.float64(0.7480672061581388),\n",
       "  'box-map50': np.float64(0.8935084476532619),\n",
       "  'box-map75': np.float64(0.8193343490072319)},\n",
       " {'class_name': 'cow',\n",
       "  'box-p': np.float64(0.9642344337107628),\n",
       "  'box-r': np.float64(1.0),\n",
       "  'box-f1': np.float64(0.9817915999865301),\n",
       "  'box-map': np.float64(0.7480672061581388),\n",
       "  'box-map50': np.float64(0.8935084476532619),\n",
       "  'box-map75': np.float64(0.8193343490072319)},\n",
       " {'class_name': 'elephant',\n",
       "  'box-p': np.float64(0.7868504921665436),\n",
       "  'box-r': np.float64(0.6666666666666666),\n",
       "  'box-f1': np.float64(0.721789889565231),\n",
       "  'box-map': np.float64(0.7480672061581388),\n",
       "  'box-map50': np.float64(0.8935084476532619),\n",
       "  'box-map75': np.float64(0.8193343490072319)},\n",
       " {'class_name': 'bear',\n",
       "  'box-p': np.float64(1.0),\n",
       "  'box-r': np.float64(0.884644437518838),\n",
       "  'box-f1': np.float64(0.9387918696043115),\n",
       "  'box-map': np.float64(0.7480672061581388),\n",
       "  'box-map50': np.float64(0.8935084476532619),\n",
       "  'box-map75': np.float64(0.8193343490072319)},\n",
       " {'class_name': 'zebra',\n",
       "  'box-p': np.float64(0.8993730545658475),\n",
       "  'box-r': np.float64(0.4707144689961195),\n",
       "  'box-f1': np.float64(0.6179866651274319),\n",
       "  'box-map': np.float64(0.7480672061581388),\n",
       "  'box-map50': np.float64(0.8935084476532619),\n",
       "  'box-map75': np.float64(0.8193343490072319)},\n",
       " {'class_name': 'giraffe',\n",
       "  'box-p': np.float64(0.8516082869435686),\n",
       "  'box-r': np.float64(0.7142857142857143),\n",
       "  'box-f1': np.float64(0.7769256834161057),\n",
       "  'box-map': np.float64(0.7480672061581388),\n",
       "  'box-map50': np.float64(0.8935084476532619),\n",
       "  'box-map75': np.float64(0.8193343490072319)},\n",
       " {'class_name': 'backpack',\n",
       "  'box-p': np.float64(0.9327636551728715),\n",
       "  'box-r': np.float64(1.0),\n",
       "  'box-f1': np.float64(0.9652123296880214),\n",
       "  'box-map': np.float64(0.7480672061581388),\n",
       "  'box-map50': np.float64(0.8935084476532619),\n",
       "  'box-map75': np.float64(0.8193343490072319)},\n",
       " {'class_name': 'umbrella',\n",
       "  'box-p': np.float64(0.9189120398617218),\n",
       "  'box-r': np.float64(0.8),\n",
       "  'box-f1': np.float64(0.8553429318564957),\n",
       "  'box-map': np.float64(0.7480672061581388),\n",
       "  'box-map50': np.float64(0.8935084476532619),\n",
       "  'box-map75': np.float64(0.8193343490072319)},\n",
       " {'class_name': 'handbag',\n",
       "  'box-p': np.float64(0.8352041412861595),\n",
       "  'box-r': np.float64(1.0),\n",
       "  'box-f1': np.float64(0.9102029823241641),\n",
       "  'box-map': np.float64(0.7480672061581388),\n",
       "  'box-map50': np.float64(0.8935084476532619),\n",
       "  'box-map75': np.float64(0.8193343490072319)},\n",
       " {'class_name': 'tie',\n",
       "  'box-p': np.float64(0.7147560617468623),\n",
       "  'box-r': np.float64(0.7161671041303066),\n",
       "  'box-f1': np.float64(0.7154608872196755),\n",
       "  'box-map': np.float64(0.7480672061581388),\n",
       "  'box-map50': np.float64(0.8935084476532619),\n",
       "  'box-map75': np.float64(0.8193343490072319)},\n",
       " {'class_name': 'suitcase',\n",
       "  'box-p': np.float64(1.0),\n",
       "  'box-r': np.float64(0.4730262292682237),\n",
       "  'box-f1': np.float64(0.642250925162705),\n",
       "  'box-map': np.float64(0.7480672061581388),\n",
       "  'box-map50': np.float64(0.8935084476532619),\n",
       "  'box-map75': np.float64(0.8193343490072319)},\n",
       " {'class_name': 'frisbee',\n",
       "  'box-p': np.float64(0.9289076762161066),\n",
       "  'box-r': np.float64(0.3),\n",
       "  'box-f1': np.float64(0.4535284598805398),\n",
       "  'box-map': np.float64(0.7480672061581388),\n",
       "  'box-map50': np.float64(0.8935084476532619),\n",
       "  'box-map75': np.float64(0.8193343490072319)},\n",
       " {'class_name': 'skis',\n",
       "  'box-p': np.float64(1.0),\n",
       "  'box-r': np.float64(0.6920697881944581),\n",
       "  'box-f1': np.float64(0.818015655173347),\n",
       "  'box-map': np.float64(0.7480672061581388),\n",
       "  'box-map50': np.float64(0.8935084476532619),\n",
       "  'box-map75': np.float64(0.8193343490072319)},\n",
       " {'class_name': 'snowboard',\n",
       "  'box-p': np.float64(0.8424831395199351),\n",
       "  'box-r': np.float64(0.42857142857142855),\n",
       "  'box-f1': np.float64(0.5681332835199683),\n",
       "  'box-map': np.float64(0.7480672061581388),\n",
       "  'box-map50': np.float64(0.8935084476532619),\n",
       "  'box-map75': np.float64(0.8193343490072319)},\n",
       " {'class_name': 'sports ball',\n",
       "  'box-p': np.float64(0.9286539135974917),\n",
       "  'box-r': np.float64(1.0),\n",
       "  'box-f1': np.float64(0.963007315154108),\n",
       "  'box-map': np.float64(0.7480672061581388),\n",
       "  'box-map50': np.float64(0.8935084476532619),\n",
       "  'box-map75': np.float64(0.8193343490072319)},\n",
       " {'class_name': 'kite',\n",
       "  'box-p': np.float64(1.0),\n",
       "  'box-r': np.float64(0.546439753087916),\n",
       "  'box-f1': np.float64(0.7067068109142829),\n",
       "  'box-map': np.float64(0.7480672061581388),\n",
       "  'box-map50': np.float64(0.8935084476532619),\n",
       "  'box-map75': np.float64(0.8193343490072319)},\n",
       " {'class_name': 'baseball bat',\n",
       "  'box-p': np.float64(1.0),\n",
       "  'box-r': np.float64(0.49783230617873125),\n",
       "  'box-f1': np.float64(0.6647370391533357),\n",
       "  'box-map': np.float64(0.7480672061581388),\n",
       "  'box-map50': np.float64(0.8935084476532619),\n",
       "  'box-map75': np.float64(0.8193343490072319)},\n",
       " {'class_name': 'baseball glove',\n",
       "  'box-p': np.float64(0.8474371765285711),\n",
       "  'box-r': np.float64(0.6875),\n",
       "  'box-f1': np.float64(0.7591360321091917),\n",
       "  'box-map': np.float64(0.7480672061581388),\n",
       "  'box-map50': np.float64(0.8935084476532619),\n",
       "  'box-map75': np.float64(0.8193343490072319)},\n",
       " {'class_name': 'skateboard',\n",
       "  'box-p': np.float64(0.9648710561758053),\n",
       "  'box-r': np.float64(0.7632027115209404),\n",
       "  'box-f1': np.float64(0.8522694113029038),\n",
       "  'box-map': np.float64(0.7480672061581388),\n",
       "  'box-map50': np.float64(0.8935084476532619),\n",
       "  'box-map75': np.float64(0.8193343490072319)},\n",
       " {'class_name': 'surfboard',\n",
       "  'box-p': np.float64(1.0),\n",
       "  'box-r': np.float64(0.7710187397910097),\n",
       "  'box-f1': np.float64(0.8707064724588903),\n",
       "  'box-map': np.float64(0.7480672061581388),\n",
       "  'box-map50': np.float64(0.8935084476532619),\n",
       "  'box-map75': np.float64(0.8193343490072319)},\n",
       " {'class_name': 'tennis racket',\n",
       "  'box-p': np.float64(0.9580647743832605),\n",
       "  'box-r': np.float64(0.6875),\n",
       "  'box-f1': np.float64(0.8005391737136007),\n",
       "  'box-map': np.float64(0.7480672061581388),\n",
       "  'box-map50': np.float64(0.8935084476532619),\n",
       "  'box-map75': np.float64(0.8193343490072319)},\n",
       " {'class_name': 'bottle',\n",
       "  'box-p': np.float64(1.0),\n",
       "  'box-r': np.float64(0.45519570532390674),\n",
       "  'box-f1': np.float64(0.6256144155161404),\n",
       "  'box-map': np.float64(0.7480672061581388),\n",
       "  'box-map50': np.float64(0.8935084476532619),\n",
       "  'box-map75': np.float64(0.8193343490072319)},\n",
       " {'class_name': 'wine glass',\n",
       "  'box-p': np.float64(0.9498362640608595),\n",
       "  'box-r': np.float64(0.8214285714285714),\n",
       "  'box-f1': np.float64(0.8809779654017398),\n",
       "  'box-map': np.float64(0.7480672061581388),\n",
       "  'box-map50': np.float64(0.8935084476532619),\n",
       "  'box-map75': np.float64(0.8193343490072319)},\n",
       " {'class_name': 'cup',\n",
       "  'box-p': np.float64(0.7774855927734825),\n",
       "  'box-r': np.float64(1.0),\n",
       "  'box-f1': np.float64(0.874815071283183),\n",
       "  'box-map': np.float64(0.7480672061581388),\n",
       "  'box-map50': np.float64(0.8935084476532619),\n",
       "  'box-map75': np.float64(0.8193343490072319)},\n",
       " {'class_name': 'fork',\n",
       "  'box-p': np.float64(0.8486740892897977),\n",
       "  'box-r': np.float64(1.0),\n",
       "  'box-f1': np.float64(0.9181435432092105),\n",
       "  'box-map': np.float64(0.7480672061581388),\n",
       "  'box-map50': np.float64(0.8935084476532619),\n",
       "  'box-map75': np.float64(0.8193343490072319)},\n",
       " {'class_name': 'knife',\n",
       "  'box-p': np.float64(0.9176841679694164),\n",
       "  'box-r': np.float64(1.0),\n",
       "  'box-f1': np.float64(0.9570753967699771),\n",
       "  'box-map': np.float64(0.7480672061581388),\n",
       "  'box-map50': np.float64(0.8935084476532619),\n",
       "  'box-map75': np.float64(0.8193343490072319)},\n",
       " {'class_name': 'spoon',\n",
       "  'box-p': np.float64(1.0),\n",
       "  'box-r': np.float64(0.6242461458649117),\n",
       "  'box-f1': np.float64(0.7686595377851433),\n",
       "  'box-map': np.float64(0.7480672061581388),\n",
       "  'box-map50': np.float64(0.8935084476532619),\n",
       "  'box-map75': np.float64(0.8193343490072319)},\n",
       " {'class_name': 'bowl',\n",
       "  'box-p': np.float64(0.8704773426385882),\n",
       "  'box-r': np.float64(0.8403262935625098),\n",
       "  'box-f1': np.float64(0.8551361284149676),\n",
       "  'box-map': np.float64(0.7480672061581388),\n",
       "  'box-map50': np.float64(0.8935084476532619),\n",
       "  'box-map75': np.float64(0.8193343490072319)},\n",
       " {'class_name': 'banana',\n",
       "  'box-p': np.float64(0.8557055984222329),\n",
       "  'box-r': np.float64(1.0),\n",
       "  'box-f1': np.float64(0.9222428376028774),\n",
       "  'box-map': np.float64(0.7480672061581388),\n",
       "  'box-map50': np.float64(0.8935084476532619),\n",
       "  'box-map75': np.float64(0.8193343490072319)},\n",
       " {'class_name': 'apple',\n",
       "  'box-p': np.float64(0.9325046587666375),\n",
       "  'box-r': np.float64(1.0),\n",
       "  'box-f1': np.float64(0.9650736463029076),\n",
       "  'box-map': np.float64(0.7480672061581388),\n",
       "  'box-map50': np.float64(0.8935084476532619),\n",
       "  'box-map75': np.float64(0.8193343490072319)},\n",
       " {'class_name': 'sandwich',\n",
       "  'box-p': np.float64(0.9914152247170889),\n",
       "  'box-r': np.float64(1.0),\n",
       "  'box-f1': np.float64(0.9956891083404614),\n",
       "  'box-map': np.float64(0.7480672061581388),\n",
       "  'box-map50': np.float64(0.8935084476532619),\n",
       "  'box-map75': np.float64(0.8193343490072319)},\n",
       " {'class_name': 'orange',\n",
       "  'box-p': np.float64(0.9194211012330541),\n",
       "  'box-r': np.float64(1.0),\n",
       "  'box-f1': np.float64(0.9580191659270697),\n",
       "  'box-map': np.float64(0.7480672061581388),\n",
       "  'box-map50': np.float64(0.8935084476532619),\n",
       "  'box-map75': np.float64(0.8193343490072319)},\n",
       " {'class_name': 'broccoli',\n",
       "  'box-p': np.float64(0.9347046533688316),\n",
       "  'box-r': np.float64(0.6571428571428571),\n",
       "  'box-f1': np.float64(0.7717252845432114),\n",
       "  'box-map': np.float64(0.7480672061581388),\n",
       "  'box-map50': np.float64(0.8935084476532619),\n",
       "  'box-map75': np.float64(0.8193343490072319)},\n",
       " {'class_name': 'carrot',\n",
       "  'box-p': np.float64(1.0),\n",
       "  'box-r': np.float64(0.945719040043789),\n",
       "  'box-f1': np.float64(0.9721023648126559),\n",
       "  'box-map': np.float64(0.7480672061581388),\n",
       "  'box-map50': np.float64(0.8935084476532619),\n",
       "  'box-map75': np.float64(0.8193343490072319)},\n",
       " {'class_name': 'hot dog',\n",
       "  'box-p': np.float64(0.9737935382485666),\n",
       "  'box-r': np.float64(1.0),\n",
       "  'box-f1': np.float64(0.9867227948396834),\n",
       "  'box-map': np.float64(0.7480672061581388),\n",
       "  'box-map50': np.float64(0.8935084476532619),\n",
       "  'box-map75': np.float64(0.8193343490072319)},\n",
       " {'class_name': 'pizza',\n",
       "  'box-p': np.float64(0.9083536993275926),\n",
       "  'box-r': np.float64(1.0),\n",
       "  'box-f1': np.float64(0.9519762501549377),\n",
       "  'box-map': np.float64(0.7480672061581388),\n",
       "  'box-map50': np.float64(0.8935084476532619),\n",
       "  'box-map75': np.float64(0.8193343490072319)},\n",
       " {'class_name': 'donut',\n",
       "  'box-p': np.float64(0.9343580169600312),\n",
       "  'box-r': np.float64(0.8461538461538461),\n",
       "  'box-f1': np.float64(0.8880711733677962),\n",
       "  'box-map': np.float64(0.7480672061581388),\n",
       "  'box-map50': np.float64(0.8935084476532619),\n",
       "  'box-map75': np.float64(0.8193343490072319)},\n",
       " {'class_name': 'cake',\n",
       "  'box-p': np.float64(0.8655378879247766),\n",
       "  'box-r': np.float64(1.0),\n",
       "  'box-f1': np.float64(0.9279231405882628),\n",
       "  'box-map': np.float64(0.7480672061581388),\n",
       "  'box-map50': np.float64(0.8935084476532619),\n",
       "  'box-map75': np.float64(0.8193343490072319)},\n",
       " {'class_name': 'chair',\n",
       "  'box-p': np.float64(0.8505291199827549),\n",
       "  'box-r': np.float64(1.0),\n",
       "  'box-f1': np.float64(0.9192280313758922),\n",
       "  'box-map': np.float64(0.7480672061581388),\n",
       "  'box-map50': np.float64(0.8935084476532619),\n",
       "  'box-map75': np.float64(0.8193343490072319)},\n",
       " {'class_name': 'couch',\n",
       "  'box-p': np.float64(0.7310775616603555),\n",
       "  'box-r': np.float64(1.0),\n",
       "  'box-f1': np.float64(0.8446502662297184),\n",
       "  'box-map': np.float64(0.7480672061581388),\n",
       "  'box-map50': np.float64(0.8935084476532619),\n",
       "  'box-map75': np.float64(0.8193343490072319)},\n",
       " {'class_name': 'potted plant',\n",
       "  'box-p': np.float64(1.0),\n",
       "  'box-r': np.float64(0.6983080356097753),\n",
       "  'box-f1': np.float64(0.8223573356161489),\n",
       "  'box-map': np.float64(0.7480672061581388),\n",
       "  'box-map50': np.float64(0.8935084476532619),\n",
       "  'box-map75': np.float64(0.8193343490072319)},\n",
       " {'class_name': 'bed',\n",
       "  'box-p': np.float64(0.9917780548273437),\n",
       "  'box-r': np.float64(0.75),\n",
       "  'box-f1': np.float64(0.8541082936014387),\n",
       "  'box-map': np.float64(0.7480672061581388),\n",
       "  'box-map50': np.float64(0.8935084476532619),\n",
       "  'box-map75': np.float64(0.8193343490072319)},\n",
       " {'class_name': 'dining table',\n",
       "  'box-p': np.float64(1.0),\n",
       "  'box-r': np.float64(0.5913478868804569),\n",
       "  'box-f1': np.float64(0.7432037856155829),\n",
       "  'box-map': np.float64(0.7480672061581388),\n",
       "  'box-map50': np.float64(0.8935084476532619),\n",
       "  'box-map75': np.float64(0.8193343490072319)},\n",
       " {'class_name': 'toilet',\n",
       "  'box-p': np.float64(0.9327892228488992),\n",
       "  'box-r': np.float64(1.0),\n",
       "  'box-f1': np.float64(0.9652260182556103),\n",
       "  'box-map': np.float64(0.7480672061581388),\n",
       "  'box-map50': np.float64(0.8935084476532619),\n",
       "  'box-map75': np.float64(0.8193343490072319)},\n",
       " {'class_name': 'tv',\n",
       "  'box-p': np.float64(0.6978683251400403),\n",
       "  'box-r': np.float64(0.6),\n",
       "  'box-f1': np.float64(0.6452441853665611),\n",
       "  'box-map': np.float64(0.7480672061581388),\n",
       "  'box-map50': np.float64(0.8935084476532619),\n",
       "  'box-map75': np.float64(0.8193343490072319)},\n",
       " {'class_name': 'laptop',\n",
       "  'box-p': np.float64(0.9324293231225351),\n",
       "  'box-r': np.float64(0.6666666666666666),\n",
       "  'box-f1': np.float64(0.7774637078919829),\n",
       "  'box-map': np.float64(0.7480672061581388),\n",
       "  'box-map50': np.float64(0.8935084476532619),\n",
       "  'box-map75': np.float64(0.8193343490072319)},\n",
       " {'class_name': 'mouse',\n",
       "  'box-p': np.float64(0.9741843702553588),\n",
       "  'box-r': np.float64(1.0),\n",
       "  'box-f1': np.float64(0.9869233947276657),\n",
       "  'box-map': np.float64(0.7480672061581388),\n",
       "  'box-map50': np.float64(0.8935084476532619),\n",
       "  'box-map75': np.float64(0.8193343490072319)},\n",
       " {'class_name': 'remote',\n",
       "  'box-p': np.float64(0.9200013367749383),\n",
       "  'box-r': np.float64(0.3972485702375995),\n",
       "  'box-f1': np.float64(0.5548973109884545),\n",
       "  'box-map': np.float64(0.7480672061581388),\n",
       "  'box-map50': np.float64(0.8935084476532619),\n",
       "  'box-map75': np.float64(0.8193343490072319)},\n",
       " {'class_name': 'keyboard',\n",
       "  'box-p': np.float64(0.9585565274701325),\n",
       "  'box-r': np.float64(0.8888888888888888),\n",
       "  'box-f1': np.float64(0.9224091159557544),\n",
       "  'box-map': np.float64(0.7480672061581388),\n",
       "  'box-map50': np.float64(0.8935084476532619),\n",
       "  'box-map75': np.float64(0.8193343490072319)},\n",
       " {'class_name': 'cell phone',\n",
       "  'box-p': np.float64(0.8729087544606353),\n",
       "  'box-r': np.float64(1.0),\n",
       "  'box-f1': np.float64(0.9321423186064584),\n",
       "  'box-map': np.float64(0.7480672061581388),\n",
       "  'box-map50': np.float64(0.8935084476532619),\n",
       "  'box-map75': np.float64(0.8193343490072319)},\n",
       " {'class_name': 'microwave',\n",
       "  'box-p': np.float64(0.8640436165744522),\n",
       "  'box-r': np.float64(1.0),\n",
       "  'box-f1': np.float64(0.9270637327277811),\n",
       "  'box-map': np.float64(0.7480672061581388),\n",
       "  'box-map50': np.float64(0.8935084476532619),\n",
       "  'box-map75': np.float64(0.8193343490072319)},\n",
       " {'class_name': 'oven',\n",
       "  'box-p': np.float64(1.0),\n",
       "  'box-r': np.float64(0.7517285790015215),\n",
       "  'box-f1': np.float64(0.8582706111126005),\n",
       "  'box-map': np.float64(0.7480672061581388),\n",
       "  'box-map50': np.float64(0.8935084476532619),\n",
       "  'box-map75': np.float64(0.8193343490072319)},\n",
       " {'class_name': 'toaster',\n",
       "  'box-p': np.float64(0.9437802687278858),\n",
       "  'box-r': np.float64(1.0),\n",
       "  'box-f1': np.float64(0.9710771159803431),\n",
       "  'box-map': np.float64(0.7480672061581388),\n",
       "  'box-map50': np.float64(0.8935084476532619),\n",
       "  'box-map75': np.float64(0.8193343490072319)}]"
      ]
     },
     "execution_count": 11,
     "metadata": {},
     "output_type": "execute_result"
    }
   ],
   "source": [
    "metrics.summary()"
   ]
  },
  {
   "cell_type": "markdown",
   "id": "ab72263b",
   "metadata": {},
   "source": [
    "## Probamos la predicción"
   ]
  },
  {
   "cell_type": "markdown",
   "id": "2b97b6bc",
   "metadata": {},
   "source": [
    "Cargamos el modelo:"
   ]
  },
  {
   "cell_type": "code",
   "execution_count": 12,
   "id": "12d9a03d",
   "metadata": {},
   "outputs": [
    {
     "name": "stdout",
     "output_type": "stream",
     "text": [
      "Nombre del proyecto: deteccion_palmeras_yolo11n_79b7c0f7f315\n"
     ]
    }
   ],
   "source": [
    "print(f\"Nombre del proyecto: {project_name}\")\n",
    "best_model_path = Path(project_name) / \"train\" / \"weights\" / \"best.pt\"\n",
    "\n",
    "if not best_model_path.exists():\n",
    "    LOGGER.error(f\"El modelo {best_model_path} no existe\")\n",
    "    sys.exit(1)\n",
    "best_model = YOLO(best_model_path)"
   ]
  },
  {
   "cell_type": "markdown",
   "id": "aa2df9fe",
   "metadata": {},
   "source": [
    "### Parche"
   ]
  },
  {
   "cell_type": "markdown",
   "id": "5f0e4ece",
   "metadata": {},
   "source": [
    "Descargamos el parche:"
   ]
  },
  {
   "cell_type": "code",
   "execution_count": 13,
   "id": "371c9c6d",
   "metadata": {},
   "outputs": [],
   "source": [
    "# patch_name = \"000000000192\"\n",
    "patch_name = \"000000000074\"\n",
    "patch_file_path = DOWNLOAD_PREDICTION_FOLDER / f\"{patch_name}.jpg\""
   ]
  },
  {
   "cell_type": "markdown",
   "id": "27a7d6f4",
   "metadata": {},
   "source": [
    "Mostramos el parche:"
   ]
  },
  {
   "cell_type": "code",
   "execution_count": 14,
   "id": "4867a79b",
   "metadata": {},
   "outputs": [],
   "source": [
    "# image = cv.imread(str(patch_file_path), cv.IMREAD_COLOR)\n",
    "# cv.imshow(\"Imagen\", image)\n",
    "# cv.waitKey(0)\n",
    "# cv.destroyAllWindows()"
   ]
  },
  {
   "cell_type": "markdown",
   "id": "2b020085",
   "metadata": {},
   "source": [
    "Realizamos la predicción:"
   ]
  },
  {
   "cell_type": "code",
   "execution_count": 15,
   "id": "de4dc050",
   "metadata": {},
   "outputs": [
    {
     "name": "stdout",
     "output_type": "stream",
     "text": [
      "\n",
      "image 1/1 e:\\Documentos\\Git Repositories\\uba-ceia-proy-final\\ceia-proyecto-final\\modulo-IA\\test\\yolo11\\downloads\\predictions\\000000000074.jpg: 448x640 7 persons, 1 bicycle, 1 dog, 39.3ms\n",
      "Speed: 1.0ms preprocess, 39.3ms inference, 1.4ms postprocess per image at shape (1, 3, 448, 640)\n",
      "Results saved to \u001b[1mdeteccion_palmeras_yolo11n_79b7c0f7f315\\0000000000748\u001b[0m\n",
      "1 label saved to deteccion_palmeras_yolo11n_79b7c0f7f315\\0000000000748\\labels\n"
     ]
    }
   ],
   "source": [
    "results = best_model.predict(patch_file_path, project=project_name, save=True, save_txt=True, name=patch_name)"
   ]
  },
  {
   "cell_type": "markdown",
   "id": "1a230c47",
   "metadata": {},
   "source": [
    "Obtenemos los resultados:"
   ]
  },
  {
   "cell_type": "code",
   "execution_count": 16,
   "id": "9c5aed6e",
   "metadata": {},
   "outputs": [
    {
     "name": "stdout",
     "output_type": "stream",
     "text": [
      "Resultados para el parche: 000000000074\n",
      "Cantidad de detecciones: 9\n",
      "Detección 1: Clase=bicycle, Confianza=0.95, Caja=[0.0247344970703125, 5.4251708984375, 162.5913848876953, 319.46917724609375]\n",
      "Detección 2: Clase=dog, Confianza=0.93, Caja=[62.925567626953125, 276.4197692871094, 358.3177185058594, 379.1241760253906]\n",
      "Detección 3: Clase=person, Confianza=0.65, Caja=[461.56817626953125, 104.64024353027344, 493.97003173828125, 148.62413024902344]\n",
      "Detección 4: Clase=person, Confianza=0.61, Caja=[295.22723388671875, 95.46449279785156, 314.08782958984375, 152.9888153076172]\n",
      "Detección 5: Clase=person, Confianza=0.60, Caja=[325.35723876953125, 95.34477233886719, 341.44659423828125, 147.47666931152344]\n",
      "Detección 6: Clase=person, Confianza=0.58, Caja=[276.23223876953125, 98.58846282958984, 292.928466796875, 152.75057983398438]\n",
      "Detección 7: Clase=person, Confianza=0.47, Caja=[354.0404357910156, 96.23331451416016, 372.2051696777344, 148.19137573242188]\n",
      "Detección 8: Clase=person, Confianza=0.40, Caja=[350.33416748046875, 94.5803451538086, 368.32049560546875, 147.77255249023438]\n",
      "Detección 9: Clase=person, Confianza=0.36, Caja=[270.8365173339844, 93.65411376953125, 291.1179504394531, 152.36581420898438]\n"
     ]
    }
   ],
   "source": [
    "for result in results:\n",
    "    xywh = result.boxes.xywh  # center-x, center-y, width, height\n",
    "    xywhn = result.boxes.xywhn  # normalized\n",
    "    xyxy = result.boxes.xyxy  # top-left-x, top-left-y, bottom-right-x, bottom-right-y\n",
    "    xyxyn = result.boxes.xyxyn  # normalized\n",
    "    names = [result.names[cls.item()] for cls in result.boxes.cls.int()]  # class name of each box\n",
    "    confs = result.boxes.conf  # confidence score of each box\n",
    "\n",
    "    print(f\"Resultados para el parche: {patch_name}\")\n",
    "    print(f\"Cantidad de detecciones: {len(names)}\")\n",
    "    if len(names) == 0:\n",
    "        print(\"No se detectaron objetos.\")\n",
    "    else:\n",
    "        for i, (name, conf, box) in enumerate(zip(names, confs, xyxy)):\n",
    "            print(f\"Detección {i+1}: Clase={name}, Confianza={conf.item():.2f}, Caja={box.tolist()}\")"
   ]
  },
  {
   "cell_type": "markdown",
   "id": "c911eba2",
   "metadata": {},
   "source": [
    "Convertimos a anotaciones COCO:"
   ]
  },
  {
   "cell_type": "code",
   "execution_count": 17,
   "id": "217d3878",
   "metadata": {},
   "outputs": [],
   "source": [
    "coco_annotations = YoloDatasetUtils.create_coco_annotations_from_yolo_results(results, patch_name)"
   ]
  },
  {
   "cell_type": "markdown",
   "id": "4404ed0c",
   "metadata": {},
   "source": [
    "Creamos la capa KML:"
   ]
  },
  {
   "cell_type": "code",
   "execution_count": null,
   "id": "e9b9c1c4",
   "metadata": {},
   "outputs": [],
   "source": [
    "# TODO"
   ]
  },
  {
   "cell_type": "markdown",
   "id": "195cf3c0",
   "metadata": {},
   "source": [
    "### Imagen"
   ]
  },
  {
   "cell_type": "code",
   "execution_count": null,
   "id": "9da82837",
   "metadata": {},
   "outputs": [],
   "source": [
    "image_name = \"8deOctubreyCentenario-EspLibreLarranaga_20190828_dji_pc_5cm_patch_0\"\n",
    "Path(DOWNLOAD_PREDICTION_FOLDER).mkdir(parents=True, exist_ok=True)\n",
    "image_name_path = DOWNLOAD_PREDICTION_FOLDER / f\"{image_name}.jpg\"\n",
    "ProcesadorS3 = ProcesadorS3()\n",
    "ProcesadorS3.download_patch_from_minio(image_name, image_name_path)\n",
    "LOGGER.debug(f\"Se descargó el parche {image_name_path} desde MinIO\")"
   ]
  }
 ],
 "metadata": {
  "kernelspec": {
   "display_name": ".venv",
   "language": "python",
   "name": "python3"
  },
  "language_info": {
   "codemirror_mode": {
    "name": "ipython",
    "version": 3
   },
   "file_extension": ".py",
   "mimetype": "text/x-python",
   "name": "python",
   "nbconvert_exporter": "python",
   "pygments_lexer": "ipython3",
   "version": "3.13.3"
  }
 },
 "nbformat": 4,
 "nbformat_minor": 5
}
