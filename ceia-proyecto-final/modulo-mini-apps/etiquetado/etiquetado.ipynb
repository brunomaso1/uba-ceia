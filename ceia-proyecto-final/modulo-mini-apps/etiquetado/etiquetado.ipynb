{
 "cells": [
  {
   "cell_type": "markdown",
   "metadata": {},
   "source": [
    "# <div align=\"center\"><b> ETIQUETADO - PROYECTO FINAL </b></div>"
   ]
  },
  {
   "cell_type": "markdown",
   "metadata": {},
   "source": [
    "<div align=\"right\">📝 <em><small><font color='Gray'>Nota:</font></small></em></div>\n",
    "\n",
    "<div align=\"right\"> <em><small><font color='Gray'> La funcionalidad de visualización de jupyter notebooks en <a href=\"https://github.com/\" target=\"_blank\">github</a> es solamente un preview.</font></small></em> </div>\n",
    "\n",
    "<div align=\"right\"> <em><small><font color='Gray'> Para mejor visualización se sugiere utilizar el visualizador recomendado por la comunidad: <a href=\"https://nbviewer.org/\" target=\"_blank\">nbviewer</a></font></small></em> </div>\n",
    "\n",
    "<div align=\"right\"> <em><small><font color='Gray'> Puedes a acceder al siguiente enlace para ver este notebook en dicha página: <a href=\"https://nbviewer.org/ruta/de/archivo.ipynb\">Ruta archivo</a></font></small></em> </div>"
   ]
  },
  {
   "cell_type": "markdown",
   "metadata": {},
   "source": [
    "* * *"
   ]
  },
  {
   "cell_type": "markdown",
   "metadata": {},
   "source": [
    "<style>\n",
    "/* Limitar la altura de las celdas de salida en html */\n",
    ".jp-OutputArea.jp-Cell-outputArea {\n",
    "    max-height: 500px;\n",
    "}\n",
    "</style>"
   ]
  },
  {
   "cell_type": "markdown",
   "metadata": {},
   "source": [
    "✋ <em><font color='DodgerBlue'>Importaciones:</font></em> ✋"
   ]
  },
  {
   "cell_type": "code",
   "execution_count": 1,
   "metadata": {},
   "outputs": [],
   "source": [
    "import os, sys, logging, json\n",
    "\n",
    "sys.path.append(os.path.abspath(\"../\"))  # Agregar el directorio padre al path\n",
    "\n",
    "from dotenv import load_dotenv\n",
    "\n",
    "from settings import Config\n",
    "from utils import MongoDB"
   ]
  },
  {
   "cell_type": "markdown",
   "metadata": {},
   "source": [
    "🔧 <em><font color='tomato'>Configuraciones:</font></em> 🔧\n"
   ]
  },
  {
   "cell_type": "code",
   "execution_count": 2,
   "metadata": {},
   "outputs": [
    {
     "name": "stderr",
     "output_type": "stream",
     "text": [
      "2025-04-30 17:47:46,855 - root - INFO - <module> - Configuración cargada correctamente.\n"
     ]
    }
   ],
   "source": [
    "load_dotenv(\"../.env.dev\")\n",
    "\n",
    "# Crear instancia de Config\n",
    "config = Config(\"config.yaml\").config_data\n",
    "\n",
    "# Configuración del logger\n",
    "logging.basicConfig(\n",
    "    format=config[\"logging\"][\"format\"],\n",
    "    level=logging.INFO if config[\"logging\"][\"level\"] == \"INFO\" else logging.DEBUG,\n",
    ")\n",
    "logger = logging.getLogger()\n",
    "\n",
    "# Configuración de MongoDB\n",
    "db = MongoDB(config[\"mongodb\"][\"connection_string\"], config[\"mongodb\"][\"database\"]).db\n",
    "\n",
    "logger.info(\"Configuración cargada correctamente.\")"
   ]
  },
  {
   "cell_type": "markdown",
   "metadata": {},
   "source": [
    "<!-- Colab -->\n",
    "<!-- <div align=\"center\"><img src=\"https://drive.google.com/uc?export=view&id=1QSNrTsz1hQbmZwpgwx0qpfpNtLW19Orm\" width=\"600\" alt=\"Figura 1: A data scientist is working on word generation using the Lord of the Rings lore. The image is dark and moody, with a focus on the scientist's computer screen. The screen displays a visualization the one ring, with a map of Middle Earth in the background. - Generada con DALL-E3\"></div> -->\n",
    "\n",
    "<!-- <div align=\"center\"><img src=\"./ceia-materia/resources/portada.jpeg\" width=\"600\" alt=\"Figura 1: A data scientist playing with convolutional neural networks. - Generada con Microsoft Image Creator\"></div>\n",
    "\n",
    "<div align=\"center\"><small><em>Figura 1: A data scientist playing with convolutional neural networks. - Generada con Microsoft Image Creator</em></small></div> -->"
   ]
  },
  {
   "cell_type": "markdown",
   "metadata": {},
   "source": [
    "<div align=\"center\">✨Datos del proyecto:✨</div>\n",
    "\n",
    "<p></p>\n",
    "\n",
    "<div align=\"center\">\n",
    "\n",
    "| Subtitulo       | Etiquetado                                                                                                                             |\n",
    "| --------------- | -------------------------------------------------------------------------------------------------------------------------------------- |\n",
    "| **Descrpción**  | Herramientas y scripts para el etiquetado y guardado de los datos                                                                      |\n",
    "| **Integrantes** | Bruno Masoller (brunomaso1@gmail.com)                                                                                                  |\n",
    "\n",
    "</div>"
   ]
  },
  {
   "cell_type": "markdown",
   "metadata": {},
   "source": [
    "## Consinga"
   ]
  },
  {
   "cell_type": "markdown",
   "metadata": {},
   "source": [
    "El objetivo de este proyecto es brindar herramientas y scripts para el etiquetado y guardado de los datos."
   ]
  },
  {
   "cell_type": "markdown",
   "metadata": {},
   "source": [
    "## Resolución"
   ]
  },
  {
   "cell_type": "markdown",
   "metadata": {},
   "source": [
    "Utilidades de Ultralytics:\n",
    "\n",
    "- [https://docs.ultralytics.com/es/usage/simple-utilities/](https://docs.ultralytics.com/es/usage/simple-utilities/)"
   ]
  },
  {
   "cell_type": "markdown",
   "metadata": {},
   "source": [
    "### Anotaciones"
   ]
  },
  {
   "cell_type": "markdown",
   "metadata": {},
   "source": [
    "Para las anotaciones, entre varios formatos estudiados, se eligió el formato de COCO.\n",
    "\n",
    "- [https://roboflow.com/formats/coco-json](https://roboflow.com/formats/coco-json)\n",
    "- [https://docs.voxel51.com/recipes/convert_datasets.html](https://docs.voxel51.com/recipes/convert_datasets.html)\n",
    "- [https://stackoverflow.com/questions/75927857/how-to-convert-coco-json-to-yolov8-segmentation-format](https://stackoverflow.com/questions/75927857/how-to-convert-coco-json-to-yolov8-segmentation-format)"
   ]
  },
  {
   "cell_type": "markdown",
   "metadata": {},
   "source": [
    "#### Descargar anotaciones"
   ]
  },
  {
   "cell_type": "code",
   "execution_count": 3,
   "metadata": {},
   "outputs": [],
   "source": [
    "from cvat_sdk import make_client"
   ]
  },
  {
   "cell_type": "code",
   "execution_count": 4,
   "metadata": {},
   "outputs": [
    {
     "name": "stderr",
     "output_type": "stream",
     "text": [
      "2025-04-30 17:47:50,916 - urllib3.connectionpool - WARNING - urlopen - Retrying (Retry(total=2, connect=None, read=None, redirect=None, status=None)) after connection broken by 'SSLError(SSLCertVerificationError(1, '[SSL: CERTIFICATE_VERIFY_FAILED] certificate verify failed: self-signed certificate (_ssl.c:1020)'))': /api/server/about\n",
      "2025-04-30 17:47:50,934 - urllib3.connectionpool - WARNING - urlopen - Retrying (Retry(total=1, connect=None, read=None, redirect=None, status=None)) after connection broken by 'SSLError(SSLCertVerificationError(1, '[SSL: CERTIFICATE_VERIFY_FAILED] certificate verify failed: self-signed certificate (_ssl.c:1020)'))': /api/server/about\n",
      "2025-04-30 17:47:50,965 - urllib3.connectionpool - WARNING - urlopen - Retrying (Retry(total=0, connect=None, read=None, redirect=None, status=None)) after connection broken by 'SSLError(SSLCertVerificationError(1, '[SSL: CERTIFICATE_VERIFY_FAILED] certificate verify failed: self-signed certificate (_ssl.c:1020)'))': /api/server/about\n"
     ]
    },
    {
     "ename": "TypeError",
     "evalue": "About._from_openapi_data() missing 2 required positional arguments: 'logo_url' and 'subtitle'",
     "output_type": "error",
     "traceback": [
      "\u001b[31m---------------------------------------------------------------------------\u001b[39m",
      "\u001b[31mTypeError\u001b[39m                                 Traceback (most recent call last)",
      "\u001b[36mCell\u001b[39m\u001b[36m \u001b[39m\u001b[32mIn[4]\u001b[39m\u001b[32m, line 1\u001b[39m\n\u001b[32m----> \u001b[39m\u001b[32m1\u001b[39m \u001b[38;5;28;01mwith\u001b[39;00m \u001b[43mmake_client\u001b[49m\u001b[43m(\u001b[49m\u001b[43mhost\u001b[49m\u001b[43m=\u001b[49m\u001b[43mconfig\u001b[49m\u001b[43m[\u001b[49m\u001b[33;43m\"\u001b[39;49m\u001b[33;43mcvat\u001b[39;49m\u001b[33;43m\"\u001b[39;49m\u001b[43m]\u001b[49m\u001b[43m[\u001b[49m\u001b[33;43m\"\u001b[39;49m\u001b[33;43murl\u001b[39;49m\u001b[33;43m\"\u001b[39;49m\u001b[43m]\u001b[49m\u001b[43m,\u001b[49m\u001b[43m \u001b[49m\u001b[43mcredentials\u001b[49m\u001b[43m=\u001b[49m\u001b[43m(\u001b[49m\u001b[43mconfig\u001b[49m\u001b[43m[\u001b[49m\u001b[33;43m\"\u001b[39;49m\u001b[33;43mcvat\u001b[39;49m\u001b[33;43m\"\u001b[39;49m\u001b[43m]\u001b[49m\u001b[43m[\u001b[49m\u001b[33;43m\"\u001b[39;49m\u001b[33;43muser\u001b[39;49m\u001b[33;43m\"\u001b[39;49m\u001b[43m]\u001b[49m\u001b[43m,\u001b[49m\u001b[43m \u001b[49m\u001b[43mconfig\u001b[49m\u001b[43m[\u001b[49m\u001b[33;43m\"\u001b[39;49m\u001b[33;43mcvat\u001b[39;49m\u001b[33;43m\"\u001b[39;49m\u001b[43m]\u001b[49m\u001b[43m[\u001b[49m\u001b[33;43m\"\u001b[39;49m\u001b[33;43mpassword\u001b[39;49m\u001b[33;43m\"\u001b[39;49m\u001b[43m]\u001b[49m\u001b[43m)\u001b[49m\u001b[43m)\u001b[49m \u001b[38;5;28;01mas\u001b[39;00m client:\n\u001b[32m      2\u001b[39m     \u001b[38;5;28mprint\u001b[39m(client.users.list())\n",
      "\u001b[36mFile \u001b[39m\u001b[32me:\\Documentos\\Git Repositories\\uba-ceia-proy-final\\.venv\\Lib\\site-packages\\cvat_sdk\\core\\client.py:341\u001b[39m, in \u001b[36mmake_client\u001b[39m\u001b[34m(host, port, credentials)\u001b[39m\n\u001b[32m    338\u001b[39m \u001b[38;5;28;01mif\u001b[39;00m port:\n\u001b[32m    339\u001b[39m     url = \u001b[33mf\u001b[39m\u001b[33m\"\u001b[39m\u001b[38;5;132;01m{\u001b[39;00murl\u001b[38;5;132;01m}\u001b[39;00m\u001b[33m:\u001b[39m\u001b[38;5;132;01m{\u001b[39;00mport\u001b[38;5;132;01m}\u001b[39;00m\u001b[33m\"\u001b[39m\n\u001b[32m--> \u001b[39m\u001b[32m341\u001b[39m client = \u001b[43mClient\u001b[49m\u001b[43m(\u001b[49m\u001b[43murl\u001b[49m\u001b[43m=\u001b[49m\u001b[43murl\u001b[49m\u001b[43m)\u001b[49m\n\u001b[32m    342\u001b[39m \u001b[38;5;28;01mif\u001b[39;00m credentials \u001b[38;5;129;01mis\u001b[39;00m \u001b[38;5;129;01mnot\u001b[39;00m \u001b[38;5;28;01mNone\u001b[39;00m:\n\u001b[32m    343\u001b[39m     client.login(credentials)\n",
      "\u001b[36mFile \u001b[39m\u001b[32me:\\Documentos\\Git Repositories\\uba-ceia-proy-final\\.venv\\Lib\\site-packages\\cvat_sdk\\core\\client.py:97\u001b[39m, in \u001b[36mClient.__init__\u001b[39m\u001b[34m(self, url, logger, config, check_server_version)\u001b[39m\n\u001b[32m     94\u001b[39m \u001b[38;5;250m\u001b[39m\u001b[33;03m\"\"\"Provides low-level access to the CVAT server\"\"\"\u001b[39;00m\n\u001b[32m     96\u001b[39m \u001b[38;5;28;01mif\u001b[39;00m check_server_version:\n\u001b[32m---> \u001b[39m\u001b[32m97\u001b[39m     \u001b[38;5;28;43mself\u001b[39;49m\u001b[43m.\u001b[49m\u001b[43mcheck_server_version\u001b[49m\u001b[43m(\u001b[49m\u001b[43m)\u001b[49m\n\u001b[32m     99\u001b[39m \u001b[38;5;28mself\u001b[39m._repos: \u001b[38;5;28mdict\u001b[39m[\u001b[38;5;28mstr\u001b[39m, Repo] = {}\n\u001b[32m    100\u001b[39m \u001b[38;5;250m\u001b[39m\u001b[33;03m\"\"\"A cache for created Repository instances\"\"\"\u001b[39;00m\n",
      "\u001b[36mFile \u001b[39m\u001b[32me:\\Documentos\\Git Repositories\\uba-ceia-proy-final\\.venv\\Lib\\site-packages\\cvat_sdk\\core\\client.py:238\u001b[39m, in \u001b[36mClient.check_server_version\u001b[39m\u001b[34m(self, fail_if_unsupported)\u001b[39m\n\u001b[32m    235\u001b[39m     fail_if_unsupported = \u001b[38;5;129;01mnot\u001b[39;00m \u001b[38;5;28mself\u001b[39m.config.allow_unsupported_server\n\u001b[32m    237\u001b[39m \u001b[38;5;28;01mtry\u001b[39;00m:\n\u001b[32m--> \u001b[39m\u001b[32m238\u001b[39m     server_version = \u001b[38;5;28;43mself\u001b[39;49m\u001b[43m.\u001b[49m\u001b[43mget_server_version\u001b[49m\u001b[43m(\u001b[49m\u001b[43m)\u001b[49m\n\u001b[32m    239\u001b[39m \u001b[38;5;28;01mexcept\u001b[39;00m exceptions.ApiException \u001b[38;5;28;01mas\u001b[39;00m e:\n\u001b[32m    240\u001b[39m     msg = (\n\u001b[32m    241\u001b[39m         \u001b[33m\"\u001b[39m\u001b[33mFailed to retrieve server API version: \u001b[39m\u001b[38;5;132;01m%s\u001b[39;00m\u001b[33m. \u001b[39m\u001b[33m\"\u001b[39m\n\u001b[32m    242\u001b[39m         \u001b[33m\"\u001b[39m\u001b[33mSome SDK functions may not work properly with this server.\u001b[39m\u001b[33m\"\u001b[39m\n\u001b[32m    243\u001b[39m     ) % (e,)\n",
      "\u001b[36mFile \u001b[39m\u001b[32me:\\Documentos\\Git Repositories\\uba-ceia-proy-final\\.venv\\Lib\\site-packages\\cvat_sdk\\core\\client.py:272\u001b[39m, in \u001b[36mClient.get_server_version\u001b[39m\u001b[34m(self)\u001b[39m\n\u001b[32m    271\u001b[39m \u001b[38;5;28;01mdef\u001b[39;00m\u001b[38;5;250m \u001b[39m\u001b[34mget_server_version\u001b[39m(\u001b[38;5;28mself\u001b[39m) -> pv.Version:\n\u001b[32m--> \u001b[39m\u001b[32m272\u001b[39m     (about, _) = \u001b[38;5;28;43mself\u001b[39;49m\u001b[43m.\u001b[49m\u001b[43mapi_client\u001b[49m\u001b[43m.\u001b[49m\u001b[43mserver_api\u001b[49m\u001b[43m.\u001b[49m\u001b[43mretrieve_about\u001b[49m\u001b[43m(\u001b[49m\u001b[43m)\u001b[49m\n\u001b[32m    273\u001b[39m     \u001b[38;5;28;01mreturn\u001b[39;00m pv.Version(about.version)\n",
      "\u001b[36mFile \u001b[39m\u001b[32me:\\Documentos\\Git Repositories\\uba-ceia-proy-final\\.venv\\Lib\\site-packages\\cvat_sdk\\api_client\\api\\server_api.py:402\u001b[39m, in \u001b[36mServerApi.retrieve_about\u001b[39m\u001b[34m(self, _parse_response, _request_timeout, _validate_inputs, _validate_outputs, _check_status, _spec_property_naming, _content_type, _host_index, _request_auths, _async_call, **kwargs)\u001b[39m\n\u001b[32m    400\u001b[39m kwargs[\u001b[33m'\u001b[39m\u001b[33m_host_index\u001b[39m\u001b[33m'\u001b[39m] = _host_index\n\u001b[32m    401\u001b[39m kwargs[\u001b[33m'\u001b[39m\u001b[33m_request_auths\u001b[39m\u001b[33m'\u001b[39m] = _request_auths\n\u001b[32m--> \u001b[39m\u001b[32m402\u001b[39m \u001b[38;5;28;01mreturn\u001b[39;00m \u001b[38;5;28;43mself\u001b[39;49m\u001b[43m.\u001b[49m\u001b[43mretrieve_about_endpoint\u001b[49m\u001b[43m.\u001b[49m\u001b[43mcall_with_http_info\u001b[49m\u001b[43m(\u001b[49m\u001b[43m*\u001b[49m\u001b[43m*\u001b[49m\u001b[43mkwargs\u001b[49m\u001b[43m)\u001b[49m\n",
      "\u001b[36mFile \u001b[39m\u001b[32me:\\Documentos\\Git Repositories\\uba-ceia-proy-final\\.venv\\Lib\\site-packages\\cvat_sdk\\api_client\\api_client.py:1072\u001b[39m, in \u001b[36mEndpoint.call_with_http_info\u001b[39m\u001b[34m(self, _parse_response, _request_timeout, _validate_inputs, _validate_outputs, _check_status, _spec_property_naming, _content_type, _host_index, _request_auths, _async_call, **kwargs)\u001b[39m\n\u001b[32m   1069\u001b[39m             \u001b[38;5;28;01mif\u001b[39;00m content_types_list:\n\u001b[32m   1070\u001b[39m                 params[\u001b[33m'\u001b[39m\u001b[33mheader\u001b[39m\u001b[33m'\u001b[39m][\u001b[33m'\u001b[39m\u001b[33mContent-Type\u001b[39m\u001b[33m'\u001b[39m] = content_types_list\n\u001b[32m-> \u001b[39m\u001b[32m1072\u001b[39m \u001b[38;5;28;01mreturn\u001b[39;00m \u001b[38;5;28;43mself\u001b[39;49m\u001b[43m.\u001b[49m\u001b[43mapi_client\u001b[49m\u001b[43m.\u001b[49m\u001b[43mcall_api\u001b[49m\u001b[43m(\u001b[49m\n\u001b[32m   1073\u001b[39m \u001b[43m    \u001b[49m\u001b[38;5;28;43mself\u001b[39;49m\u001b[43m.\u001b[49m\u001b[43msettings\u001b[49m\u001b[43m[\u001b[49m\u001b[33;43m'\u001b[39;49m\u001b[33;43mendpoint_path\u001b[39;49m\u001b[33;43m'\u001b[39;49m\u001b[43m]\u001b[49m\u001b[43m,\u001b[49m\u001b[43m \u001b[49m\u001b[38;5;28;43mself\u001b[39;49m\u001b[43m.\u001b[49m\u001b[43msettings\u001b[49m\u001b[43m[\u001b[49m\u001b[33;43m'\u001b[39;49m\u001b[33;43mhttp_method\u001b[39;49m\u001b[33;43m'\u001b[39;49m\u001b[43m]\u001b[49m\u001b[43m,\u001b[49m\n\u001b[32m   1074\u001b[39m \u001b[43m    \u001b[49m\u001b[43mparams\u001b[49m\u001b[43m[\u001b[49m\u001b[33;43m'\u001b[39;49m\u001b[33;43mpath\u001b[39;49m\u001b[33;43m'\u001b[39;49m\u001b[43m]\u001b[49m\u001b[43m,\u001b[49m\n\u001b[32m   1075\u001b[39m \u001b[43m    \u001b[49m\u001b[43mparams\u001b[49m\u001b[43m[\u001b[49m\u001b[33;43m'\u001b[39;49m\u001b[33;43mquery\u001b[39;49m\u001b[33;43m'\u001b[39;49m\u001b[43m]\u001b[49m\u001b[43m,\u001b[49m\n\u001b[32m   1076\u001b[39m \u001b[43m    \u001b[49m\u001b[43mparams\u001b[49m\u001b[43m[\u001b[49m\u001b[33;43m'\u001b[39;49m\u001b[33;43mheader\u001b[39;49m\u001b[33;43m'\u001b[39;49m\u001b[43m]\u001b[49m\u001b[43m,\u001b[49m\n\u001b[32m   1077\u001b[39m \u001b[43m    \u001b[49m\u001b[43mbody\u001b[49m\u001b[43m=\u001b[49m\u001b[43mparams\u001b[49m\u001b[43m[\u001b[49m\u001b[33;43m'\u001b[39;49m\u001b[33;43mbody\u001b[39;49m\u001b[33;43m'\u001b[39;49m\u001b[43m]\u001b[49m\u001b[43m,\u001b[49m\n\u001b[32m   1078\u001b[39m \u001b[43m    \u001b[49m\u001b[43mpost_params\u001b[49m\u001b[43m=\u001b[49m\u001b[43mparams\u001b[49m\u001b[43m[\u001b[49m\u001b[33;43m'\u001b[39;49m\u001b[33;43mform\u001b[39;49m\u001b[33;43m'\u001b[39;49m\u001b[43m]\u001b[49m\u001b[43m,\u001b[49m\n\u001b[32m   1079\u001b[39m \u001b[43m    \u001b[49m\u001b[43mfiles\u001b[49m\u001b[43m=\u001b[49m\u001b[43mparams\u001b[49m\u001b[43m[\u001b[49m\u001b[33;43m'\u001b[39;49m\u001b[33;43mfile\u001b[39;49m\u001b[33;43m'\u001b[39;49m\u001b[43m]\u001b[49m\u001b[43m,\u001b[49m\n\u001b[32m   1080\u001b[39m \u001b[43m    \u001b[49m\u001b[43mresponse_schema\u001b[49m\u001b[43m=\u001b[49m\u001b[38;5;28;43mself\u001b[39;49m\u001b[43m.\u001b[49m\u001b[43msettings\u001b[49m\u001b[43m[\u001b[49m\u001b[33;43m'\u001b[39;49m\u001b[33;43mresponse_schema\u001b[39;49m\u001b[33;43m'\u001b[39;49m\u001b[43m]\u001b[49m\u001b[43m,\u001b[49m\n\u001b[32m   1081\u001b[39m \u001b[43m    \u001b[49m\u001b[43mauth_settings\u001b[49m\u001b[43m=\u001b[49m\u001b[38;5;28;43mself\u001b[39;49m\u001b[43m.\u001b[49m\u001b[43msettings\u001b[49m\u001b[43m[\u001b[49m\u001b[33;43m'\u001b[39;49m\u001b[33;43mauth\u001b[39;49m\u001b[33;43m'\u001b[39;49m\u001b[43m]\u001b[49m\u001b[43m,\u001b[49m\n\u001b[32m   1082\u001b[39m \u001b[43m    \u001b[49m\u001b[43m_async_call\u001b[49m\u001b[43m=\u001b[49m\u001b[43mkwargs\u001b[49m\u001b[43m[\u001b[49m\u001b[33;43m'\u001b[39;49m\u001b[33;43m_async_call\u001b[39;49m\u001b[33;43m'\u001b[39;49m\u001b[43m]\u001b[49m\u001b[43m,\u001b[49m\n\u001b[32m   1083\u001b[39m \u001b[43m    \u001b[49m\u001b[43m_check_type\u001b[49m\u001b[43m=\u001b[49m\u001b[43mkwargs\u001b[49m\u001b[43m[\u001b[49m\u001b[33;43m'\u001b[39;49m\u001b[33;43m_validate_outputs\u001b[39;49m\u001b[33;43m'\u001b[39;49m\u001b[43m]\u001b[49m\u001b[43m,\u001b[49m\n\u001b[32m   1084\u001b[39m \u001b[43m    \u001b[49m\u001b[43m_check_status\u001b[49m\u001b[43m=\u001b[49m\u001b[43mkwargs\u001b[49m\u001b[43m[\u001b[49m\u001b[33;43m'\u001b[39;49m\u001b[33;43m_check_status\u001b[39;49m\u001b[33;43m'\u001b[39;49m\u001b[43m]\u001b[49m\u001b[43m,\u001b[49m\n\u001b[32m   1085\u001b[39m \u001b[43m    \u001b[49m\u001b[43m_parse_response\u001b[49m\u001b[43m=\u001b[49m\u001b[43mkwargs\u001b[49m\u001b[43m[\u001b[49m\u001b[33;43m'\u001b[39;49m\u001b[33;43m_parse_response\u001b[39;49m\u001b[33;43m'\u001b[39;49m\u001b[43m]\u001b[49m\u001b[43m,\u001b[49m\n\u001b[32m   1086\u001b[39m \u001b[43m    \u001b[49m\u001b[43m_request_timeout\u001b[49m\u001b[43m=\u001b[49m\u001b[43mkwargs\u001b[49m\u001b[43m[\u001b[49m\u001b[33;43m'\u001b[39;49m\u001b[33;43m_request_timeout\u001b[39;49m\u001b[33;43m'\u001b[39;49m\u001b[43m]\u001b[49m\u001b[43m,\u001b[49m\n\u001b[32m   1087\u001b[39m \u001b[43m    \u001b[49m\u001b[43m_host\u001b[49m\u001b[43m=\u001b[49m\u001b[43m_host\u001b[49m\u001b[43m,\u001b[49m\n\u001b[32m   1088\u001b[39m \u001b[43m    \u001b[49m\u001b[43m_request_auths\u001b[49m\u001b[43m=\u001b[49m\u001b[43mkwargs\u001b[49m\u001b[43m[\u001b[49m\u001b[33;43m'\u001b[39;49m\u001b[33;43m_request_auths\u001b[39;49m\u001b[33;43m'\u001b[39;49m\u001b[43m]\u001b[49m\u001b[43m,\u001b[49m\n\u001b[32m   1089\u001b[39m \u001b[43m    \u001b[49m\u001b[43mcollection_formats\u001b[49m\u001b[43m=\u001b[49m\u001b[43mparams\u001b[49m\u001b[43m[\u001b[49m\u001b[33;43m'\u001b[39;49m\u001b[33;43mcollection_format\u001b[39;49m\u001b[33;43m'\u001b[39;49m\u001b[43m]\u001b[49m\u001b[43m)\u001b[49m\n",
      "\u001b[36mFile \u001b[39m\u001b[32me:\\Documentos\\Git Repositories\\uba-ceia-proy-final\\.venv\\Lib\\site-packages\\cvat_sdk\\api_client\\api_client.py:502\u001b[39m, in \u001b[36mApiClient.call_api\u001b[39m\u001b[34m(self, resource_path, method, path_params, query_params, header_params, body, post_params, files, response_schema, auth_settings, collection_formats, _async_call, _parse_response, _request_timeout, _host, _check_type, _request_auths, _check_status)\u001b[39m\n\u001b[32m    481\u001b[39m params = {\n\u001b[32m    482\u001b[39m     \u001b[33m\"\u001b[39m\u001b[33mresource_path\u001b[39m\u001b[33m\"\u001b[39m: resource_path,\n\u001b[32m    483\u001b[39m     \u001b[33m\"\u001b[39m\u001b[33mmethod\u001b[39m\u001b[33m\"\u001b[39m: method,\n\u001b[32m   (...)\u001b[39m\u001b[32m    498\u001b[39m     \u001b[33m\"\u001b[39m\u001b[33m_check_status\u001b[39m\u001b[33m\"\u001b[39m: _check_status,\n\u001b[32m    499\u001b[39m }\n\u001b[32m    501\u001b[39m \u001b[38;5;28;01mif\u001b[39;00m \u001b[38;5;129;01mnot\u001b[39;00m _async_call:\n\u001b[32m--> \u001b[39m\u001b[32m502\u001b[39m     \u001b[38;5;28;01mreturn\u001b[39;00m \u001b[38;5;28;43mself\u001b[39;49m\u001b[43m.\u001b[49m\u001b[43m__call_api\u001b[49m\u001b[43m(\u001b[49m\u001b[43m*\u001b[49m\u001b[43m*\u001b[49m\u001b[43mparams\u001b[49m\u001b[43m)\u001b[49m\n\u001b[32m    504\u001b[39m \u001b[38;5;28;01mreturn\u001b[39;00m \u001b[38;5;28mself\u001b[39m.pool.apply_async(\u001b[38;5;28mself\u001b[39m.__call_api, (), kwds=params)\n",
      "\u001b[36mFile \u001b[39m\u001b[32me:\\Documentos\\Git Repositories\\uba-ceia-proy-final\\.venv\\Lib\\site-packages\\cvat_sdk\\api_client\\api_client.py:287\u001b[39m, in \u001b[36mApiClient.__call_api\u001b[39m\u001b[34m(self, resource_path, method, path_params, query_params, header_params, body, post_params, files, response_schema, auth_settings, collection_formats, _parse_response, _request_timeout, _host, _check_type, _check_status, _request_auths)\u001b[39m\n\u001b[32m    284\u001b[39m     \u001b[38;5;28mself\u001b[39m._update_cookies_from_response(response)\n\u001b[32m    286\u001b[39m     \u001b[38;5;28;01mif\u001b[39;00m response_schema:\n\u001b[32m--> \u001b[39m\u001b[32m287\u001b[39m         return_data = \u001b[38;5;28;43mself\u001b[39;49m\u001b[43m.\u001b[49m\u001b[43mdeserialize\u001b[49m\u001b[43m(\u001b[49m\n\u001b[32m    288\u001b[39m \u001b[43m            \u001b[49m\u001b[43mresponse\u001b[49m\u001b[43m,\u001b[49m\n\u001b[32m    289\u001b[39m \u001b[43m            \u001b[49m\u001b[43mresponse_schema\u001b[49m\u001b[43m,\u001b[49m\n\u001b[32m    290\u001b[39m \u001b[43m            \u001b[49m\u001b[43m_check_type\u001b[49m\u001b[43m=\u001b[49m\u001b[43m_check_type\u001b[49m\n\u001b[32m    291\u001b[39m \u001b[43m        \u001b[49m\u001b[43m)\u001b[49m\n\u001b[32m    293\u001b[39m \u001b[38;5;28;01mreturn\u001b[39;00m (return_data, response)\n",
      "\u001b[36mFile \u001b[39m\u001b[32me:\\Documentos\\Git Repositories\\uba-ceia-proy-final\\.venv\\Lib\\site-packages\\cvat_sdk\\api_client\\api_client.py:394\u001b[39m, in \u001b[36mApiClient.deserialize\u001b[39m\u001b[34m(self, response, response_schema, _check_type)\u001b[39m\n\u001b[32m    390\u001b[39m     received_data = response_data\n\u001b[32m    392\u001b[39m \u001b[38;5;66;03m# store our data under the key of 'received_data' so users have some\u001b[39;00m\n\u001b[32m    393\u001b[39m \u001b[38;5;66;03m# context if they are deserializing a string and the data type is wrong\u001b[39;00m\n\u001b[32m--> \u001b[39m\u001b[32m394\u001b[39m deserialized_data = \u001b[43mvalidate_and_convert_types\u001b[49m\u001b[43m(\u001b[49m\n\u001b[32m    395\u001b[39m \u001b[43m    \u001b[49m\u001b[43mreceived_data\u001b[49m\u001b[43m,\u001b[49m\n\u001b[32m    396\u001b[39m \u001b[43m    \u001b[49m\u001b[43mresponse_schema\u001b[49m\u001b[43m,\u001b[49m\n\u001b[32m    397\u001b[39m \u001b[43m    \u001b[49m\u001b[43m[\u001b[49m\u001b[33;43m'\u001b[39;49m\u001b[33;43mreceived_data\u001b[39;49m\u001b[33;43m'\u001b[39;49m\u001b[43m]\u001b[49m\u001b[43m,\u001b[49m\n\u001b[32m    398\u001b[39m \u001b[43m    \u001b[49m\u001b[38;5;28;43;01mTrue\u001b[39;49;00m\u001b[43m,\u001b[49m\n\u001b[32m    399\u001b[39m \u001b[43m    \u001b[49m\u001b[43m_check_type\u001b[49m\u001b[43m,\u001b[49m\n\u001b[32m    400\u001b[39m \u001b[43m    \u001b[49m\u001b[43mconfiguration\u001b[49m\u001b[43m=\u001b[49m\u001b[38;5;28;43mself\u001b[39;49m\u001b[43m.\u001b[49m\u001b[43mconfiguration\u001b[49m\n\u001b[32m    401\u001b[39m \u001b[43m\u001b[49m\u001b[43m)\u001b[49m\n\u001b[32m    402\u001b[39m \u001b[38;5;28;01mreturn\u001b[39;00m deserialized_data\n",
      "\u001b[36mFile \u001b[39m\u001b[32me:\\Documentos\\Git Repositories\\uba-ceia-proy-final\\.venv\\Lib\\site-packages\\cvat_sdk\\api_client\\model_utils.py:1594\u001b[39m, in \u001b[36mvalidate_and_convert_types\u001b[39m\u001b[34m(input_value, required_types_mixed, path_to_item, spec_property_naming, _check_type, configuration)\u001b[39m\n\u001b[32m   1591\u001b[39m valid_type = is_valid_type(input_class_simple, valid_classes)\n\u001b[32m   1592\u001b[39m \u001b[38;5;28;01mif\u001b[39;00m \u001b[38;5;129;01mnot\u001b[39;00m valid_type:\n\u001b[32m   1593\u001b[39m     \u001b[38;5;66;03m# if input_value is not valid_type try to convert it\u001b[39;00m\n\u001b[32m-> \u001b[39m\u001b[32m1594\u001b[39m     converted_instance = \u001b[43mattempt_convert_item\u001b[49m\u001b[43m(\u001b[49m\n\u001b[32m   1595\u001b[39m \u001b[43m        \u001b[49m\u001b[43minput_value\u001b[49m\u001b[43m,\u001b[49m\n\u001b[32m   1596\u001b[39m \u001b[43m        \u001b[49m\u001b[43mvalid_classes\u001b[49m\u001b[43m,\u001b[49m\n\u001b[32m   1597\u001b[39m \u001b[43m        \u001b[49m\u001b[43mpath_to_item\u001b[49m\u001b[43m,\u001b[49m\n\u001b[32m   1598\u001b[39m \u001b[43m        \u001b[49m\u001b[43mconfiguration\u001b[49m\u001b[43m,\u001b[49m\n\u001b[32m   1599\u001b[39m \u001b[43m        \u001b[49m\u001b[43mspec_property_naming\u001b[49m\u001b[43m,\u001b[49m\n\u001b[32m   1600\u001b[39m \u001b[43m        \u001b[49m\u001b[43mkey_type\u001b[49m\u001b[43m=\u001b[49m\u001b[38;5;28;43;01mFalse\u001b[39;49;00m\u001b[43m,\u001b[49m\n\u001b[32m   1601\u001b[39m \u001b[43m        \u001b[49m\u001b[43mmust_convert\u001b[49m\u001b[43m=\u001b[49m\u001b[38;5;28;43;01mTrue\u001b[39;49;00m\u001b[43m,\u001b[49m\n\u001b[32m   1602\u001b[39m \u001b[43m        \u001b[49m\u001b[43mcheck_type\u001b[49m\u001b[43m=\u001b[49m\u001b[43m_check_type\u001b[49m\n\u001b[32m   1603\u001b[39m \u001b[43m    \u001b[49m\u001b[43m)\u001b[49m\n\u001b[32m   1604\u001b[39m     \u001b[38;5;28;01mreturn\u001b[39;00m converted_instance\n\u001b[32m   1606\u001b[39m \u001b[38;5;66;03m# input_value's type is in valid_classes\u001b[39;00m\n",
      "\u001b[36mFile \u001b[39m\u001b[32me:\\Documentos\\Git Repositories\\uba-ceia-proy-final\\.venv\\Lib\\site-packages\\cvat_sdk\\api_client\\model_utils.py:1477\u001b[39m, in \u001b[36mattempt_convert_item\u001b[39m\u001b[34m(input_value, valid_classes, path_to_item, configuration, spec_property_naming, key_type, must_convert, check_type)\u001b[39m\n\u001b[32m   1475\u001b[39m \u001b[38;5;28;01mtry\u001b[39;00m:\n\u001b[32m   1476\u001b[39m     \u001b[38;5;28;01mif\u001b[39;00m \u001b[38;5;28missubclass\u001b[39m(valid_class, OpenApiModel):\n\u001b[32m-> \u001b[39m\u001b[32m1477\u001b[39m         \u001b[38;5;28;01mreturn\u001b[39;00m \u001b[43mdeserialize_model\u001b[49m\u001b[43m(\u001b[49m\u001b[43minput_value\u001b[49m\u001b[43m,\u001b[49m\u001b[43m \u001b[49m\u001b[43mvalid_class\u001b[49m\u001b[43m,\u001b[49m\n\u001b[32m   1478\u001b[39m \u001b[43m                                 \u001b[49m\u001b[43mpath_to_item\u001b[49m\u001b[43m,\u001b[49m\u001b[43m \u001b[49m\u001b[43mcheck_type\u001b[49m\u001b[43m,\u001b[49m\n\u001b[32m   1479\u001b[39m \u001b[43m                                 \u001b[49m\u001b[43mconfiguration\u001b[49m\u001b[43m,\u001b[49m\u001b[43m \u001b[49m\u001b[43mspec_property_naming\u001b[49m\u001b[43m)\u001b[49m\n\u001b[32m   1480\u001b[39m     \u001b[38;5;28;01melif\u001b[39;00m valid_class == file_type:\n\u001b[32m   1481\u001b[39m         \u001b[38;5;28;01mreturn\u001b[39;00m deserialize_file(input_value, configuration)\n",
      "\u001b[36mFile \u001b[39m\u001b[32me:\\Documentos\\Git Repositories\\uba-ceia-proy-final\\.venv\\Lib\\site-packages\\cvat_sdk\\api_client\\model_utils.py:1391\u001b[39m, in \u001b[36mdeserialize_model\u001b[39m\u001b[34m(model_data, model_class, path_to_item, check_type, configuration, spec_property_naming)\u001b[39m\n\u001b[32m   1389\u001b[39m \u001b[38;5;28;01mif\u001b[39;00m \u001b[38;5;28misinstance\u001b[39m(model_data, \u001b[38;5;28mdict\u001b[39m):\n\u001b[32m   1390\u001b[39m     kw_args.update(model_data)\n\u001b[32m-> \u001b[39m\u001b[32m1391\u001b[39m     \u001b[38;5;28;01mreturn\u001b[39;00m \u001b[43mmodel_class\u001b[49m\u001b[43m.\u001b[49m\u001b[43m_new_from_openapi_data\u001b[49m\u001b[43m(\u001b[49m\u001b[43m*\u001b[49m\u001b[43m*\u001b[49m\u001b[43mkw_args\u001b[49m\u001b[43m)\u001b[49m\n\u001b[32m   1392\u001b[39m \u001b[38;5;28;01melif\u001b[39;00m \u001b[38;5;28misinstance\u001b[39m(model_data, PRIMITIVE_TYPES):\n\u001b[32m   1393\u001b[39m     \u001b[38;5;28;01mreturn\u001b[39;00m model_class._new_from_openapi_data(model_data, **kw_args)\n",
      "\u001b[36mFile \u001b[39m\u001b[32me:\\Documentos\\Git Repositories\\uba-ceia-proy-final\\.venv\\Lib\\site-packages\\cvat_sdk\\api_client\\model_utils.py:51\u001b[39m, in \u001b[36mconvert_js_args_to_python_args.<locals>.wrapped_init\u001b[39m\u001b[34m(_self, *args, **kwargs)\u001b[39m\n\u001b[32m     47\u001b[39m \u001b[38;5;28;01mif\u001b[39;00m spec_property_naming:\n\u001b[32m     48\u001b[39m     kwargs = change_keys_js_to_python(\n\u001b[32m     49\u001b[39m         kwargs, _self \u001b[38;5;28;01mif\u001b[39;00m \u001b[38;5;28misinstance\u001b[39m(\n\u001b[32m     50\u001b[39m             _self, \u001b[38;5;28mtype\u001b[39m) \u001b[38;5;28;01melse\u001b[39;00m _self.\u001b[34m__class__\u001b[39m)\n\u001b[32m---> \u001b[39m\u001b[32m51\u001b[39m \u001b[38;5;28;01mreturn\u001b[39;00m \u001b[43mfn\u001b[49m\u001b[43m(\u001b[49m\u001b[43m_self\u001b[49m\u001b[43m,\u001b[49m\u001b[43m \u001b[49m\u001b[43m*\u001b[49m\u001b[43margs\u001b[49m\u001b[43m,\u001b[49m\u001b[43m \u001b[49m\u001b[43m*\u001b[49m\u001b[43m*\u001b[49m\u001b[43mkwargs\u001b[49m\u001b[43m)\u001b[49m\n",
      "\u001b[36mFile \u001b[39m\u001b[32me:\\Documentos\\Git Repositories\\uba-ceia-proy-final\\.venv\\Lib\\site-packages\\cvat_sdk\\api_client\\model_utils.py:379\u001b[39m, in \u001b[36mOpenApiModel._new_from_openapi_data\u001b[39m\u001b[34m(cls, *args, **kwargs)\u001b[39m\n\u001b[32m    358\u001b[39m visited_composed_classes = kwargs.get(\u001b[33m'\u001b[39m\u001b[33m_visited_composed_classes\u001b[39m\u001b[33m'\u001b[39m, ())\n\u001b[32m    359\u001b[39m \u001b[38;5;28;01mif\u001b[39;00m (\n\u001b[32m    360\u001b[39m     \u001b[38;5;28mcls\u001b[39m.discriminator \u001b[38;5;129;01mis\u001b[39;00m \u001b[38;5;28;01mNone\u001b[39;00m \u001b[38;5;129;01mor\u001b[39;00m\n\u001b[32m    361\u001b[39m     \u001b[38;5;28mcls\u001b[39m \u001b[38;5;129;01min\u001b[39;00m visited_composed_classes\n\u001b[32m   (...)\u001b[39m\u001b[32m    376\u001b[39m     \u001b[38;5;66;03m# through Animal's discriminator because we passed in\u001b[39;00m\n\u001b[32m    377\u001b[39m     \u001b[38;5;66;03m# _visited_composed_classes = (Animal,)\u001b[39;00m\n\u001b[32m--> \u001b[39m\u001b[32m379\u001b[39m     \u001b[38;5;28;01mreturn\u001b[39;00m \u001b[38;5;28;43mcls\u001b[39;49m\u001b[43m.\u001b[49m\u001b[43m_from_openapi_data\u001b[49m\u001b[43m(\u001b[49m\u001b[43m*\u001b[49m\u001b[43margs\u001b[49m\u001b[43m,\u001b[49m\u001b[43m \u001b[49m\u001b[43m*\u001b[49m\u001b[43m*\u001b[49m\u001b[43mkwargs\u001b[49m\u001b[43m)\u001b[49m\n\u001b[32m    381\u001b[39m \u001b[38;5;66;03m# Get the name and value of the discriminator property.\u001b[39;00m\n\u001b[32m    382\u001b[39m \u001b[38;5;66;03m# The discriminator name is obtained from the discriminator meta-data\u001b[39;00m\n\u001b[32m    383\u001b[39m \u001b[38;5;66;03m# and the discriminator value is obtained from the input data.\u001b[39;00m\n\u001b[32m    384\u001b[39m discr_propertyname_py = \u001b[38;5;28mlist\u001b[39m(\u001b[38;5;28mcls\u001b[39m.discriminator.keys())[\u001b[32m0\u001b[39m]\n",
      "\u001b[36mFile \u001b[39m\u001b[32me:\\Documentos\\Git Repositories\\uba-ceia-proy-final\\.venv\\Lib\\site-packages\\cvat_sdk\\api_client\\model_utils.py:51\u001b[39m, in \u001b[36mconvert_js_args_to_python_args.<locals>.wrapped_init\u001b[39m\u001b[34m(_self, *args, **kwargs)\u001b[39m\n\u001b[32m     47\u001b[39m \u001b[38;5;28;01mif\u001b[39;00m spec_property_naming:\n\u001b[32m     48\u001b[39m     kwargs = change_keys_js_to_python(\n\u001b[32m     49\u001b[39m         kwargs, _self \u001b[38;5;28;01mif\u001b[39;00m \u001b[38;5;28misinstance\u001b[39m(\n\u001b[32m     50\u001b[39m             _self, \u001b[38;5;28mtype\u001b[39m) \u001b[38;5;28;01melse\u001b[39;00m _self.\u001b[34m__class__\u001b[39m)\n\u001b[32m---> \u001b[39m\u001b[32m51\u001b[39m \u001b[38;5;28;01mreturn\u001b[39;00m \u001b[43mfn\u001b[49m\u001b[43m(\u001b[49m\u001b[43m_self\u001b[49m\u001b[43m,\u001b[49m\u001b[43m \u001b[49m\u001b[43m*\u001b[49m\u001b[43margs\u001b[49m\u001b[43m,\u001b[49m\u001b[43m \u001b[49m\u001b[43m*\u001b[49m\u001b[43m*\u001b[49m\u001b[43mkwargs\u001b[49m\u001b[43m)\u001b[49m\n",
      "\u001b[31mTypeError\u001b[39m: About._from_openapi_data() missing 2 required positional arguments: 'logo_url' and 'subtitle'"
     ]
    }
   ],
   "source": [
    "with make_client(host=config[\"cvat\"][\"url\"], credentials=(config[\"cvat\"][\"user\"], config[\"cvat\"][\"password\"])) as client:\n",
    "    print(client.users.list())\n"
   ]
  },
  {
   "cell_type": "code",
   "execution_count": null,
   "metadata": {},
   "outputs": [
    {
     "name": "stderr",
     "output_type": "stream",
     "text": [
      "2025-04-30 17:43:14,133 - urllib3.connectionpool - WARNING - urlopen - Retrying (Retry(total=2, connect=None, read=None, redirect=None, status=None)) after connection broken by 'SSLError(SSLCertVerificationError(1, '[SSL: CERTIFICATE_VERIFY_FAILED] certificate verify failed: self-signed certificate (_ssl.c:1020)'))': /api/server/about\n",
      "2025-04-30 17:43:14,151 - urllib3.connectionpool - WARNING - urlopen - Retrying (Retry(total=1, connect=None, read=None, redirect=None, status=None)) after connection broken by 'SSLError(SSLCertVerificationError(1, '[SSL: CERTIFICATE_VERIFY_FAILED] certificate verify failed: self-signed certificate (_ssl.c:1020)'))': /api/server/about\n",
      "2025-04-30 17:43:14,181 - urllib3.connectionpool - WARNING - urlopen - Retrying (Retry(total=0, connect=None, read=None, redirect=None, status=None)) after connection broken by 'SSLError(SSLCertVerificationError(1, '[SSL: CERTIFICATE_VERIFY_FAILED] certificate verify failed: self-signed certificate (_ssl.c:1020)'))': /api/server/about\n"
     ]
    },
    {
     "ename": "TypeError",
     "evalue": "About._from_openapi_data() missing 2 required positional arguments: 'logo_url' and 'subtitle'",
     "output_type": "error",
     "traceback": [
      "\u001b[31m---------------------------------------------------------------------------\u001b[39m",
      "\u001b[31mTypeError\u001b[39m                                 Traceback (most recent call last)",
      "\u001b[36mCell\u001b[39m\u001b[36m \u001b[39m\u001b[32mIn[6]\u001b[39m\u001b[32m, line 1\u001b[39m\n\u001b[32m----> \u001b[39m\u001b[32m1\u001b[39m client = \u001b[43mcvat_sdk\u001b[49m\u001b[43m.\u001b[49m\u001b[43mmake_client\u001b[49m\u001b[43m(\u001b[49m\u001b[43mhost\u001b[49m\u001b[43m=\u001b[49m\u001b[43mconfig\u001b[49m\u001b[43m[\u001b[49m\u001b[33;43m\"\u001b[39;49m\u001b[33;43mcvat\u001b[39;49m\u001b[33;43m\"\u001b[39;49m\u001b[43m]\u001b[49m\u001b[43m[\u001b[49m\u001b[33;43m\"\u001b[39;49m\u001b[33;43murl\u001b[39;49m\u001b[33;43m\"\u001b[39;49m\u001b[43m]\u001b[49m\u001b[43m,\u001b[49m\u001b[43m \u001b[49m\u001b[43mcredentials\u001b[49m\u001b[43m=\u001b[49m\u001b[43m(\u001b[49m\u001b[43mconfig\u001b[49m\u001b[43m[\u001b[49m\u001b[33;43m\"\u001b[39;49m\u001b[33;43mcvat\u001b[39;49m\u001b[33;43m\"\u001b[39;49m\u001b[43m]\u001b[49m\u001b[43m[\u001b[49m\u001b[33;43m\"\u001b[39;49m\u001b[33;43muser\u001b[39;49m\u001b[33;43m\"\u001b[39;49m\u001b[43m]\u001b[49m\u001b[43m,\u001b[49m\u001b[43m \u001b[49m\u001b[43mconfig\u001b[49m\u001b[43m[\u001b[49m\u001b[33;43m\"\u001b[39;49m\u001b[33;43mcvat\u001b[39;49m\u001b[33;43m\"\u001b[39;49m\u001b[43m]\u001b[49m\u001b[43m[\u001b[49m\u001b[33;43m\"\u001b[39;49m\u001b[33;43mpassword\u001b[39;49m\u001b[33;43m\"\u001b[39;49m\u001b[43m]\u001b[49m\u001b[43m)\u001b[49m\u001b[43m)\u001b[49m\n",
      "\u001b[36mFile \u001b[39m\u001b[32me:\\Documentos\\Git Repositories\\uba-ceia-proy-final\\.venv\\Lib\\site-packages\\cvat_sdk\\core\\client.py:341\u001b[39m, in \u001b[36mmake_client\u001b[39m\u001b[34m(host, port, credentials)\u001b[39m\n\u001b[32m    338\u001b[39m \u001b[38;5;28;01mif\u001b[39;00m port:\n\u001b[32m    339\u001b[39m     url = \u001b[33mf\u001b[39m\u001b[33m\"\u001b[39m\u001b[38;5;132;01m{\u001b[39;00murl\u001b[38;5;132;01m}\u001b[39;00m\u001b[33m:\u001b[39m\u001b[38;5;132;01m{\u001b[39;00mport\u001b[38;5;132;01m}\u001b[39;00m\u001b[33m\"\u001b[39m\n\u001b[32m--> \u001b[39m\u001b[32m341\u001b[39m client = \u001b[43mClient\u001b[49m\u001b[43m(\u001b[49m\u001b[43murl\u001b[49m\u001b[43m=\u001b[49m\u001b[43murl\u001b[49m\u001b[43m)\u001b[49m\n\u001b[32m    342\u001b[39m \u001b[38;5;28;01mif\u001b[39;00m credentials \u001b[38;5;129;01mis\u001b[39;00m \u001b[38;5;129;01mnot\u001b[39;00m \u001b[38;5;28;01mNone\u001b[39;00m:\n\u001b[32m    343\u001b[39m     client.login(credentials)\n",
      "\u001b[36mFile \u001b[39m\u001b[32me:\\Documentos\\Git Repositories\\uba-ceia-proy-final\\.venv\\Lib\\site-packages\\cvat_sdk\\core\\client.py:97\u001b[39m, in \u001b[36mClient.__init__\u001b[39m\u001b[34m(self, url, logger, config, check_server_version)\u001b[39m\n\u001b[32m     94\u001b[39m \u001b[38;5;250m\u001b[39m\u001b[33;03m\"\"\"Provides low-level access to the CVAT server\"\"\"\u001b[39;00m\n\u001b[32m     96\u001b[39m \u001b[38;5;28;01mif\u001b[39;00m check_server_version:\n\u001b[32m---> \u001b[39m\u001b[32m97\u001b[39m     \u001b[38;5;28;43mself\u001b[39;49m\u001b[43m.\u001b[49m\u001b[43mcheck_server_version\u001b[49m\u001b[43m(\u001b[49m\u001b[43m)\u001b[49m\n\u001b[32m     99\u001b[39m \u001b[38;5;28mself\u001b[39m._repos: \u001b[38;5;28mdict\u001b[39m[\u001b[38;5;28mstr\u001b[39m, Repo] = {}\n\u001b[32m    100\u001b[39m \u001b[38;5;250m\u001b[39m\u001b[33;03m\"\"\"A cache for created Repository instances\"\"\"\u001b[39;00m\n",
      "\u001b[36mFile \u001b[39m\u001b[32me:\\Documentos\\Git Repositories\\uba-ceia-proy-final\\.venv\\Lib\\site-packages\\cvat_sdk\\core\\client.py:238\u001b[39m, in \u001b[36mClient.check_server_version\u001b[39m\u001b[34m(self, fail_if_unsupported)\u001b[39m\n\u001b[32m    235\u001b[39m     fail_if_unsupported = \u001b[38;5;129;01mnot\u001b[39;00m \u001b[38;5;28mself\u001b[39m.config.allow_unsupported_server\n\u001b[32m    237\u001b[39m \u001b[38;5;28;01mtry\u001b[39;00m:\n\u001b[32m--> \u001b[39m\u001b[32m238\u001b[39m     server_version = \u001b[38;5;28;43mself\u001b[39;49m\u001b[43m.\u001b[49m\u001b[43mget_server_version\u001b[49m\u001b[43m(\u001b[49m\u001b[43m)\u001b[49m\n\u001b[32m    239\u001b[39m \u001b[38;5;28;01mexcept\u001b[39;00m exceptions.ApiException \u001b[38;5;28;01mas\u001b[39;00m e:\n\u001b[32m    240\u001b[39m     msg = (\n\u001b[32m    241\u001b[39m         \u001b[33m\"\u001b[39m\u001b[33mFailed to retrieve server API version: \u001b[39m\u001b[38;5;132;01m%s\u001b[39;00m\u001b[33m. \u001b[39m\u001b[33m\"\u001b[39m\n\u001b[32m    242\u001b[39m         \u001b[33m\"\u001b[39m\u001b[33mSome SDK functions may not work properly with this server.\u001b[39m\u001b[33m\"\u001b[39m\n\u001b[32m    243\u001b[39m     ) % (e,)\n",
      "\u001b[36mFile \u001b[39m\u001b[32me:\\Documentos\\Git Repositories\\uba-ceia-proy-final\\.venv\\Lib\\site-packages\\cvat_sdk\\core\\client.py:272\u001b[39m, in \u001b[36mClient.get_server_version\u001b[39m\u001b[34m(self)\u001b[39m\n\u001b[32m    271\u001b[39m \u001b[38;5;28;01mdef\u001b[39;00m\u001b[38;5;250m \u001b[39m\u001b[34mget_server_version\u001b[39m(\u001b[38;5;28mself\u001b[39m) -> pv.Version:\n\u001b[32m--> \u001b[39m\u001b[32m272\u001b[39m     (about, _) = \u001b[38;5;28;43mself\u001b[39;49m\u001b[43m.\u001b[49m\u001b[43mapi_client\u001b[49m\u001b[43m.\u001b[49m\u001b[43mserver_api\u001b[49m\u001b[43m.\u001b[49m\u001b[43mretrieve_about\u001b[49m\u001b[43m(\u001b[49m\u001b[43m)\u001b[49m\n\u001b[32m    273\u001b[39m     \u001b[38;5;28;01mreturn\u001b[39;00m pv.Version(about.version)\n",
      "\u001b[36mFile \u001b[39m\u001b[32me:\\Documentos\\Git Repositories\\uba-ceia-proy-final\\.venv\\Lib\\site-packages\\cvat_sdk\\api_client\\api\\server_api.py:402\u001b[39m, in \u001b[36mServerApi.retrieve_about\u001b[39m\u001b[34m(self, _parse_response, _request_timeout, _validate_inputs, _validate_outputs, _check_status, _spec_property_naming, _content_type, _host_index, _request_auths, _async_call, **kwargs)\u001b[39m\n\u001b[32m    400\u001b[39m kwargs[\u001b[33m'\u001b[39m\u001b[33m_host_index\u001b[39m\u001b[33m'\u001b[39m] = _host_index\n\u001b[32m    401\u001b[39m kwargs[\u001b[33m'\u001b[39m\u001b[33m_request_auths\u001b[39m\u001b[33m'\u001b[39m] = _request_auths\n\u001b[32m--> \u001b[39m\u001b[32m402\u001b[39m \u001b[38;5;28;01mreturn\u001b[39;00m \u001b[38;5;28;43mself\u001b[39;49m\u001b[43m.\u001b[49m\u001b[43mretrieve_about_endpoint\u001b[49m\u001b[43m.\u001b[49m\u001b[43mcall_with_http_info\u001b[49m\u001b[43m(\u001b[49m\u001b[43m*\u001b[49m\u001b[43m*\u001b[49m\u001b[43mkwargs\u001b[49m\u001b[43m)\u001b[49m\n",
      "\u001b[36mFile \u001b[39m\u001b[32me:\\Documentos\\Git Repositories\\uba-ceia-proy-final\\.venv\\Lib\\site-packages\\cvat_sdk\\api_client\\api_client.py:1072\u001b[39m, in \u001b[36mEndpoint.call_with_http_info\u001b[39m\u001b[34m(self, _parse_response, _request_timeout, _validate_inputs, _validate_outputs, _check_status, _spec_property_naming, _content_type, _host_index, _request_auths, _async_call, **kwargs)\u001b[39m\n\u001b[32m   1069\u001b[39m             \u001b[38;5;28;01mif\u001b[39;00m content_types_list:\n\u001b[32m   1070\u001b[39m                 params[\u001b[33m'\u001b[39m\u001b[33mheader\u001b[39m\u001b[33m'\u001b[39m][\u001b[33m'\u001b[39m\u001b[33mContent-Type\u001b[39m\u001b[33m'\u001b[39m] = content_types_list\n\u001b[32m-> \u001b[39m\u001b[32m1072\u001b[39m \u001b[38;5;28;01mreturn\u001b[39;00m \u001b[38;5;28;43mself\u001b[39;49m\u001b[43m.\u001b[49m\u001b[43mapi_client\u001b[49m\u001b[43m.\u001b[49m\u001b[43mcall_api\u001b[49m\u001b[43m(\u001b[49m\n\u001b[32m   1073\u001b[39m \u001b[43m    \u001b[49m\u001b[38;5;28;43mself\u001b[39;49m\u001b[43m.\u001b[49m\u001b[43msettings\u001b[49m\u001b[43m[\u001b[49m\u001b[33;43m'\u001b[39;49m\u001b[33;43mendpoint_path\u001b[39;49m\u001b[33;43m'\u001b[39;49m\u001b[43m]\u001b[49m\u001b[43m,\u001b[49m\u001b[43m \u001b[49m\u001b[38;5;28;43mself\u001b[39;49m\u001b[43m.\u001b[49m\u001b[43msettings\u001b[49m\u001b[43m[\u001b[49m\u001b[33;43m'\u001b[39;49m\u001b[33;43mhttp_method\u001b[39;49m\u001b[33;43m'\u001b[39;49m\u001b[43m]\u001b[49m\u001b[43m,\u001b[49m\n\u001b[32m   1074\u001b[39m \u001b[43m    \u001b[49m\u001b[43mparams\u001b[49m\u001b[43m[\u001b[49m\u001b[33;43m'\u001b[39;49m\u001b[33;43mpath\u001b[39;49m\u001b[33;43m'\u001b[39;49m\u001b[43m]\u001b[49m\u001b[43m,\u001b[49m\n\u001b[32m   1075\u001b[39m \u001b[43m    \u001b[49m\u001b[43mparams\u001b[49m\u001b[43m[\u001b[49m\u001b[33;43m'\u001b[39;49m\u001b[33;43mquery\u001b[39;49m\u001b[33;43m'\u001b[39;49m\u001b[43m]\u001b[49m\u001b[43m,\u001b[49m\n\u001b[32m   1076\u001b[39m \u001b[43m    \u001b[49m\u001b[43mparams\u001b[49m\u001b[43m[\u001b[49m\u001b[33;43m'\u001b[39;49m\u001b[33;43mheader\u001b[39;49m\u001b[33;43m'\u001b[39;49m\u001b[43m]\u001b[49m\u001b[43m,\u001b[49m\n\u001b[32m   1077\u001b[39m \u001b[43m    \u001b[49m\u001b[43mbody\u001b[49m\u001b[43m=\u001b[49m\u001b[43mparams\u001b[49m\u001b[43m[\u001b[49m\u001b[33;43m'\u001b[39;49m\u001b[33;43mbody\u001b[39;49m\u001b[33;43m'\u001b[39;49m\u001b[43m]\u001b[49m\u001b[43m,\u001b[49m\n\u001b[32m   1078\u001b[39m \u001b[43m    \u001b[49m\u001b[43mpost_params\u001b[49m\u001b[43m=\u001b[49m\u001b[43mparams\u001b[49m\u001b[43m[\u001b[49m\u001b[33;43m'\u001b[39;49m\u001b[33;43mform\u001b[39;49m\u001b[33;43m'\u001b[39;49m\u001b[43m]\u001b[49m\u001b[43m,\u001b[49m\n\u001b[32m   1079\u001b[39m \u001b[43m    \u001b[49m\u001b[43mfiles\u001b[49m\u001b[43m=\u001b[49m\u001b[43mparams\u001b[49m\u001b[43m[\u001b[49m\u001b[33;43m'\u001b[39;49m\u001b[33;43mfile\u001b[39;49m\u001b[33;43m'\u001b[39;49m\u001b[43m]\u001b[49m\u001b[43m,\u001b[49m\n\u001b[32m   1080\u001b[39m \u001b[43m    \u001b[49m\u001b[43mresponse_schema\u001b[49m\u001b[43m=\u001b[49m\u001b[38;5;28;43mself\u001b[39;49m\u001b[43m.\u001b[49m\u001b[43msettings\u001b[49m\u001b[43m[\u001b[49m\u001b[33;43m'\u001b[39;49m\u001b[33;43mresponse_schema\u001b[39;49m\u001b[33;43m'\u001b[39;49m\u001b[43m]\u001b[49m\u001b[43m,\u001b[49m\n\u001b[32m   1081\u001b[39m \u001b[43m    \u001b[49m\u001b[43mauth_settings\u001b[49m\u001b[43m=\u001b[49m\u001b[38;5;28;43mself\u001b[39;49m\u001b[43m.\u001b[49m\u001b[43msettings\u001b[49m\u001b[43m[\u001b[49m\u001b[33;43m'\u001b[39;49m\u001b[33;43mauth\u001b[39;49m\u001b[33;43m'\u001b[39;49m\u001b[43m]\u001b[49m\u001b[43m,\u001b[49m\n\u001b[32m   1082\u001b[39m \u001b[43m    \u001b[49m\u001b[43m_async_call\u001b[49m\u001b[43m=\u001b[49m\u001b[43mkwargs\u001b[49m\u001b[43m[\u001b[49m\u001b[33;43m'\u001b[39;49m\u001b[33;43m_async_call\u001b[39;49m\u001b[33;43m'\u001b[39;49m\u001b[43m]\u001b[49m\u001b[43m,\u001b[49m\n\u001b[32m   1083\u001b[39m \u001b[43m    \u001b[49m\u001b[43m_check_type\u001b[49m\u001b[43m=\u001b[49m\u001b[43mkwargs\u001b[49m\u001b[43m[\u001b[49m\u001b[33;43m'\u001b[39;49m\u001b[33;43m_validate_outputs\u001b[39;49m\u001b[33;43m'\u001b[39;49m\u001b[43m]\u001b[49m\u001b[43m,\u001b[49m\n\u001b[32m   1084\u001b[39m \u001b[43m    \u001b[49m\u001b[43m_check_status\u001b[49m\u001b[43m=\u001b[49m\u001b[43mkwargs\u001b[49m\u001b[43m[\u001b[49m\u001b[33;43m'\u001b[39;49m\u001b[33;43m_check_status\u001b[39;49m\u001b[33;43m'\u001b[39;49m\u001b[43m]\u001b[49m\u001b[43m,\u001b[49m\n\u001b[32m   1085\u001b[39m \u001b[43m    \u001b[49m\u001b[43m_parse_response\u001b[49m\u001b[43m=\u001b[49m\u001b[43mkwargs\u001b[49m\u001b[43m[\u001b[49m\u001b[33;43m'\u001b[39;49m\u001b[33;43m_parse_response\u001b[39;49m\u001b[33;43m'\u001b[39;49m\u001b[43m]\u001b[49m\u001b[43m,\u001b[49m\n\u001b[32m   1086\u001b[39m \u001b[43m    \u001b[49m\u001b[43m_request_timeout\u001b[49m\u001b[43m=\u001b[49m\u001b[43mkwargs\u001b[49m\u001b[43m[\u001b[49m\u001b[33;43m'\u001b[39;49m\u001b[33;43m_request_timeout\u001b[39;49m\u001b[33;43m'\u001b[39;49m\u001b[43m]\u001b[49m\u001b[43m,\u001b[49m\n\u001b[32m   1087\u001b[39m \u001b[43m    \u001b[49m\u001b[43m_host\u001b[49m\u001b[43m=\u001b[49m\u001b[43m_host\u001b[49m\u001b[43m,\u001b[49m\n\u001b[32m   1088\u001b[39m \u001b[43m    \u001b[49m\u001b[43m_request_auths\u001b[49m\u001b[43m=\u001b[49m\u001b[43mkwargs\u001b[49m\u001b[43m[\u001b[49m\u001b[33;43m'\u001b[39;49m\u001b[33;43m_request_auths\u001b[39;49m\u001b[33;43m'\u001b[39;49m\u001b[43m]\u001b[49m\u001b[43m,\u001b[49m\n\u001b[32m   1089\u001b[39m \u001b[43m    \u001b[49m\u001b[43mcollection_formats\u001b[49m\u001b[43m=\u001b[49m\u001b[43mparams\u001b[49m\u001b[43m[\u001b[49m\u001b[33;43m'\u001b[39;49m\u001b[33;43mcollection_format\u001b[39;49m\u001b[33;43m'\u001b[39;49m\u001b[43m]\u001b[49m\u001b[43m)\u001b[49m\n",
      "\u001b[36mFile \u001b[39m\u001b[32me:\\Documentos\\Git Repositories\\uba-ceia-proy-final\\.venv\\Lib\\site-packages\\cvat_sdk\\api_client\\api_client.py:502\u001b[39m, in \u001b[36mApiClient.call_api\u001b[39m\u001b[34m(self, resource_path, method, path_params, query_params, header_params, body, post_params, files, response_schema, auth_settings, collection_formats, _async_call, _parse_response, _request_timeout, _host, _check_type, _request_auths, _check_status)\u001b[39m\n\u001b[32m    481\u001b[39m params = {\n\u001b[32m    482\u001b[39m     \u001b[33m\"\u001b[39m\u001b[33mresource_path\u001b[39m\u001b[33m\"\u001b[39m: resource_path,\n\u001b[32m    483\u001b[39m     \u001b[33m\"\u001b[39m\u001b[33mmethod\u001b[39m\u001b[33m\"\u001b[39m: method,\n\u001b[32m   (...)\u001b[39m\u001b[32m    498\u001b[39m     \u001b[33m\"\u001b[39m\u001b[33m_check_status\u001b[39m\u001b[33m\"\u001b[39m: _check_status,\n\u001b[32m    499\u001b[39m }\n\u001b[32m    501\u001b[39m \u001b[38;5;28;01mif\u001b[39;00m \u001b[38;5;129;01mnot\u001b[39;00m _async_call:\n\u001b[32m--> \u001b[39m\u001b[32m502\u001b[39m     \u001b[38;5;28;01mreturn\u001b[39;00m \u001b[38;5;28;43mself\u001b[39;49m\u001b[43m.\u001b[49m\u001b[43m__call_api\u001b[49m\u001b[43m(\u001b[49m\u001b[43m*\u001b[49m\u001b[43m*\u001b[49m\u001b[43mparams\u001b[49m\u001b[43m)\u001b[49m\n\u001b[32m    504\u001b[39m \u001b[38;5;28;01mreturn\u001b[39;00m \u001b[38;5;28mself\u001b[39m.pool.apply_async(\u001b[38;5;28mself\u001b[39m.__call_api, (), kwds=params)\n",
      "\u001b[36mFile \u001b[39m\u001b[32me:\\Documentos\\Git Repositories\\uba-ceia-proy-final\\.venv\\Lib\\site-packages\\cvat_sdk\\api_client\\api_client.py:287\u001b[39m, in \u001b[36mApiClient.__call_api\u001b[39m\u001b[34m(self, resource_path, method, path_params, query_params, header_params, body, post_params, files, response_schema, auth_settings, collection_formats, _parse_response, _request_timeout, _host, _check_type, _check_status, _request_auths)\u001b[39m\n\u001b[32m    284\u001b[39m     \u001b[38;5;28mself\u001b[39m._update_cookies_from_response(response)\n\u001b[32m    286\u001b[39m     \u001b[38;5;28;01mif\u001b[39;00m response_schema:\n\u001b[32m--> \u001b[39m\u001b[32m287\u001b[39m         return_data = \u001b[38;5;28;43mself\u001b[39;49m\u001b[43m.\u001b[49m\u001b[43mdeserialize\u001b[49m\u001b[43m(\u001b[49m\n\u001b[32m    288\u001b[39m \u001b[43m            \u001b[49m\u001b[43mresponse\u001b[49m\u001b[43m,\u001b[49m\n\u001b[32m    289\u001b[39m \u001b[43m            \u001b[49m\u001b[43mresponse_schema\u001b[49m\u001b[43m,\u001b[49m\n\u001b[32m    290\u001b[39m \u001b[43m            \u001b[49m\u001b[43m_check_type\u001b[49m\u001b[43m=\u001b[49m\u001b[43m_check_type\u001b[49m\n\u001b[32m    291\u001b[39m \u001b[43m        \u001b[49m\u001b[43m)\u001b[49m\n\u001b[32m    293\u001b[39m \u001b[38;5;28;01mreturn\u001b[39;00m (return_data, response)\n",
      "\u001b[36mFile \u001b[39m\u001b[32me:\\Documentos\\Git Repositories\\uba-ceia-proy-final\\.venv\\Lib\\site-packages\\cvat_sdk\\api_client\\api_client.py:394\u001b[39m, in \u001b[36mApiClient.deserialize\u001b[39m\u001b[34m(self, response, response_schema, _check_type)\u001b[39m\n\u001b[32m    390\u001b[39m     received_data = response_data\n\u001b[32m    392\u001b[39m \u001b[38;5;66;03m# store our data under the key of 'received_data' so users have some\u001b[39;00m\n\u001b[32m    393\u001b[39m \u001b[38;5;66;03m# context if they are deserializing a string and the data type is wrong\u001b[39;00m\n\u001b[32m--> \u001b[39m\u001b[32m394\u001b[39m deserialized_data = \u001b[43mvalidate_and_convert_types\u001b[49m\u001b[43m(\u001b[49m\n\u001b[32m    395\u001b[39m \u001b[43m    \u001b[49m\u001b[43mreceived_data\u001b[49m\u001b[43m,\u001b[49m\n\u001b[32m    396\u001b[39m \u001b[43m    \u001b[49m\u001b[43mresponse_schema\u001b[49m\u001b[43m,\u001b[49m\n\u001b[32m    397\u001b[39m \u001b[43m    \u001b[49m\u001b[43m[\u001b[49m\u001b[33;43m'\u001b[39;49m\u001b[33;43mreceived_data\u001b[39;49m\u001b[33;43m'\u001b[39;49m\u001b[43m]\u001b[49m\u001b[43m,\u001b[49m\n\u001b[32m    398\u001b[39m \u001b[43m    \u001b[49m\u001b[38;5;28;43;01mTrue\u001b[39;49;00m\u001b[43m,\u001b[49m\n\u001b[32m    399\u001b[39m \u001b[43m    \u001b[49m\u001b[43m_check_type\u001b[49m\u001b[43m,\u001b[49m\n\u001b[32m    400\u001b[39m \u001b[43m    \u001b[49m\u001b[43mconfiguration\u001b[49m\u001b[43m=\u001b[49m\u001b[38;5;28;43mself\u001b[39;49m\u001b[43m.\u001b[49m\u001b[43mconfiguration\u001b[49m\n\u001b[32m    401\u001b[39m \u001b[43m\u001b[49m\u001b[43m)\u001b[49m\n\u001b[32m    402\u001b[39m \u001b[38;5;28;01mreturn\u001b[39;00m deserialized_data\n",
      "\u001b[36mFile \u001b[39m\u001b[32me:\\Documentos\\Git Repositories\\uba-ceia-proy-final\\.venv\\Lib\\site-packages\\cvat_sdk\\api_client\\model_utils.py:1594\u001b[39m, in \u001b[36mvalidate_and_convert_types\u001b[39m\u001b[34m(input_value, required_types_mixed, path_to_item, spec_property_naming, _check_type, configuration)\u001b[39m\n\u001b[32m   1591\u001b[39m valid_type = is_valid_type(input_class_simple, valid_classes)\n\u001b[32m   1592\u001b[39m \u001b[38;5;28;01mif\u001b[39;00m \u001b[38;5;129;01mnot\u001b[39;00m valid_type:\n\u001b[32m   1593\u001b[39m     \u001b[38;5;66;03m# if input_value is not valid_type try to convert it\u001b[39;00m\n\u001b[32m-> \u001b[39m\u001b[32m1594\u001b[39m     converted_instance = \u001b[43mattempt_convert_item\u001b[49m\u001b[43m(\u001b[49m\n\u001b[32m   1595\u001b[39m \u001b[43m        \u001b[49m\u001b[43minput_value\u001b[49m\u001b[43m,\u001b[49m\n\u001b[32m   1596\u001b[39m \u001b[43m        \u001b[49m\u001b[43mvalid_classes\u001b[49m\u001b[43m,\u001b[49m\n\u001b[32m   1597\u001b[39m \u001b[43m        \u001b[49m\u001b[43mpath_to_item\u001b[49m\u001b[43m,\u001b[49m\n\u001b[32m   1598\u001b[39m \u001b[43m        \u001b[49m\u001b[43mconfiguration\u001b[49m\u001b[43m,\u001b[49m\n\u001b[32m   1599\u001b[39m \u001b[43m        \u001b[49m\u001b[43mspec_property_naming\u001b[49m\u001b[43m,\u001b[49m\n\u001b[32m   1600\u001b[39m \u001b[43m        \u001b[49m\u001b[43mkey_type\u001b[49m\u001b[43m=\u001b[49m\u001b[38;5;28;43;01mFalse\u001b[39;49;00m\u001b[43m,\u001b[49m\n\u001b[32m   1601\u001b[39m \u001b[43m        \u001b[49m\u001b[43mmust_convert\u001b[49m\u001b[43m=\u001b[49m\u001b[38;5;28;43;01mTrue\u001b[39;49;00m\u001b[43m,\u001b[49m\n\u001b[32m   1602\u001b[39m \u001b[43m        \u001b[49m\u001b[43mcheck_type\u001b[49m\u001b[43m=\u001b[49m\u001b[43m_check_type\u001b[49m\n\u001b[32m   1603\u001b[39m \u001b[43m    \u001b[49m\u001b[43m)\u001b[49m\n\u001b[32m   1604\u001b[39m     \u001b[38;5;28;01mreturn\u001b[39;00m converted_instance\n\u001b[32m   1606\u001b[39m \u001b[38;5;66;03m# input_value's type is in valid_classes\u001b[39;00m\n",
      "\u001b[36mFile \u001b[39m\u001b[32me:\\Documentos\\Git Repositories\\uba-ceia-proy-final\\.venv\\Lib\\site-packages\\cvat_sdk\\api_client\\model_utils.py:1477\u001b[39m, in \u001b[36mattempt_convert_item\u001b[39m\u001b[34m(input_value, valid_classes, path_to_item, configuration, spec_property_naming, key_type, must_convert, check_type)\u001b[39m\n\u001b[32m   1475\u001b[39m \u001b[38;5;28;01mtry\u001b[39;00m:\n\u001b[32m   1476\u001b[39m     \u001b[38;5;28;01mif\u001b[39;00m \u001b[38;5;28missubclass\u001b[39m(valid_class, OpenApiModel):\n\u001b[32m-> \u001b[39m\u001b[32m1477\u001b[39m         \u001b[38;5;28;01mreturn\u001b[39;00m \u001b[43mdeserialize_model\u001b[49m\u001b[43m(\u001b[49m\u001b[43minput_value\u001b[49m\u001b[43m,\u001b[49m\u001b[43m \u001b[49m\u001b[43mvalid_class\u001b[49m\u001b[43m,\u001b[49m\n\u001b[32m   1478\u001b[39m \u001b[43m                                 \u001b[49m\u001b[43mpath_to_item\u001b[49m\u001b[43m,\u001b[49m\u001b[43m \u001b[49m\u001b[43mcheck_type\u001b[49m\u001b[43m,\u001b[49m\n\u001b[32m   1479\u001b[39m \u001b[43m                                 \u001b[49m\u001b[43mconfiguration\u001b[49m\u001b[43m,\u001b[49m\u001b[43m \u001b[49m\u001b[43mspec_property_naming\u001b[49m\u001b[43m)\u001b[49m\n\u001b[32m   1480\u001b[39m     \u001b[38;5;28;01melif\u001b[39;00m valid_class == file_type:\n\u001b[32m   1481\u001b[39m         \u001b[38;5;28;01mreturn\u001b[39;00m deserialize_file(input_value, configuration)\n",
      "\u001b[36mFile \u001b[39m\u001b[32me:\\Documentos\\Git Repositories\\uba-ceia-proy-final\\.venv\\Lib\\site-packages\\cvat_sdk\\api_client\\model_utils.py:1391\u001b[39m, in \u001b[36mdeserialize_model\u001b[39m\u001b[34m(model_data, model_class, path_to_item, check_type, configuration, spec_property_naming)\u001b[39m\n\u001b[32m   1389\u001b[39m \u001b[38;5;28;01mif\u001b[39;00m \u001b[38;5;28misinstance\u001b[39m(model_data, \u001b[38;5;28mdict\u001b[39m):\n\u001b[32m   1390\u001b[39m     kw_args.update(model_data)\n\u001b[32m-> \u001b[39m\u001b[32m1391\u001b[39m     \u001b[38;5;28;01mreturn\u001b[39;00m \u001b[43mmodel_class\u001b[49m\u001b[43m.\u001b[49m\u001b[43m_new_from_openapi_data\u001b[49m\u001b[43m(\u001b[49m\u001b[43m*\u001b[49m\u001b[43m*\u001b[49m\u001b[43mkw_args\u001b[49m\u001b[43m)\u001b[49m\n\u001b[32m   1392\u001b[39m \u001b[38;5;28;01melif\u001b[39;00m \u001b[38;5;28misinstance\u001b[39m(model_data, PRIMITIVE_TYPES):\n\u001b[32m   1393\u001b[39m     \u001b[38;5;28;01mreturn\u001b[39;00m model_class._new_from_openapi_data(model_data, **kw_args)\n",
      "\u001b[36mFile \u001b[39m\u001b[32me:\\Documentos\\Git Repositories\\uba-ceia-proy-final\\.venv\\Lib\\site-packages\\cvat_sdk\\api_client\\model_utils.py:51\u001b[39m, in \u001b[36mconvert_js_args_to_python_args.<locals>.wrapped_init\u001b[39m\u001b[34m(_self, *args, **kwargs)\u001b[39m\n\u001b[32m     47\u001b[39m \u001b[38;5;28;01mif\u001b[39;00m spec_property_naming:\n\u001b[32m     48\u001b[39m     kwargs = change_keys_js_to_python(\n\u001b[32m     49\u001b[39m         kwargs, _self \u001b[38;5;28;01mif\u001b[39;00m \u001b[38;5;28misinstance\u001b[39m(\n\u001b[32m     50\u001b[39m             _self, \u001b[38;5;28mtype\u001b[39m) \u001b[38;5;28;01melse\u001b[39;00m _self.\u001b[34m__class__\u001b[39m)\n\u001b[32m---> \u001b[39m\u001b[32m51\u001b[39m \u001b[38;5;28;01mreturn\u001b[39;00m \u001b[43mfn\u001b[49m\u001b[43m(\u001b[49m\u001b[43m_self\u001b[49m\u001b[43m,\u001b[49m\u001b[43m \u001b[49m\u001b[43m*\u001b[49m\u001b[43margs\u001b[49m\u001b[43m,\u001b[49m\u001b[43m \u001b[49m\u001b[43m*\u001b[49m\u001b[43m*\u001b[49m\u001b[43mkwargs\u001b[49m\u001b[43m)\u001b[49m\n",
      "\u001b[36mFile \u001b[39m\u001b[32me:\\Documentos\\Git Repositories\\uba-ceia-proy-final\\.venv\\Lib\\site-packages\\cvat_sdk\\api_client\\model_utils.py:379\u001b[39m, in \u001b[36mOpenApiModel._new_from_openapi_data\u001b[39m\u001b[34m(cls, *args, **kwargs)\u001b[39m\n\u001b[32m    358\u001b[39m visited_composed_classes = kwargs.get(\u001b[33m'\u001b[39m\u001b[33m_visited_composed_classes\u001b[39m\u001b[33m'\u001b[39m, ())\n\u001b[32m    359\u001b[39m \u001b[38;5;28;01mif\u001b[39;00m (\n\u001b[32m    360\u001b[39m     \u001b[38;5;28mcls\u001b[39m.discriminator \u001b[38;5;129;01mis\u001b[39;00m \u001b[38;5;28;01mNone\u001b[39;00m \u001b[38;5;129;01mor\u001b[39;00m\n\u001b[32m    361\u001b[39m     \u001b[38;5;28mcls\u001b[39m \u001b[38;5;129;01min\u001b[39;00m visited_composed_classes\n\u001b[32m   (...)\u001b[39m\u001b[32m    376\u001b[39m     \u001b[38;5;66;03m# through Animal's discriminator because we passed in\u001b[39;00m\n\u001b[32m    377\u001b[39m     \u001b[38;5;66;03m# _visited_composed_classes = (Animal,)\u001b[39;00m\n\u001b[32m--> \u001b[39m\u001b[32m379\u001b[39m     \u001b[38;5;28;01mreturn\u001b[39;00m \u001b[38;5;28;43mcls\u001b[39;49m\u001b[43m.\u001b[49m\u001b[43m_from_openapi_data\u001b[49m\u001b[43m(\u001b[49m\u001b[43m*\u001b[49m\u001b[43margs\u001b[49m\u001b[43m,\u001b[49m\u001b[43m \u001b[49m\u001b[43m*\u001b[49m\u001b[43m*\u001b[49m\u001b[43mkwargs\u001b[49m\u001b[43m)\u001b[49m\n\u001b[32m    381\u001b[39m \u001b[38;5;66;03m# Get the name and value of the discriminator property.\u001b[39;00m\n\u001b[32m    382\u001b[39m \u001b[38;5;66;03m# The discriminator name is obtained from the discriminator meta-data\u001b[39;00m\n\u001b[32m    383\u001b[39m \u001b[38;5;66;03m# and the discriminator value is obtained from the input data.\u001b[39;00m\n\u001b[32m    384\u001b[39m discr_propertyname_py = \u001b[38;5;28mlist\u001b[39m(\u001b[38;5;28mcls\u001b[39m.discriminator.keys())[\u001b[32m0\u001b[39m]\n",
      "\u001b[36mFile \u001b[39m\u001b[32me:\\Documentos\\Git Repositories\\uba-ceia-proy-final\\.venv\\Lib\\site-packages\\cvat_sdk\\api_client\\model_utils.py:51\u001b[39m, in \u001b[36mconvert_js_args_to_python_args.<locals>.wrapped_init\u001b[39m\u001b[34m(_self, *args, **kwargs)\u001b[39m\n\u001b[32m     47\u001b[39m \u001b[38;5;28;01mif\u001b[39;00m spec_property_naming:\n\u001b[32m     48\u001b[39m     kwargs = change_keys_js_to_python(\n\u001b[32m     49\u001b[39m         kwargs, _self \u001b[38;5;28;01mif\u001b[39;00m \u001b[38;5;28misinstance\u001b[39m(\n\u001b[32m     50\u001b[39m             _self, \u001b[38;5;28mtype\u001b[39m) \u001b[38;5;28;01melse\u001b[39;00m _self.\u001b[34m__class__\u001b[39m)\n\u001b[32m---> \u001b[39m\u001b[32m51\u001b[39m \u001b[38;5;28;01mreturn\u001b[39;00m \u001b[43mfn\u001b[49m\u001b[43m(\u001b[49m\u001b[43m_self\u001b[49m\u001b[43m,\u001b[49m\u001b[43m \u001b[49m\u001b[43m*\u001b[49m\u001b[43margs\u001b[49m\u001b[43m,\u001b[49m\u001b[43m \u001b[49m\u001b[43m*\u001b[49m\u001b[43m*\u001b[49m\u001b[43mkwargs\u001b[49m\u001b[43m)\u001b[49m\n",
      "\u001b[31mTypeError\u001b[39m: About._from_openapi_data() missing 2 required positional arguments: 'logo_url' and 'subtitle'"
     ]
    }
   ],
   "source": [
    "client = cvat_sdk.make_client()"
   ]
  },
  {
   "cell_type": "code",
   "execution_count": null,
   "metadata": {},
   "outputs": [],
   "source": [
    "def download_annotations_cvat(id: str, project_id: str, task_id: str, filename: str) -> None:\n",
    "    \"\"\"Descarga las anotaciones de una tarea específica en CVAT.\n",
    "\n",
    "    Args:\n",
    "        id (str): ID único de la anotación.\n",
    "        project_id (str): ID del proyecto en CVAT.\n",
    "        task_id (str): ID de la tarea en CVAT.\n",
    "        filename (str): Nombre del archivo donde se guardarán las anotaciones.\n",
    "    \"\"\"\n",
    "    # Aquí iría la lógica para descargar las anotaciones de CVAT\n",
    "    # Por ejemplo, podrías usar requests para hacer una solicitud a la API de CVAT\n",
    "    pass"
   ]
  },
  {
   "cell_type": "code",
   "execution_count": null,
   "metadata": {},
   "outputs": [],
   "source": [
    "def download_annotations_cvat(id: str, project_id: str, job_id: str) -> None:\n",
    "    \"\"\"\n",
    "    Descarga las anotaciones de un proyecto y tarea específicos desde CVAT.\n",
    "    \"\"\"\n",
    "    # Aquí iría la lógica para descargar las anotaciones de CVAT\n",
    "    # Por ejemplo, podrías usar requests para hacer una solicitud a la API de CVAT\n",
    "    pass"
   ]
  },
  {
   "cell_type": "code",
   "execution_count": null,
   "metadata": {},
   "outputs": [],
   "source": [
    "def download_annotations_google(url: str, filename: str) -> None:\n",
    "    \"\"\"Descarga las anotaciones de Google Maps.\n",
    "\n",
    "    Args:\n",
    "        url (str): URL del archivo en Google Maps.\n",
    "        filename (str): Nombre del archivo donde se guardarán las anotaciones.\n",
    "    \"\"\"\n",
    "    # Aquí iría la lógica para descargar las anotaciones de Google Drive\n",
    "    # Por ejemplo, podrías usar requests para hacer una solicitud a la API de Google Drive\n",
    "    pass"
   ]
  },
  {
   "cell_type": "markdown",
   "metadata": {},
   "source": [
    "#### Cargar anotaciones"
   ]
  },
  {
   "cell_type": "code",
   "execution_count": null,
   "metadata": {},
   "outputs": [],
   "source": [
    "def load_annotations_from_file(file_path: str) -> dict[str, any]:\n",
    "    \"\"\"Carga anotaciones en formato COCO desde un archivo JSON.\n",
    "\n",
    "    Args:\n",
    "        file_path (str): Ruta al archivo JSON\n",
    "\n",
    "    Returns:\n",
    "        Dict[str, Any]: Anotaciones en formato COCO\n",
    "    \"\"\"\n",
    "    with open(file_path, \"r\") as f:\n",
    "        annotations = json.load(f)\n",
    "    return annotations"
   ]
  },
  {
   "cell_type": "code",
   "execution_count": null,
   "metadata": {},
   "outputs": [],
   "source": [
    "def load_annotations_from_cvat(cvat_id: str) -> dict[str, any]:\n",
    "    \"\"\"Carga anotaciones en formato COCO desde CVAT.\n",
    "\n",
    "    Args:\n",
    "        cvat_id (str): ID de la tarea en CVAT\n",
    "\n",
    "    Returns:\n",
    "        Dict[str, Any]: Anotaciones en formato COCO\n",
    "    \"\"\"\n",
    "    # Aquí deberías implementar la lógica para cargar las anotaciones desde CVAT\n",
    "    # Por ahora, solo se devuelve un diccionario vacío\n",
    "    pass"
   ]
  },
  {
   "cell_type": "markdown",
   "metadata": {},
   "source": [
    "#### Guardar anotaciones"
   ]
  },
  {
   "cell_type": "code",
   "execution_count": null,
   "metadata": {},
   "outputs": [],
   "source": [
    "def save_annotations(image_id: str, annotations: dict[str, any], field: str) -> bool:\n",
    "    \"\"\"Guarda las anotaciones en la base de datos MongoDB.\n",
    "    Los guarda en la colección \"imagenes\" en el campo especificado.\n",
    "    Si el campo no existe, lo crea. Si ya existe, lo actualiza.\n",
    "\n",
    "\n",
    "    Args:\n",
    "        image_id (str): id de la imagen\n",
    "        annotations (dict[str, any]): anotaciones en formato COCO\n",
    "        field (str): campo donde se guardan las anotaciones\n",
    "\n",
    "    Returns:\n",
    "        bool: True si se guardó correctamente, False si hubo un error\n",
    "    \"\"\"\n",
    "    pass"
   ]
  },
  {
   "cell_type": "markdown",
   "metadata": {},
   "source": [
    "#### Obtener anotaciones"
   ]
  },
  {
   "cell_type": "code",
   "execution_count": null,
   "metadata": {},
   "outputs": [],
   "source": [
    "def get_annotations(image_id: str, field: str) -> dict[str, any]:\n",
    "    \"\"\"Obtiene las anotaciones de la base de datos MongoDB.\n",
    "\n",
    "    Args:\n",
    "        image_id (str): id de la imagen\n",
    "        field (str): campo donde se guardan las anotaciones\n",
    "\n",
    "    Returns:\n",
    "        Dict[str, Any]: Anotaciones en formato COCO\n",
    "    \"\"\"\n",
    "    pass"
   ]
  },
  {
   "cell_type": "code",
   "execution_count": null,
   "metadata": {},
   "outputs": [],
   "source": [
    "def get_patch_annotations(image_id: str, patch_id: int, field: str) -> dict[str, any]:\n",
    "    \"\"\"Obtiene las anotaciones de un parche específico de la base de datos MongoDB.\n",
    "\n",
    "    Args:\n",
    "        image_id (str): id de la imagen\n",
    "        patch_id (int): id del parche\n",
    "        field (str): campo donde se guardan las anotaciones\n",
    "\n",
    "    Returns:\n",
    "        Dict[str, Any]: Anotaciones en formato COCO\n",
    "    \"\"\"\n",
    "    pass"
   ]
  },
  {
   "cell_type": "markdown",
   "metadata": {},
   "source": [
    "#### Obtener imágenes del repositorio"
   ]
  },
  {
   "cell_type": "code",
   "execution_count": null,
   "metadata": {},
   "outputs": [],
   "source": [
    "def download_image_from_minio(image_id: str) -> None:\n",
    "    \"\"\"Descarga la imagen desde MinIO.\n",
    "\n",
    "    Args:\n",
    "        image_id (str): id de la imagen\n",
    "    \"\"\"\n",
    "    pass"
   ]
  },
  {
   "cell_type": "markdown",
   "metadata": {},
   "source": [
    "#### Mostrar anotaciones"
   ]
  },
  {
   "cell_type": "code",
   "execution_count": null,
   "metadata": {},
   "outputs": [],
   "source": [
    "def show_anotated_image(image_path: str, annotations: dict[str, any]) -> None:\n",
    "    \"\"\"Muestra la imagen con las anotaciones.\n",
    "\n",
    "    Args:\n",
    "        image_path (str): Ruta a la imagen\n",
    "        annotations (dict[str, any]): Anotaciones en formato COCO\n",
    "    \"\"\"\n",
    "    pass"
   ]
  },
  {
   "cell_type": "code",
   "execution_count": null,
   "metadata": {},
   "outputs": [],
   "source": [
    "def show_image(image_path: str) -> None:\n",
    "    \"\"\"Muestra la imagen.\n",
    "\n",
    "    Args:\n",
    "        image_path (str): Ruta a la imagen\n",
    "    \"\"\"\n",
    "    pass"
   ]
  },
  {
   "cell_type": "markdown",
   "metadata": {},
   "source": [
    "#### Recortes"
   ]
  },
  {
   "cell_type": "code",
   "execution_count": null,
   "metadata": {},
   "outputs": [],
   "source": [
    "def cut_palms_from_image(image_path: str, annotations: dict[str, any]) -> None:\n",
    "    \"\"\"Corta las palmas de la imagen según las anotaciones.\n",
    "    Args:\n",
    "        image_path (str): Ruta a la imagen\n",
    "        annotations (dict[str, any]): Anotaciones en formato COCO\n",
    "    \"\"\"\n",
    "    pass"
   ]
  },
  {
   "cell_type": "code",
   "execution_count": null,
   "metadata": {},
   "outputs": [],
   "source": [
    "def upload_palms_to_minio(image_id: str, palms: list[str]) -> None:\n",
    "    \"\"\"Sube las palmas a MinIO.\n",
    "    Args:\n",
    "        image_id (str): id de la imagen\n",
    "        palms (list[str]): lista de rutas a las palmas\n",
    "    \"\"\"\n",
    "    pass"
   ]
  },
  {
   "cell_type": "markdown",
   "metadata": {},
   "source": [
    "### Test"
   ]
  },
  {
   "cell_type": "code",
   "execution_count": null,
   "metadata": {},
   "outputs": [],
   "source": []
  }
 ],
 "metadata": {
  "kernelspec": {
   "display_name": ".venv",
   "language": "python",
   "name": "python3"
  },
  "language_info": {
   "codemirror_mode": {
    "name": "ipython",
    "version": 3
   },
   "file_extension": ".py",
   "mimetype": "text/x-python",
   "name": "python",
   "nbconvert_exporter": "python",
   "pygments_lexer": "ipython3",
   "version": "3.13.0"
  }
 },
 "nbformat": 4,
 "nbformat_minor": 2
}
