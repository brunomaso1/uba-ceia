{
 "cells": [
  {
   "cell_type": "markdown",
   "id": "c1ba0104",
   "metadata": {},
   "source": [
    "# <div align=\"center\"><b>DETECCIONES ACTUALES RECORTES - PROYECTO FINAL</b></div>"
   ]
  },
  {
   "cell_type": "markdown",
   "id": "2dca281f",
   "metadata": {},
   "source": [
    "<div align=\"right\">📝 <em><small><font color='Gray'>Nota:</font></small></em></div>\n",
    "\n",
    "<div align=\"right\"> <em><small><font color='Gray'> La funcionalidad de visualización de jupyter notebooks en <a href=\"https://github.com/\" target=\"_blank\">github</a> es solamente un preview.</font></small></em> </div>\n",
    "\n",
    "<div align=\"right\"> <em><small><font color='Gray'> Para mejor visualización se sugiere utilizar el visualizador recomendado por la comunidad: <a href=\"https://nbviewer.org/\" target=\"_blank\">nbviewer</a></font></small></em> </div>\n",
    "\n",
    "<div align=\"right\"> <em><small><font color='Gray'> Puedes a acceder al siguiente enlace para ver este notebook en dicha página: <a href=\"https://nbviewer.org/ruta/de/archivo.ipynb\">Ruta archivo</a></font></small></em> </div>"
   ]
  },
  {
   "cell_type": "markdown",
   "id": "e6e6b71e",
   "metadata": {},
   "source": [
    "* * *"
   ]
  },
  {
   "cell_type": "markdown",
   "id": "51341448",
   "metadata": {},
   "source": [
    "<style>\n",
    "/* Limitar la altura de las celdas de salida en html */\n",
    ".jp-OutputArea.jp-Cell-outputArea {\n",
    "    max-height: 500px;\n",
    "}\n",
    "</style>"
   ]
  },
  {
   "cell_type": "markdown",
   "id": "46399adb",
   "metadata": {},
   "source": [
    "🛻 <em><font color='MediumSeaGreen'>  Instalaciones: </font></em> 🛻\n",
    "\n",
    "Este notebook utiliza [Poetry](https://python-poetry.org/) para la gestión de dependencias.\n",
    "Primero instala Poetry siguiendo las instrucciones de su [documentación oficial](https://python-poetry.org/docs/#installation).\n",
    "Luego ejecuta el siguiente comando para instalar las dependencias necesarias y activar el entorno virtual:\n",
    "\n",
    "- Bash:\n",
    "```bash\n",
    "poetry install\n",
    "eval $(poetry env activate)\n",
    "```\n",
    "\n",
    "- PowerShell:\n",
    "```powershell\n",
    "poetry install\n",
    "Invoke-Expression (poetry env activate)\n",
    "```"
   ]
  },
  {
   "cell_type": "markdown",
   "id": "936db22c",
   "metadata": {},
   "source": [
    "<!-- Descargar archivos adicionales:\n",
    "!gdown https://drive.google.com/drive/folders/1UBZ8PEbtmiWMGkULu7GAt3VhUpeTy9l7?usp=sharing --folder -->"
   ]
  },
  {
   "cell_type": "markdown",
   "id": "f759a679",
   "metadata": {},
   "source": [
    "✋ <em><font color='DodgerBlue'>Importaciones:</font></em> ✋"
   ]
  },
  {
   "cell_type": "code",
   "execution_count": null,
   "id": "8a92d077",
   "metadata": {},
   "outputs": [],
   "source": [
    "#TODO: Arreglar esto.\n",
    "import os, sys\n",
    "import fiftyone as fo\n",
    "from pathlib import Path\n",
    "\n",
    "from dotenv import load_dotenv\n",
    "\n",
    "load_dotenv(\"../.env.dev\")\n",
    "\n",
    "sys.path.append(os.path.abspath(\"../../modulo-IA/\"))  # Se agrega utilidades generales del modulo IA\n",
    "sys.path.append(os.path.abspath(\"../../modulo-apps\"))  # Se agrega modulo-mini-apps\n",
    "\n",
    "from apps_utils.logging import Logging\n",
    "from apps_config.settings import Config\n",
    "from apps_com_db.mongodb_client import MongoDB\n",
    "\n",
    "import ia_utils.dataset_utils as DatasetUtils\n",
    "\n",
    "from apps_com_s3.procesador_s3 import ProcesadorS3\n",
    "import apps_etiquetado.procesador_anotaciones_mongodb as ProcesadorCocoDataset\n",
    "import apps_etiquetado.procesador_anotaciones_coco_dataset as UtilsCocoDataset"
   ]
  },
  {
   "cell_type": "markdown",
   "id": "9b806828",
   "metadata": {},
   "source": [
    "🔧 <em><font color='tomato'>Configuraciones:</font></em> 🔧\n"
   ]
  },
  {
   "cell_type": "code",
   "execution_count": 2,
   "id": "d671fae7",
   "metadata": {},
   "outputs": [],
   "source": [
    "CONFIG = Config().config_data\n",
    "LOGGER = Logging().logger\n",
    "DB = MongoDB().db"
   ]
  },
  {
   "cell_type": "markdown",
   "id": "15b078f0",
   "metadata": {},
   "source": [
    "<div align=\"center\">✨Datos del proyecto:✨</div>\n",
    "\n",
    "<p></p>\n",
    "\n",
    "<div align=\"center\">\n",
    "\n",
    "| Subtitulo       | Detecciones recortes actuales - Proyecto final                                                                                                                |\n",
    "| --------------- | -------------------------------------------------------------------------------------------------------------------------------------- |\n",
    "| **Descrpción**  | Notebook que muestra el estado actual de los patches con anotaciones                                                                                                          |\n",
    "| **Integrantes** | Bruno Masoller (brunomaso1@gmail.com)                                                                                                  |\n",
    "\n",
    "</div>"
   ]
  },
  {
   "cell_type": "code",
   "execution_count": 3,
   "id": "af2d2306",
   "metadata": {},
   "outputs": [],
   "source": [
    "recortes_folder_path = Path(\"detecciones_actuales_recortes\")\n",
    "# DatasetUtils.download_cutouts(recortes_folder_path)"
   ]
  },
  {
   "cell_type": "code",
   "execution_count": 4,
   "id": "0eb72975",
   "metadata": {},
   "outputs": [
    {
     "ename": "ValueError",
     "evalue": "Dataset name 'detecciones-actuales-recortes' is not available",
     "output_type": "error",
     "traceback": [
      "\u001b[31m---------------------------------------------------------------------------\u001b[39m",
      "\u001b[31mValueError\u001b[39m                                Traceback (most recent call last)",
      "\u001b[32m~\\AppData\\Local\\Temp\\ipykernel_19480\\3781574316.py\u001b[39m in \u001b[36m?\u001b[39m\u001b[34m()\u001b[39m\n\u001b[32m      1\u001b[39m dataset_name = \u001b[33m\"detecciones-actuales-recortes\"\u001b[39m\n\u001b[32m----> \u001b[39m\u001b[32m2\u001b[39m dataset = fo.Dataset.from_images_dir(\n\u001b[32m      3\u001b[39m     recortes_folder_path,\n\u001b[32m      4\u001b[39m     name=dataset_name,\n\u001b[32m      5\u001b[39m )\n",
      "\u001b[32me:\\Documentos\\Git Repositories\\uba-ceia-proy-final\\.venv\\Lib\\site-packages\\fiftyone\\core\\dataset.py\u001b[39m in \u001b[36m?\u001b[39m\u001b[34m(cls, images_dir, name, persistent, overwrite, tags, recursive, progress)\u001b[39m\n\u001b[32m   7074\u001b[39m \n\u001b[32m   7075\u001b[39m         Returns:\n\u001b[32m   7076\u001b[39m             a :\u001b[38;5;28;01mclass\u001b[39;00m:`Dataset`\n\u001b[32m   7077\u001b[39m         \"\"\"\n\u001b[32m-> \u001b[39m\u001b[32m7078\u001b[39m         dataset = cls(name, persistent=persistent, overwrite=overwrite)\n\u001b[32m   7079\u001b[39m         dataset.add_images_dir(\n\u001b[32m   7080\u001b[39m             images_dir, tags=tags, recursive=recursive, progress=progress\n\u001b[32m   7081\u001b[39m         )\n",
      "\u001b[32me:\\Documentos\\Git Repositories\\uba-ceia-proy-final\\.venv\\Lib\\site-packages\\fiftyone\\core\\singletons.py\u001b[39m in \u001b[36m?\u001b[39m\u001b[34m(cls, name, _create, *args, **kwargs)\u001b[39m\n\u001b[32m     33\u001b[39m             \u001b[38;5;28;01mor\u001b[39;00m instance.deleted\n\u001b[32m     34\u001b[39m             \u001b[38;5;28;01mor\u001b[39;00m instance.name \u001b[38;5;28;01mis\u001b[39;00m \u001b[38;5;28;01mNone\u001b[39;00m\n\u001b[32m     35\u001b[39m         ):\n\u001b[32m     36\u001b[39m             instance = cls.__new__(cls)\n\u001b[32m---> \u001b[39m\u001b[32m37\u001b[39m             instance.__init__(name=name, _create=_create, *args, **kwargs)\n\u001b[32m     38\u001b[39m             name = instance.name  \u001b[38;5;66;03m# `__init__` may have changed `name`\u001b[39;00m\n\u001b[32m     39\u001b[39m         \u001b[38;5;28;01melse\u001b[39;00m:\n\u001b[32m     40\u001b[39m             \u001b[38;5;28;01mtry\u001b[39;00m:\n",
      "\u001b[32me:\\Documentos\\Git Repositories\\uba-ceia-proy-final\\.venv\\Lib\\site-packages\\fiftyone\\core\\dataset.py\u001b[39m in \u001b[36m?\u001b[39m\u001b[34m(self, name, persistent, overwrite, _create, _virtual, **kwargs)\u001b[39m\n\u001b[32m    323\u001b[39m         \u001b[38;5;28;01mif\u001b[39;00m overwrite \u001b[38;5;28;01mand\u001b[39;00m dataset_exists(name):\n\u001b[32m    324\u001b[39m             delete_dataset(name)\n\u001b[32m    325\u001b[39m \n\u001b[32m    326\u001b[39m         \u001b[38;5;28;01mif\u001b[39;00m _create:\n\u001b[32m--> \u001b[39m\u001b[32m327\u001b[39m             doc, sample_doc_cls, frame_doc_cls = _create_dataset(\n\u001b[32m    328\u001b[39m                 self, name, persistent=persistent, **kwargs\n\u001b[32m    329\u001b[39m             )\n\u001b[32m    330\u001b[39m         \u001b[38;5;28;01melse\u001b[39;00m:\n",
      "\u001b[32me:\\Documentos\\Git Repositories\\uba-ceia-proy-final\\.venv\\Lib\\site-packages\\fiftyone\\core\\dataset.py\u001b[39m in \u001b[36m?\u001b[39m\u001b[34m(obj, name, persistent, _patches, _frames, _clips, _src_collection)\u001b[39m\n\u001b[32m   8121\u001b[39m     _frames=\u001b[38;5;28;01mFalse\u001b[39;00m,\n\u001b[32m   8122\u001b[39m     _clips=\u001b[38;5;28;01mFalse\u001b[39;00m,\n\u001b[32m   8123\u001b[39m     _src_collection=\u001b[38;5;28;01mNone\u001b[39;00m,\n\u001b[32m   8124\u001b[39m ):\n\u001b[32m-> \u001b[39m\u001b[32m8125\u001b[39m     slug = _validate_dataset_name(name)\n\u001b[32m   8126\u001b[39m \n\u001b[32m   8127\u001b[39m     _id = ObjectId()\n\u001b[32m   8128\u001b[39m     now = datetime.utcnow()\n",
      "\u001b[32me:\\Documentos\\Git Repositories\\uba-ceia-proy-final\\.venv\\Lib\\site-packages\\fiftyone\\core\\dataset.py\u001b[39m in \u001b[36m?\u001b[39m\u001b[34m(name, skip)\u001b[39m\n\u001b[32m    130\u001b[39m     )\n\u001b[32m    131\u001b[39m     \u001b[38;5;28;01mif\u001b[39;00m clashing_name_doc \u001b[38;5;28;01mis\u001b[39;00m \u001b[38;5;28;01mnot\u001b[39;00m \u001b[38;5;28;01mNone\u001b[39;00m:\n\u001b[32m    132\u001b[39m         clashing_name = clashing_name_doc[\u001b[33m\"name\"\u001b[39m]\n\u001b[32m    133\u001b[39m         \u001b[38;5;28;01mif\u001b[39;00m clashing_name == name:\n\u001b[32m--> \u001b[39m\u001b[32m134\u001b[39m             \u001b[38;5;28;01mraise\u001b[39;00m ValueError(f\"Dataset name '{name}' is not available\")\n\u001b[32m    135\u001b[39m         \u001b[38;5;28;01melse\u001b[39;00m:\n\u001b[32m    136\u001b[39m             raise ValueError(\n\u001b[32m    137\u001b[39m                 f\"Dataset name '{name}' is not available: slug '{slug}' \"\n",
      "\u001b[31mValueError\u001b[39m: Dataset name 'detecciones-actuales-recortes' is not available"
     ]
    }
   ],
   "source": [
    "dataset_name = \"detecciones-actuales-recortes\"\n",
    "dataset = fo.Dataset.from_images_dir(\n",
    "    recortes_folder_path,\n",
    "    name=dataset_name,\n",
    ")"
   ]
  },
  {
   "cell_type": "code",
   "execution_count": null,
   "id": "a47f3236",
   "metadata": {},
   "outputs": [
    {
     "name": "stdout",
     "output_type": "stream",
     "text": [
      "Connected to FiftyOne on port 5151 at localhost.\n",
      "If you are not connecting to a remote session, you may need to start a new session and specify a port\n"
     ]
    },
    {
     "name": "stderr",
     "output_type": "stream",
     "text": [
      "2025-05-19 18:54:59,315 - fiftyone.core.service - INFO - start - Connected to FiftyOne on port 5151 at localhost.\n",
      "If you are not connecting to a remote session, you may need to start a new session and specify a port\n"
     ]
    },
    {
     "name": "stdout",
     "output_type": "stream",
     "text": [
      "Session launched. Run `session.show()` to open the App in a cell output.\n"
     ]
    },
    {
     "name": "stderr",
     "output_type": "stream",
     "text": [
      "2025-05-19 18:54:59,316 - fiftyone.core.session.session - INFO - launch_app - Session launched. Run `session.show()` to open the App in a cell output.\n"
     ]
    }
   ],
   "source": [
    "session = fo.launch_app(dataset, auto=False)"
   ]
  },
  {
   "cell_type": "markdown",
   "id": "b02adc04",
   "metadata": {},
   "source": [
    "Accedemos a la visualización: <a>localhost:5151</a>"
   ]
  }
 ],
 "metadata": {
  "kernelspec": {
   "display_name": ".venv",
   "language": "python",
   "name": "python3"
  },
  "language_info": {
   "codemirror_mode": {
    "name": "ipython",
    "version": 3
   },
   "file_extension": ".py",
   "mimetype": "text/x-python",
   "name": "python",
   "nbconvert_exporter": "python",
   "pygments_lexer": "ipython3",
   "version": "3.13.3"
  }
 },
 "nbformat": 4,
 "nbformat_minor": 5
}
