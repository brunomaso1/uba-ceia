{
 "cells": [
  {
   "cell_type": "markdown",
   "id": "c1ba0104",
   "metadata": {},
   "source": [
    "# <div align=\"center\"><b>DETECCIONES ACTUALES PATCHES - PROYECTO FINAL</b></div>"
   ]
  },
  {
   "cell_type": "markdown",
   "id": "2dca281f",
   "metadata": {},
   "source": [
    "<div align=\"right\">📝 <em><small><font color='Gray'>Nota:</font></small></em></div>\n",
    "\n",
    "<div align=\"right\"> <em><small><font color='Gray'> La funcionalidad de visualización de jupyter notebooks en <a href=\"https://github.com/\" target=\"_blank\">github</a> es solamente un preview.</font></small></em> </div>\n",
    "\n",
    "<div align=\"right\"> <em><small><font color='Gray'> Para mejor visualización se sugiere utilizar el visualizador recomendado por la comunidad: <a href=\"https://nbviewer.org/\" target=\"_blank\">nbviewer</a></font></small></em> </div>\n",
    "\n",
    "<div align=\"right\"> <em><small><font color='Gray'> Puedes a acceder al siguiente enlace para ver este notebook en dicha página: <a href=\"https://nbviewer.org/ruta/de/archivo.ipynb\">Ruta archivo</a></font></small></em> </div>"
   ]
  },
  {
   "cell_type": "markdown",
   "id": "e6e6b71e",
   "metadata": {},
   "source": [
    "* * *"
   ]
  },
  {
   "cell_type": "markdown",
   "id": "51341448",
   "metadata": {},
   "source": [
    "<style>\n",
    "/* Limitar la altura de las celdas de salida en html */\n",
    ".jp-OutputArea.jp-Cell-outputArea {\n",
    "    max-height: 500px;\n",
    "}\n",
    "</style>"
   ]
  },
  {
   "cell_type": "markdown",
   "id": "46399adb",
   "metadata": {},
   "source": [
    "🛻 <em><font color='MediumSeaGreen'>  Instalaciones: </font></em> 🛻\n",
    "\n",
    "Este notebook utiliza [Poetry](https://python-poetry.org/) para la gestión de dependencias.\n",
    "Primero instala Poetry siguiendo las instrucciones de su [documentación oficial](https://python-poetry.org/docs/#installation).\n",
    "Luego ejecuta el siguiente comando para instalar las dependencias necesarias y activar el entorno virtual:\n",
    "\n",
    "- Bash:\n",
    "```bash\n",
    "poetry install\n",
    "eval $(poetry env activate)\n",
    "```\n",
    "\n",
    "- PowerShell:\n",
    "```powershell\n",
    "poetry install\n",
    "Invoke-Expression (poetry env activate)\n",
    "```"
   ]
  },
  {
   "cell_type": "markdown",
   "id": "936db22c",
   "metadata": {},
   "source": [
    "<!-- Descargar archivos adicionales:\n",
    "!gdown https://drive.google.com/drive/folders/1UBZ8PEbtmiWMGkULu7GAt3VhUpeTy9l7?usp=sharing --folder -->"
   ]
  },
  {
   "cell_type": "markdown",
   "id": "f759a679",
   "metadata": {},
   "source": [
    "✋ <em><font color='DodgerBlue'>Importaciones:</font></em> ✋"
   ]
  },
  {
   "cell_type": "code",
   "execution_count": 1,
   "id": "8a92d077",
   "metadata": {},
   "outputs": [],
   "source": [
    "import os, sys\n",
    "import fiftyone as fo\n",
    "from pathlib import Path\n",
    "\n",
    "from dotenv import load_dotenv\n",
    "\n",
    "load_dotenv(\"../.env.dev\")\n",
    "\n",
    "sys.path.append(os.path.abspath(\"../../modulo-IA/\"))  # Se agrega utilidades generales del modulo IA\n",
    "sys.path.append(os.path.abspath(\"../../modulo-apps\"))  # Se agrega modulo-mini-apps\n",
    "\n",
    "from apps_utils.logging import Logging\n",
    "from apps_config.settings import Config\n",
    "from apps_com_db.mongodb_client import MongoDB\n",
    "\n",
    "import ia_utils.dataset_utils as DatasetUtils\n",
    "\n",
    "from apps_com_s3.procesador_s3 import ProcesadorS3\n",
    "import apps_etiquetado.procesador_coco_dataset as ProcesadorCocoDataset\n",
    "import apps_etiquetado.utils_coco_dataset as UtilsCocoDataset"
   ]
  },
  {
   "cell_type": "markdown",
   "id": "9b806828",
   "metadata": {},
   "source": [
    "🔧 <em><font color='tomato'>Configuraciones:</font></em> 🔧\n"
   ]
  },
  {
   "cell_type": "code",
   "execution_count": 2,
   "id": "d671fae7",
   "metadata": {},
   "outputs": [],
   "source": [
    "CONFIG = Config().config_data\n",
    "LOGGER = Logging().logger\n",
    "DB = MongoDB().db"
   ]
  },
  {
   "cell_type": "markdown",
   "id": "15b078f0",
   "metadata": {},
   "source": [
    "<div align=\"center\">✨Datos del proyecto:✨</div>\n",
    "\n",
    "<p></p>\n",
    "\n",
    "<div align=\"center\">\n",
    "\n",
    "| Subtitulo       | Detecciones patches actuales - Proyecto final                                                                                                                |\n",
    "| --------------- | -------------------------------------------------------------------------------------------------------------------------------------- |\n",
    "| **Descrpción**  | Notebook que muestra el estado actual de los patches con anotaciones                                                                                                          |\n",
    "| **Integrantes** | Bruno Masoller (brunomaso1@gmail.com)                                                                                                  |\n",
    "\n",
    "</div>"
   ]
  },
  {
   "cell_type": "code",
   "execution_count": 3,
   "id": "af2d2306",
   "metadata": {},
   "outputs": [],
   "source": [
    "patches_folder_path = Path(\"detecciones_actuales_patches\")\n",
    "# DatasetUtils.download_full_dataset(folder_path=patches_folder_path)"
   ]
  },
  {
   "cell_type": "code",
   "execution_count": 4,
   "id": "0eb72975",
   "metadata": {},
   "outputs": [
    {
     "name": "stdout",
     "output_type": "stream",
     "text": [
      " 100% |███████████████████| 84/84 [528.8ms elapsed, 0s remaining, 159.3 samples/s]     \n"
     ]
    },
    {
     "name": "stderr",
     "output_type": "stream",
     "text": [
      "2025-05-19 19:21:23,716 - eta.core.utils - INFO - _draw -  100% |███████████████████| 84/84 [528.8ms elapsed, 0s remaining, 159.3 samples/s]     \n"
     ]
    }
   ],
   "source": [
    "dataset_name = \"detecciones-actuales-patches\"\n",
    "dataset = fo.Dataset.from_dir(\n",
    "    dataset_type=fo.types.COCODetectionDataset,\n",
    "    dataset_dir=patches_folder_path,\n",
    "    overwrite=True,\n",
    "    name=dataset_name,\n",
    ")"
   ]
  },
  {
   "cell_type": "code",
   "execution_count": 5,
   "id": "a47f3236",
   "metadata": {},
   "outputs": [
    {
     "name": "stdout",
     "output_type": "stream",
     "text": [
      "Session launched. Run `session.show()` to open the App in a cell output.\n"
     ]
    },
    {
     "name": "stderr",
     "output_type": "stream",
     "text": [
      "2025-05-19 19:21:36,111 - fiftyone.core.session.session - INFO - launch_app - Session launched. Run `session.show()` to open the App in a cell output.\n"
     ]
    }
   ],
   "source": [
    "session = fo.launch_app(dataset, auto=False)"
   ]
  },
  {
   "cell_type": "markdown",
   "id": "b02adc04",
   "metadata": {},
   "source": [
    "Accedemos a la visualización: <a>localhost:5151</a>"
   ]
  }
 ],
 "metadata": {
  "kernelspec": {
   "display_name": ".venv",
   "language": "python",
   "name": "python3"
  },
  "language_info": {
   "codemirror_mode": {
    "name": "ipython",
    "version": 3
   },
   "file_extension": ".py",
   "mimetype": "text/x-python",
   "name": "python",
   "nbconvert_exporter": "python",
   "pygments_lexer": "ipython3",
   "version": "3.13.3"
  }
 },
 "nbformat": 4,
 "nbformat_minor": 5
}
