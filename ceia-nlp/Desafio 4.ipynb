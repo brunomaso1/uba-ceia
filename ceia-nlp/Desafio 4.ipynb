{
  "cells": [
    {
      "cell_type": "markdown",
      "metadata": {},
      "source": [
        "# <div align=\"center\"><b> Desafio 4 - Procesamiento del lenguaje Natural - CEIA </b></div>\n"
      ]
    },
    {
      "cell_type": "markdown",
      "metadata": {},
      "source": [
        "<div align=\"right\">📝 <em><small><font color='Gray'>Nota:</font></small></em></div>\n",
        "\n",
        "<div align=\"right\"> <em><small><font color='Gray'> La funcionalidad de visualización de jupyter notebooks en <a href=\"https://github.com/\" target=\"_blank\">github</a> es solamente un preview.</font></small></em> </div>\n",
        "\n",
        "<div align=\"right\"> <em><small><font color='Gray'> Para mejor visualización se sugiere utilizar el visualizador recomndado por la comunidad: <a href=\"https://nbviewer.org/\" target=\"_blank\">nbviewer</a></font></small></em> </div>\n",
        "\n",
        "<div align=\"right\"> <em><small><font color='Gray'> Puedes a acceder al sigiente enlace para ver este notebook en dicha página: <a href=\"https://nbviewer.org/github/brunomaso1/uba-ceia/blob/ceia-nlp/ceia-nlp/Desafio%204.ipynb\">Desafio 4</a></font></small></em> </div>\n"
      ]
    },
    {
      "cell_type": "markdown",
      "metadata": {},
      "source": [
        "---\n"
      ]
    },
    {
      "cell_type": "code",
      "execution_count": 1,
      "metadata": {},
      "outputs": [],
      "source": [
        "# Descargamos la carpeta con archivos auxiliares (Colab)\n",
        "# %pip install gdown\n",
        "# !gdown https://drive.google.com/drive/folders/1hNPqr6g3opu9u-UwnngVcyxUUzfmKZdT?usp=sharing --folder"
      ]
    },
    {
      "cell_type": "markdown",
      "metadata": {},
      "source": [
        "<style>\n",
        "/* Limitar la altura de las celdas de salida en html */\n",
        ".jp-OutputArea.jp-Cell-outputArea {\n",
        "    max-height: 500px;\n",
        "}\n",
        "</style>\n"
      ]
    },
    {
      "cell_type": "markdown",
      "metadata": {},
      "source": [
        "<div align=\"center\"><img src=\"./resources/Desafio_4_portada.jpeg\" width=\"600\" alt=\"Figura 1: A data scientist is sitting in front of a computer screen, which is the focal point of the image. The lighting is dark and moody, with a blue hue. The computer screen displays a visualization of a QA bot. The bot and the scientist are chatting with each other, with the bot's responses appearing on the screen. - Generada con Microsoft Image generator\"></div>\n",
        "\n",
        "<div align=\"center\"><small><em>Figura 1: A data scientist is sitting in front of a computer screen, which is the focal point of the image. The lighting is dark and moody, with a blue hue. The computer screen displays a visualization of a QA bot. The bot and the scientist are chatting with each other, with the bot's responses appearing on the screen. - Generada con Microsoft Image generator</em></small></div>\n"
      ]
    },
    {
      "cell_type": "markdown",
      "metadata": {},
      "source": [
        "<div align=\"center\">✨Datos del proyecto:✨</div>\n",
        "\n",
        "<p></p>\n",
        "\n",
        "<div align=\"center\">\n",
        "\n",
        "| Subtitulo       | Desafío 4 - NLP - FIUBA               |\n",
        "| --------------- | ------------------------------------- |\n",
        "| **Descrpción**  | BOT QA                                |\n",
        "| **Integrantes** | Bruno Masoller (brunomaso1@gmail.com) |\n",
        "\n",
        "</div>\n"
      ]
    },
    {
      "cell_type": "markdown",
      "metadata": {},
      "source": [
        "✋ <em><font color='DodgerBlue'>Importaciones:</font></em> ✋\n"
      ]
    },
    {
      "cell_type": "code",
      "execution_count": 38,
      "metadata": {
        "id": "l7cXR6CI30ry"
      },
      "outputs": [],
      "source": [
        "import os, json, re, random, logging, pickle, requests, zipfile, gzip, shutil\n",
        "import gdown\n",
        "from pathlib import Path\n",
        "import urllib.request\n",
        "from IPython.display import display, HTML\n",
        "import pandas as pd\n",
        "import seaborn as sns\n",
        "from math import sqrt\n",
        "import numpy as np\n",
        "import matplotlib.pyplot as plt\n",
        "from tensorflow.keras.preprocessing.text import Tokenizer\n",
        "from tensorflow.keras.utils import pad_sequences\n",
        "from keras.utils import to_categorical, plot_model\n",
        "from keras.models import Model\n",
        "from keras.layers import Input, LSTM, Dense, Embedding\n",
        "from keras.callbacks import EarlyStopping, ModelCheckpoint"
      ]
    },
    {
      "cell_type": "markdown",
      "metadata": {},
      "source": [
        "🔧 <em><font color='tomato'>Configuraciones:</font></em> 🔧\n"
      ]
    },
    {
      "cell_type": "code",
      "execution_count": 3,
      "metadata": {},
      "outputs": [],
      "source": [
        "RANDOM_SEED = 42\n",
        "DATA_URL = \"http://convai.io/data/data_volunteers.json\"\n",
        "LOCAL_FILENAME = \"./resources/data_volunteers.json\"\n",
        "LABEL_SOS = \"<sos> \"\n",
        "LABEL_EOS = \" <eos>\"\n",
        "# En los filtros no incluimos los simbolos <>, dado que están en nuestros labels especiales.\n",
        "FILTERS = '!\"#$%&()*+,-./:;=¿?@[\\\\]^_`{|}~\\t\\n'\n",
        "\n",
        "# Glove embeddings\n",
        "DRIVE_GLOVE_URL = 'https://drive.google.com/uc?id=1KY6avD5I1eI2dxQzMkR3WExwKwRq2g94&export=download'\n",
        "GLOVE_EMBEDDINGS_PICKLE_PATH = 'resources/gloveembedding.pkl'\n",
        "ORIGINAL_GLOVE_URL = 'https://nlp.stanford.edu/data/glove.6B.zip'\n",
        "GLOVE_EMBEDDINGS_UNZIP_PATH = 'glove.6B.50d.txt'\n",
        "\n",
        "# Fasttext embeddings\n",
        "DRIVE_FASTTEXT_URL = 'https://drive.google.com/u/0/uc?id=1Qi1r-u5lsEsNqRSxLrpNOqQ3B_ufltCa'\n",
        "FASTTEXT_EMBEDDINGS_PICKLE_PATH = 'resources/fasttextembedding.pkl'\n",
        "ORIGINAL_FASTTEXT_URL = 'https://dl.fbaipublicfiles.com/fasttext/vectors-crawl/cc.en.300.vec.gz'\n",
        "FASTTEXT_EMBEDDINGS_UNZIP_PATH = 'cc.en.300.vec'\n",
        "\n",
        "PLOT_MODEL_PATH = 'resources/model_plot.png'\n",
        "PLOT_ENCODER_PATH = 'resources/encoder_plot.png'\n",
        "PLOT_DECODER_PATH = 'resources/decoder_plot.png'\n",
        "\n",
        "PATIENCE = 10\n",
        "MODEL_CHECKPOINT_PATH = 'resources/qa_mode.keras'\n",
        "\n",
        "random.seed(RANDOM_SEED)"
      ]
    },
    {
      "cell_type": "markdown",
      "metadata": {
        "id": "McArD4rSDR2K"
      },
      "source": [
        "## Consigna del desafío\n"
      ]
    },
    {
      "cell_type": "markdown",
      "metadata": {},
      "source": [
        "El objetivo es utilizar datos disponibles del challenge [ConvAI2](http://convai.io/data/) (Conversational Intelligence Challenge 2) de conversaciones en inglés, para convertirlo en un BOT QA para responder preguntas del usuario."
      ]
    },
    {
      "cell_type": "markdown",
      "metadata": {},
      "source": [
        "### Parte 1\n",
        "\n",
        "- Descargar el conjunto y pre-procesarlo."
      ]
    },
    {
      "cell_type": "markdown",
      "metadata": {},
      "source": [
        "### Parte 2 \n",
        "\n",
        "- Realizar el preprocesamiento necesario para obtener:\n",
        "    - `word2idx_inputs`, `max_input_len`\n",
        "    - `word2idx_outputs`, `max_out_len`, `num_words_output`\n",
        "    - `encoder_input_sequences`, `decoder_output_sequences`, `decoder_targets`"
      ]
    },
    {
      "cell_type": "markdown",
      "metadata": {},
      "source": [
        "### Parte 3\n",
        "\n",
        "- Utilizar los embeddings de *Glove* o *FastText* para transformar los tokens de entrada en vectores."
      ]
    },
    {
      "cell_type": "markdown",
      "metadata": {},
      "source": [
        "### Parte 4\n",
        "\n",
        "- Entrenar un modelo basado en el esquema *encoder-decoder* utilizando los datos generados en los puntos anteriores."
      ]
    },
    {
      "cell_type": "markdown",
      "metadata": {},
      "source": [
        "### Parte 5\n",
        "\n",
        "- Experimentar el modelo en inferencia."
      ]
    },
    {
      "cell_type": "markdown",
      "metadata": {},
      "source": [
        "## Resolución\n"
      ]
    },
    {
      "cell_type": "markdown",
      "metadata": {},
      "source": [
        "### Parte 1"
      ]
    },
    {
      "cell_type": "markdown",
      "metadata": {},
      "source": [
        "> - Descargar el conjunto y pre-procesarlo."
      ]
    },
    {
      "cell_type": "markdown",
      "metadata": {},
      "source": [
        "*Cargamos el conjunto:*"
      ]
    },
    {
      "cell_type": "code",
      "execution_count": 4,
      "metadata": {},
      "outputs": [
        {
          "name": "stdout",
          "output_type": "stream",
          "text": [
            "El archivo ya existe localmente.\n",
            "Archivo cargado correctamente.\n"
          ]
        }
      ],
      "source": [
        "try:\n",
        "    # Verificar si el archivo ya está descargado\n",
        "    if not os.path.isfile(LOCAL_FILENAME):\n",
        "        print(f\"Archivo no encontrado localmente. Descargando desde {DATA_URL}...\")\n",
        "        urllib.request.urlretrieve(DATA_URL, LOCAL_FILENAME)\n",
        "        print(\"Descarga completada.\")\n",
        "    else:\n",
        "        print(\"El archivo ya existe localmente.\")\n",
        "\n",
        "    # Cargar el archivo JSON en la variable 'data'\n",
        "    with open(LOCAL_FILENAME, \"r\", encoding=\"utf-8\") as f:\n",
        "        data = json.load(f)\n",
        "    print(\"Archivo cargado correctamente.\")\n",
        "except urllib.error.URLError as e:\n",
        "    print(f\"Error al descargar el archivo: {e}\")\n",
        "except FileNotFoundError as e:\n",
        "    print(f\"Error al abrir el archivo: {e}\")\n",
        "except json.JSONDecodeError as e:\n",
        "    print(f\"Error al decodificar el archivo JSON: {e}\")\n",
        "except Exception as e:\n",
        "    print(f\"Se produjo un error inesperado: {e}\")"
      ]
    },
    {
      "cell_type": "markdown",
      "metadata": {},
      "source": [
        "*Mostramos los datos descargados:*"
      ]
    },
    {
      "cell_type": "markdown",
      "metadata": {},
      "source": [
        "🔮 <em><font color='violet'>Función auxiliar:</font></em>\n",
        "<em><font color='violet'><p>Función que limpia los textos..</p></font></em>"
      ]
    },
    {
      "cell_type": "code",
      "execution_count": 5,
      "metadata": {},
      "outputs": [],
      "source": [
        "def clean_text(txt, contractions):\n",
        "    # Convertimos todo el texto a minúsculas\n",
        "    txt = txt.lower()\n",
        "    \n",
        "    # Reemplazamos contracciones comunes    \n",
        "    for contraction, full_form in contractions.items():\n",
        "        txt = txt.replace(contraction, full_form)\n",
        "    \n",
        "    # Eliminamos cualquier carácter no alfanumérico (y sustituimos por un espacio)\n",
        "    txt = re.sub(r'\\W+', ' ', txt)\n",
        "    \n",
        "    return txt.strip()"
      ]
    },
    {
      "cell_type": "markdown",
      "metadata": {},
      "source": [
        "*Definimos las abrebiaciones identificadas:*"
      ]
    },
    {
      "cell_type": "code",
      "execution_count": 6,
      "metadata": {},
      "outputs": [],
      "source": [
        "CONTRACTIONS = {\"'d\": \" had\", \"'s\": \" is\", \"'m\": \" am\", \"don't\": \"do not\"}"
      ]
    },
    {
      "cell_type": "markdown",
      "metadata": {},
      "source": [
        "*Pre-procesamos el texto en sentencias:*"
      ]
    },
    {
      "cell_type": "markdown",
      "metadata": {},
      "source": [
        "<!-- TODO: Preprocesamiento? -->"
      ]
    },
    {
      "cell_type": "code",
      "execution_count": 7,
      "metadata": {},
      "outputs": [
        {
          "name": "stdout",
          "output_type": "stream",
          "text": [
            "Cantidad de rows utilizadas: 13512\n"
          ]
        }
      ],
      "source": [
        "input_sentences = []\n",
        "output_sentences = []\n",
        "output_sentences_inputs = []\n",
        "\n",
        "for line in data:\n",
        "    dialog = line[\"dialog\"]\n",
        "    # Recorremos los diálogos pero limitamos a los pares de (input, respuesta)\n",
        "    for i in range(len(dialog) - 1):\n",
        "        # Limpiamos el texto de la \"pregunta\" y la \"respuesta\"\n",
        "        chat_in = clean_text(dialog[i][\"text\"], CONTRACTIONS)\n",
        "        chat_out = clean_text(dialog[i + 1][\"text\"], CONTRACTIONS)\n",
        "\n",
        "        # Agregamos las etiquetas <eos> y <sos> a las frases de salida\n",
        "        output_sentence = chat_out + LABEL_EOS\n",
        "        output_sentence_input = LABEL_SOS + chat_out\n",
        "\n",
        "        # Añadimos las oraciones limpias a sus respectivas listas\n",
        "        input_sentences.append(chat_in)\n",
        "        output_sentences.append(output_sentence)\n",
        "        output_sentences_inputs.append(output_sentence_input)\n",
        "\n",
        "# Mostramos la cantidad de oraciones procesadas\n",
        "print(\"Cantidad de rows utilizadas:\", len(input_sentences))"
      ]
    },
    {
      "cell_type": "markdown",
      "metadata": {},
      "source": [
        "*Chequeamos algunas sentencias:*"
      ]
    },
    {
      "cell_type": "code",
      "execution_count": 8,
      "metadata": {},
      "outputs": [
        {
          "data": {
            "text/html": [
              "<table border=\"1\" class=\"dataframe\">\n",
              "  <thead>\n",
              "    <tr style=\"text-align: right;\">\n",
              "      <th></th>\n",
              "      <th>Indice</th>\n",
              "      <th>Input Sentence</th>\n",
              "      <th>Output Sentence</th>\n",
              "      <th>Output Sentence Input</th>\n",
              "    </tr>\n",
              "  </thead>\n",
              "  <tbody>\n",
              "    <tr>\n",
              "      <th>0</th>\n",
              "      <td>10476</td>\n",
              "      <td>friday is my favorite i am looking for new job what do you do</td>\n",
              "      <td>business &lt;eos&gt;</td>\n",
              "      <td>&lt;sos&gt; business</td>\n",
              "    </tr>\n",
              "    <tr>\n",
              "      <th>1</th>\n",
              "      <td>1824</td>\n",
              "      <td>no friends i have mom and pa</td>\n",
              "      <td>that is sad i am a museum guide &lt;eos&gt;</td>\n",
              "      <td>&lt;sos&gt; that is sad i am a museum guide</td>\n",
              "    </tr>\n",
              "    <tr>\n",
              "      <th>2</th>\n",
              "      <td>409</td>\n",
              "      <td>not much i do enjoy sports though</td>\n",
              "      <td>math and sports sounds interesting i am more into food &lt;eos&gt;</td>\n",
              "      <td>&lt;sos&gt; math and sports sounds interesting i am more into food</td>\n",
              "    </tr>\n",
              "    <tr>\n",
              "      <th>3</th>\n",
              "      <td>12149</td>\n",
              "      <td>ok what is your purpose</td>\n",
              "      <td>what is your purpose &lt;eos&gt;</td>\n",
              "      <td>&lt;sos&gt; what is your purpose</td>\n",
              "    </tr>\n",
              "    <tr>\n",
              "      <th>4</th>\n",
              "      <td>4506</td>\n",
              "      <td>wow u the perfect person who gonna help me to find a hotel job somewhere in west country</td>\n",
              "      <td>i do not know what that means &lt;eos&gt;</td>\n",
              "      <td>&lt;sos&gt; i do not know what that means</td>\n",
              "    </tr>\n",
              "    <tr>\n",
              "      <th>5</th>\n",
              "      <td>4012</td>\n",
              "      <td>i do not know what that means</td>\n",
              "      <td>nevermind &lt;eos&gt;</td>\n",
              "      <td>&lt;sos&gt; nevermind</td>\n",
              "    </tr>\n",
              "    <tr>\n",
              "      <th>6</th>\n",
              "      <td>3657</td>\n",
              "      <td>i have blue eyes</td>\n",
              "      <td>hello &lt;eos&gt;</td>\n",
              "      <td>&lt;sos&gt; hello</td>\n",
              "    </tr>\n",
              "    <tr>\n",
              "      <th>7</th>\n",
              "      <td>2286</td>\n",
              "      <td>yes i did it was nice talking to you</td>\n",
              "      <td>like wise bye &lt;eos&gt;</td>\n",
              "      <td>&lt;sos&gt; like wise bye</td>\n",
              "    </tr>\n",
              "    <tr>\n",
              "      <th>8</th>\n",
              "      <td>12066</td>\n",
              "      <td>whats your name</td>\n",
              "      <td>how are you &lt;eos&gt;</td>\n",
              "      <td>&lt;sos&gt; how are you</td>\n",
              "    </tr>\n",
              "    <tr>\n",
              "      <th>9</th>\n",
              "      <td>1679</td>\n",
              "      <td>end</td>\n",
              "      <td>what is your favorite thing to do mine is rock &lt;eos&gt;</td>\n",
              "      <td>&lt;sos&gt; what is your favorite thing to do mine is rock</td>\n",
              "    </tr>\n",
              "  </tbody>\n",
              "</table>"
            ],
            "text/plain": [
              "<IPython.core.display.HTML object>"
            ]
          },
          "metadata": {},
          "output_type": "display_data"
        }
      ],
      "source": [
        "# Seleccionamos índices aleatorios\n",
        "random_indices = random.sample(range(len(input_sentences)), 10)\n",
        "\n",
        "# Creamos una lista para almacenar los datos\n",
        "df_data = []\n",
        "\n",
        "# Recorremos los índices aleatorios y creamos un diccionario para cada uno\n",
        "for idx in random_indices:\n",
        "    df_row = {\n",
        "        \"Indice\": idx,\n",
        "        \"Input Sentence\": input_sentences[idx],\n",
        "        \"Output Sentence\": output_sentences[idx],\n",
        "        \"Output Sentence Input\": output_sentences_inputs[idx]\n",
        "    }\n",
        "    df_data.append(df_row)\n",
        "\n",
        "# Creamos el DataFrame con los datos\n",
        "df = pd.DataFrame(df_data)\n",
        "\n",
        "# Mostramos el DataFrame\n",
        "display(HTML(df.to_html()))"
      ]
    },
    {
      "cell_type": "markdown",
      "metadata": {},
      "source": [
        "📝 <em><font color='Gray'>Nota:</font></em>\n",
        "<em><font color='Gray'><p>En la etapa de entrenamiento, las sentencias `input sentence` son las que debería tomar el encoder, para producir el estado oculto $(H, C)$. Luego, la entrada del decoder sería este estado oculto + la entrada `output sentence input`, y la salida esperada sería `output sentence`. El proceso de aprendizaje se realiza comparando cada término de la salida auto-regresiva del decoder con la salida esperada, donde el último término termina siendo comparado con el token especial `<eos>`. El error de estas comparaciones (utilizando cross-entropy), es lo que se propaga en toda la red para que esta aprenda dicha representación.</p></font></em>"
      ]
    },
    {
      "cell_type": "markdown",
      "metadata": {},
      "source": [
        "### Parte 2"
      ]
    },
    {
      "cell_type": "markdown",
      "metadata": {},
      "source": [
        "> - Realizar el preprocesamiento necesario para obtener:  \n",
        "    - `word2idx_inputs`, `max_input_len`  \n",
        "    - `word2idx_outputs`, `max_out_len`, `num_words_output`  \n",
        "    - `encoder_input_sequences`, `decoder_output_sequences`, `decoder_targets`  "
      ]
    },
    {
      "cell_type": "markdown",
      "metadata": {},
      "source": [
        "*Primeramente, definimos el vocabulario máximo:*"
      ]
    },
    {
      "cell_type": "code",
      "execution_count": 9,
      "metadata": {},
      "outputs": [],
      "source": [
        "# Máximo del vocabulario. Es establecimiento puramente de recursos, no significa que se llegue a este máximo.\n",
        "MAX_VOCAB_SIZE = 8000"
      ]
    },
    {
      "cell_type": "markdown",
      "metadata": {},
      "source": [
        "*Luego, tokenizamos las palabras de entrada:*"
      ]
    },
    {
      "cell_type": "code",
      "execution_count": 10,
      "metadata": {},
      "outputs": [
        {
          "name": "stdout",
          "output_type": "stream",
          "text": [
            "Palabras en el vocabulario: 3908\n"
          ]
        }
      ],
      "source": [
        "input_tokenizer = Tokenizer(num_words=MAX_VOCAB_SIZE)\n",
        "input_tokenizer.fit_on_texts(input_sentences)\n",
        "# Convertimos los términos \n",
        "input_integer_seq = input_tokenizer.texts_to_sequences(input_sentences)\n",
        "\n",
        "# Diccionario de palabras a indices.\n",
        "word2idx_inputs = input_tokenizer.word_index\n",
        "print(\"Palabras en el vocabulario:\", len(word2idx_inputs))"
      ]
    },
    {
      "cell_type": "markdown",
      "metadata": {},
      "source": [
        "*Podemos observar la tokenización:*"
      ]
    },
    {
      "cell_type": "code",
      "execution_count": 11,
      "metadata": {},
      "outputs": [
        {
          "data": {
            "text/plain": [
              "{'i': 1,\n",
              " 'you': 2,\n",
              " 'do': 3,\n",
              " 'a': 4,\n",
              " 'what': 5,\n",
              " 'am': 6,\n",
              " 'to': 7,\n",
              " 'is': 8,\n",
              " 'like': 9,\n",
              " 'are': 10,\n",
              " 'jobs': 11,\n",
              " 'have': 12,\n",
              " 'for': 13,\n",
              " 'how': 14,\n",
              " 'love': 15,\n",
              " 'that': 16,\n",
              " 'not': 17,\n",
              " 'the': 18,\n",
              " 'my': 19,\n",
              " 'it': 20,\n",
              " 'of': 21,\n",
              " 'your': 22,\n",
              " 'in': 23,\n",
              " 'hi': 24,\n",
              " 'living': 25,\n",
              " 'and': 26,\n",
              " 'books': 27,\n",
              " 'about': 28,\n",
              " 'oh': 29,\n",
              " 'work': 30,\n",
              " 'any': 31,\n",
              " 'because': 32,\n",
              " 'good': 33,\n",
              " 'india': 34,\n",
              " 'from': 35,\n",
              " 'normal': 36,\n",
              " 'ok': 37,\n",
              " 'yes': 38,\n",
              " 'no': 39,\n",
              " 'me': 40,\n",
              " 'hello': 41,\n",
              " 'favorite': 42,\n",
              " 'd': 43,\n",
              " 'hobbies': 44,\n",
              " 'read': 45,\n",
              " 'with': 46,\n",
              " 'play': 47,\n",
              " 'just': 48,\n",
              " 'doing': 49,\n",
              " 'education': 50,\n",
              " 'well': 51,\n",
              " 'cool': 52,\n",
              " 'so': 53,\n",
              " 'u': 54,\n",
              " 'go': 55,\n",
              " 'music': 56,\n",
              " 'food': 57,\n",
              " 'at': 58,\n",
              " 'fun': 59,\n",
              " 'but': 60,\n",
              " 'name': 61,\n",
              " 'too': 62,\n",
              " 'lot': 63,\n",
              " 'great': 64,\n",
              " 'sleep': 65,\n",
              " 'where': 66,\n",
              " 'can': 67,\n",
              " 'live': 68,\n",
              " 'movies': 69,\n",
              " 'time': 70,\n",
              " 'be': 71,\n",
              " 'today': 72,\n",
              " 'kind': 73,\n",
              " 'nice': 74,\n",
              " 'know': 75,\n",
              " 'job': 76,\n",
              " 'dog': 77,\n",
              " 'see': 78,\n",
              " 'cook': 79,\n",
              " 'r': 80,\n",
              " 'sounds': 81,\n",
              " 'studies': 82,\n",
              " 'there': 83,\n",
              " 'kill': 84,\n",
              " 'horses': 85,\n",
              " 'fine': 86,\n",
              " 'got': 87,\n",
              " 'home': 88,\n",
              " 'sure': 89,\n",
              " 'why': 90,\n",
              " 'pets': 91,\n",
              " 'on': 92,\n",
              " 'sorry': 93,\n",
              " 'as': 94,\n",
              " 'age': 95,\n",
              " 'games': 96,\n",
              " 'school': 97,\n",
              " 'old': 98,\n",
              " 'also': 99,\n",
              " 't': 100,\n",
              " 'songs': 101,\n",
              " 'sex': 102,\n",
              " 'want': 103,\n",
              " 'was': 104,\n",
              " 'teacher': 105,\n",
              " 'one': 106,\n",
              " 'very': 107,\n",
              " 'dancing': 108,\n",
              " 'thanks': 109,\n",
              " 'now': 110,\n",
              " 'cat': 111,\n",
              " 'doctor': 112,\n",
              " 'beach': 113,\n",
              " 'hey': 114,\n",
              " 'jazz': 115,\n",
              " 'cats': 116,\n",
              " 'student': 117,\n",
              " 'going': 118,\n",
              " 'think': 119,\n",
              " 'california': 120,\n",
              " 've': 121,\n",
              " 'yeah': 122,\n",
              " 'color': 123,\n",
              " 'office': 124,\n",
              " 'back': 125,\n",
              " 'been': 126,\n",
              " 'mine': 127,\n",
              " 'eat': 128,\n",
              " 'or': 129,\n",
              " 'up': 130,\n",
              " 'dogs': 131,\n",
              " 'friends': 132,\n",
              " 'watch': 133,\n",
              " 'm': 134,\n",
              " 'tell': 135,\n",
              " 'bye': 136,\n",
              " 'video': 137,\n",
              " 'enjoy': 138,\n",
              " 'gym': 139,\n",
              " 'new': 140,\n",
              " 'studying': 141,\n",
              " 'day': 142,\n",
              " 'mean': 143,\n",
              " 'okay': 144,\n",
              " 'them': 145,\n",
              " 'really': 146,\n",
              " 'an': 147,\n",
              " 'girl': 148,\n",
              " 'hear': 149,\n",
              " 'never': 150,\n",
              " 'please': 151,\n",
              " 'wow': 152,\n",
              " 'all': 153,\n",
              " 'who': 154,\n",
              " 'city': 155,\n",
              " 'will': 156,\n",
              " 'engineering': 157,\n",
              " 'he': 158,\n",
              " 'much': 159,\n",
              " 'which': 160,\n",
              " 'study': 161,\n",
              " 'would': 162,\n",
              " 'garden': 163,\n",
              " 'planes': 164,\n",
              " 'kiss': 165,\n",
              " 'yours': 166,\n",
              " 'nothing': 167,\n",
              " 'blue': 168,\n",
              " 'this': 169,\n",
              " 'sing': 170,\n",
              " 'kids': 171,\n",
              " 'fan': 172,\n",
              " 'married': 173,\n",
              " 'retired': 174,\n",
              " 'language': 175,\n",
              " 'playing': 176,\n",
              " 'they': 177,\n",
              " 'yum': 178,\n",
              " 'coffee': 179,\n",
              " 'hope': 180,\n",
              " 'did': 181,\n",
              " 'say': 182,\n",
              " 'some': 183,\n",
              " 'speak': 184,\n",
              " 'drive': 185,\n",
              " 'thank': 186,\n",
              " 'many': 187,\n",
              " 'out': 188,\n",
              " 'right': 189,\n",
              " 'get': 190,\n",
              " 'teach': 191,\n",
              " 'years': 192,\n",
              " 'company': 193,\n",
              " 'car': 194,\n",
              " '1': 195,\n",
              " 'pizza': 196,\n",
              " 'movie': 197,\n",
              " 'talk': 198,\n",
              " 'we': 199,\n",
              " 'awesome': 200,\n",
              " 'when': 201,\n",
              " 'dr': 202,\n",
              " 'band': 203,\n",
              " 'if': 204,\n",
              " 'n': 205,\n",
              " 'man': 206,\n",
              " 'big': 207,\n",
              " 'business': 208,\n",
              " 'vegan': 209,\n",
              " 'hate': 210,\n",
              " 'yourself': 211,\n",
              " 'volunteer': 212,\n",
              " 'boy': 213,\n",
              " 'talking': 214,\n",
              " 'favourite': 215,\n",
              " 'travel': 216,\n",
              " 'fuck': 217,\n",
              " 'said': 218,\n",
              " 'means': 219,\n",
              " 's': 220,\n",
              " 'thing': 221,\n",
              " 'sad': 222,\n",
              " 'had': 223,\n",
              " 'family': 224,\n",
              " 'looking': 225,\n",
              " 'interesting': 226,\n",
              " 'dance': 227,\n",
              " 'sports': 228,\n",
              " 'best': 229,\n",
              " 'she': 230,\n",
              " 'watching': 231,\n",
              " 'ya': 232,\n",
              " 'then': 233,\n",
              " 'listen': 234,\n",
              " 'red': 235,\n",
              " 'help': 236,\n",
              " 'life': 237,\n",
              " 'store': 238,\n",
              " 'drink': 239,\n",
              " 'college': 240,\n",
              " 'biology': 241,\n",
              " 'two': 242,\n",
              " 'else': 243,\n",
              " 'make': 244,\n",
              " 'single': 245,\n",
              " 'asking': 246,\n",
              " 'same': 247,\n",
              " 'degree': 248,\n",
              " 'pretty': 249,\n",
              " 'disney': 250,\n",
              " 'working': 251,\n",
              " 'states': 252,\n",
              " 'something': 253,\n",
              " 'by': 254,\n",
              " 'children': 255,\n",
              " 'game': 256,\n",
              " 'send': 257,\n",
              " 'ur': 258,\n",
              " 'rock': 259,\n",
              " 'world': 260,\n",
              " 'long': 261,\n",
              " 'only': 262,\n",
              " 'united': 263,\n",
              " 'meet': 264,\n",
              " 'here': 265,\n",
              " 'spanish': 266,\n",
              " 'grocery': 267,\n",
              " 're': 268,\n",
              " 'team': 269,\n",
              " 'football': 270,\n",
              " 'does': 271,\n",
              " 'engineer': 272,\n",
              " 'night': 273,\n",
              " 'country': 274,\n",
              " 'english': 275,\n",
              " 'hair': 276,\n",
              " 'army': 277,\n",
              " 'im': 278,\n",
              " 'named': 279,\n",
              " 'year': 280,\n",
              " 'whats': 281,\n",
              " 'person': 282,\n",
              " 'york': 283,\n",
              " 'understand': 284,\n",
              " 'hindi': 285,\n",
              " 'chatting': 286,\n",
              " 'k': 287,\n",
              " 'chat': 288,\n",
              " 'funny': 289,\n",
              " 'book': 290,\n",
              " 'idea': 291,\n",
              " 'parents': 292,\n",
              " 'pet': 293,\n",
              " 'hobby': 294,\n",
              " 'need': 295,\n",
              " 'restaurant': 296,\n",
              " 'ever': 297,\n",
              " 'cars': 298,\n",
              " 'rap': 299,\n",
              " 'three': 300,\n",
              " 'lol': 301,\n",
              " 'bad': 302,\n",
              " 'used': 303,\n",
              " 'spend': 304,\n",
              " 'already': 305,\n",
              " 'house': 306,\n",
              " 'nurse': 307,\n",
              " 'math': 308,\n",
              " 'listening': 309,\n",
              " 'major': 310,\n",
              " 'winter': 311,\n",
              " 'languages': 312,\n",
              " 'french': 313,\n",
              " 'ride': 314,\n",
              " 'end': 315,\n",
              " 'll': 316,\n",
              " 'female': 317,\n",
              " 'ha': 318,\n",
              " 'mom': 319,\n",
              " 'sir': 320,\n",
              " 'boss': 321,\n",
              " 'reading': 322,\n",
              " 'cali': 323,\n",
              " 'soon': 324,\n",
              " 'things': 325,\n",
              " 'other': 326,\n",
              " 'told': 327,\n",
              " 'basketball': 328,\n",
              " 'ohh': 329,\n",
              " '2': 330,\n",
              " 'girls': 331,\n",
              " 'cricket': 332,\n",
              " 'high': 333,\n",
              " 'people': 334,\n",
              " 'could': 335,\n",
              " 'heard': 336,\n",
              " 'grow': 337,\n",
              " 'more': 338,\n",
              " 'woman': 339,\n",
              " 'little': 340,\n",
              " 'tv': 341,\n",
              " 'try': 342,\n",
              " 'hii': 343,\n",
              " 'though': 344,\n",
              " 'run': 345,\n",
              " 'type': 346,\n",
              " 'park': 347,\n",
              " 'chess': 348,\n",
              " 'question': 349,\n",
              " 'dont': 350,\n",
              " 'number': 351,\n",
              " 'were': 352,\n",
              " 'hard': 353,\n",
              " 'italian': 354,\n",
              " 'professional': 355,\n",
              " 'swim': 356,\n",
              " 'call': 357,\n",
              " 'friend': 358,\n",
              " 'tonight': 359,\n",
              " 'later': 360,\n",
              " 'around': 361,\n",
              " 'own': 362,\n",
              " 'farm': 363,\n",
              " 'find': 364,\n",
              " 'spare': 365,\n",
              " 'workout': 366,\n",
              " 'into': 367,\n",
              " 'come': 368,\n",
              " 'spain': 369,\n",
              " 'walk': 370,\n",
              " 'friday': 371,\n",
              " 'ask': 372,\n",
              " 'move': 373,\n",
              " 'cooking': 374,\n",
              " 'her': 375,\n",
              " 'instruments': 376,\n",
              " 'beautiful': 377,\n",
              " 'place': 378,\n",
              " 'grade': 379,\n",
              " 'shelter': 380,\n",
              " 'still': 381,\n",
              " 'don': 382,\n",
              " 'father': 383,\n",
              " 'computer': 384,\n",
              " 'should': 385,\n",
              " 'off': 386,\n",
              " 'free': 387,\n",
              " 'his': 388,\n",
              " 'give': 389,\n",
              " 'anything': 390,\n",
              " 'walking': 391,\n",
              " 'song': 392,\n",
              " 'wife': 393,\n",
              " 'him': 394,\n",
              " 'horror': 395,\n",
              " '3': 396,\n",
              " 'money': 397,\n",
              " 'gas': 398,\n",
              " 'being': 399,\n",
              " 'every': 400,\n",
              " 'german': 401,\n",
              " 'bit': 402,\n",
              " 'way': 403,\n",
              " 'yellow': 404,\n",
              " 'mexican': 405,\n",
              " 'guitar': 406,\n",
              " 'indian': 407,\n",
              " 'black': 408,\n",
              " 'photography': 409,\n",
              " 'singing': 410,\n",
              " 'bro': 411,\n",
              " 'most': 412,\n",
              " 'bot': 413,\n",
              " 'classical': 414,\n",
              " 'eating': 415,\n",
              " 'bike': 416,\n",
              " 'prefer': 417,\n",
              " 'us': 418,\n",
              " 'charlie': 419,\n",
              " 'guess': 420,\n",
              " 'take': 421,\n",
              " 'dad': 422,\n",
              " 'use': 423,\n",
              " 'animal': 424,\n",
              " 'soccer': 425,\n",
              " 'dream': 426,\n",
              " 'horse': 427,\n",
              " 'navy': 428,\n",
              " 'learn': 429,\n",
              " 'musician': 430,\n",
              " 'often': 431,\n",
              " 'finished': 432,\n",
              " 'actually': 433,\n",
              " 'young': 434,\n",
              " 'male': 435,\n",
              " 'boyfriend': 436,\n",
              " 'farmer': 437,\n",
              " 'dialog': 438,\n",
              " 'soup': 439,\n",
              " 'must': 440,\n",
              " 'facebook': 441,\n",
              " 'pink': 442,\n",
              " 'feel': 443,\n",
              " 'happened': 444,\n",
              " 'didn': 445,\n",
              " 'local': 446,\n",
              " 'part': 447,\n",
              " 'better': 448,\n",
              " 'eyes': 449,\n",
              " 'has': 450,\n",
              " 'subject': 451,\n",
              " 'church': 452,\n",
              " 'always': 453,\n",
              " 'thats': 454,\n",
              " 'yet': 455,\n",
              " 'husband': 456,\n",
              " 'hmm': 457,\n",
              " 'literature': 458,\n",
              " 'stay': 459,\n",
              " '18': 460,\n",
              " 'george': 461,\n",
              " 'pop': 462,\n",
              " 'science': 463,\n",
              " 'build': 464,\n",
              " 'plans': 465,\n",
              " 'before': 466,\n",
              " 'first': 467,\n",
              " 'wait': 468,\n",
              " 'different': 469,\n",
              " 'start': 470,\n",
              " 'sport': 471,\n",
              " 'pa': 472,\n",
              " 'joke': 473,\n",
              " 'brother': 474,\n",
              " 'partner': 475,\n",
              " 'painting': 476,\n",
              " 'cheeseburgers': 477,\n",
              " 'animals': 478,\n",
              " 'lucy': 479,\n",
              " 'okk': 480,\n",
              " 'waitress': 481,\n",
              " 'metal': 482,\n",
              " 'kitchen': 483,\n",
              " 'vegetables': 484,\n",
              " 'chocolate': 485,\n",
              " 'visit': 486,\n",
              " 'small': 487,\n",
              " 'let': 488,\n",
              " 'amazing': 489,\n",
              " 'taking': 490,\n",
              " 'even': 491,\n",
              " 'purple': 492,\n",
              " 'singer': 493,\n",
              " '12': 494,\n",
              " 'show': 495,\n",
              " 'wish': 496,\n",
              " 'leave': 497,\n",
              " 'chef': 498,\n",
              " 'librarian': 499,\n",
              " 'maybe': 500,\n",
              " 'wear': 501,\n",
              " 'honda': 502,\n",
              " 'italy': 503,\n",
              " 'haha': 504,\n",
              " 'next': 505,\n",
              " 'mother': 506,\n",
              " 'chinese': 507,\n",
              " 'believe': 508,\n",
              " 'fries': 509,\n",
              " 'may': 510,\n",
              " 'design': 511,\n",
              " 'course': 512,\n",
              " 'sometimes': 513,\n",
              " 'again': 514,\n",
              " 'swimming': 515,\n",
              " 'last': 516,\n",
              " 'went': 517,\n",
              " 'donuts': 518,\n",
              " 'john': 519,\n",
              " 'especially': 520,\n",
              " 'meditation': 521,\n",
              " 'shop': 522,\n",
              " 'stop': 523,\n",
              " '32': 524,\n",
              " 'tennis': 525,\n",
              " 'mind': 526,\n",
              " 'star': 527,\n",
              " 'nascar': 528,\n",
              " 'piano': 529,\n",
              " 'our': 530,\n",
              " 'artist': 531,\n",
              " 'either': 532,\n",
              " 'riding': 533,\n",
              " 'wine': 534,\n",
              " 'healthy': 535,\n",
              " 'insane': 536,\n",
              " 'clown': 537,\n",
              " 'mechanical': 538,\n",
              " 'near': 539,\n",
              " 'burger': 540,\n",
              " 'alaska': 541,\n",
              " 'sister': 542,\n",
              " 'shepherd': 543,\n",
              " 'yoga': 544,\n",
              " 'delhi': 545,\n",
              " 'cute': 546,\n",
              " 'taylor': 547,\n",
              " 'russia': 548,\n",
              " 'studio': 549,\n",
              " 'hahn': 550,\n",
              " 'strong': 551,\n",
              " 'summer': 552,\n",
              " 'traveling': 553,\n",
              " 'bake': 554,\n",
              " 'fly': 555,\n",
              " 'station': 556,\n",
              " 'shipyard': 557,\n",
              " 'its': 558,\n",
              " 'those': 559,\n",
              " 'few': 560,\n",
              " 'shopping': 561,\n",
              " 'mostly': 562,\n",
              " 'busy': 563,\n",
              " 'soda': 564,\n",
              " 'gay': 565,\n",
              " 'kinds': 566,\n",
              " 'gymnastics': 567,\n",
              " 'done': 568,\n",
              " 'seen': 569,\n",
              " 'fucking': 570,\n",
              " 'boring': 571,\n",
              " 'won': 572,\n",
              " 'fishing': 573,\n",
              " 'fish': 574,\n",
              " 'evaluate': 575,\n",
              " 'grey': 576,\n",
              " 'whole': 577,\n",
              " 'using': 578,\n",
              " '5': 579,\n",
              " 'types': 580,\n",
              " 'sew': 581,\n",
              " 'hiking': 582,\n",
              " 'candy': 583,\n",
              " 'relationship': 584,\n",
              " 'war': 585,\n",
              " 'bout': 586,\n",
              " 'frozen': 587,\n",
              " 'third': 588,\n",
              " 'ooo': 589,\n",
              " 'gud': 590,\n",
              " 'welcome': 591,\n",
              " '19': 592,\n",
              " 'swift': 593,\n",
              " 'finish': 594,\n",
              " 'far': 595,\n",
              " 'running': 596,\n",
              " 'profession': 597,\n",
              " 'answer': 598,\n",
              " 'myself': 599,\n",
              " 'problem': 600,\n",
              " 'state': 601,\n",
              " 'son': 602,\n",
              " 'currently': 603,\n",
              " 'everything': 604,\n",
              " 'than': 605,\n",
              " 'lover': 606,\n",
              " 'ohio': 607,\n",
              " 'gardening': 608,\n",
              " 'clowns': 609,\n",
              " 'bring': 610,\n",
              " 'yo': 611,\n",
              " 'florida': 612,\n",
              " 'season': 613,\n",
              " 'poetry': 614,\n",
              " 'player': 615,\n",
              " 'recently': 616,\n",
              " 'nope': 617,\n",
              " 'gold': 618,\n",
              " 'britney': 619,\n",
              " 'internet': 620,\n",
              " 'buttons': 621,\n",
              " 'below': 622,\n",
              " 'lost': 623,\n",
              " 'class': 624,\n",
              " 'art': 625,\n",
              " 'civic': 626,\n",
              " 'happy': 627,\n",
              " 'poor': 628,\n",
              " 'human': 629,\n",
              " 'relax': 630,\n",
              " 'plz': 631,\n",
              " 'bees': 632,\n",
              " 'ന': 633,\n",
              " 'congratulations': 634,\n",
              " 'both': 635,\n",
              " 'tacos': 636,\n",
              " 'reminds': 637,\n",
              " 'over': 638,\n",
              " 'famous': 639,\n",
              " 'fiction': 640,\n",
              " 'ago': 641,\n",
              " 'ice': 642,\n",
              " 'painter': 643,\n",
              " 'wrestler': 644,\n",
              " 'remember': 645,\n",
              " 'green': 646,\n",
              " 'weekend': 647,\n",
              " 'folk': 648,\n",
              " 'pobox': 649,\n",
              " 'dealer': 650,\n",
              " 'cold': 651,\n",
              " 'burgers': 652,\n",
              " 'medal': 653,\n",
              " 'scared': 654,\n",
              " 'such': 655,\n",
              " 'spears': 656,\n",
              " 'construction': 657,\n",
              " 'mountains': 658,\n",
              " 'paint': 659,\n",
              " 'graduated': 660,\n",
              " 'asked': 661,\n",
              " 'teaching': 662,\n",
              " 'lawyer': 663,\n",
              " 'yup': 664,\n",
              " 'knitting': 665,\n",
              " 'brown': 666,\n",
              " 'girlfriend': 667,\n",
              " 'colorado': 668,\n",
              " 'truck': 669,\n",
              " 'women': 670,\n",
              " 'hat': 671,\n",
              " 'objects': 672,\n",
              " 'hospital': 673,\n",
              " 'real': 674,\n",
              " 'graduate': 675,\n",
              " 'climbing': 676,\n",
              " 'robot': 677,\n",
              " 'interested': 678,\n",
              " 'west': 679,\n",
              " 'sell': 680,\n",
              " 'pubg': 681,\n",
              " 'ping': 682,\n",
              " 'pong': 683,\n",
              " 'rich': 684,\n",
              " 'taxes': 685,\n",
              " 'american': 686,\n",
              " 'software': 687,\n",
              " 'party': 688,\n",
              " 'shit': 689,\n",
              " 'glad': 690,\n",
              " 'houses': 691,\n",
              " 'sky': 692,\n",
              " 'chicken': 693,\n",
              " 'usually': 694,\n",
              " 'baby': 695,\n",
              " 'homeless': 696,\n",
              " 'plan': 697,\n",
              " 'someone': 698,\n",
              " 'o': 699,\n",
              " 'shoes': 700,\n",
              " 'foods': 701,\n",
              " 'vegetarian': 702,\n",
              " 'super': 703,\n",
              " 'smart': 704,\n",
              " 'story': 705,\n",
              " 'private': 706,\n",
              " 'having': 707,\n",
              " 'dish': 708,\n",
              " 'gender': 709,\n",
              " 'yeh': 710,\n",
              " 'rescue': 711,\n",
              " 'outdoors': 712,\n",
              " 'wars': 713,\n",
              " 'care': 714,\n",
              " 'four': 715,\n",
              " 'role': 716,\n",
              " 'meat': 717,\n",
              " 'daughter': 718,\n",
              " 'tomorrow': 719,\n",
              " 'evening': 720,\n",
              " 'germany': 721,\n",
              " 'doesn': 722,\n",
              " 'after': 723,\n",
              " 'violin': 724,\n",
              " 'papaya': 725,\n",
              " 'weekends': 726,\n",
              " 'pennsylvania': 727,\n",
              " 'robotics': 728,\n",
              " 'saying': 729,\n",
              " 'king': 730,\n",
              " 'bunny': 731,\n",
              " 'bee': 732,\n",
              " 'breed': 733,\n",
              " 'alone': 734,\n",
              " 'boys': 735,\n",
              " 'times': 736,\n",
              " 'become': 737,\n",
              " 'instructor': 738,\n",
              " 'waiting': 739,\n",
              " 'iam': 740,\n",
              " 'kk': 741,\n",
              " 'photo': 742,\n",
              " '20': 743,\n",
              " 'magic': 744,\n",
              " 'week': 745,\n",
              " 'designer': 746,\n",
              " 'genre': 747,\n",
              " 'wonderful': 748,\n",
              " 'electrician': 749,\n",
              " 'insurance': 750,\n",
              " 'mickey': 751,\n",
              " 'mouse': 752,\n",
              " 'thrones': 753,\n",
              " 'hike': 754,\n",
              " 'once': 755,\n",
              " 'thought': 756,\n",
              " 'stuff': 757,\n",
              " 'buddhist': 758,\n",
              " 'neither': 759,\n",
              " 'online': 760,\n",
              " 'organic': 761,\n",
              " 'radar': 762,\n",
              " 'getting': 763,\n",
              " 'bored': 764,\n",
              " 'played': 765,\n",
              " 'lonely': 766,\n",
              " 'feeling': 767,\n",
              " 'area': 768,\n",
              " 'learning': 769,\n",
              " 'definitely': 770,\n",
              " 'haven': 771,\n",
              " 'hanging': 772,\n",
              " 'rolls': 773,\n",
              " 'royce': 774,\n",
              " 'while': 775,\n",
              " 'driving': 776,\n",
              " 'bunnies': 777,\n",
              " 'their': 778,\n",
              " 'service': 779,\n",
              " 'vet': 780,\n",
              " 'moment': 781,\n",
              " 'concert': 782,\n",
              " 'character': 783,\n",
              " 'superpowers': 784,\n",
              " 'clothes': 785,\n",
              " 'spider': 786,\n",
              " 'roleplaying': 787,\n",
              " 'chicago': 788,\n",
              " 'veterinarian': 789,\n",
              " 'russian': 790,\n",
              " 'meditate': 791,\n",
              " 'morning': 792,\n",
              " 'month': 793,\n",
              " 'outside': 794,\n",
              " 'orange': 795,\n",
              " 'skate': 796,\n",
              " 'ford': 797,\n",
              " 'god': 798,\n",
              " 'europe': 799,\n",
              " 'cream': 800,\n",
              " 'mail': 801,\n",
              " 'bank': 802,\n",
              " 'social': 803,\n",
              " 'etc': 804,\n",
              " 'mobile': 805,\n",
              " 'yea': 806,\n",
              " 'meaning': 807,\n",
              " '22': 808,\n",
              " 'nd': 809,\n",
              " 'wanna': 810,\n",
              " 'dear': 811,\n",
              " 'travis': 812,\n",
              " 'scott': 813,\n",
              " 'organ': 814,\n",
              " 'hollywood': 815,\n",
              " 'bet': 816,\n",
              " 'comic': 817,\n",
              " 'die': 818,\n",
              " 'thinking': 819,\n",
              " 'pool': 820,\n",
              " 'coach': 821,\n",
              " 'wrong': 822,\n",
              " 'test': 823,\n",
              " 'vacation': 824,\n",
              " 'called': 825,\n",
              " '30': 826,\n",
              " 'contacts': 827,\n",
              " 'anyone': 828,\n",
              " 'kidding': 829,\n",
              " 'makes': 830,\n",
              " 'growing': 831,\n",
              " 'town': 832,\n",
              " 'jersey': 833,\n",
              " 'series': 834,\n",
              " 'action': 835,\n",
              " 'canada': 836,\n",
              " 'sense': 837,\n",
              " 'battle': 838,\n",
              " 'fantasy': 839,\n",
              " 'marry': 840,\n",
              " 'space': 841,\n",
              " 'spring': 842,\n",
              " 'elementary': 843,\n",
              " 'kid': 844,\n",
              " 'these': 845,\n",
              " '100': 846,\n",
              " 'conversation': 847,\n",
              " 'aren': 848,\n",
              " 'older': 849,\n",
              " 'fast': 850,\n",
              " 'months': 851,\n",
              " 'huge': 852,\n",
              " 'look': 853,\n",
              " 'letters': 854,\n",
              " 'documentaries': 855,\n",
              " 'isn': 856,\n",
              " 'started': 857,\n",
              " 'reply': 858,\n",
              " 'seems': 859,\n",
              " 'mary': 860,\n",
              " 'bar': 861,\n",
              " 'olympics': 862,\n",
              " 'ah': 863,\n",
              " 'alabama': 864,\n",
              " 'hummus': 865,\n",
              " 'taught': 866,\n",
              " 'fav': 867,\n",
              " 'born': 868,\n",
              " 'heart': 869,\n",
              " 'appreciate': 870,\n",
              " 'harry': 871,\n",
              " 'potter': 872,\n",
              " 'military': 873,\n",
              " 'nature': 874,\n",
              " 'phone': 875,\n",
              " 'b': 876,\n",
              " 'hlw': 877,\n",
              " 'exam': 878,\n",
              " 'gf': 879,\n",
              " 'mad': 880,\n",
              " 'pic': 881,\n",
              " 'wearing': 882,\n",
              " 'child': 883,\n",
              " 'yaa': 884,\n",
              " 'id': 885,\n",
              " 'gospel': 886,\n",
              " 'away': 887,\n",
              " 'developer': 888,\n",
              " 'computers': 889,\n",
              " 'drum': 890,\n",
              " 'spent': 891,\n",
              " 'enough': 892,\n",
              " 'writing': 893,\n",
              " 'yacht': 894,\n",
              " 'building': 895,\n",
              " 'buy': 896,\n",
              " 'lots': 897,\n",
              " 'anytime': 898,\n",
              " 'riverside': 899,\n",
              " '33': 900,\n",
              " 'sale': 901,\n",
              " 'worker': 902,\n",
              " 'tired': 903,\n",
              " 'keep': 904,\n",
              " 'trying': 905,\n",
              " '4': 906,\n",
              " 'hockey': 907,\n",
              " 'without': 908,\n",
              " 'days': 909,\n",
              " 'duty': 910,\n",
              " 'liked': 911,\n",
              " 'power': 912,\n",
              " 'crazy': 913,\n",
              " '10': 914,\n",
              " '17': 915,\n",
              " 'names': 916,\n",
              " 'skateboard': 917,\n",
              " 'producer': 918,\n",
              " 'produce': 919,\n",
              " 'supermarket': 920,\n",
              " 'save': 921,\n",
              " 'imagine': 922,\n",
              " 'made': 923,\n",
              " 'stupid': 924,\n",
              " 'favorites': 925,\n",
              " 'machine': 926,\n",
              " 'students': 927,\n",
              " 'several': 928,\n",
              " 'holidays': 929,\n",
              " 'shows': 930,\n",
              " 'prius': 931,\n",
              " 'vodka': 932,\n",
              " 'twitch': 933,\n",
              " 'apart': 934,\n",
              " 'true': 935,\n",
              " 'alcoholic': 936,\n",
              " 'van': 937,\n",
              " 'sound': 938,\n",
              " 'vanilla': 939,\n",
              " 'familiar': 940,\n",
              " 'beer': 941,\n",
              " 'aerosmith': 942,\n",
              " 'psychology': 943,\n",
              " 'sisters': 944,\n",
              " 'beatles': 945,\n",
              " 'bbye': 946,\n",
              " 'tea': 947,\n",
              " 'employed': 948,\n",
              " 'kindergarten': 949,\n",
              " 'nissan': 950,\n",
              " 'ready': 951,\n",
              " 'health': 952,\n",
              " 'opinion': 953,\n",
              " 'belongs': 954,\n",
              " 'rural': 955,\n",
              " '35': 956,\n",
              " 'saw': 957,\n",
              " 'fruit': 958,\n",
              " 'larry': 959,\n",
              " 'spiderman': 960,\n",
              " 'close': 961,\n",
              " 'change': 962,\n",
              " 'loves': 963,\n",
              " 'gonna': 964,\n",
              " 'management': 965,\n",
              " 'salesman': 966,\n",
              " 'along': 967,\n",
              " 'self': 968,\n",
              " 'helmet': 969,\n",
              " 'fitness': 970,\n",
              " 'mountain': 971,\n",
              " 'model': 972,\n",
              " 'honey': 973,\n",
              " 'left': 974,\n",
              " 'bmw': 975,\n",
              " 'nyc': 976,\n",
              " 'short': 977,\n",
              " 'colour': 978,\n",
              " 'twitter': 979,\n",
              " 'photos': 980,\n",
              " 'sexy': 981,\n",
              " 'goes': 982,\n",
              " 'raised': 983,\n",
              " 'trees': 984,\n",
              " 'bed': 985,\n",
              " 'tiger': 986,\n",
              " 'trabajo': 987,\n",
              " 'lab': 988,\n",
              " 'playground': 989,\n",
              " 'media': 990,\n",
              " 'drugs': 991,\n",
              " 'manager': 992,\n",
              " 'water': 993,\n",
              " 'charity': 994,\n",
              " 'happen': 995,\n",
              " 'coast': 996,\n",
              " 'field': 997,\n",
              " 'services': 998,\n",
              " 'ca': 999,\n",
              " 'hiii': 1000,\n",
              " ...}"
            ]
          },
          "execution_count": 11,
          "metadata": {},
          "output_type": "execute_result"
        }
      ],
      "source": [
        "word2idx_inputs"
      ]
    },
    {
      "cell_type": "markdown",
      "metadata": {},
      "source": [
        "*Y tokenizamos las palabras de salidas (target):*"
      ]
    },
    {
      "cell_type": "markdown",
      "metadata": {},
      "source": [
        "<!-- TODO: Consultar si es necesario dos tokenizadores. O solamente con uno (con los tokens de fin y inicio agregado ya serviría). Inclusive hacer un fit con todo el corpus. -->"
      ]
    },
    {
      "cell_type": "code",
      "execution_count": 12,
      "metadata": {},
      "outputs": [
        {
          "name": "stdout",
          "output_type": "stream",
          "text": [
            "Palabras en el vocabulario: 3888\n"
          ]
        }
      ],
      "source": [
        "output_tokenizer = Tokenizer(num_words=MAX_VOCAB_SIZE, filters=FILTERS)\n",
        "output_tokenizer.fit_on_texts([str(LABEL_SOS.strip()), str(LABEL_EOS.strip())] + output_sentences)\n",
        "output_integer_seq = output_tokenizer.texts_to_sequences(output_sentences)\n",
        "output_input_integer_seq = output_tokenizer.texts_to_sequences(output_sentences_inputs)\n",
        "\n",
        "word2idx_outputs = output_tokenizer.word_index\n",
        "print(\"Palabras en el vocabulario:\", len(word2idx_outputs))\n",
        "\n",
        "# Se suma 1 para incluir el token de palabra desconocida\n",
        "num_words_output = min(len(word2idx_outputs) + 1, MAX_VOCAB_SIZE) "
      ]
    },
    {
      "cell_type": "markdown",
      "metadata": {},
      "source": [
        "💡 <em><font color='IndianRed'>Hipótesis:</font></em>\n",
        "<em><font color='IndianRed'><p>Se define un máximo de sentencias de entrada y de salida respectivamente, comparando con los datos de entrenamiento. Esto es debido a que no tiene sentido generar más tamaño de estas secuencias, ya que serían datos que nunca fueron vistos por el modelo, y se empezaría a perder la coherencia luego de estos máximos.\n",
        "</p></font></em>"
      ]
    },
    {
      "cell_type": "markdown",
      "metadata": {},
      "source": [
        "*Luego que tenemos las sentencias, como veremos, tenemos de varios tamaños...*"
      ]
    },
    {
      "cell_type": "markdown",
      "metadata": {},
      "source": [
        "*Observamos `input_integer_seq`:*"
      ]
    },
    {
      "cell_type": "code",
      "execution_count": 13,
      "metadata": {},
      "outputs": [
        {
          "data": {
            "text/plain": [
              "<Axes: ylabel='Count'>"
            ]
          },
          "execution_count": 13,
          "metadata": {},
          "output_type": "execute_result"
        },
        {
          "data": {
            "image/png": "[encoded data removed]",
            "text/plain": [
              "<Figure size 640x480 with 1 Axes>"
            ]
          },
          "metadata": {},
          "output_type": "display_data"
        }
      ],
      "source": [
        "input_integer_seq_lenght = [len(sentence) for sentence in input_integer_seq]\n",
        "sns.histplot(input_integer_seq_lenght, bins=int(sqrt(len(input_integer_seq_lenght))))"
      ]
    },
    {
      "cell_type": "markdown",
      "metadata": {},
      "source": [
        "*Podemos observar los valores de la mediana o un percentil (ej:90):*"
      ]
    },
    {
      "cell_type": "code",
      "execution_count": 14,
      "metadata": {},
      "outputs": [
        {
          "name": "stdout",
          "output_type": "stream",
          "text": [
            "Mediana: 5.0\n",
            "Percentil 90: 12.0\n"
          ]
        }
      ],
      "source": [
        "print(f\"Mediana: {np.median(input_integer_seq_lenght)}\")\n",
        "print(f\"Percentil 90: {np.percentile(input_integer_seq_lenght, q=90)}\")"
      ]
    },
    {
      "cell_type": "markdown",
      "metadata": {},
      "source": [
        "*En este punto, podemos definir un tamaño máximo de 9 por ejemplo (sería el aproximadamente el percentil 75):*"
      ]
    },
    {
      "cell_type": "code",
      "execution_count": 15,
      "metadata": {},
      "outputs": [
        {
          "name": "stdout",
          "output_type": "stream",
          "text": [
            "Máximo tamaño de entrada: 9\n"
          ]
        }
      ],
      "source": [
        "max_input_len = 9\n",
        "print(\"Máximo tamaño de entrada:\", max_input_len)"
      ]
    },
    {
      "cell_type": "markdown",
      "metadata": {},
      "source": [
        "💡 <em><font color='IndianRed'>Hipótesis:</font></em>\n",
        "<em><font color='IndianRed'><p>Este valor definido es un hiperparámetro, el cual se debería tunear, en el sentido de que cuando mayor sea mejor, pero esto significa que habrán menos ejemplos para entrenar el modelo, lo que implica una mayor capacidad de generalización (inclusive sentencias con mucho padding empeoran esta problemática).</p></font></em>"
      ]
    },
    {
      "cell_type": "markdown",
      "metadata": {},
      "source": [
        "*Observamos `output_integer_seq`:*"
      ]
    },
    {
      "cell_type": "code",
      "execution_count": 16,
      "metadata": {},
      "outputs": [
        {
          "data": {
            "text/plain": [
              "<Axes: ylabel='Count'>"
            ]
          },
          "execution_count": 16,
          "metadata": {},
          "output_type": "execute_result"
        },
        {
          "data": {
            "image/png": "[encoded data removed]",
            "text/plain": [
              "<Figure size 640x480 with 1 Axes>"
            ]
          },
          "metadata": {},
          "output_type": "display_data"
        }
      ],
      "source": [
        "output_integer_seq_lenght = [len(sentence) for sentence in output_integer_seq]\n",
        "sns.histplot(output_integer_seq_lenght, bins=int(sqrt(len(output_integer_seq_lenght))))"
      ]
    },
    {
      "cell_type": "markdown",
      "metadata": {},
      "source": [
        "*Observamos los valores de la mediana y el percentil (ej:90):*"
      ]
    },
    {
      "cell_type": "code",
      "execution_count": 17,
      "metadata": {},
      "outputs": [
        {
          "name": "stdout",
          "output_type": "stream",
          "text": [
            "Mediana: 7.0\n",
            "Percentil 90: 13.0\n"
          ]
        }
      ],
      "source": [
        "print(f\"Mediana: {np.median(output_integer_seq_lenght)}\")\n",
        "print(f\"Percentil 90: {np.percentile(output_integer_seq_lenght, q=90)}\")"
      ]
    },
    {
      "cell_type": "markdown",
      "metadata": {},
      "source": [
        "*Definimos un valor máximo de 10 para este caso:*"
      ]
    },
    {
      "cell_type": "code",
      "execution_count": 18,
      "metadata": {},
      "outputs": [
        {
          "name": "stdout",
          "output_type": "stream",
          "text": [
            "Sentencia de salida más larga: 10\n"
          ]
        }
      ],
      "source": [
        "max_out_len = 10\n",
        "print(\"Sentencia de salida más larga:\", max_out_len)"
      ]
    },
    {
      "cell_type": "markdown",
      "metadata": {},
      "source": [
        "*Una vez definidos los valores, filtramos las sentencias, con la condición de filtrar aquellos índices que tanto la entrada como la salida cumplan con la condición de que la cantidad de elementos sea menor a lo establecido.*"
      ]
    },
    {
      "cell_type": "markdown",
      "metadata": {},
      "source": [
        "🔮 <em><font color='violet'>Función auxiliar:</font></em>\n",
        "<em><font color='violet'><p>Filtra las sentencias según máximos establecidos.</p></font></em>"
      ]
    },
    {
      "cell_type": "code",
      "execution_count": 19,
      "metadata": {},
      "outputs": [],
      "source": [
        "def filter_sequences(\n",
        "    input_seq, output_seq, output_input_seq, max_input_len, max_out_len\n",
        "):\n",
        "    filtered = [\n",
        "        (inp, out, out_inp)\n",
        "        for inp, out, out_inp in zip(input_seq, output_seq, output_input_seq)\n",
        "        if len(inp) <= max_input_len and len(out) <= max_out_len\n",
        "    ]\n",
        "    return map(list, zip(*filtered)) if filtered else ([], [], [])"
      ]
    },
    {
      "cell_type": "markdown",
      "metadata": {},
      "source": [
        "*Filtramos las setencias:*"
      ]
    },
    {
      "cell_type": "code",
      "execution_count": 20,
      "metadata": {},
      "outputs": [],
      "source": [
        "input_integer_seq, output_integer_seq, output_input_integer_seq = filter_sequences(\n",
        "    input_integer_seq,\n",
        "    output_integer_seq,\n",
        "    output_input_integer_seq,\n",
        "    max_input_len,\n",
        "    max_out_len,\n",
        ")"
      ]
    },
    {
      "cell_type": "markdown",
      "metadata": {},
      "source": [
        "*Para finalizar, se realiza padding para completar aquellas sentencias que son menores, con el objetivo de que todas queden del mismo tamaño:*"
      ]
    },
    {
      "cell_type": "markdown",
      "metadata": {},
      "source": [
        "📝 <em><font color='Gray'>Nota:</font></em>\n",
        "<em><font color='Gray'><p> la hora de realizar padding, es importante tener en cuenta que en el encoder los ceros se agregan al comienzo y en el decoder al final. Esto es porque la salida del encoder está basado en las últimas palabras de la sentencia (son las más importantes), mientras que en el decoder está basado en el comienzo de la secuencia de salida ya que es la realimentación del sistema y termina con fin de sentencia.</p></font></em>"
      ]
    },
    {
      "cell_type": "code",
      "execution_count": 21,
      "metadata": {},
      "outputs": [
        {
          "name": "stdout",
          "output_type": "stream",
          "text": [
            "Cantidad de rows del dataset: 9092\n",
            "encoder_input_sequences shape: (9092, 9)\n",
            "decoder_input_sequences shape: (9092, 10)\n"
          ]
        }
      ],
      "source": [
        "print(\"Cantidad de rows del dataset:\", len(input_integer_seq))\n",
        "\n",
        "encoder_input_sequences: np.ndarray = pad_sequences(input_integer_seq, maxlen=max_input_len)\n",
        "print(\"encoder_input_sequences shape:\", encoder_input_sequences.shape)\n",
        "\n",
        "decoder_input_sequences: np.ndarray = pad_sequences(output_input_integer_seq, maxlen=max_out_len, padding='post')\n",
        "print(\"decoder_input_sequences shape:\", decoder_input_sequences.shape)"
      ]
    },
    {
      "cell_type": "markdown",
      "metadata": {},
      "source": [
        "*La última capa del modelo (softmax) necesita que los valores de salida del decoder (decoder_sequences) estén en formato `oneHotEncoder`. Se utiliza `decoder_output_sequences` con la misma estrategia con que se transformó la entrada del decoder:*"
      ]
    },
    {
      "cell_type": "code",
      "execution_count": 22,
      "metadata": {},
      "outputs": [
        {
          "data": {
            "text/plain": [
              "(9092, 10, 3889)"
            ]
          },
          "execution_count": 22,
          "metadata": {},
          "output_type": "execute_result"
        }
      ],
      "source": [
        "decoder_output_sequences = pad_sequences(output_integer_seq, maxlen=max_out_len, padding='post')\n",
        "decoder_targets = to_categorical(decoder_output_sequences, num_classes=num_words_output)\n",
        "decoder_targets.shape"
      ]
    },
    {
      "cell_type": "markdown",
      "metadata": {},
      "source": [
        "📝 <em><font color='Gray'>Nota:</font></em>\n",
        "<em><font color='Gray'><p>\n",
        "\n",
        "O sea, `decoder_targets` tiene una dimensión $(cantSent, cantSeq, vocab)$, donde:\n",
        "- $cantSent$ $\\rightarrow$ Son la cantidad de sentencias a procesar, en este caso, 10885.\n",
        "- $cantSeq$ $\\rightarrow$ Es la cantidad de térmios (tokens) dentro de una sentencia, en este caso, son sentencias de tamaño 10.\n",
        "- $vocab$ $\\rightarrow$ Tamaño del vocabulario + 1 (término OOV).\n",
        "\n",
        "</p></font></em>"
      ]
    },
    {
      "cell_type": "markdown",
      "metadata": {},
      "source": [
        "### Parte 3"
      ]
    },
    {
      "cell_type": "markdown",
      "metadata": {},
      "source": [
        "> Utilizar los embeddings de *Glove* o *FastText* para transformar los tokens de entrada en vectores."
      ]
    },
    {
      "cell_type": "markdown",
      "metadata": {},
      "source": [
        "<em><p>\n",
        "\n",
        "Para descargar los embeddings se puede realizar de la siguiente página:\n",
        "\n",
        "- Glove: https://nlp.stanford.edu/projects/glove/\n",
        "- FastText: https://fasttext.cc/docs/en/english-vectors.html\n",
        "\n",
        "</p></em>"
      ]
    },
    {
      "cell_type": "markdown",
      "metadata": {},
      "source": [
        "*Inicialmente, tenemos que descargar los embeddings...*"
      ]
    },
    {
      "cell_type": "markdown",
      "metadata": {},
      "source": [
        "🤖 <em><font color='DarkGoldenRod'>Consulta a IA (ChatGPT 4o):</font></em> 🤖\n",
        "\n",
        "❔ <em><font color='GoldenRod'>Prompt:</font></em>\n",
        "<em><font color='GoldenRod'><p>\n",
        "\n",
        "Podrías realizar el código para descargar unos embeddings de GloVe y FastText? Debe seguir los siguientes pasos:\n",
        "1 - Chequear que ya no exista el archivo pickle localmente.\n",
        "2 - Sino existe, intentar descargar desde el Drive (Gdown).\n",
        "3 - Sino extá disponible el del Drive, descargar desde la URL original. En este caso, se debe descomprimir.\n",
        "\n",
        "Hacer una función para luego utilizarla para los dos casos.\n",
        "\n",
        "Estas son las URL y direcciones:\n",
        "\n",
        "DRIVE_GLOVE_URL = 'https://drive.google.com/uc?id=1KY6avD5I1eI2dxQzMkR3WExwKwRq2g94&export=download'\n",
        "GLOVE_EMBEDDINGS_PICKLE_PATH = 'resources/gloveembedding.pkl'\n",
        "ORIGINAL_GLOVE_URL = 'https://nlp.stanford.edu/data/glove.6B.zip'\n",
        "GLOVE_EMBEDDINGS_UNZIP_PATH = 'glove.6B.50d.txt'\n",
        "\n",
        "\n",
        "DRIVE_FASTTEXT_URL = 'https://drive.google.com/u/0/uc?id=1Qi1r-u5lsEsNqRSxLrpNOqQ3B_ufltCa'\n",
        "FASTTEXT_EMBEDDINGS_PICKLE_PATH = 'resources/fasttextembedding.pkl'\n",
        "ORIGINAL_FASTTEXT_URL = 'https://dl.fbaipublicfiles.com/fasttext/vectors-crawl/cc.en.300.vec.gz'\n",
        "FASTTEXT_EMBEDDINGS_UNZIP_PATH = 'cc.en.300.vec'\n",
        "\n",
        "</p></font></em>\n",
        "\n",
        "🔃 <em><font color='BurlyWood'>Respuesta:</font></em>\n",
        "<em><font color='BurlyWood'><p>\n",
        "\n",
        "A continuación te proporciono una función que implementa el flujo descrito para descargar embeddings de GloVe y FastText, verificando primero si el archivo ya existe en el sistema local como un archivo pickle, luego intentando descargarlo desde Google Drive si no existe, y finalmente descargándolo desde la URL original y descomprimiéndolo si tampoco está disponible en Drive.\n",
        "\n",
        "Para manejar las descargas, usaremos gdown para Drive, y requests junto con zipfile y gzip para la descompresión. El código está dividido en una única función para ser reutilizada en ambos casos (GloVe y FastText):\n",
        "\n",
        "```python\n",
        "import os\n",
        "import gdown\n",
        "import requests\n",
        "import zipfile\n",
        "import gzip\n",
        "import shutil\n",
        "\n",
        "def descargar_embeddings(pickle_path, drive_url, original_url, unzip_path):\n",
        "    \"\"\"\n",
        "    Función para descargar embeddings si no existe el archivo pickle.\n",
        "    Primero intenta descargarlo desde Google Drive, y si falla, lo descarga desde la URL original.\n",
        "    \n",
        "    :param pickle_path: Ruta local donde se almacenará el archivo pickle.\n",
        "    :param drive_url: URL de descarga de Google Drive.\n",
        "    :param original_url: URL original para descargar el archivo comprimido.\n",
        "    :param unzip_path: Ruta del archivo dentro del zip/gz que se debe extraer.\n",
        "    \"\"\"\n",
        "    if os.path.exists(pickle_path):\n",
        "        print(f\"El archivo pickle ya existe en {pickle_path}. No es necesario descargarlo.\")\n",
        "        return\n",
        "    \n",
        "    # Intentar descargar desde Google Drive\n",
        "    try:\n",
        "        print(f\"Intentando descargar desde Google Drive: {drive_url}\")\n",
        "        gdown.download(drive_url, pickle_path, quiet=False)\n",
        "        if os.path.exists(pickle_path):\n",
        "            print(f\"Descarga exitosa desde Google Drive: {pickle_path}\")\n",
        "            return\n",
        "    except Exception as e:\n",
        "        print(f\"Falló la descarga desde Google Drive: {e}\")\n",
        "    \n",
        "    # Si no existe, intentar descargar desde la URL original\n",
        "    print(f\"Intentando descargar desde la URL original: {original_url}\")\n",
        "    try:\n",
        "        response = requests.get(original_url, stream=True)\n",
        "        zip_filename = original_url.split(\"/\")[-1]\n",
        "        \n",
        "        with open(zip_filename, 'wb') as f:\n",
        "            shutil.copyfileobj(response.raw, f)\n",
        "        \n",
        "        # Descomprimir si es necesario\n",
        "        if zip_filename.endswith('.zip'):\n",
        "            print(\"Descomprimiendo archivo .zip\")\n",
        "            with zipfile.ZipFile(zip_filename, 'r') as zip_ref:\n",
        "                zip_ref.extract(unzip_path)\n",
        "        elif zip_filename.endswith('.gz'):\n",
        "            print(\"Descomprimiendo archivo .gz\")\n",
        "            with gzip.open(zip_filename, 'rb') as f_in:\n",
        "                with open(unzip_path, 'wb') as f_out:\n",
        "                    shutil.copyfileobj(f_in, f_out)\n",
        "\n",
        "        print(f\"Archivo descomprimido correctamente en {unzip_path}\")\n",
        "\n",
        "    except Exception as e:\n",
        "        print(f\"Falló la descarga desde la URL original: {e}\")\n",
        "\n",
        "# Uso de la función para GloVe\n",
        "DRIVE_GLOVE_URL = 'https://drive.google.com/uc?id=1KY6avD5I1eI2dxQzMkR3WExwKwRq2g94&export=download'\n",
        "GLOVE_EMBEDDINGS_PICKLE_PATH = 'resources/gloveembedding.pkl'\n",
        "ORIGINAL_GLOVE_URL = 'https://nlp.stanford.edu/data/glove.6B.zip'\n",
        "GLOVE_EMBEDDINGS_UNZIP_PATH = 'glove.6B.50d.txt'\n",
        "\n",
        "descargar_embeddings(GLOVE_EMBEDDINGS_PICKLE_PATH, DRIVE_GLOVE_URL, ORIGINAL_GLOVE_URL, GLOVE_EMBEDDINGS_UNZIP_PATH)\n",
        "\n",
        "# Uso de la función para FastText\n",
        "DRIVE_FASTTEXT_URL = 'https://drive.google.com/u/0/uc?id=1Qi1r-u5lsEsNqRSxLrpNOqQ3B_ufltCa'\n",
        "FASTTEXT_EMBEDDINGS_PICKLE_PATH = 'resources/fasttextembedding.pkl'\n",
        "ORIGINAL_FASTTEXT_URL = 'https://dl.fbaipublicfiles.com/fasttext/vectors-crawl/cc.en.300.vec.gz'\n",
        "FASTTEXT_EMBEDDINGS_UNZIP_PATH = 'cc.en.300.vec'\n",
        "\n",
        "descargar_embeddings(FASTTEXT_EMBEDDINGS_PICKLE_PATH, DRIVE_FASTTEXT_URL, ORIGINAL_FASTTEXT_URL, FASTTEXT_EMBEDDINGS_UNZIP_PATH)\n",
        "```\n",
        "\n",
        "<strong>Explicación del código:</strong>\n",
        "\n",
        "1. Chequeo local: Primero se verifica si el archivo pickle ya existe localmente.\n",
        "2. Descarga desde Google Drive: Si no existe el archivo, se intenta descargar usando gdown.\n",
        "3. Descarga desde la URL original: Si la descarga de Google Drive falla, se intenta descargar desde la URL original usando requests.\n",
        "4. Descompresión: Dependiendo del tipo de archivo (.zip o .gz), se descomprime usando zipfile o gzip.\n",
        "5. Reutilización: La misma función descargar_embeddings se puede usar para ambos casos, GloVe y FastText, con diferentes URLs y rutas de archivos.\n",
        "\n",
        "¡De esta forma tienes una implementación reutilizable y flexible para gestionar las descargas de embeddings!\n",
        "\n",
        "</p></font></em>"
      ]
    },
    {
      "cell_type": "markdown",
      "metadata": {},
      "source": [
        "🔮 <em><font color='violet'>Función auxiliar:</font></em>\n",
        "<em><font color='violet'><p>Función para obtener los embeddings online.</p></font></em>"
      ]
    },
    {
      "cell_type": "code",
      "execution_count": 23,
      "metadata": {},
      "outputs": [],
      "source": [
        "def descargar_embeddings(pickle_path, drive_url, original_url, unzip_path):\n",
        "    \"\"\"\n",
        "    Función para descargar embeddings si no existe el archivo pickle.\n",
        "    Primero intenta descargarlo desde Google Drive, y si falla, lo descarga desde la URL original.\n",
        "    \n",
        "    :param pickle_path: Ruta local donde se almacenará el archivo pickle.\n",
        "    :param drive_url: URL de descarga de Google Drive.\n",
        "    :param original_url: URL original para descargar el archivo comprimido.\n",
        "    :param unzip_path: Ruta del archivo dentro del zip/gz que se debe extraer.\n",
        "    \"\"\"\n",
        "    if os.path.exists(pickle_path):\n",
        "        print(f\"El archivo pickle ya existe en {pickle_path}. No es necesario descargarlo.\")\n",
        "        return\n",
        "    \n",
        "    # Intentar descargar desde Google Drive\n",
        "    try:\n",
        "        print(f\"Intentando descargar desde Google Drive: {drive_url}\")\n",
        "        gdown.download(drive_url, pickle_path, quiet=False)\n",
        "        if os.path.exists(pickle_path):\n",
        "            print(f\"Descarga exitosa desde Google Drive: {pickle_path}\")\n",
        "            return\n",
        "    except Exception as e:\n",
        "        print(f\"Falló la descarga desde Google Drive: {e}\")\n",
        "    \n",
        "    # Si no existe, intentar descargar desde la URL original\n",
        "    print(f\"Intentando descargar desde la URL original: {original_url}\")\n",
        "    try:\n",
        "        response = requests.get(original_url, stream=True)\n",
        "        zip_filename = original_url.split(\"/\")[-1]\n",
        "        \n",
        "        with open(zip_filename, 'wb') as f:\n",
        "            shutil.copyfileobj(response.raw, f)\n",
        "        \n",
        "        # Descomprimir si es necesario\n",
        "        if zip_filename.endswith('.zip'):\n",
        "            print(\"Descomprimiendo archivo .zip\")\n",
        "            with zipfile.ZipFile(zip_filename, 'r') as zip_ref:\n",
        "                zip_ref.extract(unzip_path)\n",
        "        elif zip_filename.endswith('.gz'):\n",
        "            print(\"Descomprimiendo archivo .gz\")\n",
        "            with gzip.open(zip_filename, 'rb') as f_in:\n",
        "                with open(unzip_path, 'wb') as f_out:\n",
        "                    shutil.copyfileobj(f_in, f_out)\n",
        "\n",
        "        print(f\"Archivo descomprimido correctamente en {unzip_path}\")\n",
        "\n",
        "    except Exception as e:\n",
        "        print(f\"Falló la descarga desde la URL original: {e}\")"
      ]
    },
    {
      "cell_type": "markdown",
      "metadata": {},
      "source": [
        "*Descargamos los embeddings:*"
      ]
    },
    {
      "cell_type": "code",
      "execution_count": 24,
      "metadata": {},
      "outputs": [
        {
          "name": "stdout",
          "output_type": "stream",
          "text": [
            "El archivo pickle ya existe en resources/gloveembedding.pkl. No es necesario descargarlo.\n",
            "El archivo pickle ya existe en resources/fasttextembedding.pkl. No es necesario descargarlo.\n"
          ]
        }
      ],
      "source": [
        "descargar_embeddings(GLOVE_EMBEDDINGS_PICKLE_PATH, DRIVE_GLOVE_URL, ORIGINAL_GLOVE_URL, GLOVE_EMBEDDINGS_UNZIP_PATH)\n",
        "descargar_embeddings(FASTTEXT_EMBEDDINGS_PICKLE_PATH, DRIVE_FASTTEXT_URL, ORIGINAL_FASTTEXT_URL, FASTTEXT_EMBEDDINGS_UNZIP_PATH)"
      ]
    },
    {
      "cell_type": "markdown",
      "metadata": {},
      "source": [
        "🔮 <em><font color='violet'>Función auxiliar:</font></em>\n",
        "<em><font color='violet'><p>[Descripción de la función auxiliar...]</p></font></em>"
      ]
    },
    {
      "cell_type": "markdown",
      "metadata": {},
      "source": [
        "🔮 <em><font color='violet'>Función auxiliar:</font></em>\n",
        "<em><font color='violet'><p>Clase auxiliar para procesar los embeddings de forma común. Incluye como cargar los embeddings a partir de sus pickles y guardarlos, así como también funciónes para obtener términos dados, índices y viceversa.</p></font></em>"
      ]
    },
    {
      "cell_type": "code",
      "execution_count": 25,
      "metadata": {},
      "outputs": [],
      "source": [
        "class WordsEmbeddings(object):\n",
        "    logger = logging.getLogger(__name__)\n",
        "\n",
        "    def __init__(self):\n",
        "        # load the embeddings\n",
        "        words_embedding_pkl = Path(self.PKL_PATH)\n",
        "        if not words_embedding_pkl.is_file():\n",
        "            words_embedding_txt = Path(self.WORD_TO_VEC_MODEL_TXT_PATH)\n",
        "            assert words_embedding_txt.is_file(), \"Words embedding not available\"\n",
        "            embeddings = self.convert_model_to_pickle()\n",
        "        else:\n",
        "            embeddings = self.load_model_from_pickle()\n",
        "        self.embeddings = embeddings\n",
        "        # build the vocabulary hashmap\n",
        "        index = np.arange(self.embeddings.shape[0])\n",
        "        # Dicctionarios para traducir de embedding a IDX de la palabra\n",
        "        self.word2idx = dict(zip(self.embeddings[\"word\"], index))\n",
        "        self.idx2word = dict(zip(index, self.embeddings[\"word\"]))\n",
        "\n",
        "    def get_words_embeddings(self, words):\n",
        "        words_idxs = self.words2idxs(words)\n",
        "        return self.embeddings[words_idxs][\"embedding\"]\n",
        "\n",
        "    def words2idxs(self, words):\n",
        "        return np.array([self.word2idx.get(word, -1) for word in words])\n",
        "\n",
        "    def idxs2words(self, idxs):\n",
        "        return np.array([self.idx2word.get(idx, \"-1\") for idx in idxs])\n",
        "\n",
        "    def load_model_from_pickle(self):\n",
        "        self.logger.debug(\n",
        "            \"loading words embeddings from pickle {}\".format(self.PKL_PATH)\n",
        "        )\n",
        "        max_bytes = 2**28 - 1  # 256MB\n",
        "        bytes_in = bytearray(0)\n",
        "        input_size = os.path.getsize(self.PKL_PATH)\n",
        "        with open(self.PKL_PATH, \"rb\") as f_in:\n",
        "            for _ in range(0, input_size, max_bytes):\n",
        "                bytes_in += f_in.read(max_bytes)\n",
        "        embeddings = pickle.loads(bytes_in)\n",
        "        self.logger.debug(\"words embeddings loaded\")\n",
        "        return embeddings\n",
        "\n",
        "    def convert_model_to_pickle(self):\n",
        "        # create a numpy strctured array:\n",
        "        # word     embedding\n",
        "        # U50      np.float32[]\n",
        "        # word_1   a, b, c\n",
        "        # word_2   d, e, f\n",
        "        # ...\n",
        "        # word_n   g, h, i\n",
        "        self.logger.debug(\n",
        "            \"converting and loading words embeddings from text file {}\".format(\n",
        "                self.WORD_TO_VEC_MODEL_TXT_PATH\n",
        "            )\n",
        "        )\n",
        "        structure = [\n",
        "            (\"word\", np.dtype(\"U\" + str(self.WORD_MAX_SIZE))),\n",
        "            (\"embedding\", np.float32, (self.N_FEATURES,)),\n",
        "        ]\n",
        "        structure = np.dtype(structure)\n",
        "        # load numpy array from disk using a generator\n",
        "        with open(\n",
        "            self.WORD_TO_VEC_MODEL_TXT_PATH, encoding=\"utf8\"\n",
        "        ) as words_embeddings_txt:\n",
        "            embeddings_gen = (\n",
        "                (line.split()[0], line.split()[1:])\n",
        "                for line in words_embeddings_txt\n",
        "                if len(line.split()[1:]) == self.N_FEATURES\n",
        "            )\n",
        "            embeddings = np.fromiter(embeddings_gen, structure)\n",
        "        # add a null embedding\n",
        "        null_embedding = np.array(\n",
        "            [(\"null_embedding\", np.zeros((self.N_FEATURES,), dtype=np.float32))],\n",
        "            dtype=structure,\n",
        "        )\n",
        "        embeddings = np.concatenate([embeddings, null_embedding])\n",
        "        # dump numpy array to disk using pickle\n",
        "        max_bytes = 2**28 - 1  # # 256MB\n",
        "        bytes_out = pickle.dumps(embeddings, protocol=pickle.HIGHEST_PROTOCOL)\n",
        "        with open(self.PKL_PATH, \"wb\") as f_out:\n",
        "            for idx in range(0, len(bytes_out), max_bytes):\n",
        "                f_out.write(bytes_out[idx : idx + max_bytes])\n",
        "        self.logger.debug(\"words embeddings loaded\")\n",
        "        return embeddings\n",
        "\n",
        "\n",
        "# Armamos clases particulares para manejar los embeddings de Glove y Fasttext\n",
        "# que heredan de la clase anterior WordsEmbeddings\n",
        "class GloveEmbeddings(WordsEmbeddings):\n",
        "    WORD_TO_VEC_MODEL_TXT_PATH = GLOVE_EMBEDDINGS_UNZIP_PATH\n",
        "    PKL_PATH = GLOVE_EMBEDDINGS_PICKLE_PATH\n",
        "    N_FEATURES = 50\n",
        "    WORD_MAX_SIZE = 60\n",
        "\n",
        "\n",
        "class FasttextEmbeddings(WordsEmbeddings):\n",
        "    WORD_TO_VEC_MODEL_TXT_PATH = FASTTEXT_EMBEDDINGS_UNZIP_PATH\n",
        "    PKL_PATH = FASTTEXT_EMBEDDINGS_PICKLE_PATH\n",
        "    N_FEATURES = 300\n",
        "    WORD_MAX_SIZE = 60"
      ]
    },
    {
      "cell_type": "markdown",
      "metadata": {},
      "source": [
        "*Instanciamos los embeddings:*"
      ]
    },
    {
      "cell_type": "code",
      "execution_count": 26,
      "metadata": {},
      "outputs": [],
      "source": [
        "model_embeddings = GloveEmbeddings()"
      ]
    },
    {
      "cell_type": "markdown",
      "metadata": {},
      "source": [
        "*Creamos la matriz de embeddings pre-entrenados, que luego le pasaremos como pesos a la capa de embedding de nuestro modelo:*"
      ]
    },
    {
      "cell_type": "markdown",
      "metadata": {},
      "source": [
        "📝 <em><font color='Gray'>Nota:</font></em>\n",
        "<em><font color='Gray'><p>Esta matriz tendrá solamente aquellas palabras que estén en nuestro vocabulario, dado que el embedding pre-entrenado, fue entrenado con un vocabulario mucho mayor.</p></font></em>"
      ]
    },
    {
      "cell_type": "code",
      "execution_count": 27,
      "metadata": {},
      "outputs": [
        {
          "name": "stdout",
          "output_type": "stream",
          "text": [
            "Preparing embedding matrix...\n",
            "Number of null word embeddings: 67\n",
            "Words not found: 66\n"
          ]
        }
      ],
      "source": [
        "print('Preparing embedding matrix...')\n",
        "# Dimensión de los vectores de embedding (50 para GloVe en este caso)\n",
        "embed_dim = model_embeddings.N_FEATURES\n",
        "\n",
        "# Lista para almacenar palabras no encontradas en el modelo de embeddings.\n",
        "words_not_found = []\n",
        "\n",
        "# Número de palabras a incluir, limitado por MAX_VOCAB_SIZE o el tamaño del vocabulario de entrada. En este caso los 3894 de nuestro vocabulario.\n",
        "nb_words = min(MAX_VOCAB_SIZE, len(word2idx_inputs))\n",
        "\n",
        "embedding_matrix = np.zeros((nb_words, embed_dim))\n",
        "for word, i in word2idx_inputs.items():\n",
        "    if i >= nb_words:\n",
        "        continue\n",
        "    word_idx = model_embeddings.words2idxs(word)[0]\n",
        "    if word_idx != -1:  # La palabra se encontró en el modelo de embeddings\n",
        "        embedding_vector = model_embeddings.get_words_embeddings(word)[0]\n",
        "        embedding_matrix[i] = embedding_vector\n",
        "    else:\n",
        "        # Palabra no encontrada en el índice de embeddings\n",
        "        # Se deja como un vector de ceros en embedding_matrix[i]\n",
        "        words_not_found.append(word)\n",
        "\n",
        "print('Number of null word embeddings:', np.sum(np.all(embedding_matrix == 0, axis=1)))\n",
        "print('Words not found:', len(words_not_found))"
      ]
    },
    {
      "cell_type": "markdown",
      "metadata": {},
      "source": [
        "*Podemos ver cuales palabras no fueron encontradas en nuestro embedding pre-entrenado:*"
      ]
    },
    {
      "cell_type": "code",
      "execution_count": 28,
      "metadata": {},
      "outputs": [
        {
          "data": {
            "text/plain": [
              "['1',\n",
              " '2',\n",
              " '3',\n",
              " '18',\n",
              " '12',\n",
              " '32',\n",
              " '5',\n",
              " '19',\n",
              " '20',\n",
              " '22',\n",
              " '30',\n",
              " '100',\n",
              " '33',\n",
              " '4',\n",
              " '10',\n",
              " '17',\n",
              " '35',\n",
              " '25',\n",
              " '24',\n",
              " '8',\n",
              " '21',\n",
              " '80',\n",
              " '13',\n",
              " '56',\n",
              " '14',\n",
              " '7',\n",
              " '9',\n",
              " '40',\n",
              " '2011',\n",
              " '3rd',\n",
              " '26',\n",
              " '6',\n",
              " '4m',\n",
              " '23d',\n",
              " '2nd',\n",
              " '36',\n",
              " '3pm',\n",
              " '40k',\n",
              " '16',\n",
              " '80is',\n",
              " '41',\n",
              " '100km',\n",
              " '2015',\n",
              " '8th',\n",
              " '60',\n",
              " '11th',\n",
              " 'ൻ',\n",
              " 'ങ',\n",
              " 'ൽ',\n",
              " '23',\n",
              " '386',\n",
              " '27',\n",
              " '46',\n",
              " '43',\n",
              " '220',\n",
              " '12th',\n",
              " '11',\n",
              " '20s',\n",
              " 'भ',\n",
              " '10th',\n",
              " '3kids',\n",
              " '15',\n",
              " '54',\n",
              " '42',\n",
              " '9th',\n",
              " '300']"
            ]
          },
          "execution_count": 28,
          "metadata": {},
          "output_type": "execute_result"
        }
      ],
      "source": [
        "words_not_found"
      ]
    },
    {
      "cell_type": "markdown",
      "metadata": {},
      "source": [
        "*Finalmente, podemos ver la forma de la matriz de embeddings:*"
      ]
    },
    {
      "cell_type": "code",
      "execution_count": 29,
      "metadata": {},
      "outputs": [
        {
          "data": {
            "text/plain": [
              "(3908, 50)"
            ]
          },
          "execution_count": 29,
          "metadata": {},
          "output_type": "execute_result"
        }
      ],
      "source": [
        "embedding_matrix.shape"
      ]
    },
    {
      "cell_type": "markdown",
      "metadata": {},
      "source": [
        "### Parte 4"
      ]
    },
    {
      "cell_type": "markdown",
      "metadata": {},
      "source": [
        "> Entrenar un modelo basado en el esquema *encoder-decoder* utilizando los datos generados en los puntos anteriores."
      ]
    },
    {
      "cell_type": "markdown",
      "metadata": {},
      "source": [
        "*Para el entrenamiento, tenemos que definir el $encoder$ y el $decoder$.*"
      ]
    },
    {
      "cell_type": "markdown",
      "metadata": {},
      "source": [
        "*Primeramente, definimos una función que genere el $Encoder$:*"
      ]
    },
    {
      "cell_type": "code",
      "execution_count": 30,
      "metadata": {},
      "outputs": [],
      "source": [
        "# Función para crear el encoder\n",
        "def create_encoder(max_input_len, nb_words, embed_dim, embedding_matrix, n_units):\n",
        "    # Definir entradas del encoder\n",
        "    encoder_inputs = Input(shape=(max_input_len,))\n",
        "    \n",
        "    # Capa de embeddings del encoder\n",
        "    encoder_embedding_layer = Embedding(\n",
        "        input_dim=nb_words,  \n",
        "        output_dim=embed_dim,  \n",
        "        input_length=max_input_len,\n",
        "        weights=[embedding_matrix],  \n",
        "        trainable=False)\n",
        "    \n",
        "    # Pasamos primero por la capa de embeddings.\n",
        "    encoder_inputs_x = encoder_embedding_layer(encoder_inputs)\n",
        "    \n",
        "    # LSTM del encoder\n",
        "    encoder = LSTM(n_units, return_state=True)\n",
        "\n",
        "    # Pasamos por la LSTM (esta devuelve la salida y los estados ocultos, la salida no la usamos)\n",
        "    _, state_h, state_c = encoder(encoder_inputs_x)\n",
        "    encoder_states = [state_h, state_c]\n",
        "    \n",
        "    # Devolvemos los estados ocultos y la entrada.\n",
        "    return encoder_inputs, encoder_states"
      ]
    },
    {
      "cell_type": "markdown",
      "metadata": {},
      "source": [
        "*Después, definimos el $Decoder$:*"
      ]
    },
    {
      "cell_type": "markdown",
      "metadata": {},
      "source": [
        "<!-- TODO: Podríamos utilizar la misma capa de embeddings sin entrenar? -->"
      ]
    },
    {
      "cell_type": "code",
      "execution_count": 31,
      "metadata": {},
      "outputs": [],
      "source": [
        "# Función para crear el decoder\n",
        "def create_decoder(max_out_len, num_words_output, encoder_states, n_units):\n",
        "    # Definir entradas del decoder\n",
        "    decoder_inputs = Input(shape=(max_out_len,))\n",
        "    \n",
        "    # Capa de embeddings del decoder\n",
        "    decoder_embedding_layer = Embedding(input_dim=num_words_output, output_dim=n_units, input_length=max_out_len)\n",
        "    decoder_inputs_x = decoder_embedding_layer(decoder_inputs)\n",
        "    \n",
        "    # LSTM del decoder\n",
        "    decoder_lstm = LSTM(n_units, return_sequences=True, return_state=True)\n",
        "    decoder_outputs, _, _ = decoder_lstm(decoder_inputs_x, initial_state=encoder_states)\n",
        "    \n",
        "    # Capa Dense\n",
        "    decoder_dense = Dense(num_words_output, activation='softmax')\n",
        "    decoder_outputs = decoder_dense(decoder_outputs)\n",
        "    \n",
        "    # Devolvemos referencias que luego se utilizarán para crear solo el decoder.\n",
        "    return decoder_inputs, decoder_outputs, decoder_lstm, decoder_dense, decoder_embedding_layer"
      ]
    },
    {
      "cell_type": "markdown",
      "metadata": {},
      "source": [
        "*Instanciamos el modelo:*"
      ]
    },
    {
      "cell_type": "code",
      "execution_count": 32,
      "metadata": {},
      "outputs": [
        {
          "name": "stdout",
          "output_type": "stream",
          "text": [
            "max_input_len: 9\n",
            "nb_words: 3908\n",
            "embed_dim: 50\n",
            "embedding_matrix.shape: (3908, 50)\n",
            "max_out_len: 10\n",
            "num_words_output: 3889\n"
          ]
        },
        {
          "name": "stderr",
          "output_type": "stream",
          "text": [
            "d:\\Documentos\\Git Repositories\\uba-ceia\\.venv\\Lib\\site-packages\\keras\\src\\layers\\core\\embedding.py:90: UserWarning: Argument `input_length` is deprecated. Just remove it.\n",
            "  warnings.warn(\n"
          ]
        },
        {
          "data": {
            "text/html": [
              "<pre style=\"white-space:pre;overflow-x:auto;line-height:normal;font-family:Menlo,'DejaVu Sans Mono',consolas,'Courier New',monospace\"><span style=\"font-weight: bold\">Model: \"functional\"</span>\n",
              "</pre>\n"
            ],
            "text/plain": [
              "\u001b[1mModel: \"functional\"\u001b[0m\n"
            ]
          },
          "metadata": {},
          "output_type": "display_data"
        },
        {
          "data": {
            "text/html": [
              "<pre style=\"white-space:pre;overflow-x:auto;line-height:normal;font-family:Menlo,'DejaVu Sans Mono',consolas,'Courier New',monospace\">┏━━━━━━━━━━━━━━━━━━━━━┳━━━━━━━━━━━━━━━━━━━┳━━━━━━━━━━━━┳━━━━━━━━━━━━━━━━━━━┓\n",
              "┃<span style=\"font-weight: bold\"> Layer (type)        </span>┃<span style=\"font-weight: bold\"> Output Shape      </span>┃<span style=\"font-weight: bold\">    Param # </span>┃<span style=\"font-weight: bold\"> Connected to      </span>┃\n",
              "┡━━━━━━━━━━━━━━━━━━━━━╇━━━━━━━━━━━━━━━━━━━╇━━━━━━━━━━━━╇━━━━━━━━━━━━━━━━━━━┩\n",
              "│ input_layer         │ (<span style=\"color: #00d7ff; text-decoration-color: #00d7ff\">None</span>, <span style=\"color: #00af00; text-decoration-color: #00af00\">9</span>)         │          <span style=\"color: #00af00; text-decoration-color: #00af00\">0</span> │ -                 │\n",
              "│ (<span style=\"color: #0087ff; text-decoration-color: #0087ff\">InputLayer</span>)        │                   │            │                   │\n",
              "├─────────────────────┼───────────────────┼────────────┼───────────────────┤\n",
              "│ input_layer_1       │ (<span style=\"color: #00d7ff; text-decoration-color: #00d7ff\">None</span>, <span style=\"color: #00af00; text-decoration-color: #00af00\">10</span>)        │          <span style=\"color: #00af00; text-decoration-color: #00af00\">0</span> │ -                 │\n",
              "│ (<span style=\"color: #0087ff; text-decoration-color: #0087ff\">InputLayer</span>)        │                   │            │                   │\n",
              "├─────────────────────┼───────────────────┼────────────┼───────────────────┤\n",
              "│ embedding           │ (<span style=\"color: #00d7ff; text-decoration-color: #00d7ff\">None</span>, <span style=\"color: #00af00; text-decoration-color: #00af00\">9</span>, <span style=\"color: #00af00; text-decoration-color: #00af00\">50</span>)     │    <span style=\"color: #00af00; text-decoration-color: #00af00\">195,400</span> │ input_layer[<span style=\"color: #00af00; text-decoration-color: #00af00\">0</span>][<span style=\"color: #00af00; text-decoration-color: #00af00\">0</span>] │\n",
              "│ (<span style=\"color: #0087ff; text-decoration-color: #0087ff\">Embedding</span>)         │                   │            │                   │\n",
              "├─────────────────────┼───────────────────┼────────────┼───────────────────┤\n",
              "│ embedding_1         │ (<span style=\"color: #00d7ff; text-decoration-color: #00d7ff\">None</span>, <span style=\"color: #00af00; text-decoration-color: #00af00\">10</span>, <span style=\"color: #00af00; text-decoration-color: #00af00\">128</span>)   │    <span style=\"color: #00af00; text-decoration-color: #00af00\">497,792</span> │ input_layer_1[<span style=\"color: #00af00; text-decoration-color: #00af00\">0</span>]… │\n",
              "│ (<span style=\"color: #0087ff; text-decoration-color: #0087ff\">Embedding</span>)         │                   │            │                   │\n",
              "├─────────────────────┼───────────────────┼────────────┼───────────────────┤\n",
              "│ lstm (<span style=\"color: #0087ff; text-decoration-color: #0087ff\">LSTM</span>)         │ [(<span style=\"color: #00d7ff; text-decoration-color: #00d7ff\">None</span>, <span style=\"color: #00af00; text-decoration-color: #00af00\">128</span>),     │     <span style=\"color: #00af00; text-decoration-color: #00af00\">91,648</span> │ embedding[<span style=\"color: #00af00; text-decoration-color: #00af00\">0</span>][<span style=\"color: #00af00; text-decoration-color: #00af00\">0</span>]   │\n",
              "│                     │ (<span style=\"color: #00d7ff; text-decoration-color: #00d7ff\">None</span>, <span style=\"color: #00af00; text-decoration-color: #00af00\">128</span>),      │            │                   │\n",
              "│                     │ (<span style=\"color: #00d7ff; text-decoration-color: #00d7ff\">None</span>, <span style=\"color: #00af00; text-decoration-color: #00af00\">128</span>)]      │            │                   │\n",
              "├─────────────────────┼───────────────────┼────────────┼───────────────────┤\n",
              "│ lstm_1 (<span style=\"color: #0087ff; text-decoration-color: #0087ff\">LSTM</span>)       │ [(<span style=\"color: #00d7ff; text-decoration-color: #00d7ff\">None</span>, <span style=\"color: #00af00; text-decoration-color: #00af00\">10</span>, <span style=\"color: #00af00; text-decoration-color: #00af00\">128</span>), │    <span style=\"color: #00af00; text-decoration-color: #00af00\">131,584</span> │ embedding_1[<span style=\"color: #00af00; text-decoration-color: #00af00\">0</span>][<span style=\"color: #00af00; text-decoration-color: #00af00\">0</span>… │\n",
              "│                     │ (<span style=\"color: #00d7ff; text-decoration-color: #00d7ff\">None</span>, <span style=\"color: #00af00; text-decoration-color: #00af00\">128</span>),      │            │ lstm[<span style=\"color: #00af00; text-decoration-color: #00af00\">0</span>][<span style=\"color: #00af00; text-decoration-color: #00af00\">1</span>],       │\n",
              "│                     │ (<span style=\"color: #00d7ff; text-decoration-color: #00d7ff\">None</span>, <span style=\"color: #00af00; text-decoration-color: #00af00\">128</span>)]      │            │ lstm[<span style=\"color: #00af00; text-decoration-color: #00af00\">0</span>][<span style=\"color: #00af00; text-decoration-color: #00af00\">2</span>]        │\n",
              "├─────────────────────┼───────────────────┼────────────┼───────────────────┤\n",
              "│ dense (<span style=\"color: #0087ff; text-decoration-color: #0087ff\">Dense</span>)       │ (<span style=\"color: #00d7ff; text-decoration-color: #00d7ff\">None</span>, <span style=\"color: #00af00; text-decoration-color: #00af00\">10</span>, <span style=\"color: #00af00; text-decoration-color: #00af00\">3889</span>)  │    <span style=\"color: #00af00; text-decoration-color: #00af00\">501,681</span> │ lstm_1[<span style=\"color: #00af00; text-decoration-color: #00af00\">0</span>][<span style=\"color: #00af00; text-decoration-color: #00af00\">0</span>]      │\n",
              "└─────────────────────┴───────────────────┴────────────┴───────────────────┘\n",
              "</pre>\n"
            ],
            "text/plain": [
              "┏━━━━━━━━━━━━━━━━━━━━━┳━━━━━━━━━━━━━━━━━━━┳━━━━━━━━━━━━┳━━━━━━━━━━━━━━━━━━━┓\n",
              "┃\u001b[1m \u001b[0m\u001b[1mLayer (type)       \u001b[0m\u001b[1m \u001b[0m┃\u001b[1m \u001b[0m\u001b[1mOutput Shape     \u001b[0m\u001b[1m \u001b[0m┃\u001b[1m \u001b[0m\u001b[1m   Param #\u001b[0m\u001b[1m \u001b[0m┃\u001b[1m \u001b[0m\u001b[1mConnected to     \u001b[0m\u001b[1m \u001b[0m┃\n",
              "┡━━━━━━━━━━━━━━━━━━━━━╇━━━━━━━━━━━━━━━━━━━╇━━━━━━━━━━━━╇━━━━━━━━━━━━━━━━━━━┩\n",
              "│ input_layer         │ (\u001b[38;5;45mNone\u001b[0m, \u001b[38;5;34m9\u001b[0m)         │          \u001b[38;5;34m0\u001b[0m │ -                 │\n",
              "│ (\u001b[38;5;33mInputLayer\u001b[0m)        │                   │            │                   │\n",
              "├─────────────────────┼───────────────────┼────────────┼───────────────────┤\n",
              "│ input_layer_1       │ (\u001b[38;5;45mNone\u001b[0m, \u001b[38;5;34m10\u001b[0m)        │          \u001b[38;5;34m0\u001b[0m │ -                 │\n",
              "│ (\u001b[38;5;33mInputLayer\u001b[0m)        │                   │            │                   │\n",
              "├─────────────────────┼───────────────────┼────────────┼───────────────────┤\n",
              "│ embedding           │ (\u001b[38;5;45mNone\u001b[0m, \u001b[38;5;34m9\u001b[0m, \u001b[38;5;34m50\u001b[0m)     │    \u001b[38;5;34m195,400\u001b[0m │ input_layer[\u001b[38;5;34m0\u001b[0m][\u001b[38;5;34m0\u001b[0m] │\n",
              "│ (\u001b[38;5;33mEmbedding\u001b[0m)         │                   │            │                   │\n",
              "├─────────────────────┼───────────────────┼────────────┼───────────────────┤\n",
              "│ embedding_1         │ (\u001b[38;5;45mNone\u001b[0m, \u001b[38;5;34m10\u001b[0m, \u001b[38;5;34m128\u001b[0m)   │    \u001b[38;5;34m497,792\u001b[0m │ input_layer_1[\u001b[38;5;34m0\u001b[0m]… │\n",
              "│ (\u001b[38;5;33mEmbedding\u001b[0m)         │                   │            │                   │\n",
              "├─────────────────────┼───────────────────┼────────────┼───────────────────┤\n",
              "│ lstm (\u001b[38;5;33mLSTM\u001b[0m)         │ [(\u001b[38;5;45mNone\u001b[0m, \u001b[38;5;34m128\u001b[0m),     │     \u001b[38;5;34m91,648\u001b[0m │ embedding[\u001b[38;5;34m0\u001b[0m][\u001b[38;5;34m0\u001b[0m]   │\n",
              "│                     │ (\u001b[38;5;45mNone\u001b[0m, \u001b[38;5;34m128\u001b[0m),      │            │                   │\n",
              "│                     │ (\u001b[38;5;45mNone\u001b[0m, \u001b[38;5;34m128\u001b[0m)]      │            │                   │\n",
              "├─────────────────────┼───────────────────┼────────────┼───────────────────┤\n",
              "│ lstm_1 (\u001b[38;5;33mLSTM\u001b[0m)       │ [(\u001b[38;5;45mNone\u001b[0m, \u001b[38;5;34m10\u001b[0m, \u001b[38;5;34m128\u001b[0m), │    \u001b[38;5;34m131,584\u001b[0m │ embedding_1[\u001b[38;5;34m0\u001b[0m][\u001b[38;5;34m0\u001b[0m… │\n",
              "│                     │ (\u001b[38;5;45mNone\u001b[0m, \u001b[38;5;34m128\u001b[0m),      │            │ lstm[\u001b[38;5;34m0\u001b[0m][\u001b[38;5;34m1\u001b[0m],       │\n",
              "│                     │ (\u001b[38;5;45mNone\u001b[0m, \u001b[38;5;34m128\u001b[0m)]      │            │ lstm[\u001b[38;5;34m0\u001b[0m][\u001b[38;5;34m2\u001b[0m]        │\n",
              "├─────────────────────┼───────────────────┼────────────┼───────────────────┤\n",
              "│ dense (\u001b[38;5;33mDense\u001b[0m)       │ (\u001b[38;5;45mNone\u001b[0m, \u001b[38;5;34m10\u001b[0m, \u001b[38;5;34m3889\u001b[0m)  │    \u001b[38;5;34m501,681\u001b[0m │ lstm_1[\u001b[38;5;34m0\u001b[0m][\u001b[38;5;34m0\u001b[0m]      │\n",
              "└─────────────────────┴───────────────────┴────────────┴───────────────────┘\n"
            ]
          },
          "metadata": {},
          "output_type": "display_data"
        },
        {
          "data": {
            "text/html": [
              "<pre style=\"white-space:pre;overflow-x:auto;line-height:normal;font-family:Menlo,'DejaVu Sans Mono',consolas,'Courier New',monospace\"><span style=\"font-weight: bold\"> Total params: </span><span style=\"color: #00af00; text-decoration-color: #00af00\">1,418,105</span> (5.41 MB)\n",
              "</pre>\n"
            ],
            "text/plain": [
              "\u001b[1m Total params: \u001b[0m\u001b[38;5;34m1,418,105\u001b[0m (5.41 MB)\n"
            ]
          },
          "metadata": {},
          "output_type": "display_data"
        },
        {
          "data": {
            "text/html": [
              "<pre style=\"white-space:pre;overflow-x:auto;line-height:normal;font-family:Menlo,'DejaVu Sans Mono',consolas,'Courier New',monospace\"><span style=\"font-weight: bold\"> Trainable params: </span><span style=\"color: #00af00; text-decoration-color: #00af00\">1,222,705</span> (4.66 MB)\n",
              "</pre>\n"
            ],
            "text/plain": [
              "\u001b[1m Trainable params: \u001b[0m\u001b[38;5;34m1,222,705\u001b[0m (4.66 MB)\n"
            ]
          },
          "metadata": {},
          "output_type": "display_data"
        },
        {
          "data": {
            "text/html": [
              "<pre style=\"white-space:pre;overflow-x:auto;line-height:normal;font-family:Menlo,'DejaVu Sans Mono',consolas,'Courier New',monospace\"><span style=\"font-weight: bold\"> Non-trainable params: </span><span style=\"color: #00af00; text-decoration-color: #00af00\">195,400</span> (763.28 KB)\n",
              "</pre>\n"
            ],
            "text/plain": [
              "\u001b[1m Non-trainable params: \u001b[0m\u001b[38;5;34m195,400\u001b[0m (763.28 KB)\n"
            ]
          },
          "metadata": {},
          "output_type": "display_data"
        }
      ],
      "source": [
        "# Verificamos que todo esté definido.\n",
        "print(f\"max_input_len: {max_input_len}\")\n",
        "print(f'nb_words: {nb_words}')\n",
        "print(f'embed_dim: {embed_dim}')\n",
        "print(f'embedding_matrix.shape: {embedding_matrix.shape}')\n",
        "print(f'max_out_len: {max_out_len}')\n",
        "print(f'num_words_output: {num_words_output}')\n",
        "\n",
        "# Cantidad neuronas LSTM\n",
        "n_units = 128\n",
        "\n",
        "# Crear encoder y decoder\n",
        "encoder_inputs, encoder_states = create_encoder(max_input_len, nb_words, embed_dim, embedding_matrix, n_units)\n",
        "decoder_inputs, decoder_outputs, decoder_lstm, decoder_dense, decoder_embedding_layer = create_decoder(max_out_len, num_words_output, encoder_states, n_units)\n",
        "\n",
        "# Crear el modelo final\n",
        "model = Model([encoder_inputs, decoder_inputs], decoder_outputs)\n",
        "\n",
        "# Compilar el modelo\n",
        "model.compile(loss='categorical_crossentropy', optimizer=\"Adam\", metrics=['accuracy'])\n",
        "model.summary()"
      ]
    },
    {
      "cell_type": "markdown",
      "metadata": {},
      "source": [
        "*Chequeamos gráficamente que el modelo esté correcto:*"
      ]
    },
    {
      "cell_type": "code",
      "execution_count": 33,
      "metadata": {},
      "outputs": [
        {
          "data": {
            "image/png": "[encoded data removed]",
            "text/plain": [
              "<IPython.core.display.Image object>"
            ]
          },
          "execution_count": 33,
          "metadata": {},
          "output_type": "execute_result"
        }
      ],
      "source": [
        "plot_model(model, to_file=PLOT_MODEL_PATH, show_shapes=True, show_layer_names=True)"
      ]
    },
    {
      "cell_type": "markdown",
      "metadata": {},
      "source": [
        "*Para la inferencia, necesitamos definir los modelos por separado, dado que se utiliza el $Encoder$ una única vez (al principio de la generación) y luego solo el $Decoder$.*"
      ]
    },
    {
      "cell_type": "markdown",
      "metadata": {},
      "source": [
        "*Definimos una referencia al $Encoder$:*"
      ]
    },
    {
      "cell_type": "code",
      "execution_count": 34,
      "metadata": {},
      "outputs": [
        {
          "data": {
            "image/png": "[encoded data removed]",
            "text/plain": [
              "<IPython.core.display.Image object>"
            ]
          },
          "execution_count": 34,
          "metadata": {},
          "output_type": "execute_result"
        }
      ],
      "source": [
        "encoder_model = Model(encoder_inputs, encoder_states)\n",
        "plot_model(encoder_model, to_file=PLOT_ENCODER_PATH, show_shapes=True, show_layer_names=True)"
      ]
    },
    {
      "cell_type": "markdown",
      "metadata": {},
      "source": [
        "*Definimos el $Decoder$ para realizar la inferencia:*"
      ]
    },
    {
      "cell_type": "code",
      "execution_count": 35,
      "metadata": {},
      "outputs": [
        {
          "data": {
            "image/png": "[encoded data removed]",
            "text/plain": [
              "<IPython.core.display.Image object>"
            ]
          },
          "execution_count": 35,
          "metadata": {},
          "output_type": "execute_result"
        }
      ],
      "source": [
        "decoder_state_input_h = Input(shape=(n_units,))\n",
        "decoder_state_input_c = Input(shape=(n_units,))\n",
        "decoder_states_inputs = [decoder_state_input_h, decoder_state_input_c]\n",
        "\n",
        "# En cada predicción habrá una sola palabra de entrada al decoder,\n",
        "# que es la realimentación de la palabra anterior\n",
        "# por lo que hay que modificar el input shape de la layer de Embedding\n",
        "decoder_inputs_single = Input(shape=(1,))\n",
        "decoder_inputs_single_x = decoder_embedding_layer(decoder_inputs_single)\n",
        "\n",
        "decoder_outputs, state_h, state_c = decoder_lstm(decoder_inputs_single_x, initial_state=decoder_states_inputs)\n",
        "decoder_states = [state_h, state_c]\n",
        "decoder_outputs = decoder_dense(decoder_outputs)\n",
        "decoder_model = Model([decoder_inputs_single] + decoder_states_inputs, [decoder_outputs] + decoder_states)\n",
        "\n",
        "plot_model(decoder_model, to_file=PLOT_DECODER_PATH, show_shapes=True, show_layer_names=True)"
      ]
    },
    {
      "cell_type": "markdown",
      "metadata": {},
      "source": [
        "*Una vez definido todo el pipeline, entrenamos el modelo:*"
      ]
    },
    {
      "cell_type": "markdown",
      "metadata": {},
      "source": [
        "🔮 <em><font color='violet'>Función auxiliar:</font></em>\n",
        "<em><font color='violet'><p>Funciones auxiliares de ModelCkeckpiont y EarlyStopping</p></font></em>"
      ]
    },
    {
      "cell_type": "code",
      "execution_count": 36,
      "metadata": {},
      "outputs": [],
      "source": [
        "# https://colab.research.google.com/github/Yash0330/Callbacks-in-Keras/blob/master/Introduction_to_callbacks.ipynb#scrollTo=eYmz1U150crs       \n",
        "# Definir el callback de EarlyStopping\n",
        "early_stopping = EarlyStopping(\n",
        "    monitor=\"val_loss\", \n",
        "    patience=PATIENCE,  # Detiene el entrenamiento si no mejora\n",
        "    restore_best_weights=True,  # Restaura los mejores pesos al final del entrenamiento\n",
        ")"
      ]
    },
    {
      "cell_type": "markdown",
      "metadata": {},
      "source": [
        "*Entrenamos el modelo:*"
      ]
    },
    {
      "cell_type": "code",
      "execution_count": 40,
      "metadata": {},
      "outputs": [
        {
          "name": "stdout",
          "output_type": "stream",
          "text": [
            "Epoch 1/15\n",
            "\u001b[1m228/228\u001b[0m \u001b[32m━━━━━━━━━━━━━━━━━━━━\u001b[0m\u001b[37m\u001b[0m \u001b[1m13s\u001b[0m 58ms/step - accuracy: 0.5628 - loss: 2.5076 - val_accuracy: 0.6095 - val_loss: 2.4064\n",
            "Epoch 2/15\n",
            "\u001b[1m228/228\u001b[0m \u001b[32m━━━━━━━━━━━━━━━━━━━━\u001b[0m\u001b[37m\u001b[0m \u001b[1m13s\u001b[0m 57ms/step - accuracy: 0.6187 - loss: 2.2042 - val_accuracy: 0.6333 - val_loss: 2.2792\n",
            "Epoch 3/15\n",
            "\u001b[1m228/228\u001b[0m \u001b[32m━━━━━━━━━━━━━━━━━━━━\u001b[0m\u001b[37m\u001b[0m \u001b[1m13s\u001b[0m 57ms/step - accuracy: 0.6420 - loss: 2.0533 - val_accuracy: 0.6465 - val_loss: 2.1904\n",
            "Epoch 4/15\n",
            "\u001b[1m228/228\u001b[0m \u001b[32m━━━━━━━━━━━━━━━━━━━━\u001b[0m\u001b[37m\u001b[0m \u001b[1m21s\u001b[0m 60ms/step - accuracy: 0.6577 - loss: 1.9225 - val_accuracy: 0.6573 - val_loss: 2.1264\n",
            "Epoch 5/15\n",
            "\u001b[1m228/228\u001b[0m \u001b[32m━━━━━━━━━━━━━━━━━━━━\u001b[0m\u001b[37m\u001b[0m \u001b[1m15s\u001b[0m 65ms/step - accuracy: 0.6746 - loss: 1.8166 - val_accuracy: 0.6633 - val_loss: 2.0820\n",
            "Epoch 6/15\n",
            "\u001b[1m228/228\u001b[0m \u001b[32m━━━━━━━━━━━━━━━━━━━━\u001b[0m\u001b[37m\u001b[0m \u001b[1m18s\u001b[0m 79ms/step - accuracy: 0.6740 - loss: 1.7833 - val_accuracy: 0.6668 - val_loss: 2.0508\n",
            "Epoch 7/15\n",
            "\u001b[1m228/228\u001b[0m \u001b[32m━━━━━━━━━━━━━━━━━━━━\u001b[0m\u001b[37m\u001b[0m \u001b[1m15s\u001b[0m 65ms/step - accuracy: 0.6866 - loss: 1.6871 - val_accuracy: 0.6687 - val_loss: 2.0268\n",
            "Epoch 8/15\n",
            "\u001b[1m228/228\u001b[0m \u001b[32m━━━━━━━━━━━━━━━━━━━━\u001b[0m\u001b[37m\u001b[0m \u001b[1m14s\u001b[0m 60ms/step - accuracy: 0.6888 - loss: 1.6541 - val_accuracy: 0.6719 - val_loss: 2.0121\n",
            "Epoch 9/15\n",
            "\u001b[1m228/228\u001b[0m \u001b[32m━━━━━━━━━━━━━━━━━━━━\u001b[0m\u001b[37m\u001b[0m \u001b[1m20s\u001b[0m 57ms/step - accuracy: 0.6910 - loss: 1.6116 - val_accuracy: 0.6737 - val_loss: 1.9953\n",
            "Epoch 10/15\n",
            "\u001b[1m228/228\u001b[0m \u001b[32m━━━━━━━━━━━━━━━━━━━━\u001b[0m\u001b[37m\u001b[0m \u001b[1m21s\u001b[0m 58ms/step - accuracy: 0.6992 - loss: 1.5432 - val_accuracy: 0.6760 - val_loss: 1.9862\n",
            "Epoch 11/15\n",
            "\u001b[1m228/228\u001b[0m \u001b[32m━━━━━━━━━━━━━━━━━━━━\u001b[0m\u001b[37m\u001b[0m \u001b[1m14s\u001b[0m 62ms/step - accuracy: 0.7023 - loss: 1.5192 - val_accuracy: 0.6754 - val_loss: 1.9784\n",
            "Epoch 12/15\n",
            "\u001b[1m228/228\u001b[0m \u001b[32m━━━━━━━━━━━━━━━━━━━━\u001b[0m\u001b[37m\u001b[0m \u001b[1m15s\u001b[0m 65ms/step - accuracy: 0.7072 - loss: 1.4703 - val_accuracy: 0.6765 - val_loss: 1.9711\n",
            "Epoch 13/15\n",
            "\u001b[1m228/228\u001b[0m \u001b[32m━━━━━━━━━━━━━━━━━━━━\u001b[0m\u001b[37m\u001b[0m \u001b[1m13s\u001b[0m 59ms/step - accuracy: 0.7107 - loss: 1.4405 - val_accuracy: 0.6765 - val_loss: 1.9707\n",
            "Epoch 14/15\n",
            "\u001b[1m228/228\u001b[0m \u001b[32m━━━━━━━━━━━━━━━━━━━━\u001b[0m\u001b[37m\u001b[0m \u001b[1m13s\u001b[0m 56ms/step - accuracy: 0.7120 - loss: 1.4197 - val_accuracy: 0.6827 - val_loss: 1.9627\n",
            "Epoch 15/15\n",
            "\u001b[1m228/228\u001b[0m \u001b[32m━━━━━━━━━━━━━━━━━━━━\u001b[0m\u001b[37m\u001b[0m \u001b[1m13s\u001b[0m 58ms/step - accuracy: 0.7140 - loss: 1.4006 - val_accuracy: 0.6806 - val_loss: 1.9642\n"
          ]
        }
      ],
      "source": [
        "hist = model.fit(\n",
        "    [encoder_input_sequences, decoder_input_sequences],\n",
        "    decoder_targets,\n",
        "    epochs=15, \n",
        "    validation_split=0.2,\n",
        "    callbacks=[early_stopping])"
      ]
    },
    {
      "cell_type": "markdown",
      "metadata": {},
      "source": [
        "*Graficamos los resultados:*"
      ]
    },
    {
      "cell_type": "code",
      "execution_count": 41,
      "metadata": {},
      "outputs": [
        {
          "data": {
            "image/png": "[encoded data removed]",
            "text/plain": [
              "<Figure size 640x480 with 1 Axes>"
            ]
          },
          "metadata": {},
          "output_type": "display_data"
        }
      ],
      "source": [
        "epoch_count = range(1, len(hist.history['accuracy']) + 1)\n",
        "sns.lineplot(x=epoch_count,  y=hist.history['accuracy'], label='train')\n",
        "sns.lineplot(x=epoch_count,  y=hist.history['val_accuracy'], label='valid')\n",
        "plt.show()"
      ]
    },
    {
      "cell_type": "markdown",
      "metadata": {},
      "source": [
        "### Parte 5"
      ]
    },
    {
      "cell_type": "markdown",
      "metadata": {},
      "source": [
        "> Experimentar el modelo en inferencia."
      ]
    },
    {
      "cell_type": "markdown",
      "metadata": {},
      "source": [
        "📝 <em><font color='Gray'>Nota:</font></em>\n",
        "<em><font color='Gray'><p>En tiempo de inferencia, se utiliza el \"decoder\" para este proceso. Sin embargo, se utiliza la primera entrada del decoder para pasarle el primer estado oculto; y luego el mismo \"decoder\" funciona autoregresivamente para el resto de los tokens, pasandole el nuevo estado oculto $(H, C)$ y la última salida del encoder, que en arquitecturas LSTM es la misma que $H$</p></font></em>"
      ]
    },
    {
      "cell_type": "markdown",
      "metadata": {},
      "source": [
        "*Armamos los conversores de índices a palabras:*"
      ]
    },
    {
      "cell_type": "code",
      "execution_count": 43,
      "metadata": {},
      "outputs": [],
      "source": [
        "# Armar los conversores de índice a palabra:\n",
        "idx2word_input = {v: k for k, v in word2idx_inputs.items()}\n",
        "idx2word_target = {v: k for k, v in word2idx_outputs.items()}"
      ]
    },
    {
      "cell_type": "markdown",
      "metadata": {},
      "source": [
        "*Creamos una función para realizar predicciones:*"
      ]
    },
    {
      "cell_type": "code",
      "execution_count": 51,
      "metadata": {},
      "outputs": [],
      "source": [
        "def generate_response(input_seq):\n",
        "    # El primer paso es obtener los estados ocultos del encoder.\n",
        "    # Para esto, pasamos la entrada por el encoder:\n",
        "    states_value = encoder_model.predict(input_seq)\n",
        "\n",
        "    # Se inicializa la secuencia de entrada al decoder como \"<sos>\"\n",
        "    target_seq = np.zeros((1, 1))\n",
        "    target_seq[0, 0] = word2idx_outputs[str(LABEL_SOS.strip())]\n",
        "\n",
        "    # Se obtiene el índice que finaliza la inferencia\n",
        "    eos = word2idx_outputs[str(LABEL_EOS.strip())]\n",
        "\n",
        "    output_sentence = []\n",
        "    for _ in range(max_out_len):\n",
        "        # Predicción del próximo elemento\n",
        "        output_tokens, h, c = decoder_model.predict([target_seq] + states_value)\n",
        "        idx = np.argmax(output_tokens[0, 0, :])\n",
        "\n",
        "        # Si es \"end of sentece <eos>\" se acaba\n",
        "        if eos == idx:\n",
        "            break\n",
        "\n",
        "        # Transformar idx a palabra\n",
        "        word = \"\"\n",
        "        if idx > 0:\n",
        "            word = idx2word_target[idx]\n",
        "            output_sentence.append(word)\n",
        "\n",
        "        # Actualizar los estados dada la última predicción\n",
        "        states_value = [h, c]\n",
        "\n",
        "        # Actualizar secuencia de entrada con la salida (re-alimentación)\n",
        "        target_seq[0, 0] = idx\n",
        "\n",
        "    return \" \".join(output_sentence)"
      ]
    },
    {
      "cell_type": "markdown",
      "metadata": {},
      "source": [
        "🔮 <em><font color='violet'>Función auxiliar:</font></em>\n",
        "<em><font color='violet'><p>Dada una secuencia de tokens, devuelve sus términos:</p></font></em>"
      ]
    },
    {
      "cell_type": "code",
      "execution_count": 87,
      "metadata": {},
      "outputs": [],
      "source": [
        "def build_sentence_from_tokens(token_seq, idx2word_input, idx2word_target):\n",
        "    output_sentence = []\n",
        "    for idx in token_seq:\n",
        "        # Transformar idx a palabra\n",
        "        word = \"\"\n",
        "        if idx > 0:\n",
        "            word = idx2word_input[idx] if idx2word_input else idx2word_target[idx]\n",
        "            output_sentence.append(word)\n",
        "\n",
        "    return \" \".join(output_sentence)"
      ]
    },
    {
      "cell_type": "code",
      "execution_count": 90,
      "metadata": {},
      "outputs": [
        {
          "data": {
            "text/plain": [
              "'i am from the united states'"
            ]
          },
          "execution_count": 90,
          "metadata": {},
          "output_type": "execute_result"
        }
      ],
      "source": [
        "build_sentence_from_tokens(encoder_input_sequences[10], idx2word_input, None)"
      ]
    },
    {
      "cell_type": "markdown",
      "metadata": {},
      "source": [
        "*Probamos 10 predicciones de nuestro conjunto de test:*"
      ]
    },
    {
      "cell_type": "code",
      "execution_count": 93,
      "metadata": {},
      "outputs": [
        {
          "name": "stdout",
          "output_type": "stream",
          "text": [
            "\u001b[1m1/1\u001b[0m \u001b[32m━━━━━━━━━━━━━━━━━━━━\u001b[0m\u001b[37m\u001b[0m \u001b[1m0s\u001b[0m 32ms/step\n",
            "\u001b[1m1/1\u001b[0m \u001b[32m━━━━━━━━━━━━━━━━━━━━\u001b[0m\u001b[37m\u001b[0m \u001b[1m0s\u001b[0m 33ms/step\n",
            "\u001b[1m1/1\u001b[0m \u001b[32m━━━━━━━━━━━━━━━━━━━━\u001b[0m\u001b[37m\u001b[0m \u001b[1m0s\u001b[0m 43ms/step\n",
            "\u001b[1m1/1\u001b[0m \u001b[32m━━━━━━━━━━━━━━━━━━━━\u001b[0m\u001b[37m\u001b[0m \u001b[1m0s\u001b[0m 28ms/step\n",
            "\u001b[1m1/1\u001b[0m \u001b[32m━━━━━━━━━━━━━━━━━━━━\u001b[0m\u001b[37m\u001b[0m \u001b[1m0s\u001b[0m 44ms/step\n",
            "\u001b[1m1/1\u001b[0m \u001b[32m━━━━━━━━━━━━━━━━━━━━\u001b[0m\u001b[37m\u001b[0m \u001b[1m0s\u001b[0m 28ms/step\n",
            "\u001b[1m1/1\u001b[0m \u001b[32m━━━━━━━━━━━━━━━━━━━━\u001b[0m\u001b[37m\u001b[0m \u001b[1m0s\u001b[0m 34ms/step\n",
            "\u001b[1m1/1\u001b[0m \u001b[32m━━━━━━━━━━━━━━━━━━━━\u001b[0m\u001b[37m\u001b[0m \u001b[1m0s\u001b[0m 43ms/step\n",
            "\u001b[1m1/1\u001b[0m \u001b[32m━━━━━━━━━━━━━━━━━━━━\u001b[0m\u001b[37m\u001b[0m \u001b[1m0s\u001b[0m 28ms/step\n",
            "\u001b[1m1/1\u001b[0m \u001b[32m━━━━━━━━━━━━━━━━━━━━\u001b[0m\u001b[37m\u001b[0m \u001b[1m0s\u001b[0m 29ms/step\n",
            "\u001b[1m1/1\u001b[0m \u001b[32m━━━━━━━━━━━━━━━━━━━━\u001b[0m\u001b[37m\u001b[0m \u001b[1m0s\u001b[0m 27ms/step\n",
            "\u001b[1m1/1\u001b[0m \u001b[32m━━━━━━━━━━━━━━━━━━━━\u001b[0m\u001b[37m\u001b[0m \u001b[1m0s\u001b[0m 23ms/step\n",
            "\u001b[1m1/1\u001b[0m \u001b[32m━━━━━━━━━━━━━━━━━━━━\u001b[0m\u001b[37m\u001b[0m \u001b[1m0s\u001b[0m 27ms/step\n",
            "\u001b[1m1/1\u001b[0m \u001b[32m━━━━━━━━━━━━━━━━━━━━\u001b[0m\u001b[37m\u001b[0m \u001b[1m0s\u001b[0m 33ms/step\n",
            "\u001b[1m1/1\u001b[0m \u001b[32m━━━━━━━━━━━━━━━━━━━━\u001b[0m\u001b[37m\u001b[0m \u001b[1m0s\u001b[0m 28ms/step\n",
            "\u001b[1m1/1\u001b[0m \u001b[32m━━━━━━━━━━━━━━━━━━━━\u001b[0m\u001b[37m\u001b[0m \u001b[1m0s\u001b[0m 28ms/step\n",
            "\u001b[1m1/1\u001b[0m \u001b[32m━━━━━━━━━━━━━━━━━━━━\u001b[0m\u001b[37m\u001b[0m \u001b[1m0s\u001b[0m 26ms/step\n",
            "\u001b[1m1/1\u001b[0m \u001b[32m━━━━━━━━━━━━━━━━━━━━\u001b[0m\u001b[37m\u001b[0m \u001b[1m0s\u001b[0m 32ms/step\n",
            "\u001b[1m1/1\u001b[0m \u001b[32m━━━━━━━━━━━━━━━━━━━━\u001b[0m\u001b[37m\u001b[0m \u001b[1m0s\u001b[0m 35ms/step\n",
            "\u001b[1m1/1\u001b[0m \u001b[32m━━━━━━━━━━━━━━━━━━━━\u001b[0m\u001b[37m\u001b[0m \u001b[1m0s\u001b[0m 30ms/step\n",
            "\u001b[1m1/1\u001b[0m \u001b[32m━━━━━━━━━━━━━━━━━━━━\u001b[0m\u001b[37m\u001b[0m \u001b[1m0s\u001b[0m 48ms/step\n",
            "\u001b[1m1/1\u001b[0m \u001b[32m━━━━━━━━━━━━━━━━━━━━\u001b[0m\u001b[37m\u001b[0m \u001b[1m0s\u001b[0m 32ms/step\n",
            "\u001b[1m1/1\u001b[0m \u001b[32m━━━━━━━━━━━━━━━━━━━━\u001b[0m\u001b[37m\u001b[0m \u001b[1m0s\u001b[0m 45ms/step\n",
            "\u001b[1m1/1\u001b[0m \u001b[32m━━━━━━━━━━━━━━━━━━━━\u001b[0m\u001b[37m\u001b[0m \u001b[1m0s\u001b[0m 32ms/step\n",
            "\u001b[1m1/1\u001b[0m \u001b[32m━━━━━━━━━━━━━━━━━━━━\u001b[0m\u001b[37m\u001b[0m \u001b[1m0s\u001b[0m 32ms/step\n",
            "\u001b[1m1/1\u001b[0m \u001b[32m━━━━━━━━━━━━━━━━━━━━\u001b[0m\u001b[37m\u001b[0m \u001b[1m0s\u001b[0m 31ms/step\n",
            "\u001b[1m1/1\u001b[0m \u001b[32m━━━━━━━━━━━━━━━━━━━━\u001b[0m\u001b[37m\u001b[0m \u001b[1m0s\u001b[0m 24ms/step\n",
            "\u001b[1m1/1\u001b[0m \u001b[32m━━━━━━━━━━━━━━━━━━━━\u001b[0m\u001b[37m\u001b[0m \u001b[1m0s\u001b[0m 48ms/step\n",
            "\u001b[1m1/1\u001b[0m \u001b[32m━━━━━━━━━━━━━━━━━━━━\u001b[0m\u001b[37m\u001b[0m \u001b[1m0s\u001b[0m 30ms/step\n",
            "\u001b[1m1/1\u001b[0m \u001b[32m━━━━━━━━━━━━━━━━━━━━\u001b[0m\u001b[37m\u001b[0m \u001b[1m0s\u001b[0m 31ms/step\n",
            "\u001b[1m1/1\u001b[0m \u001b[32m━━━━━━━━━━━━━━━━━━━━\u001b[0m\u001b[37m\u001b[0m \u001b[1m0s\u001b[0m 29ms/step\n",
            "\u001b[1m1/1\u001b[0m \u001b[32m━━━━━━━━━━━━━━━━━━━━\u001b[0m\u001b[37m\u001b[0m \u001b[1m0s\u001b[0m 27ms/step\n",
            "\u001b[1m1/1\u001b[0m \u001b[32m━━━━━━━━━━━━━━━━━━━━\u001b[0m\u001b[37m\u001b[0m \u001b[1m0s\u001b[0m 28ms/step\n",
            "\u001b[1m1/1\u001b[0m \u001b[32m━━━━━━━━━━━━━━━━━━━━\u001b[0m\u001b[37m\u001b[0m \u001b[1m0s\u001b[0m 32ms/step\n",
            "\u001b[1m1/1\u001b[0m \u001b[32m━━━━━━━━━━━━━━━━━━━━\u001b[0m\u001b[37m\u001b[0m \u001b[1m0s\u001b[0m 30ms/step\n",
            "\u001b[1m1/1\u001b[0m \u001b[32m━━━━━━━━━━━━━━━━━━━━\u001b[0m\u001b[37m\u001b[0m \u001b[1m0s\u001b[0m 30ms/step\n",
            "\u001b[1m1/1\u001b[0m \u001b[32m━━━━━━━━━━━━━━━━━━━━\u001b[0m\u001b[37m\u001b[0m \u001b[1m0s\u001b[0m 29ms/step\n",
            "\u001b[1m1/1\u001b[0m \u001b[32m━━━━━━━━━━━━━━━━━━━━\u001b[0m\u001b[37m\u001b[0m \u001b[1m0s\u001b[0m 32ms/step\n",
            "\u001b[1m1/1\u001b[0m \u001b[32m━━━━━━━━━━━━━━━━━━━━\u001b[0m\u001b[37m\u001b[0m \u001b[1m0s\u001b[0m 32ms/step\n",
            "\u001b[1m1/1\u001b[0m \u001b[32m━━━━━━━━━━━━━━━━━━━━\u001b[0m\u001b[37m\u001b[0m \u001b[1m0s\u001b[0m 28ms/step\n",
            "\u001b[1m1/1\u001b[0m \u001b[32m━━━━━━━━━━━━━━━━━━━━\u001b[0m\u001b[37m\u001b[0m \u001b[1m0s\u001b[0m 46ms/step\n",
            "\u001b[1m1/1\u001b[0m \u001b[32m━━━━━━━━━━━━━━━━━━━━\u001b[0m\u001b[37m\u001b[0m \u001b[1m0s\u001b[0m 29ms/step\n",
            "\u001b[1m1/1\u001b[0m \u001b[32m━━━━━━━━━━━━━━━━━━━━\u001b[0m\u001b[37m\u001b[0m \u001b[1m0s\u001b[0m 21ms/step\n",
            "\u001b[1m1/1\u001b[0m \u001b[32m━━━━━━━━━━━━━━━━━━━━\u001b[0m\u001b[37m\u001b[0m \u001b[1m0s\u001b[0m 28ms/step\n",
            "\u001b[1m1/1\u001b[0m \u001b[32m━━━━━━━━━━━━━━━━━━━━\u001b[0m\u001b[37m\u001b[0m \u001b[1m0s\u001b[0m 34ms/step\n",
            "\u001b[1m1/1\u001b[0m \u001b[32m━━━━━━━━━━━━━━━━━━━━\u001b[0m\u001b[37m\u001b[0m \u001b[1m0s\u001b[0m 32ms/step\n",
            "\u001b[1m1/1\u001b[0m \u001b[32m━━━━━━━━━━━━━━━━━━━━\u001b[0m\u001b[37m\u001b[0m \u001b[1m0s\u001b[0m 24ms/step\n",
            "\u001b[1m1/1\u001b[0m \u001b[32m━━━━━━━━━━━━━━━━━━━━\u001b[0m\u001b[37m\u001b[0m \u001b[1m0s\u001b[0m 22ms/step\n",
            "\u001b[1m1/1\u001b[0m \u001b[32m━━━━━━━━━━━━━━━━━━━━\u001b[0m\u001b[37m\u001b[0m \u001b[1m0s\u001b[0m 32ms/step\n",
            "\u001b[1m1/1\u001b[0m \u001b[32m━━━━━━━━━━━━━━━━━━━━\u001b[0m\u001b[37m\u001b[0m \u001b[1m0s\u001b[0m 25ms/step\n",
            "\u001b[1m1/1\u001b[0m \u001b[32m━━━━━━━━━━━━━━━━━━━━\u001b[0m\u001b[37m\u001b[0m \u001b[1m0s\u001b[0m 32ms/step\n",
            "\u001b[1m1/1\u001b[0m \u001b[32m━━━━━━━━━━━━━━━━━━━━\u001b[0m\u001b[37m\u001b[0m \u001b[1m0s\u001b[0m 28ms/step\n",
            "\u001b[1m1/1\u001b[0m \u001b[32m━━━━━━━━━━━━━━━━━━━━\u001b[0m\u001b[37m\u001b[0m \u001b[1m0s\u001b[0m 27ms/step\n",
            "\u001b[1m1/1\u001b[0m \u001b[32m━━━━━━━━━━━━━━━━━━━━\u001b[0m\u001b[37m\u001b[0m \u001b[1m0s\u001b[0m 22ms/step\n",
            "\u001b[1m1/1\u001b[0m \u001b[32m━━━━━━━━━━━━━━━━━━━━\u001b[0m\u001b[37m\u001b[0m \u001b[1m0s\u001b[0m 22ms/step\n",
            "\u001b[1m1/1\u001b[0m \u001b[32m━━━━━━━━━━━━━━━━━━━━\u001b[0m\u001b[37m\u001b[0m \u001b[1m0s\u001b[0m 26ms/step\n",
            "\u001b[1m1/1\u001b[0m \u001b[32m━━━━━━━━━━━━━━━━━━━━\u001b[0m\u001b[37m\u001b[0m \u001b[1m0s\u001b[0m 32ms/step\n",
            "\u001b[1m1/1\u001b[0m \u001b[32m━━━━━━━━━━━━━━━━━━━━\u001b[0m\u001b[37m\u001b[0m \u001b[1m0s\u001b[0m 31ms/step\n",
            "\u001b[1m1/1\u001b[0m \u001b[32m━━━━━━━━━━━━━━━━━━━━\u001b[0m\u001b[37m\u001b[0m \u001b[1m0s\u001b[0m 26ms/step\n",
            "\u001b[1m1/1\u001b[0m \u001b[32m━━━━━━━━━━━━━━━━━━━━\u001b[0m\u001b[37m\u001b[0m \u001b[1m0s\u001b[0m 29ms/step\n",
            "\u001b[1m1/1\u001b[0m \u001b[32m━━━━━━━━━━━━━━━━━━━━\u001b[0m\u001b[37m\u001b[0m \u001b[1m0s\u001b[0m 54ms/step\n",
            "\u001b[1m1/1\u001b[0m \u001b[32m━━━━━━━━━━━━━━━━━━━━\u001b[0m\u001b[37m\u001b[0m \u001b[1m0s\u001b[0m 18ms/step\n",
            "\u001b[1m1/1\u001b[0m \u001b[32m━━━━━━━━━━━━━━━━━━━━\u001b[0m\u001b[37m\u001b[0m \u001b[1m0s\u001b[0m 21ms/step\n",
            "\u001b[1m1/1\u001b[0m \u001b[32m━━━━━━━━━━━━━━━━━━━━\u001b[0m\u001b[37m\u001b[0m \u001b[1m0s\u001b[0m 32ms/step\n",
            "\u001b[1m1/1\u001b[0m \u001b[32m━━━━━━━━━━━━━━━━━━━━\u001b[0m\u001b[37m\u001b[0m \u001b[1m0s\u001b[0m 30ms/step\n",
            "\u001b[1m1/1\u001b[0m \u001b[32m━━━━━━━━━━━━━━━━━━━━\u001b[0m\u001b[37m\u001b[0m \u001b[1m0s\u001b[0m 20ms/step\n",
            "\u001b[1m1/1\u001b[0m \u001b[32m━━━━━━━━━━━━━━━━━━━━\u001b[0m\u001b[37m\u001b[0m \u001b[1m0s\u001b[0m 18ms/step\n",
            "\u001b[1m1/1\u001b[0m \u001b[32m━━━━━━━━━━━━━━━━━━━━\u001b[0m\u001b[37m\u001b[0m \u001b[1m0s\u001b[0m 25ms/step\n",
            "\u001b[1m1/1\u001b[0m \u001b[32m━━━━━━━━━━━━━━━━━━━━\u001b[0m\u001b[37m\u001b[0m \u001b[1m0s\u001b[0m 31ms/step\n",
            "\u001b[1m1/1\u001b[0m \u001b[32m━━━━━━━━━━━━━━━━━━━━\u001b[0m\u001b[37m\u001b[0m \u001b[1m0s\u001b[0m 19ms/step\n",
            "\u001b[1m1/1\u001b[0m \u001b[32m━━━━━━━━━━━━━━━━━━━━\u001b[0m\u001b[37m\u001b[0m \u001b[1m0s\u001b[0m 25ms/step\n",
            "\u001b[1m1/1\u001b[0m \u001b[32m━━━━━━━━━━━━━━━━━━━━\u001b[0m\u001b[37m\u001b[0m \u001b[1m0s\u001b[0m 24ms/step\n",
            "\u001b[1m1/1\u001b[0m \u001b[32m━━━━━━━━━━━━━━━━━━━━\u001b[0m\u001b[37m\u001b[0m \u001b[1m0s\u001b[0m 28ms/step\n",
            "\u001b[1m1/1\u001b[0m \u001b[32m━━━━━━━━━━━━━━━━━━━━\u001b[0m\u001b[37m\u001b[0m \u001b[1m0s\u001b[0m 30ms/step\n",
            "\u001b[1m1/1\u001b[0m \u001b[32m━━━━━━━━━━━━━━━━━━━━\u001b[0m\u001b[37m\u001b[0m \u001b[1m0s\u001b[0m 17ms/step\n",
            "\u001b[1m1/1\u001b[0m \u001b[32m━━━━━━━━━━━━━━━━━━━━\u001b[0m\u001b[37m\u001b[0m \u001b[1m0s\u001b[0m 17ms/step\n",
            "\u001b[1m1/1\u001b[0m \u001b[32m━━━━━━━━━━━━━━━━━━━━\u001b[0m\u001b[37m\u001b[0m \u001b[1m0s\u001b[0m 25ms/step\n",
            "\u001b[1m1/1\u001b[0m \u001b[32m━━━━━━━━━━━━━━━━━━━━\u001b[0m\u001b[37m\u001b[0m \u001b[1m0s\u001b[0m 36ms/step\n",
            "\u001b[1m1/1\u001b[0m \u001b[32m━━━━━━━━━━━━━━━━━━━━\u001b[0m\u001b[37m\u001b[0m \u001b[1m0s\u001b[0m 27ms/step\n",
            "\u001b[1m1/1\u001b[0m \u001b[32m━━━━━━━━━━━━━━━━━━━━\u001b[0m\u001b[37m\u001b[0m \u001b[1m0s\u001b[0m 24ms/step\n",
            "\u001b[1m1/1\u001b[0m \u001b[32m━━━━━━━━━━━━━━━━━━━━\u001b[0m\u001b[37m\u001b[0m \u001b[1m0s\u001b[0m 28ms/step\n",
            "\u001b[1m1/1\u001b[0m \u001b[32m━━━━━━━━━━━━━━━━━━━━\u001b[0m\u001b[37m\u001b[0m \u001b[1m0s\u001b[0m 29ms/step\n",
            "\u001b[1m1/1\u001b[0m \u001b[32m━━━━━━━━━━━━━━━━━━━━\u001b[0m\u001b[37m\u001b[0m \u001b[1m0s\u001b[0m 19ms/step\n",
            "\u001b[1m1/1\u001b[0m \u001b[32m━━━━━━━━━━━━━━━━━━━━\u001b[0m\u001b[37m\u001b[0m \u001b[1m0s\u001b[0m 28ms/step\n",
            "\u001b[1m1/1\u001b[0m \u001b[32m━━━━━━━━━━━━━━━━━━━━\u001b[0m\u001b[37m\u001b[0m \u001b[1m0s\u001b[0m 20ms/step\n",
            "\u001b[1m1/1\u001b[0m \u001b[32m━━━━━━━━━━━━━━━━━━━━\u001b[0m\u001b[37m\u001b[0m \u001b[1m0s\u001b[0m 29ms/step\n",
            "\u001b[1m1/1\u001b[0m \u001b[32m━━━━━━━━━━━━━━━━━━━━\u001b[0m\u001b[37m\u001b[0m \u001b[1m0s\u001b[0m 28ms/step\n",
            "\u001b[1m1/1\u001b[0m \u001b[32m━━━━━━━━━━━━━━━━━━━━\u001b[0m\u001b[37m\u001b[0m \u001b[1m0s\u001b[0m 17ms/step\n"
          ]
        },
        {
          "data": {
            "text/html": [
              "<table border=\"1\" class=\"dataframe\">\n",
              "  <thead>\n",
              "    <tr style=\"text-align: right;\">\n",
              "      <th></th>\n",
              "      <th>Indice</th>\n",
              "      <th>Input</th>\n",
              "      <th>Response true</th>\n",
              "      <th>Response generador</th>\n",
              "    </tr>\n",
              "  </thead>\n",
              "  <tbody>\n",
              "    <tr>\n",
              "      <th>0</th>\n",
              "      <td>5925</td>\n",
              "      <td>unknown</td>\n",
              "      <td>oh so what do you do for fun &lt;eos&gt;</td>\n",
              "      <td>i love to read</td>\n",
              "    </tr>\n",
              "    <tr>\n",
              "      <th>1</th>\n",
              "      <td>3150</td>\n",
              "      <td>hi there how are you</td>\n",
              "      <td>fine &lt;eos&gt;</td>\n",
              "      <td>i am a teacher i am a vegan</td>\n",
              "    </tr>\n",
              "    <tr>\n",
              "      <th>2</th>\n",
              "      <td>1139</td>\n",
              "      <td>which city</td>\n",
              "      <td>what do you do for a living &lt;eos&gt;</td>\n",
              "      <td>i am a teacher i am a vegan</td>\n",
              "    </tr>\n",
              "    <tr>\n",
              "      <th>3</th>\n",
              "      <td>750</td>\n",
              "      <td>bye</td>\n",
              "      <td>i traveled the americas playing guitar &lt;eos&gt;</td>\n",
              "      <td>i love to read</td>\n",
              "    </tr>\n",
              "    <tr>\n",
              "      <th>4</th>\n",
              "      <td>3733</td>\n",
              "      <td>hello i am beth how are you</td>\n",
              "      <td>fine &lt;eos&gt;</td>\n",
              "      <td>i am a teacher i am a vegan</td>\n",
              "    </tr>\n",
              "    <tr>\n",
              "      <th>5</th>\n",
              "      <td>4741</td>\n",
              "      <td>no problem do you have any hobbies</td>\n",
              "      <td>everything &lt;eos&gt;</td>\n",
              "      <td>i am a teacher i am a vegan</td>\n",
              "    </tr>\n",
              "    <tr>\n",
              "      <th>6</th>\n",
              "      <td>1307</td>\n",
              "      <td>hello how are you</td>\n",
              "      <td>i am doing well how are you &lt;eos&gt;</td>\n",
              "      <td>i am a teacher i am a vegan</td>\n",
              "    </tr>\n",
              "    <tr>\n",
              "      <th>7</th>\n",
              "      <td>3814</td>\n",
              "      <td>do you have any hobbies rob is my favorite</td>\n",
              "      <td>i like dancing and going out with friends &lt;eos&gt;</td>\n",
              "      <td>i like to read</td>\n",
              "    </tr>\n",
              "    <tr>\n",
              "      <th>8</th>\n",
              "      <td>1654</td>\n",
              "      <td>i m an economics major</td>\n",
              "      <td>that is cool i work at the animal shelter &lt;eos&gt;</td>\n",
              "      <td>i am a teacher i am a vegan</td>\n",
              "    </tr>\n",
              "    <tr>\n",
              "      <th>9</th>\n",
              "      <td>6227</td>\n",
              "      <td>how and why retired</td>\n",
              "      <td>mine 18 &lt;eos&gt;</td>\n",
              "      <td>i am a teacher i am a vegan</td>\n",
              "    </tr>\n",
              "  </tbody>\n",
              "</table>"
            ],
            "text/plain": [
              "<IPython.core.display.HTML object>"
            ]
          },
          "metadata": {},
          "output_type": "display_data"
        }
      ],
      "source": [
        "# Seleccionamos índices aleatorios\n",
        "random_indices = random.sample(range(len(encoder_input_sequences)), 10)\n",
        "\n",
        "# Creamos una lista para almacenar los datos\n",
        "df_data = []\n",
        "\n",
        "# Recorremos los índices aleatorios y creamos un diccionario para cada uno\n",
        "for idx in random_indices:\n",
        "    df_row = {\n",
        "        \"Indice\": idx,\n",
        "        \"Input\": build_sentence_from_tokens(encoder_input_sequences[idx], idx2word_input, None),\n",
        "        \"Response true\": build_sentence_from_tokens(output_integer_seq[idx], None, idx2word_target),\n",
        "        # Hay que expandir la primera dimensión, ya que la entrada debe ser (1,9) y encoder_input_sequences[i] es (9,)\n",
        "        \"Response generador\": generate_response(np.expand_dims(encoder_input_sequences[idx], axis=0))\n",
        "    }\n",
        "    df_data.append(df_row)\n",
        "\n",
        "# Creamos el DataFrame con los datos\n",
        "df = pd.DataFrame(df_data)\n",
        "\n",
        "# Mostramos el DataFrame\n",
        "display(HTML(df.to_html()))"
      ]
    },
    {
      "cell_type": "markdown",
      "metadata": {},
      "source": [
        "*Probamos con una consulta al azar nunca vista por el modelo:*"
      ]
    },
    {
      "cell_type": "code",
      "execution_count": 94,
      "metadata": {},
      "outputs": [
        {
          "name": "stdout",
          "output_type": "stream",
          "text": [
            "Input: the ring must be destroyed.\n",
            "Representacion en vector de tokens de ids [18, 440, 71]\n",
            "Padding del vector: [[  0   0   0   0   0   0  18 440  71]]\n",
            "Input: the ring must be destroyed.\n",
            "\u001b[1m1/1\u001b[0m \u001b[32m━━━━━━━━━━━━━━━━━━━━\u001b[0m\u001b[37m\u001b[0m \u001b[1m0s\u001b[0m 58ms/step\n",
            "\u001b[1m1/1\u001b[0m \u001b[32m━━━━━━━━━━━━━━━━━━━━\u001b[0m\u001b[37m\u001b[0m \u001b[1m0s\u001b[0m 31ms/step\n",
            "\u001b[1m1/1\u001b[0m \u001b[32m━━━━━━━━━━━━━━━━━━━━\u001b[0m\u001b[37m\u001b[0m \u001b[1m0s\u001b[0m 28ms/step\n",
            "\u001b[1m1/1\u001b[0m \u001b[32m━━━━━━━━━━━━━━━━━━━━\u001b[0m\u001b[37m\u001b[0m \u001b[1m0s\u001b[0m 31ms/step\n",
            "\u001b[1m1/1\u001b[0m \u001b[32m━━━━━━━━━━━━━━━━━━━━\u001b[0m\u001b[37m\u001b[0m \u001b[1m0s\u001b[0m 42ms/step\n",
            "\u001b[1m1/1\u001b[0m \u001b[32m━━━━━━━━━━━━━━━━━━━━\u001b[0m\u001b[37m\u001b[0m \u001b[1m0s\u001b[0m 24ms/step\n",
            "\u001b[1m1/1\u001b[0m \u001b[32m━━━━━━━━━━━━━━━━━━━━\u001b[0m\u001b[37m\u001b[0m \u001b[1m0s\u001b[0m 34ms/step\n",
            "\u001b[1m1/1\u001b[0m \u001b[32m━━━━━━━━━━━━━━━━━━━━\u001b[0m\u001b[37m\u001b[0m \u001b[1m0s\u001b[0m 26ms/step\n",
            "\u001b[1m1/1\u001b[0m \u001b[32m━━━━━━━━━━━━━━━━━━━━\u001b[0m\u001b[37m\u001b[0m \u001b[1m0s\u001b[0m 38ms/step\n",
            "\u001b[1m1/1\u001b[0m \u001b[32m━━━━━━━━━━━━━━━━━━━━\u001b[0m\u001b[37m\u001b[0m \u001b[1m0s\u001b[0m 25ms/step\n",
            "Response: i am a teacher i am a vegan\n"
          ]
        }
      ],
      "source": [
        "input_test = \"the ring must be destroyed.\"\n",
        "print(\"Input:\", input_test)\n",
        "integer_seq_test = input_tokenizer.texts_to_sequences([input_test])[0]\n",
        "print(\"Representacion en vector de tokens de ids\", integer_seq_test)\n",
        "encoder_sequence_test = pad_sequences([integer_seq_test], maxlen=max_input_len)\n",
        "print(\"Padding del vector:\", encoder_sequence_test)\n",
        "\n",
        "print(\"Input:\", input_test)\n",
        "translation = generate_response(encoder_sequence_test)\n",
        "print(\"Response:\", translation)"
      ]
    },
    {
      "cell_type": "markdown",
      "metadata": {},
      "source": [
        "⭐ <em><strong>Conclusión</strong></em> ⭐\n",
        "\n",
        "<em><strong><p>Como conclusión general, podemos ver que el modelo es un buen generador del lenguaje, dado que las oraciones tienen coherencia. Sin embargo, no está solucionando el problema del dominio (BOT QA). Hay varios motivos... Uno es que claramente se podría entrenar por una mayor cantidad de épocas, dado que según los datos no había convergido aún. Por otro lado, no se llegó a un buen accuracy y el modelo empezó a overfittear, indicando necesidad de más datos o algún tipo de reguarización (no se utilizó ninguna).</p></strong></em>"
      ]
    },
    {
      "cell_type": "markdown",
      "metadata": {},
      "source": [
        "⚠️ <em><font color='gold'>Problemas detectados:</font></em>\n",
        "<em><font color='gold'><p>Un problema detectado es la cantidad de datos que hay que tener para que el modelo resuelva un problema específico, si se parte de un modelo de 0.</p></font></em>"
      ]
    },
    {
      "cell_type": "markdown",
      "metadata": {},
      "source": [
        "💫 <em><font color='MediumPurple'> Mejoras posibles: </font></em>\n",
        "<em><font color='MediumPurple'><p>\n",
        "\n",
        "Se plantean varias mejoras:\n",
        "\n",
        "1. Aplicar algún tipo de regularización (dropout o L2).\n",
        "2. Probar más capas LSTM o cambiar la cantidad de neuronas.\n",
        "3. Investigar el tamaño de contexto máximo, probar con varios hiperparámetros.\n",
        "4. Dado que estamos en un mismo dominio, el tokenizador puede ser uno solo, en vez de utilizar dos (uno para la entrada del $Encoder$ y otro para la entrada-salida del $Decoder$)\n",
        "5. En este caso, la capa de embedding del decoder se aprendió en etapa de aprendizaje. Habría que probar utilzar también FastText o GloVe para esta capa.\n",
        "\n",
        "</p></font></em>"
      ]
    }
  ],
  "metadata": {
    "colab": {
      "provenance": []
    },
    "kernelspec": {
      "display_name": ".venv",
      "language": "python",
      "name": "python3"
    },
    "language_info": {
      "codemirror_mode": {
        "name": "ipython",
        "version": 3
      },
      "file_extension": ".py",
      "mimetype": "text/x-python",
      "name": "python",
      "nbconvert_exporter": "python",
      "pygments_lexer": "ipython3",
      "version": "3.12.7"
    }
  },
  "nbformat": 4,
  "nbformat_minor": 0
}
