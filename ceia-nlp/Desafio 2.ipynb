{
  "cells": [
    {
      "cell_type": "markdown",
      "metadata": {},
      "source": [
        "# <div align=\"center\"><b> Desafio 2 - Procesamiento del lenguaje Natural - CEIA </b></div>"
      ]
    },
    {
      "cell_type": "markdown",
      "metadata": {},
      "source": [
        "<div align=\"right\">📝 <em><small><font color='Gray'>Nota:</font></small></em></div>\n",
        "\n",
        "<div align=\"right\"> <em><small><font color='Gray'> La funcionalidad de visualización de jupyter notebooks en <a href=\"https://github.com/\" target=\"_blank\">github</a> es solamente un preview.</font></small></em> </div>\n",
        "\n",
        "<div align=\"right\"> <em><small><font color='Gray'> Para mejor visualización se sugiere utilizar el visualizador recomndado por la comunidad: <a href=\"https://nbviewer.org/\" target=\"_blank\">nbviewer</a></font></small></em> </div>\n",
        "\n",
        "<div align=\"right\"> <em><small><font color='Gray'> Puedes a acceder al sigiente enlace para ver este notebook en dicha página: <a href=\"(https://nbviewer.org/github/brunomaso1/uba-ceia/blob/ceia-nlp/ceia-nlp/Desafio%202.ipynb\">Desafio 1</a></font></small></em> </div>"
      ]
    },
    {
      "cell_type": "markdown",
      "metadata": {},
      "source": [
        "* * *"
      ]
    },
    {
      "cell_type": "markdown",
      "metadata": {},
      "source": [
        "<style>\n",
        "/* Limitar la altura de las celdas de salida en html */\n",
        ".jp-OutputArea.jp-Cell-outputArea {\n",
        "    max-height: 500px;\n",
        "}\n",
        "</style>"
      ]
    },
    {
      "cell_type": "markdown",
      "metadata": {},
      "source": [
        "<div align=\"center\"><img src=\"./resources/Desafio_2_portada.jpeg\" width=\"600\" alt=\"Figura 1: A data scientist is sitting in front of a computer screen, intently focused on the task at hand. The room is dimly lit, with the only light coming from the computer screen. The neural network is displayed on the screen, with the data scientist working to create embeddings. The overall mood is one of intense concentration and focus. - Generada con Microsoft Image Creator\"></div>\n",
        "\n",
        "<div align=\"center\"><small><em>Figura 1: A data scientist is sitting in front of a computer screen, intently focused on the task at hand. The room is dimly lit, with the only light coming from the computer screen. The neural network is displayed on the screen, with the data scientist working to create embeddings. The overall mood is one of intense concentration and focus. - Generada con Microsoft Image Creator</em></small></div>"
      ]
    },
    {
      "cell_type": "markdown",
      "metadata": {},
      "source": [
        "<div align=\"center\">✨Datos del proyecto:✨</div>\n",
        "\n",
        "<p></p>\n",
        "\n",
        "<div align=\"center\">\n",
        "\n",
        "| Subtitulo       | Desafío 2 - NLP - FIUBA                                                                                                                |\n",
        "| --------------- | -------------------------------------------------------------------------------------------------------------------------------------- |\n",
        "| **Descrpción**  | Embeddings with Gensim                                                                                                                 |\n",
        "| **Integrantes** | Bruno Masoller (brunomaso1@gmail.com)                                                                                                  |\n",
        "\n",
        "</div>"
      ]
    },
    {
      "cell_type": "markdown",
      "metadata": {},
      "source": [
        "✋ <em><font color='DodgerBlue'>Importaciones:</font></em> ✋"
      ]
    },
    {
      "cell_type": "code",
      "execution_count": 1,
      "metadata": {
        "id": "l7cXR6CI30ry"
      },
      "outputs": [],
      "source": [
        "from pandas import pandas"
      ]
    },
    {
      "cell_type": "markdown",
      "metadata": {},
      "source": [
        "🔧 <em><font color='tomato'>Configuraciones:</font></em> 🔧"
      ]
    },
    {
      "cell_type": "markdown",
      "metadata": {
        "id": "McArD4rSDR2K"
      },
      "source": [
        "## Consigna del desafío 1"
      ]
    },
    {
      "cell_type": "markdown",
      "metadata": {
        "id": "lJgf6GQIIEH1"
      },
      "source": [
        "1. Crear sus propios vectores con Gensim basado en lo visto en clase con otro dataset.\n",
        "2. Probar términos de interés y explicar similitudes en el espacio de embeddings (sacar conclusiones entre palabras similitudes y diferencias).\n",
        "3. Graficarlos.\n",
        "4. Obtener conclusiones."
      ]
    },
    {
      "cell_type": "markdown",
      "metadata": {},
      "source": [
        "## Resolución"
      ]
    },
    {
      "cell_type": "markdown",
      "metadata": {},
      "source": [
        "### Parte 1"
      ]
    },
    {
      "cell_type": "markdown",
      "metadata": {},
      "source": [
        "> Crear sus propios vectores con Gensim basado en lo visto en clase con otro dataset."
      ]
    },
    {
      "cell_type": "markdown",
      "metadata": {},
      "source": [
        "### Parte 2"
      ]
    },
    {
      "cell_type": "markdown",
      "metadata": {},
      "source": [
        "> Probar términos de interés y explicar similitudes en el espacio de embeddings (sacar conclusiones entre palabras similitudes y diferencias)."
      ]
    },
    {
      "cell_type": "markdown",
      "metadata": {},
      "source": [
        "### Parte 3"
      ]
    },
    {
      "cell_type": "markdown",
      "metadata": {},
      "source": [
        "> Graficarlos."
      ]
    },
    {
      "cell_type": "markdown",
      "metadata": {},
      "source": [
        "### Parte 4"
      ]
    },
    {
      "cell_type": "markdown",
      "metadata": {},
      "source": [
        "> Obtener conclusiones."
      ]
    }
  ],
  "metadata": {
    "colab": {
      "provenance": []
    },
    "kernelspec": {
      "display_name": "Python 3",
      "name": "python3"
    },
    "language_info": {
      "codemirror_mode": {
        "name": "ipython",
        "version": 3
      },
      "file_extension": ".py",
      "mimetype": "text/x-python",
      "name": "python",
      "nbconvert_exporter": "python",
      "pygments_lexer": "ipython3",
      "version": "3.12.4"
    }
  },
  "nbformat": 4,
  "nbformat_minor": 0
}
