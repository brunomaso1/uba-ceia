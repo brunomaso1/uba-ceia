{
  "cells": [
    {
      "cell_type": "markdown",
      "metadata": {},
      "source": [
        "# <div align=\"center\"><b> Desafio 5 - Procesamiento del lenguaje Natural - CEIA </b></div>\n"
      ]
    },
    {
      "cell_type": "markdown",
      "metadata": {},
      "source": [
        "<div align=\"right\">📝 <em><small><font color='Gray'>Nota:</font></small></em></div>\n",
        "\n",
        "<div align=\"right\"> <em><small><font color='Gray'> La funcionalidad de visualización de jupyter notebooks en <a href=\"https://github.com/\" target=\"_blank\">github</a> es solamente un preview.</font></small></em> </div>\n",
        "\n",
        "<div align=\"right\"> <em><small><font color='Gray'> Para mejor visualización se sugiere utilizar el visualizador recomndado por la comunidad: <a href=\"https://nbviewer.org/\" target=\"_blank\">nbviewer</a></font></small></em> </div>\n",
        "\n",
        "<div align=\"right\"> <em><small><font color='Gray'> Puedes a acceder al sigiente enlace para ver este notebook en dicha página: <a href=\"https://nbviewer.org/github/brunomaso1/uba-ceia/blob/ceia-nlp/ceia-nlp/Desafio%205.ipynb\">Desafio 5</a></font></small></em> </div>\n"
      ]
    },
    {
      "cell_type": "markdown",
      "metadata": {},
      "source": [
        "---\n"
      ]
    },
    {
      "cell_type": "code",
      "execution_count": 45,
      "metadata": {},
      "outputs": [],
      "source": [
        "# Descargamos la carpeta con archivos auxiliares (Colab)\n",
        "# %pip install gdown\n",
        "# !gdown https://drive.google.com/drive/folders/1hNPqr6g3opu9u-UwnngVcyxUUzfmKZdT?usp=sharing --folder"
      ]
    },
    {
      "cell_type": "markdown",
      "metadata": {},
      "source": [
        "<style>\n",
        "/* Limitar la altura de las celdas de salida en html */\n",
        ".jp-OutputArea.jp-Cell-outputArea {\n",
        "    max-height: 500px;\n",
        "}\n",
        "</style>\n"
      ]
    },
    {
      "cell_type": "markdown",
      "metadata": {},
      "source": [
        "<div align=\"center\"><img src=\"./resources/Desafio_5_portada.jpeg\" width=\"600\" alt=\"Figura 1: AA data scientist is sitting in front of a computer screen, which is the focal point of the image. The lighting is dark and moody, with a blue hue. The computer screen displays a visualization of a BERT model. The scientist is intently analyzing Google's Apps critics with BERT, as the blue hue of the lighting creates a sense of focus and concentration. - Generada con Microsoft Image generator\"></div>\n",
        "\n",
        "<div align=\"center\"><small><em>Figura 1: A data scientist is sitting in front of a computer screen, which is the focal point of the image. The lighting is dark and moody, with a blue hue. The computer screen displays a visualization of a BERT model. The scientist is intently analyzing Google's Apps critics with BERT, as the blue hue of the lighting creates a sense of focus and concentration. - Generada con Microsoft Image generator</em></small></div>\n"
      ]
    },
    {
      "cell_type": "markdown",
      "metadata": {},
      "source": [
        "<div align=\"center\">✨Datos del proyecto:✨</div>\n",
        "\n",
        "<p></p>\n",
        "\n",
        "<div align=\"center\">\n",
        "\n",
        "| Subtitulo       | Desafío 5 - NLP - FIUBA               |\n",
        "| --------------- | ------------------------------------- |\n",
        "| **Descrpción**  | BERT Sentiment Analysis               |\n",
        "| **Integrantes** | Bruno Masoller (brunomaso1@gmail.com) |\n",
        "\n",
        "</div>\n"
      ]
    },
    {
      "cell_type": "markdown",
      "metadata": {},
      "source": [
        "✋ <em><font color='DodgerBlue'>Importaciones:</font></em> ✋\n"
      ]
    },
    {
      "cell_type": "code",
      "execution_count": 141,
      "metadata": {
        "id": "l7cXR6CI30ry"
      },
      "outputs": [],
      "source": [
        "import os, random\n",
        "\n",
        "# Librería para trabajar con transformers (en este caso, BERT)\n",
        "from transformers import (\n",
        "    TFBertModel,\n",
        "    logging,\n",
        "    InputExample,\n",
        "    InputFeatures,\n",
        "    BertTokenizer,\n",
        ")\n",
        "\n",
        "# Retro-compatibilidad con la librería de transformers. Si usas Keras 3 explota todo.\n",
        "from tf_keras import Model\n",
        "from tf_keras.layers import Input, Dropout, Dense\n",
        "from tf_keras.metrics import F1Score\n",
        "\n",
        "import tensorflow as tf\n",
        "\n",
        "from sklearn.model_selection import train_test_split\n",
        "from sklearn.metrics import confusion_matrix, ConfusionMatrixDisplay\n",
        "\n",
        "import gdown\n",
        "import pandas as pd\n",
        "import seaborn as sns\n",
        "from imblearn.under_sampling import RandomUnderSampler\n",
        "import matplotlib.pyplot as plt\n",
        "from math import sqrt\n",
        "import numpy as np\n",
        "\n",
        "from keras.utils import to_categorical, plot_model\n",
        "from keras.optimizers import Adam"
      ]
    },
    {
      "cell_type": "markdown",
      "metadata": {},
      "source": [
        "🔧 <em><font color='tomato'>Configuraciones:</font></em> 🔧\n"
      ]
    },
    {
      "cell_type": "code",
      "execution_count": 47,
      "metadata": {},
      "outputs": [],
      "source": [
        "RANDOM_SEED = 42\n",
        "EPOCHS = 1\n",
        "BATCH_SIZE = 32\n",
        "\n",
        "DRIVE_APPS_URL = \"https://drive.google.com/u/0/uc?id=1S6qMioqPJjyBLpLVz4gmRTnJHnjitnuV&export=download&confirm=t\"\n",
        "APPSCSV_PATH = \"resources/apps.csv\"\n",
        "\n",
        "DRIVE_REVIEWS_URL = \"https://drive.google.com/u/0/uc?id=1zdmewp7ayS4js4VtrJEHzAheSW-5NBZv&export=download&confirm=t\"\n",
        "REVIEWS_PATH = \"resources/reviews.csv\"\n",
        "\n",
        "PLOT_MODEL_PATH = \"resources/bert.png\"\n",
        "\n",
        "random.seed(RANDOM_SEED)\n",
        "logging.set_verbosity_error()"
      ]
    },
    {
      "cell_type": "markdown",
      "metadata": {
        "id": "McArD4rSDR2K"
      },
      "source": [
        "## Consigna del desafío\n"
      ]
    },
    {
      "cell_type": "markdown",
      "metadata": {},
      "source": [
        "<em><p>\n",
        "\n",
        "BERT consume una secuencia de tokens (términos tokenizados) y devuelve una secuencia de embeddings, que se agrupan en dos estructuras: `pooler_output` y `last_hidden_state`:\n",
        "\n",
        "- `pooler_output`: Condensa información de toda la secuencia (se puede utilizar como una vectorización de todo el documento). Shape: $(cant_seq, embb_dim)$\n",
        "- `last_hidden_state`: Devuelve el embedding asociado a cada posición de los tokens de entrada contextualizados. Shape: $(cant_seq, cant_tok, embb_dim)$\n",
        "\n",
        "El objetivo para análisis de sentimientos, es clasificar un conjunto de documentos (corpus) en clases, utilizando la similitud entre estos vectores contextualizados. En donde, se arma una base de datos con los documentos vectorizados por BERT, luego también se vectorizan las clases y utilizando la similitud entre vectores (ej: similitud de coseno), se obtienen que vector de clase está más cerca de cada documento.\n",
        "\n",
        "En este caso, se estaría utilizando un modelo como clasificador, sin haberlo entrenado explicitamente para dicha tarea. Si, aparte de esto, se le agrega una capa para clasificar según la clase y se entrena (fine-tuning), se obtiene un clasificador específico mediante transfer learning.\n",
        "\n",
        "<strong>Este desfío consiste justamente realizar experimentos para los dos casos (con fine-tuning -entrenamiento grueso- y sin fine-tuning), en donde se intenta clasificar reviews de aplicaciones de Google en diferentes clases de sentimientos.</strong>\n",
        "\n",
        "</p></em>\n"
      ]
    },
    {
      "cell_type": "markdown",
      "metadata": {},
      "source": [
        "## Resolución\n"
      ]
    },
    {
      "cell_type": "markdown",
      "metadata": {},
      "source": [
        "### Análisis de datos\n"
      ]
    },
    {
      "cell_type": "markdown",
      "metadata": {},
      "source": [
        "_Para este desafío se utiliza como dataset las críticas de Google Apps en formato csv._\n"
      ]
    },
    {
      "cell_type": "markdown",
      "metadata": {},
      "source": [
        "🔮 <em><font color='violet'>Función auxiliar:</font></em>\n",
        "<em><font color='violet'><p>Descarga un archivo del Drive utilizando Gdown</p></font></em>\n"
      ]
    },
    {
      "cell_type": "code",
      "execution_count": 48,
      "metadata": {},
      "outputs": [],
      "source": [
        "def download_from_drive(download_url, output_path):\n",
        "    \"\"\"\n",
        "    Descarga un archivo desde Google Drive utilizando gdown si no existe en el output_path.\n",
        "\n",
        "    :param drive_url: URL del archivo en Google Drive o su ID\n",
        "    :param output_path: Ruta de destino donde se guardará el archivo descargado\n",
        "    \"\"\"\n",
        "    # Verificamos si el archivo ya existe para evitar descargas innecesarias\n",
        "    if os.path.exists(output_path):\n",
        "        print(\n",
        "            f\"El archivo ya existe en {output_path}. No es necesario descargarlo nuevamente.\"\n",
        "        )\n",
        "        return\n",
        "\n",
        "    # Descargamos el archivo ya que no existe en output_path\n",
        "    try:\n",
        "        print(f\"Descargando el archivo desde Google Drive en {output_path}\")\n",
        "        gdown.download(download_url, output_path, quiet=False)\n",
        "    except e:\n",
        "        raise ImportError(f\"No se pudo descargar el archivo. Error: {e}\")"
      ]
    },
    {
      "cell_type": "markdown",
      "metadata": {},
      "source": [
        "_Descargamos los datos del Drive:_\n"
      ]
    },
    {
      "cell_type": "code",
      "execution_count": 49,
      "metadata": {},
      "outputs": [
        {
          "name": "stdout",
          "output_type": "stream",
          "text": [
            "El archivo ya existe en resources/apps.csv. No es necesario descargarlo nuevamente.\n",
            "El archivo ya existe en resources/reviews.csv. No es necesario descargarlo nuevamente.\n"
          ]
        }
      ],
      "source": [
        "download_from_drive(DRIVE_APPS_URL, APPSCSV_PATH)\n",
        "download_from_drive(DRIVE_REVIEWS_URL, REVIEWS_PATH)"
      ]
    },
    {
      "cell_type": "markdown",
      "metadata": {},
      "source": [
        "_Observamos el conjunto:_\n"
      ]
    },
    {
      "cell_type": "code",
      "execution_count": 50,
      "metadata": {},
      "outputs": [
        {
          "data": {
            "text/html": [
              "<div>\n",
              "<style scoped>\n",
              "    .dataframe tbody tr th:only-of-type {\n",
              "        vertical-align: middle;\n",
              "    }\n",
              "\n",
              "    .dataframe tbody tr th {\n",
              "        vertical-align: top;\n",
              "    }\n",
              "\n",
              "    .dataframe thead th {\n",
              "        text-align: right;\n",
              "    }\n",
              "</style>\n",
              "<table border=\"1\" class=\"dataframe\">\n",
              "  <thead>\n",
              "    <tr style=\"text-align: right;\">\n",
              "      <th></th>\n",
              "      <th>userName</th>\n",
              "      <th>userImage</th>\n",
              "      <th>content</th>\n",
              "      <th>score</th>\n",
              "      <th>thumbsUpCount</th>\n",
              "      <th>reviewCreatedVersion</th>\n",
              "      <th>at</th>\n",
              "      <th>replyContent</th>\n",
              "      <th>repliedAt</th>\n",
              "      <th>sortOrder</th>\n",
              "      <th>appId</th>\n",
              "    </tr>\n",
              "  </thead>\n",
              "  <tbody>\n",
              "    <tr>\n",
              "      <th>0</th>\n",
              "      <td>Andrew Thomas</td>\n",
              "      <td>https://lh3.googleusercontent.com/a-/AOh14GiHd...</td>\n",
              "      <td>Update: After getting a response from the deve...</td>\n",
              "      <td>1</td>\n",
              "      <td>21</td>\n",
              "      <td>4.17.0.3</td>\n",
              "      <td>2020-04-05 22:25:57</td>\n",
              "      <td>According to our TOS, and the term you have ag...</td>\n",
              "      <td>2020-04-05 15:10:24</td>\n",
              "      <td>most_relevant</td>\n",
              "      <td>com.anydo</td>\n",
              "    </tr>\n",
              "    <tr>\n",
              "      <th>1</th>\n",
              "      <td>Craig Haines</td>\n",
              "      <td>https://lh3.googleusercontent.com/-hoe0kwSJgPQ...</td>\n",
              "      <td>Used it for a fair amount of time without any ...</td>\n",
              "      <td>1</td>\n",
              "      <td>11</td>\n",
              "      <td>4.17.0.3</td>\n",
              "      <td>2020-04-04 13:40:01</td>\n",
              "      <td>It sounds like you logged in with a different ...</td>\n",
              "      <td>2020-04-05 15:11:35</td>\n",
              "      <td>most_relevant</td>\n",
              "      <td>com.anydo</td>\n",
              "    </tr>\n",
              "    <tr>\n",
              "      <th>2</th>\n",
              "      <td>steven adkins</td>\n",
              "      <td>https://lh3.googleusercontent.com/a-/AOh14GiXw...</td>\n",
              "      <td>Your app sucks now!!!!! Used to be good but no...</td>\n",
              "      <td>1</td>\n",
              "      <td>17</td>\n",
              "      <td>4.17.0.3</td>\n",
              "      <td>2020-04-01 16:18:13</td>\n",
              "      <td>This sounds odd! We are not aware of any issue...</td>\n",
              "      <td>2020-04-02 16:05:56</td>\n",
              "      <td>most_relevant</td>\n",
              "      <td>com.anydo</td>\n",
              "    </tr>\n",
              "    <tr>\n",
              "      <th>3</th>\n",
              "      <td>Lars Panzerbjørn</td>\n",
              "      <td>https://lh3.googleusercontent.com/a-/AOh14Gg-h...</td>\n",
              "      <td>It seems OK, but very basic. Recurring tasks n...</td>\n",
              "      <td>1</td>\n",
              "      <td>192</td>\n",
              "      <td>4.17.0.2</td>\n",
              "      <td>2020-03-12 08:17:34</td>\n",
              "      <td>We do offer this option as part of the Advance...</td>\n",
              "      <td>2020-03-15 06:20:13</td>\n",
              "      <td>most_relevant</td>\n",
              "      <td>com.anydo</td>\n",
              "    </tr>\n",
              "    <tr>\n",
              "      <th>4</th>\n",
              "      <td>Scott Prewitt</td>\n",
              "      <td>https://lh3.googleusercontent.com/-K-X1-YsVd6U...</td>\n",
              "      <td>Absolutely worthless. This app runs a prohibit...</td>\n",
              "      <td>1</td>\n",
              "      <td>42</td>\n",
              "      <td>4.17.0.2</td>\n",
              "      <td>2020-03-14 17:41:01</td>\n",
              "      <td>We're sorry you feel this way! 90% of the app ...</td>\n",
              "      <td>2020-03-15 23:45:51</td>\n",
              "      <td>most_relevant</td>\n",
              "      <td>com.anydo</td>\n",
              "    </tr>\n",
              "  </tbody>\n",
              "</table>\n",
              "</div>"
            ],
            "text/plain": [
              "           userName                                          userImage  \\\n",
              "0     Andrew Thomas  https://lh3.googleusercontent.com/a-/AOh14GiHd...   \n",
              "1      Craig Haines  https://lh3.googleusercontent.com/-hoe0kwSJgPQ...   \n",
              "2     steven adkins  https://lh3.googleusercontent.com/a-/AOh14GiXw...   \n",
              "3  Lars Panzerbjørn  https://lh3.googleusercontent.com/a-/AOh14Gg-h...   \n",
              "4     Scott Prewitt  https://lh3.googleusercontent.com/-K-X1-YsVd6U...   \n",
              "\n",
              "                                             content  score  thumbsUpCount  \\\n",
              "0  Update: After getting a response from the deve...      1             21   \n",
              "1  Used it for a fair amount of time without any ...      1             11   \n",
              "2  Your app sucks now!!!!! Used to be good but no...      1             17   \n",
              "3  It seems OK, but very basic. Recurring tasks n...      1            192   \n",
              "4  Absolutely worthless. This app runs a prohibit...      1             42   \n",
              "\n",
              "  reviewCreatedVersion                   at  \\\n",
              "0             4.17.0.3  2020-04-05 22:25:57   \n",
              "1             4.17.0.3  2020-04-04 13:40:01   \n",
              "2             4.17.0.3  2020-04-01 16:18:13   \n",
              "3             4.17.0.2  2020-03-12 08:17:34   \n",
              "4             4.17.0.2  2020-03-14 17:41:01   \n",
              "\n",
              "                                        replyContent            repliedAt  \\\n",
              "0  According to our TOS, and the term you have ag...  2020-04-05 15:10:24   \n",
              "1  It sounds like you logged in with a different ...  2020-04-05 15:11:35   \n",
              "2  This sounds odd! We are not aware of any issue...  2020-04-02 16:05:56   \n",
              "3  We do offer this option as part of the Advance...  2020-03-15 06:20:13   \n",
              "4  We're sorry you feel this way! 90% of the app ...  2020-03-15 23:45:51   \n",
              "\n",
              "       sortOrder      appId  \n",
              "0  most_relevant  com.anydo  \n",
              "1  most_relevant  com.anydo  \n",
              "2  most_relevant  com.anydo  \n",
              "3  most_relevant  com.anydo  \n",
              "4  most_relevant  com.anydo  "
            ]
          },
          "execution_count": 50,
          "metadata": {},
          "output_type": "execute_result"
        }
      ],
      "source": [
        "df = pd.read_csv(REVIEWS_PATH)\n",
        "# Mostramos el DataFrame\n",
        "df.head()"
      ]
    },
    {
      "cell_type": "markdown",
      "metadata": {},
      "source": [
        "_Cantidad de datos:_\n"
      ]
    },
    {
      "cell_type": "code",
      "execution_count": 51,
      "metadata": {},
      "outputs": [
        {
          "name": "stdout",
          "output_type": "stream",
          "text": [
            "Cantidad de críticas: 15746\n"
          ]
        }
      ],
      "source": [
        "print(f\"Cantidad de críticas: {len(df)}\")"
      ]
    },
    {
      "cell_type": "markdown",
      "metadata": {},
      "source": [
        "_Análisis previo de los datos:_\n"
      ]
    },
    {
      "cell_type": "code",
      "execution_count": 52,
      "metadata": {},
      "outputs": [
        {
          "data": {
            "image/png": "[encoded data removed]",
            "text/plain": [
              "<Figure size 640x480 with 1 Axes>"
            ]
          },
          "metadata": {},
          "output_type": "display_data"
        }
      ],
      "source": [
        "sns.countplot(df, x=\"score\", hue=\"score\")\n",
        "plt.show()"
      ]
    },
    {
      "cell_type": "markdown",
      "metadata": {},
      "source": [
        "⚠️ <em><font color='gold'>Problemas detectados:</font></em>\n",
        "<em><font color='gold'><p>Un punto importante a destacar, es el desbalanceo de clases, especialmente con respecto a la clase 3. Para solucionar este problema utilizaremos <strong>random sampling</strong>, en este caso la estrategia elegida es $undersampling$</p></font></em>\n"
      ]
    },
    {
      "cell_type": "markdown",
      "metadata": {},
      "source": [
        "_Aplicamos $undersampling$, renombramos la columna y cambiamos los índices a que empiecen desde 0:_\n"
      ]
    },
    {
      "cell_type": "code",
      "execution_count": 53,
      "metadata": {},
      "outputs": [
        {
          "data": {
            "image/png": "[encoded data removed]",
            "text/plain": [
              "<Figure size 640x480 with 1 Axes>"
            ]
          },
          "metadata": {},
          "output_type": "display_data"
        }
      ],
      "source": [
        "# Diccionario para mapear cada score a una clase descriptiva\n",
        "score_dict = {\n",
        "    0: \"Very negative\",\n",
        "    1: \"Negative\",\n",
        "    2: \"Neutral\",\n",
        "    3: \"Positive\",\n",
        "    4: \"Very positive\",\n",
        "}\n",
        "\n",
        "# Separar características (X) y la clase objetivo (y)\n",
        "X = df.drop(columns=[\"score\"])\n",
        "y = df[\"score\"]\n",
        "\n",
        "# Instanciar el RandomUnderSampler\n",
        "rus = RandomUnderSampler(sampling_strategy=\"auto\", random_state=RANDOM_SEED)\n",
        "\n",
        "# Aplicar el undersampling\n",
        "X_resampled, y_resampled = rus.fit_resample(X, y)\n",
        "\n",
        "# Concatenar las características re-muestreadas con la clase objetivo\n",
        "df_resampled = pd.concat([X_resampled, y_resampled], axis=1)\n",
        "\n",
        "# Le restamos 1 a la columna score para que arranque en 0 el índice.\n",
        "df_resampled[\"score\"] = df_resampled[\"score\"] - 1\n",
        "\n",
        "# Mapear los valores numéricos a las clases descriptivas\n",
        "df_resampled[\"score_class\"] = df_resampled[\"score\"].map(score_dict)\n",
        "df_resampled.rename(columns={\"score\": \"sentiment\"}, inplace=True)\n",
        "\n",
        "# Mostrar un gráfico de barras de las clases después del undersampling\n",
        "sns.countplot(data=df_resampled, x=\"score_class\", hue=\"score_class\")\n",
        "plt.xlabel(\"Sentiment\")\n",
        "plt.ylabel(\"Count\")\n",
        "plt.title(\"Distribución de Sentimientos después del Undersampling\")\n",
        "plt.show()"
      ]
    },
    {
      "cell_type": "code",
      "execution_count": 54,
      "metadata": {},
      "outputs": [
        {
          "name": "stdout",
          "output_type": "stream",
          "text": [
            "Cantidad datos: 12310\n"
          ]
        }
      ],
      "source": [
        "print(f\"Cantidad datos: {len(df_resampled)}\")"
      ]
    },
    {
      "cell_type": "markdown",
      "metadata": {},
      "source": [
        "_Obtenemos las sentencias:_\n"
      ]
    },
    {
      "cell_type": "code",
      "execution_count": 55,
      "metadata": {},
      "outputs": [
        {
          "name": "stdout",
          "output_type": "stream",
          "text": [
            "Shape sentencias: (12310,)\n"
          ]
        },
        {
          "data": {
            "text/plain": [
              "array([\"I purchased the pro version in my motorola g5 plus , than uninstalled it, now I can't even get that purchase back! I understand it happening between two different devices, but I'm still using same device. Please help with it\",\n",
              "       'Used it until simple backup was premiumized. Restore wont work between different versions unless you modi-hack the file. Author would not tell you that you can do it though if you ask his help ! . Restore dont recognize my backup file at all so all my lists are basically inaccessible now. Will never install this again and I suggest anyone who values his data not to !',\n",
              "       \"Auto-fail only works if you go to each task? That's not auto fail. Makes no \\nsense. Might as well go back to Life RPG. that feature was the only reason \\nI even tried this. Subscription model ridiculous. Why would I pay a MONTHLY \\nfee for some icons? They are helpful icons & necessary mostly, but that's \\njust ridiculously expensive for some icons. A one time fee is reasonable. \\nEven if it was like $5. I wanted to like this app, but this got in the way.\"],\n",
              "      dtype=object)"
            ]
          },
          "execution_count": 55,
          "metadata": {},
          "output_type": "execute_result"
        }
      ],
      "source": [
        "sentences = df_resampled[\"content\"].values\n",
        "print(f\"Shape sentencias: {sentences.shape}\")\n",
        "sentences[:3]"
      ]
    },
    {
      "cell_type": "markdown",
      "metadata": {},
      "source": [
        "_Visualizamos la distribución de los tamaños de las sentencias:_\n"
      ]
    },
    {
      "cell_type": "code",
      "execution_count": 56,
      "metadata": {},
      "outputs": [
        {
          "name": "stdout",
          "output_type": "stream",
          "text": [
            "Valor medio: 139.0\n",
            "Percentil 90: 419.0\n"
          ]
        },
        {
          "data": {
            "image/png": "[encoded data removed]",
            "text/plain": [
              "<Figure size 640x480 with 1 Axes>"
            ]
          },
          "metadata": {},
          "output_type": "display_data"
        }
      ],
      "source": [
        "sentences_lenght = [len(sentence) for sentence in sentences]\n",
        "sns.histplot(sentences_lenght, bins=int(sqrt(len(sentences_lenght))))\n",
        "print(f\"Valor medio: {np.median(sentences_lenght)}\")\n",
        "print(f\"Percentil 90: {np.percentile(sentences_lenght, q=90)}\")"
      ]
    },
    {
      "cell_type": "markdown",
      "metadata": {},
      "source": [
        "_Definimos el `max_length`_\n"
      ]
    },
    {
      "cell_type": "markdown",
      "metadata": {},
      "source": [
        "📝 <em><font color='Gray'>Nota:</font></em>\n",
        "<em><font color='Gray'><p>BERT soporta un máximo de $512$.</p></font></em>\n"
      ]
    },
    {
      "cell_type": "code",
      "execution_count": 57,
      "metadata": {},
      "outputs": [],
      "source": [
        "max_length = 140"
      ]
    },
    {
      "cell_type": "markdown",
      "metadata": {},
      "source": [
        "_Obtenemos el target:_\n"
      ]
    },
    {
      "cell_type": "code",
      "execution_count": 58,
      "metadata": {},
      "outputs": [
        {
          "name": "stdout",
          "output_type": "stream",
          "text": [
            "Shape y antes: (12310,)\n",
            "Shape y después: (12310, 5)\n",
            "output_shape: 5\n",
            "[[1. 0. 0. 0. 0.]\n",
            " [1. 0. 0. 0. 0.]\n",
            " [1. 0. 0. 0. 0.]]\n"
          ]
        }
      ],
      "source": [
        "y = df_resampled[\"sentiment\"].values\n",
        "print(f\"Shape y antes: {y.shape}\")\n",
        "y = to_categorical(y)\n",
        "print(f\"Shape y después: {y.shape}\")\n",
        "output_shape = y.shape[1]\n",
        "print(f\"output_shape: {output_shape}\")\n",
        "print(y[:3])"
      ]
    },
    {
      "cell_type": "markdown",
      "metadata": {},
      "source": [
        "### Modelo\n"
      ]
    },
    {
      "cell_type": "markdown",
      "metadata": {},
      "source": [
        "_Para definir el modelo, utilizaremos el encoder de BERT, lo dejaremos fino (no entrenable) y se le agregarán algunas capas densas para la clasificación:_\n"
      ]
    },
    {
      "cell_type": "code",
      "execution_count": 59,
      "metadata": {},
      "outputs": [
        {
          "name": "stdout",
          "output_type": "stream",
          "text": [
            "Model: \"model_2\"\n",
            "__________________________________________________________________________________________________\n",
            " Layer (type)                Output Shape                 Param #   Connected to                  \n",
            "==================================================================================================\n",
            " input_ids (InputLayer)      [(None, 140)]                0         []                            \n",
            "                                                                                                  \n",
            " attention_mask (InputLayer  [(None, 140)]                0         []                            \n",
            " )                                                                                                \n",
            "                                                                                                  \n",
            " tf_bert_model_2 (TFBertMod  TFBaseModelOutputWithPooli   1094822   ['input_ids[0][0]',           \n",
            " el)                         ngAndCrossAttentions(last_   40         'attention_mask[0][0]']      \n",
            "                             hidden_state=(None, 140, 7                                           \n",
            "                             68),                                                                 \n",
            "                              pooler_output=(None, 768)                                           \n",
            "                             , past_key_values=None, hi                                           \n",
            "                             dden_states=None, attentio                                           \n",
            "                             ns=None, cross_attentions=                                           \n",
            "                             None)                                                                \n",
            "                                                                                                  \n",
            " dropout_113 (Dropout)       (None, 768)                  0         ['tf_bert_model_2[0][1]']     \n",
            "                                                                                                  \n",
            " dense_2 (Dense)             (None, 5)                    3845      ['dropout_113[0][0]']         \n",
            "                                                                                                  \n",
            "==================================================================================================\n",
            "Total params: 109486085 (417.66 MB)\n",
            "Trainable params: 3845 (15.02 KB)\n",
            "Non-trainable params: 109482240 (417.64 MB)\n",
            "__________________________________________________________________________________________________\n"
          ]
        }
      ],
      "source": [
        "# Importamos el modelo\n",
        "bert_model = TFBertModel.from_pretrained(\"bert-base-uncased\")\n",
        "\n",
        "# Seteamos el modelo como no entrenable.\n",
        "bert_model.bert.trainable = False\n",
        "\n",
        "# Creamos las capas de entrada.\n",
        "input_ids = Input(shape=(max_length,), dtype=\"int32\", name=\"input_ids\")\n",
        "attention_mask = Input(shape=(max_length,), dtype=\"int32\", name=\"attention_mask\")\n",
        "\n",
        "# Conectamos las capas de entrada con el encoder.\n",
        "outputs = bert_model(input_ids=input_ids, attention_mask=attention_mask)\n",
        "\n",
        "pooled_output = outputs.pooler_output\n",
        "\n",
        "# Pasamos por una capa de dropout\n",
        "x = Dropout(0.2)(pooled_output)\n",
        "\n",
        "# Definimos la capa densa final con la cantidad de salida de nuestras clases.\n",
        "output = Dense(output_shape, activation=\"softmax\")(x)\n",
        "\n",
        "# Definimos el modelo y compilamos.\n",
        "base_model = Model(inputs=[input_ids, attention_mask], outputs=output)\n",
        "base_model.compile(\n",
        "    optimizer=\"adam\",\n",
        "    loss=\"categorical_crossentropy\",\n",
        "    metrics=[\"accuracy\", F1Score(average=\"macro\")],\n",
        ")\n",
        "base_model.summary()"
      ]
    },
    {
      "cell_type": "markdown",
      "metadata": {},
      "source": [
        "📝 <em><font color='Gray'>Nota:</font></em>\n",
        "<em><font color='Gray'><p>Los parámetros entrenables, serían únicamente los de la capa densa. En este caso, dado que son 5 clases, y la entrada es el tamaño de embbeding de BERT, o sea, 768, la cantidad de parámetros entrenables es $768 * 5 + 5 = 3845$ (el $+5$ corresponde a los bias de las 5 neuronas)</p></font></em>\n"
      ]
    },
    {
      "cell_type": "markdown",
      "metadata": {},
      "source": [
        "_Imprimimos el modelo:_\n"
      ]
    },
    {
      "cell_type": "code",
      "execution_count": 60,
      "metadata": {},
      "outputs": [
        {
          "data": {
            "image/png": "[encoded data removed]",
            "text/plain": [
              "<IPython.core.display.Image object>"
            ]
          },
          "execution_count": 60,
          "metadata": {},
          "output_type": "execute_result"
        }
      ],
      "source": [
        "plot_model(base_model, to_file=PLOT_MODEL_PATH, show_shapes=True, show_layer_names=True)"
      ]
    },
    {
      "cell_type": "markdown",
      "metadata": {},
      "source": [
        "### Entrenamiento\n"
      ]
    },
    {
      "cell_type": "markdown",
      "metadata": {},
      "source": [
        "🔮 <em><font color='violet'>Función auxiliar:</font></em>\n",
        "<em><font color='violet'><p>Permite graficar los resultados desde el histórico de keras.</p></font></em>\n"
      ]
    },
    {
      "cell_type": "code",
      "execution_count": 61,
      "metadata": {},
      "outputs": [],
      "source": [
        "def plot_train_metrics(history):\n",
        "    epoch_count = range(1, len(history.history[\"accuracy\"]) + 1)\n",
        "    sns.lineplot(x=epoch_count, y=history.history[\"accuracy\"], label=\"train\")\n",
        "    sns.lineplot(x=epoch_count, y=history.history[\"val_accuracy\"], label=\"valid\")\n",
        "    plt.show()"
      ]
    },
    {
      "cell_type": "markdown",
      "metadata": {},
      "source": [
        "#### Data generator\n"
      ]
    },
    {
      "cell_type": "markdown",
      "metadata": {},
      "source": [
        "_El objetivo es obtener un dataset del cual podamos ir generando los datos con las clases `InputExample` y `InputFeatures`, al estilo del <ins>DataSet</ins> y <ins>DataLoader</ins> de $Pytorch$. O sea, ir pasandole al modelo en tiempo de entrenamiento, los datos \"on the fly\" (lo que implica no cargar todo el dataset en memoria)._\n"
      ]
    },
    {
      "cell_type": "markdown",
      "metadata": {},
      "source": [
        "_Entonces, del dataset original, accedemos a los datos por índices mezclados aleatoriamente (separamos los datos en train/test/val):_\n"
      ]
    },
    {
      "cell_type": "code",
      "execution_count": 62,
      "metadata": {},
      "outputs": [],
      "source": [
        "indices = np.arange(len(sentences))\n",
        "idx_train_val, idx_test = train_test_split(\n",
        "    indices, test_size=0.2, random_state=RANDOM_SEED\n",
        ")\n",
        "idx_train, idx_val = train_test_split(\n",
        "    idx_train_val, test_size=0.2, random_state=RANDOM_SEED\n",
        ")"
      ]
    },
    {
      "cell_type": "markdown",
      "metadata": {},
      "source": [
        "_Cantidad de datos:_\n"
      ]
    },
    {
      "cell_type": "code",
      "execution_count": 63,
      "metadata": {},
      "outputs": [
        {
          "name": "stdout",
          "output_type": "stream",
          "text": [
            "Cantidad datos TRAIN: 7878\n",
            "Cantidad datos TEST: 2462\n",
            "Cantidad datos VAL: 1970\n"
          ]
        }
      ],
      "source": [
        "print(f\"Cantidad datos TRAIN: {idx_train.shape[0]}\")\n",
        "print(f\"Cantidad datos TEST: {idx_test.shape[0]}\")\n",
        "print(f\"Cantidad datos VAL: {idx_val.shape[0]}\")"
      ]
    },
    {
      "cell_type": "code",
      "execution_count": 64,
      "metadata": {},
      "outputs": [],
      "source": [
        "# TODO: Eliminar esto\n",
        "idx_train = idx_train[:50]\n",
        "idx_test = idx_test[:20]\n",
        "idx_val = idx_val[:10]"
      ]
    },
    {
      "cell_type": "markdown",
      "metadata": {},
      "source": [
        "_Instanciamos el tokenizador:_\n"
      ]
    },
    {
      "cell_type": "code",
      "execution_count": 111,
      "metadata": {},
      "outputs": [],
      "source": [
        "bert_tokenizer = BertTokenizer.from_pretrained(\"bert-base-uncased\")"
      ]
    },
    {
      "cell_type": "markdown",
      "metadata": {},
      "source": [
        "_Luego, definimos una función generadora (mediante `yield`), que brinde datos a demanda:_\n"
      ]
    },
    {
      "cell_type": "markdown",
      "metadata": {},
      "source": [
        "📝 <em><font color='Gray'>Nota:</font></em>\n",
        "<em><font color='Gray'><p>\n",
        "\n",
        "BERT puede consumir dos secuencias de texto, separadas por un separador, con el objetivo de decidir si los textos están relacionados. Por eso, la clase `InputExample` está preparada para recibir dos textos (`text_a` y `text_b`), pero se puede utilizar solo uno de dichos textos. También recibe el label asociado a dicho ejemplo. En la función `convert_data_to_examples` se realiza eso tanto para el conjunto de entrenamiento como para el de validación.\n",
        "\n",
        "La función `convert_examples_to_tf_dataset`, realiza la conversión de `InputExamples` a `InputFeatures`, que son los que termina recibiendo el modelo de BERT. También devuelve una función generadora, para devolver datos a <ins>demanda</ins>.\n",
        "\n",
        "</p></font></em>\n"
      ]
    },
    {
      "cell_type": "code",
      "execution_count": 66,
      "metadata": {},
      "outputs": [],
      "source": [
        "def convert_data_to_examples(text, labels, idx_train, idx_val):\n",
        "    \"\"\"Arma un 'InputExample' para los datos de entrenamientos y validación\"\"\"\n",
        "    train_InputExamples = [\n",
        "        InputExample(guid=None, text_a=text[i], text_b=None, label=labels[i])\n",
        "        for i in idx_train\n",
        "    ]\n",
        "\n",
        "    validation_InputExamples = [\n",
        "        InputExample(guid=None, text_a=text[i], text_b=None, label=labels[i])\n",
        "        for i in idx_val\n",
        "    ]\n",
        "\n",
        "    return train_InputExamples, validation_InputExamples\n",
        "\n",
        "\n",
        "def convert_examples_to_tf_dataset(examples, bert_tokenizer, max_length=512):\n",
        "    \"\"\"\n",
        "    Transforma los datos de entrada en tensores de:\n",
        "        - input_ids --> token_id\n",
        "        - attention_mask\n",
        "        - token_type\n",
        "    \"\"\"\n",
        "    features = []\n",
        "\n",
        "    # Este ciclo convierte los InputExamples en InputFeatures, lo que implica\n",
        "    # tokenizar, obtener la máscara de atención y los imputs id.\n",
        "    # InputFeatures se crea con los inputs_id, attention_mask, label.\n",
        "    for e in examples:\n",
        "        input_dict = bert_tokenizer.encode_plus(\n",
        "            e.text_a,\n",
        "            add_special_tokens=True,\n",
        "            max_length=max_length,  # truncates if len(s) > max_length\n",
        "            return_token_type_ids=False,\n",
        "            return_attention_mask=True,\n",
        "            padding=\"max_length\",  # pads to the right by default\n",
        "            truncation=True,\n",
        "        )\n",
        "\n",
        "        input_ids, attention_mask = (\n",
        "            input_dict[\"input_ids\"],\n",
        "            input_dict[\"attention_mask\"],\n",
        "        )\n",
        "\n",
        "        features.append(\n",
        "            InputFeatures(\n",
        "                input_ids=input_ids, attention_mask=attention_mask, label=e.label\n",
        "            )\n",
        "        )\n",
        "\n",
        "    # Función generadora para no levantar todos los datos en un instante\n",
        "    def gen():\n",
        "        for f in features:\n",
        "            # yield implica devolver un item de features cada vez que se llama.\n",
        "            yield (\n",
        "                {\n",
        "                    \"input_ids\": f.input_ids,\n",
        "                    \"attention_mask\": f.attention_mask,\n",
        "                },\n",
        "                f.label,\n",
        "            )\n",
        "\n",
        "    # Devuelve el generador y devuelve un tipo Dataset de tensorflow, creado desde la función from_generator,\n",
        "    # que recibe el generador, y los tipos.\n",
        "    # https://www.tensorflow.org/api_docs/python/tf/data/Dataset#from_generator\n",
        "    return tf.data.Dataset.from_generator(\n",
        "        # tf dataset generator (basado en el generador y en el esquema de datos definido)\n",
        "        gen,\n",
        "        ({\"input_ids\": \"int32\", \"attention_mask\": \"int32\"}, \"float32\"),\n",
        "        (\n",
        "            {\n",
        "                \"input_ids\": tf.TensorShape([None]),\n",
        "                \"attention_mask\": tf.TensorShape([None]),\n",
        "            },\n",
        "            tf.TensorShape([output_shape]),\n",
        "        ),\n",
        "    )"
      ]
    },
    {
      "cell_type": "markdown",
      "metadata": {},
      "source": [
        "_Una vez definida la función para obtener un `tf.data.Dataset` desde un generador, lo instanciamos._\n"
      ]
    },
    {
      "cell_type": "code",
      "execution_count": 67,
      "metadata": {},
      "outputs": [],
      "source": [
        "# Obtengo los ejemplos.\n",
        "train_InputExamples, validation_InputExamples = convert_data_to_examples(\n",
        "    sentences, y, idx_train, idx_val\n",
        ")\n",
        "\n",
        "# Obtengo el tf.data.Dataset para entrenamiento.\n",
        "train_data: tf.data.Dataset = convert_examples_to_tf_dataset(\n",
        "    list(train_InputExamples), bert_tokenizer, max_length=max_length\n",
        ")\n",
        "\n",
        "# shuffle 100 --> mezcla los datos y los lee a de 100 unidades\n",
        "# batch 32 --> ejecuta una epoca de entrenamiento de a 32 unidades\n",
        "train_data = train_data.shuffle(100).batch(BATCH_SIZE)\n",
        "\n",
        "# Obtengo el tf.data.Dataset para validacion.\n",
        "validation_data: tf.data.Dataset = convert_examples_to_tf_dataset(\n",
        "    list(validation_InputExamples), bert_tokenizer, max_length=max_length\n",
        ")\n",
        "validation_data = validation_data.batch(BATCH_SIZE)"
      ]
    },
    {
      "cell_type": "markdown",
      "metadata": {},
      "source": [
        "#### BERT Base model"
      ]
    },
    {
      "cell_type": "markdown",
      "metadata": {},
      "source": [
        "*Primeramente, entrenaremos el modelo sin hacer fine-tuning:*"
      ]
    },
    {
      "cell_type": "code",
      "execution_count": 70,
      "metadata": {},
      "outputs": [],
      "source": [
        "# TODO: Borrar esto\n",
        "EPOCHS = 10"
      ]
    },
    {
      "cell_type": "code",
      "execution_count": 71,
      "metadata": {},
      "outputs": [
        {
          "name": "stdout",
          "output_type": "stream",
          "text": [
            "Epoch 1/10\n"
          ]
        },
        {
          "name": "stdout",
          "output_type": "stream",
          "text": [
            "2/2 [==============================] - 14s 7s/step - loss: 1.7294 - accuracy: 0.2400 - f1_score: 0.1417 - val_loss: 1.8497 - val_accuracy: 0.2000 - val_f1_score: 0.0727\n",
            "Epoch 2/10\n",
            "2/2 [==============================] - 18s 9s/step - loss: 1.7545 - accuracy: 0.2800 - f1_score: 0.1750 - val_loss: 1.9953 - val_accuracy: 0.2000 - val_f1_score: 0.0667\n",
            "Epoch 3/10\n",
            "2/2 [==============================] - 18s 8s/step - loss: 1.6804 - accuracy: 0.2400 - f1_score: 0.1660 - val_loss: 2.0120 - val_accuracy: 0.1000 - val_f1_score: 0.0667\n",
            "Epoch 4/10\n",
            "2/2 [==============================] - 18s 8s/step - loss: 1.7406 - accuracy: 0.2600 - f1_score: 0.1773 - val_loss: 1.9212 - val_accuracy: 0.1000 - val_f1_score: 0.0800\n",
            "Epoch 5/10\n",
            "2/2 [==============================] - 17s 9s/step - loss: 1.6087 - accuracy: 0.2800 - f1_score: 0.2265 - val_loss: 1.7744 - val_accuracy: 0.2000 - val_f1_score: 0.2000\n",
            "Epoch 6/10\n",
            "2/2 [==============================] - 19s 9s/step - loss: 1.6935 - accuracy: 0.2600 - f1_score: 0.2121 - val_loss: 1.6631 - val_accuracy: 0.3000 - val_f1_score: 0.1689\n",
            "Epoch 7/10\n",
            "2/2 [==============================] - 21s 10s/step - loss: 1.6188 - accuracy: 0.2800 - f1_score: 0.2283 - val_loss: 1.5964 - val_accuracy: 0.3000 - val_f1_score: 0.1689\n",
            "Epoch 8/10\n",
            "2/2 [==============================] - 18s 8s/step - loss: 1.6093 - accuracy: 0.2600 - f1_score: 0.2328 - val_loss: 1.5581 - val_accuracy: 0.2000 - val_f1_score: 0.0667\n",
            "Epoch 9/10\n",
            "2/2 [==============================] - 19s 9s/step - loss: 1.6635 - accuracy: 0.2400 - f1_score: 0.2254 - val_loss: 1.5950 - val_accuracy: 0.3000 - val_f1_score: 0.2061\n",
            "Epoch 10/10\n",
            "2/2 [==============================] - 19s 8s/step - loss: 1.5319 - accuracy: 0.3200 - f1_score: 0.2058 - val_loss: 1.6628 - val_accuracy: 0.3000 - val_f1_score: 0.2061\n"
          ]
        }
      ],
      "source": [
        "steps_per_epoch = len(idx_train) // BATCH_SIZE\n",
        "validation_steps = len(idx_val) // BATCH_SIZE\n",
        "\n",
        "base_model_history = base_model.fit(\n",
        "    train_data,\n",
        "    epochs=EPOCHS,\n",
        "    validation_data=validation_data,\n",
        "    steps_per_epoch=steps_per_epoch,\n",
        "    validation_steps=validation_steps,\n",
        ")"
      ]
    },
    {
      "cell_type": "markdown",
      "metadata": {},
      "source": [
        "*Graficamos los resultados:*"
      ]
    },
    {
      "cell_type": "code",
      "execution_count": 72,
      "metadata": {},
      "outputs": [
        {
          "data": {
            "image/png": "[encoded data removed]",
            "text/plain": [
              "<Figure size 640x480 with 1 Axes>"
            ]
          },
          "metadata": {},
          "output_type": "display_data"
        }
      ],
      "source": [
        "plot_train_metrics(base_model_history)"
      ]
    },
    {
      "cell_type": "markdown",
      "metadata": {},
      "source": [
        "*Probamos los resultados con el cojunto de test:*"
      ]
    },
    {
      "cell_type": "code",
      "execution_count": 137,
      "metadata": {},
      "outputs": [
        {
          "name": "stdout",
          "output_type": "stream",
          "text": [
            "1/1 [==============================] - 5s 5s/step\n",
            "Salida de la predicción:\n",
            " [0.14604594 0.39759022 0.13515575 0.237648   0.08356017]\n",
            "\n",
            "Luego de softmax:\n",
            " [1 3 1]\n",
            "1/1 [==============================] - 6s 6s/step - loss: 1.6298 - accuracy: 0.2500 - f1_score: 0.1321\n",
            "\n",
            "Exactitud del modelo: 0.25\n"
          ]
        }
      ],
      "source": [
        "# Obtenemos las sentencias de test.\n",
        "pred_sentences = [sentences[i] for i in idx_test]\n",
        "\n",
        "tf_batch = bert_tokenizer.batch_encode_plus(\n",
        "    pred_sentences,\n",
        "    add_special_tokens=True,\n",
        "    max_length=max_length,  # truncates if len(s) > max_length\n",
        "    return_token_type_ids=False,\n",
        "    return_attention_mask=True,\n",
        "    padding=\"max_length\",  # pads to the right by default\n",
        "    truncation=True,\n",
        "    return_tensors='tf'\n",
        ")\n",
        "\n",
        "# Dividimos en input y target.\n",
        "X_test = [tf_batch[\"input_ids\"], tf_batch[\"attention_mask\"]]\n",
        "y_test = y[idx_test]\n",
        "\n",
        "# Realizamos la predicción\n",
        "y_hat_prob = base_model.predict(X_test)\n",
        "print(f\"Salida de la predicción:\\n {y_hat_prob[:3]}\")\n",
        "\n",
        "# Nos quedamos con la clase que tiene la probabilidad más alta para cada documento\n",
        "y_hat = np.argmax(y_hat_prob, axis=1)  # Softmax\n",
        "print(f\"\\nLuego de softmax:\\n {y_hat[:3]}\")\n",
        "\n",
        "# Podríamos haber calculado la exactitud con el vector anterior, pero utilizamos el método evaluate\n",
        "# de los modelos de tensorflow.\n",
        "scores = base_model.evaluate(X_test, y_test)\n",
        "print(f\"\\nExactitud del modelo: {scores[1]}\")"
      ]
    },
    {
      "cell_type": "markdown",
      "metadata": {},
      "source": [
        "*También podemos realizar una matriz de confusión para mejor obaservación (notar que son 5 clases, la matriz es de 5x5):*"
      ]
    },
    {
      "cell_type": "code",
      "execution_count": 140,
      "metadata": {},
      "outputs": [
        {
          "data": {
            "image/png": "[encoded data removed]",
            "text/plain": [
              "<Figure size 640x480 with 2 Axes>"
            ]
          },
          "metadata": {},
          "output_type": "display_data"
        }
      ],
      "source": [
        "# Obtenemos la matriz de confusión.\n",
        "cm = confusion_matrix(y_test.argmax(axis=1), y_hat)\n",
        "\n",
        "# Mapeamos los números a los nombres de las clases.\n",
        "labels = [score_dict[i] for i in range(len(score_dict))]\n",
        "\n",
        "# Creamos la visualización de la matriz de confusión con los nombres de las clases.\n",
        "cmd = ConfusionMatrixDisplay(confusion_matrix=cm, display_labels=labels)\n",
        "\n",
        "# Mostramos la matriz de confusión con los labels.\n",
        "cmd.plot(cmap=plt.cm.Blues)\n",
        "\n",
        "# Rotamos las etiquetas del eje x en 45 grados.\n",
        "plt.xticks(rotation=45)\n",
        "\n",
        "# Mostramos el gráfico.\n",
        "plt.show()"
      ]
    },
    {
      "cell_type": "markdown",
      "metadata": {},
      "source": [
        "#### BERT Fine tuning"
      ]
    },
    {
      "cell_type": "markdown",
      "metadata": {},
      "source": [
        "*Para probar el modelo fine-tuning, tenemos que poner las capas como entrenables:*"
      ]
    },
    {
      "cell_type": "code",
      "execution_count": null,
      "metadata": {},
      "outputs": [],
      "source": [
        "fine_tuned_model = base_model\n",
        "\n",
        "for layer in fine_tuned_model.layers:\n",
        "    layer.trainable = True\n",
        "\n",
        "# Como es fine tuning, se recomienda utilizar al menos un learnig rate 100 veces menor\n",
        "# que el original.\n",
        "base_model.compile(\n",
        "    optimizer=Adam(learning_rate=0.00001),\n",
        "    loss=\"categorical_crossentropy\",\n",
        "    metrics=[\"accuracy\", F1Score(average=\"macro\")],\n",
        ")\n",
        "base_model.summary()"
      ]
    },
    {
      "cell_type": "markdown",
      "metadata": {},
      "source": [
        "*Realizamos el entrenamiento:*"
      ]
    },
    {
      "cell_type": "code",
      "execution_count": null,
      "metadata": {},
      "outputs": [],
      "source": [
        "steps_per_epoch = len(idx_train) // BATCH_SIZE\n",
        "validation_steps = len(idx_val) // BATCH_SIZE\n",
        "\n",
        "fine_tuned_model_history = fine_tuned_model.fit(\n",
        "    train_data,\n",
        "    epochs=EPOCHS,\n",
        "    validation_data=validation_data,\n",
        "    steps_per_epoch=steps_per_epoch,\n",
        "    validation_steps=validation_steps,\n",
        ")"
      ]
    },
    {
      "cell_type": "markdown",
      "metadata": {},
      "source": [
        "*Graficamos los resultados:*"
      ]
    },
    {
      "cell_type": "code",
      "execution_count": null,
      "metadata": {},
      "outputs": [
        {
          "data": {
            "image/png": "[encoded data removed]",
            "text/plain": [
              "<Figure size 640x480 with 1 Axes>"
            ]
          },
          "metadata": {},
          "output_type": "display_data"
        }
      ],
      "source": [
        "plot_train_metrics(fine_tuned_model_history)"
      ]
    },
    {
      "cell_type": "markdown",
      "metadata": {},
      "source": [
        "*Probamos los resultados con el cojunto de test:*"
      ]
    },
    {
      "cell_type": "code",
      "execution_count": null,
      "metadata": {},
      "outputs": [
        {
          "name": "stdout",
          "output_type": "stream",
          "text": [
            "1/1 [==============================] - 5s 5s/step\n",
            "Salida de la predicción:\n",
            " [0.14604594 0.39759022 0.13515575 0.237648   0.08356017]\n",
            "\n",
            "Luego de softmax:\n",
            " [1 3 1]\n",
            "1/1 [==============================] - 6s 6s/step - loss: 1.6298 - accuracy: 0.2500 - f1_score: 0.1321\n",
            "\n",
            "Exactitud del modelo: 0.25\n"
          ]
        }
      ],
      "source": [
        "# Obtenemos las sentencias de test.\n",
        "pred_sentences = [sentences[i] for i in idx_test]\n",
        "\n",
        "tf_batch = bert_tokenizer.batch_encode_plus(\n",
        "    pred_sentences,\n",
        "    add_special_tokens=True,\n",
        "    max_length=max_length,  # truncates if len(s) > max_length\n",
        "    return_token_type_ids=False,\n",
        "    return_attention_mask=True,\n",
        "    padding=\"max_length\",  # pads to the right by default\n",
        "    truncation=True,\n",
        "    return_tensors='tf'\n",
        ")\n",
        "\n",
        "# Dividimos en input y target.\n",
        "X_test = [tf_batch[\"input_ids\"], tf_batch[\"attention_mask\"]]\n",
        "y_test = y[idx_test]\n",
        "\n",
        "# Realizamos la predicción\n",
        "y_hat_prob = fine_tuned_model.predict(X_test)\n",
        "print(f\"Salida de la predicción:\\n {y_hat_prob[:3]}\")\n",
        "\n",
        "# Nos quedamos con la clase que tiene la probabilidad más alta para cada documento\n",
        "y_hat = np.argmax(y_hat_prob, axis=1)  # Softmax\n",
        "print(f\"\\nLuego de softmax:\\n {y_hat[:3]}\")\n",
        "\n",
        "# Podríamos haber calculado la exactitud con el vector anterior, pero utilizamos el método evaluate\n",
        "# de los modelos de tensorflow.\n",
        "scores = fine_tuned_model.evaluate(X_test, y_test)\n",
        "print(f\"\\nExactitud del modelo: {scores[1]}\")"
      ]
    },
    {
      "cell_type": "markdown",
      "metadata": {},
      "source": [
        "*También podemos realizar una matriz de confusión para mejor obaservación (notar que son 5 clases, la matriz es de 5x5):*"
      ]
    },
    {
      "cell_type": "code",
      "execution_count": null,
      "metadata": {},
      "outputs": [
        {
          "data": {
            "image/png": "[encoded data removed]",
            "text/plain": [
              "<Figure size 640x480 with 2 Axes>"
            ]
          },
          "metadata": {},
          "output_type": "display_data"
        }
      ],
      "source": [
        "# Obtenemos la matriz de confusión.\n",
        "cm = confusion_matrix(y_test.argmax(axis=1), y_hat)\n",
        "\n",
        "# Mapeamos los números a los nombres de las clases.\n",
        "labels = [score_dict[i] for i in range(len(score_dict))]\n",
        "\n",
        "# Creamos la visualización de la matriz de confusión con los nombres de las clases.\n",
        "cmd = ConfusionMatrixDisplay(confusion_matrix=cm, display_labels=labels)\n",
        "\n",
        "# Mostramos la matriz de confusión con los labels.\n",
        "cmd.plot(cmap=plt.cm.Blues)\n",
        "\n",
        "# Rotamos las etiquetas del eje x en 45 grados.\n",
        "plt.xticks(rotation=45)\n",
        "\n",
        "# Mostramos el gráfico.\n",
        "plt.show()"
      ]
    },
    {
      "cell_type": "markdown",
      "metadata": {},
      "source": [
        "#### Generalización"
      ]
    },
    {
      "cell_type": "markdown",
      "metadata": {},
      "source": [
        "*Finalmente, podemos probar como generaliza el modelo:*"
      ]
    },
    {
      "cell_type": "code",
      "execution_count": null,
      "metadata": {},
      "outputs": [],
      "source": [
        "text = \"I love the lord of the rings!\"\n",
        "\n",
        "# Tokenizamos el texto\n",
        "tf_batch = bert_tokenizer.encode_plus(\n",
        "    text,\n",
        "    add_special_tokens=True,\n",
        "    max_length=max_length,\n",
        "    return_token_type_ids=False,\n",
        "    return_attention_mask=True,\n",
        "    pad_to_max_length=True,\n",
        "    truncation=True,\n",
        "    return_tensors=\"tf\",\n",
        ")\n",
        "\n",
        "# Preparamos los inputs para la predicción\n",
        "X_ensayo = [tf_batch[\"input_ids\"], tf_batch[\"attention_mask\"]]\n",
        "\n",
        "# Realizamos la predicción\n",
        "y_prob_ensayo = fine_tuned_model.predict(X_ensayo)\n",
        "\n",
        "# Obtenemos la clase con la probabilidad más alta\n",
        "y_prob = np.argmax(y_prob_ensayo, axis=1)\n",
        "\n",
        "# Imprimimos la clasificación utilizando tu diccionario de etiquetas\n",
        "print(\"Clasificación: \", score_dict[int(y_prob)])"
      ]
    }
  ],
  "metadata": {
    "colab": {
      "provenance": []
    },
    "kernelspec": {
      "display_name": ".venv",
      "language": "python",
      "name": "python3"
    },
    "language_info": {
      "codemirror_mode": {
        "name": "ipython",
        "version": 3
      },
      "file_extension": ".py",
      "mimetype": "text/x-python",
      "name": "python",
      "nbconvert_exporter": "python",
      "pygments_lexer": "ipython3",
      "version": "3.12.7"
    }
  },
  "nbformat": 4,
  "nbformat_minor": 0
}
