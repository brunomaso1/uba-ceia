{
 "cells": [
  {
   "cell_type": "markdown",
   "metadata": {},
   "source": [
    "# TP1: Algoritmos de búsqueda en Torre de Hanoi - Solución\n",
    "\n",
    "![Torres Hanoi](resources/torres.png \"Torres Hanoi\")"
   ]
  },
  {
   "cell_type": "markdown",
   "metadata": {},
   "source": [
    "## Tareas y preguntas a resolver:"
   ]
  },
  {
   "cell_type": "markdown",
   "metadata": {},
   "source": [
    "### Ejericio 1:\n",
    "\n",
    "> 1. ¿Cuáles son los PEAS de este problema? (Performance, Environment, Actuators, Sensors)\n",
    "\n",
    "El entorno de trabajo (lo que se denomina *_PEAS_*) para este caso es el siguiente (se plantea una visión donde se consideraría el problema en el mundo real y se lo modela en una simulación computacional):\n",
    "\n",
    "- Desempeño (_Performance_): En este problema, una medida de desempeño se puede basar en el la complejidad en tiempo como en espacio. O sea, cuando demora el algoritmo elejido y cuanda memoria ocupa. Otra medida posible es si es completo, o sea, si llega a una solución o no. En resumen, se pueden seleccionar medidas relacionadas con las siguientes dimensiones:\n",
    "    - Completitud\n",
    "    - Optimización\n",
    "    - Complejidad en tiempo\n",
    "    - Complejidad en espacio\n",
    "\n",
    "- Entorno (_Environment_): El entorno de trabajo es simulado, que representa un modelo del mundo real. En este caso, en el modelo se representan las torres de Hanoi, los discos y los movimientos posibles. Todos los entes tienen su representación en números naturales.\n",
    "\n",
    "- Actuadores (_Actuactors_): En este entorno simulado, los actuadores serían las entradas del usuario (en este caso, la consola).\n",
    "\n",
    "- Sensores (_Sensors_): En este entorno simulado, los sensores serían la pantalla de visualización."
   ]
  },
  {
   "cell_type": "markdown",
   "metadata": {},
   "source": [
    "### Ejericio 2:\n",
    "\n",
    "> 2. ¿Cuáles son las propiedades del entorno de trabajo?\n",
    "\n",
    "Las propiedades del ambiente de trabajo para este problema se especifica en las siguientes dimensiónes como:\n",
    "\n",
    "- **Totalmente observable** (vs \"parcialmente observable\"): El grafo de todas las soluciones es totalmente observable (contando con recursos infinitos, ya que dada las restricciones de memoria o tiempo, puede ser considerado como \"parcialmente observable\").\n",
    "\n",
    "- **Determinista** (vs \"estocástico\"): Es determinista, ya que no se involucra el azar en la generación de nodos del arbol de solución.\n",
    "\n",
    "- **Secuencial** (vs \"episódico\"): Un estado depende de otro, en forma de secuencia.\n",
    "\n",
    "- **Estático** (vs \"dinámico\"): No se cambian los estados por acciones externas o internas.\n",
    "\n",
    "- **Discreto** (vs \"continuo\"): El espacio de soluciones pertenece al conjunto de los Naturales _(Sea $S$ el espacio de soluciones $\\Rightarrow S \\in \\N$)_.\n",
    "\n",
    "- **Agente individual** (vs \"multiagente\"): No participan otros agentes en el modelo."
   ]
  },
  {
   "cell_type": "markdown",
   "metadata": {},
   "source": [
    "### Ejercicio 3:\n",
    "\n",
    "> 3. En el contexto de este problema, establezca cuáles son los: estado, espacio de estados, árbol de búsqueda, nodo de búsqueda, objetivo, acción y frontera."
   ]
  },
  {
   "cell_type": "markdown",
   "metadata": {},
   "source": [
    " **Definicón del problema** | **Descripción** | **Representación** \n",
    "---|---|---\n",
    " **Estado** | Un estado se representa con una tupla de tuplas, ordenada de derecha a izquierda, donde cada posición de la tupa exterior representa una torre y cada valor de la tupla exterior (una tupla en sí), representa el conjunto de discos que está, en ese momento, en dicha torre. Los números dentro de la tupla interior representan a los discos. | $[posición_1,…,posición_n]$ donde posiciónn es $[1,…,m]$ discos; $\\forall m,n \\in \\N$. Ej: $[[3,2,1], [4], [5]]$, representa un estado en donde el disco 3, 2 , 1 se encuentran en la torre 1 (en ese orden), el disco 4 en la torre 2 y el disco 5 en la torre 3. \n",
    " **Espacio de estados** | Todas las combinaciones posibles, siendo el número de torres elevado al número de discos. | $n^m$ donde $n$ representa el número de torres y $m$ representa el número de discos, $\\forall n,m \\in \\N$ \n",
    " **Arbol de búsqueda** | Indica un camino posible, luego de aplicar la función de transición. Es una estructura de forma de arbol en donde se guardan los nodos y su posible camino. | Imagen de arbol de busqueda \n",
    " **Nodo de búsqueda** | Representa varios componentes, entre los cuales están, su antecesor, sus hijos y el estado actual. También se incluye el costo de llegar a dicho nodo. | Un nodo con los siguientes el siguiente estado y comportamiento:</br></br> <code>class Node:</br> &emsp;def __init__(self, state, parent=None, action=None, path_cost=0): </br> &emsp;&emsp;self.state = state </br> &emsp;&emsp;self.parent = parent </br> &emsp;&emsp;self.action = action </br> &emsp;&emsp;self.path_cost = path_cost </br> &emsp;&emsp;self.depth = 0 </br> &emsp;&emsp;if parent: </br> &emsp;&emsp;&emsp;self.depth = parent.depth + 1 </br> </br> &emsp;def expand(self, problem): </br> &emsp;&emsp;return [self.child_node(problem, action) </br> &emsp;&emsp;&emsp;&emsp;for action in problem.actions(self.state)] </br> </br> &emsp;def child_node(self, problem, action): </br> &emsp;&emsp;next_state = problem.result(self.state, action) </br> &emsp;&emsp;next_node = Node(next_state, self, action, problem.path_cost(self.path_cost, self.state, action, next_state)) </br> &emsp;&emsp;return next_node </br> </br> &emsp;def solution(self): </br> &emsp;&emsp;return [node.action for node in self.path()[1:]] </br> </br> &emsp;def path(self): </br> &emsp;&emsp;node, path_back = self, [] </br> &emsp;&emsp;while node: </br> &emsp;&emsp;&emsp;path_back.append(node) </br> &emsp;&emsp;&emsp;node = node.parent </br> &emsp;&emsp;return list(reversed(path_back)) </br> </code> \n",
    " **Objetivo** | Representa una tupla objetivo, que contiene el conjunto de discos (la tupla interior) como estado final. | Un estado objetivo. Ej: $[[], [5,4,3,2], [1]]$, un estado final objetivo con el primer disco en la posición 3 y la siguiente secuencia en la posición 2: disco 2, disco 3, disco 4, disco 5; para un caso de 5 discos con tres torres. \n",
    " **Acción** | Se interpreta como mover un disco de una torre a otra. En la representación actual, es mover la posición en la tupla de un item de la tupla interna. | Sea $f(E, D) \\rightarrow E$, en donde $E$ es un estado y $D$ es un disco a mover. \n",
    " **Frontera** | La función de transición que devuelve todos los estados en los cuales para pasar un disco de una torre a otra, solamente es posible si el disco actual es menor que el disco que se encuentra en la última posición de la torre objetivo. | Sea $f(E, D) -> {E_1,...,E_n}$, en donde ${E_1,...,E_n}$ es un conjunto de estados válidos y D es un disco a mover. Solamente son posibles estados donde el disco a mover es menor al último disco en la torre objetivo. "
   ]
  },
  {
   "cell_type": "markdown",
   "metadata": {},
   "source": [
    "### Ejercicio 4:\n",
    "\n",
    "> 4. Implemente algún método de búsqueda. Puedes elegir cualquiera menos búsqueda en anchura primero (el desarrollado en clase). Sos libre de elegir cualquiera de los vistos en clases, o inclusive buscar nuevos."
   ]
  },
  {
   "cell_type": "code",
   "execution_count": 108,
   "metadata": {},
   "outputs": [],
   "source": [
    "from collections import deque # Estructura de listas enlazadas para representar colas y pilas\n",
    "from hanoi_tower import tree_hanoi, search, main, hanoi_states, aima\n",
    "\n",
    "# Siempre los importo por las dudas, capaz ni los uso...\n",
    "import pandas as pd"
   ]
  },
  {
   "cell_type": "markdown",
   "metadata": {},
   "source": [
    "### Algoritmos de búsquedas"
   ]
  },
  {
   "cell_type": "markdown",
   "metadata": {},
   "source": [
    "#### Algoritmos de busqueda no informada"
   ]
  },
  {
   "cell_type": "markdown",
   "metadata": {},
   "source": [
    "##### Algoritmo busqueda en anchura (realizado en clase)"
   ]
  },
  {
   "cell_type": "code",
   "execution_count": 109,
   "metadata": {},
   "outputs": [],
   "source": [
    "def breadth_first_tree_search(problem: hanoi_states.ProblemHanoi):\n",
    "    \"\"\"\n",
    "    Realiza una búsqueda en anchura para encontrar una solución a un problema de Hanoi.\n",
    "    Esta función no chequea si un estado se visito, por lo que puede entrar en Loop infinitos muy fácilmente. No\n",
    "    usarla con más de 3 discos.\n",
    "\n",
    "    Parameters:\n",
    "        problem (hanoi_states.ProblemHanoi): El problema de la Torre de Hanoi a resolver.\n",
    "\n",
    "    Returns:\n",
    "        tree_hanoi.NodeHanoi: El nodo que contiene la solución encontrada.\n",
    "    \"\"\"\n",
    "    frontier = deque([tree_hanoi.NodeHanoi(problem.initial)])  # Creamos una cola FIFO con el nodo inicial\n",
    "    while frontier:\n",
    "        node = frontier.popleft()  # Extraemos el primer nodo de la cola\n",
    "        if problem.goal_test(node.state):  # Comprobamos si hemos alcanzado el estado objetivo\n",
    "            return node\n",
    "        frontier.extend(node.expand(problem))  # Agregamos a la cola todos los nodos sucesores del nodo actual\n",
    "\n",
    "    return None\n",
    "\n",
    "\n",
    "def breadth_first_graph_search(problem: hanoi_states.ProblemHanoi, display: bool = False):\n",
    "    \"\"\"\n",
    "    Realiza una búsqueda en anchura para encontrar una solución a un problema de Hanoi. Pero ahora si recuerda si ya\n",
    "    paso por un estado e ignora seguir buscando en ese nodo para evitar recursividad.\n",
    "\n",
    "    Parameters:\n",
    "        problem (hanoi_states.ProblemHanoi): El problema de la Torre de Hanoi a resolver.\n",
    "        display (bool, optional): Muestra un mensaje de cuantos caminos se expandieron y cuantos quedaron sin expandir.\n",
    "                                  Por defecto es False.\n",
    "\n",
    "    Returns:\n",
    "        tree_hanoi.NodeHanoi: El nodo que contiene la solución encontrada.\n",
    "    \"\"\"\n",
    "\n",
    "    frontier = deque([tree_hanoi.NodeHanoi(problem.initial)])  # Creamos una cola FIFO con el nodo inicial\n",
    "\n",
    "    explored = set()  # Este set nos permite ver si ya exploramos un estado para evitar repetir indefinidamente\n",
    "    while frontier:\n",
    "        node = frontier.popleft()  # Extraemos el primer nodo de la cola\n",
    "\n",
    "        # Agregamos nodo al set. Esto evita guardar duplicados, porque set nunca tiene elementos repetidos, esto sirve\n",
    "        # porque heredamos el método __eq__ en tree_hanoi.NodeHanoi de aima.Node\n",
    "        explored.add(node.state)\n",
    "\n",
    "        if problem.goal_test(node.state):  # Comprobamos si hemos alcanzado el estado objetivo\n",
    "            if display:\n",
    "                print(len(explored), \"caminos se expandieron y\", len(frontier), \"caminos quedaron en la frontera\")\n",
    "            return node\n",
    "        # Agregamos a la cola todos los nodos sucesores del nodo actual que no haya visitados\n",
    "        frontier.extend(child for child in node.expand(problem)\n",
    "                        if child.state not in explored and child not in frontier)\n",
    "\n",
    "    return None"
   ]
  },
  {
   "cell_type": "markdown",
   "metadata": {},
   "source": [
    "##### Algoritmo búsqueda en profundiadad"
   ]
  },
  {
   "cell_type": "code",
   "execution_count": 110,
   "metadata": {},
   "outputs": [],
   "source": [
    "def depth_first_graph_search(problem: hanoi_states.ProblemHanoi, display: bool = False):\n",
    "    \"\"\"\n",
    "    Realiza una búsqueda en profundidad para encontrar una solución a un problema de Hanoi. Recuerda los nodos para evitar la recursividad.\n",
    "\n",
    "    Parameters:\n",
    "        problem (hanoi_states.ProblemHanoi): El problema de la Torre de Hanoi a resolver.\n",
    "        display (bool, optional): Muestra un mensaje de cuantos caminos se expandieron y cuantos quedaron sin expandir.\n",
    "                                  Por defecto es False.\n",
    "\n",
    "    Returns:\n",
    "        tree_hanoi.NodeHanoi: El nodo que contiene la solución encontrada.\n",
    "    \"\"\"\n",
    "\n",
    "    frontier = deque([tree_hanoi.NodeHanoi(problem.initial)])  # Creamos una pila LIFO con el nodo inicial\n",
    "\n",
    "    explored = set()\n",
    "    while frontier:\n",
    "        node = frontier.pop()  # Extraemos el último nodo de la pila\n",
    "\n",
    "        explored.add(node.state)\n",
    "\n",
    "        if problem.goal_test(node.state): \n",
    "            if display:\n",
    "                print(len(explored), \"caminos se expandieron y\", len(frontier), \"caminos quedaron en la frontera\")\n",
    "            return node\n",
    "        # Agregamos a la pila todos los nodos sucesores del nodo actual que no hayan sido visitados\n",
    "        frontier.extend(child for child in node.expand(problem)\n",
    "                        if child.state not in explored and child not in frontier)\n",
    "\n",
    "    return None"
   ]
  },
  {
   "cell_type": "markdown",
   "metadata": {},
   "source": [
    "##### Algoritmo búsqueda en profundidad limitada iterativa"
   ]
  },
  {
   "cell_type": "code",
   "execution_count": 111,
   "metadata": {},
   "outputs": [],
   "source": [
    "def depth_limited_search(problem: hanoi_states.ProblemHanoi, limit: int = 1, display: bool = False):\n",
    "    \"\"\"\n",
    "    Realiza una búsqueda en profundidad para encontrar una solución a un problema de Hanoi. Recuerda los nodos para evitar la recursividad.\n",
    "    Está limitada a una profundiad dada.\n",
    "\n",
    "    Parameters:\n",
    "        problem (hanoi_states.ProblemHanoi): El problema de la Torre de Hanoi a resolver.\n",
    "        limit (int): Limite de profundidad.\n",
    "        display (bool, optional): Muestra un mensaje de cuantos caminos se expandieron y cuantos quedaron sin expandir.\n",
    "                                  Por defecto es False.\n",
    "\n",
    "    Returns:\n",
    "        tree_hanoi.NodeHanoi: El nodo que contiene la solución encontrada.\n",
    "    \"\"\"\n",
    "\n",
    "    frontier = deque([tree_hanoi.NodeHanoi(problem.initial)])\n",
    "\n",
    "    explored = set()\n",
    "    while frontier:\n",
    "        node = frontier.pop()\n",
    "\n",
    "        explored.add(node.state)\n",
    "\n",
    "        if problem.goal_test(node.state):\n",
    "            if display:\n",
    "                print(len(explored), \"caminos se expandieron y\", len(\n",
    "                    frontier), \"caminos quedaron en la frontera\")\n",
    "            return node\n",
    "        # Agregamos a la pila todos los nodos sucesores del nodo actual que no hayan sido visitados, pero también inlcuimos el límite.\n",
    "        frontier.extend(child for child in node.expand(problem)\n",
    "                        if child.state not in explored and child not in frontier and child.depth <= limit)\n",
    "\n",
    "    return None\n",
    "\n",
    "\n",
    "def depth_iterative_limited_search(problem: hanoi_states.ProblemHanoi, display: bool = False):\n",
    "    \"\"\"\n",
    "    Realiza una búsqueda en profundidad para encontrar una solución a un problema de Hanoi. Recuerda los nodos para evitar la recursividad.\n",
    "    Está limitada a una profundiad dada, sin embargo, esta es iterativa hasta infinito, por lo que, sin no hay solución\n",
    "    el algoritmo no converge.\n",
    "\n",
    "    Parameters:\n",
    "        problem (hanoi_states.ProblemHanoi): El problema de la Torre de Hanoi a resolver.\n",
    "        display (bool, optional): Muestra un mensaje de cuantos caminos se expandieron y cuantos quedaron sin expandir.\n",
    "                                  Por defecto es False.\n",
    "\n",
    "    Returns:\n",
    "        tree_hanoi.NodeHanoi: El nodo que contiene la solución encontrada.\n",
    "    \"\"\"\n",
    "\n",
    "    depth = 1\n",
    "    while True:\n",
    "        # Ejecuto la busqueda para un límite dado\n",
    "        last_node = depth_limited_search(problem, depth, display)\n",
    "        if last_node != None:  # Si el último nodo no es nulo, entonces es la solución.\n",
    "            return last_node\n",
    "        depth += 1"
   ]
  },
  {
   "cell_type": "markdown",
   "metadata": {},
   "source": [
    "#### Algoritmos de búsqueda informada"
   ]
  },
  {
   "cell_type": "code",
   "execution_count": 112,
   "metadata": {},
   "outputs": [],
   "source": [
    "def heuristicFun(actualNode: hanoi_states.StatesHanoi, goal: hanoi_states.StatesHanoi):\n",
    "    \"\"\"\n",
    "    La función heurística es una implementación de la vista en clase:\n",
    "        h(n) es un punto menos por cada disco ubicado en la posición correcta.\n",
    "    \"\"\"\n",
    "    h_cost = 0\n",
    "    \n",
    "    # Al hacer zip(goal.rods, actualNode.rods) se obtiene un iterador, en donde goalSubList y actualNodeSubLis son listas, de la forma [[5, 4], [3, 2], [1]]\n",
    "    # Al hacer nuevamente zip, se obtiene los elementos de dichas listas.\n",
    "    # Comparando los elementos, podemos agregar el costo para el caso que sean iguales.\n",
    "    for goalSubList, actualNodeSubLis in zip(goal.rods, actualNode.rods):\n",
    "        for goalSubListElement, actualNodeSubLisElement in zip(goalSubList, actualNodeSubLis):\n",
    "            h_cost += -1 if goalSubListElement == actualNodeSubLisElement else 0\n",
    "    return h_cost\n",
    "    "
   ]
  },
  {
   "cell_type": "markdown",
   "metadata": {},
   "source": [
    "##### Algoritmo búsqueda voraz primero el mejor"
   ]
  },
  {
   "cell_type": "code",
   "execution_count": 113,
   "metadata": {},
   "outputs": [],
   "source": [
    "def greedy_best_first_search(problem: hanoi_states.ProblemHanoi, display: bool = False):\n",
    "    \"\"\"\n",
    "    Realiza una búsqueda voraz, utilizando una funcion heurística.\n",
    "\n",
    "    Parameters:\n",
    "        problem (hanoi_states.ProblemHanoi): El problema de la Torre de Hanoi a resolver.\n",
    "        display (bool, optional): Muestra un mensaje de cuantos caminos se expandieron y cuantos quedaron sin expandir.\n",
    "                                  Por defecto es False.\n",
    "\n",
    "    Returns:\n",
    "        tree_hanoi.NodeHanoi: El nodo que contiene la solución encontrada.\n",
    "    \"\"\"\n",
    "    \n",
    "    def heuristicFunWrapper(node: tree_hanoi.NodeHanoi, problem: hanoi_states.ProblemHanoi = problem):\n",
    "        return heuristicFun(node.state, problem.goal)\n",
    "\n",
    "    # Dado que los elementos los vamos insertar ordenados, creamos una lista FIFO con el nodo inicial.\n",
    "    frontier = deque([tree_hanoi.NodeHanoi(problem.initial)])\n",
    "\n",
    "    explored = set()\n",
    "    while frontier:\n",
    "        node = frontier.pop()\n",
    "\n",
    "        explored.add(node.state)\n",
    "\n",
    "        if problem.goal_test(node.state):\n",
    "            if display:\n",
    "                print(len(explored), \"caminos se expandieron y\", len(frontier), \"caminos quedaron en la frontera\")\n",
    "            return node\n",
    "        \n",
    "        # Insertamos los elementos ordenados según la función heurística.\n",
    "        frontier.extend([child for child in sorted(node.expand(problem), key=heuristicFunWrapper, reverse=True)\n",
    "                        if child.state not in explored and child not in frontier])\n",
    "    return None"
   ]
  },
  {
   "cell_type": "markdown",
   "metadata": {},
   "source": [
    "##### Algoritmo búsqueda A*"
   ]
  },
  {
   "cell_type": "code",
   "execution_count": 114,
   "metadata": {},
   "outputs": [],
   "source": [
    "def a_star_search(problem: hanoi_states.ProblemHanoi, display: bool = False):\n",
    "    \"\"\"\n",
    "    Realiza una búsqueda A*, utilizando una función heurística.\n",
    "\n",
    "    Parameters:\n",
    "        problem (hanoi_states.ProblemHanoi): El problema de la Torre de Hanoi a resolver.\n",
    "        display (bool, optional): Muestra un mensaje de cuantos caminos se expandieron y cuantos quedaron sin expandir.\n",
    "                                  Por defecto es False.\n",
    "\n",
    "    Returns:\n",
    "        tree_hanoi.NodeHanoi: El nodo que contiene la solución encontrada.\n",
    "    \"\"\"\n",
    "    \n",
    "    def totalCostPlusHeuristic(node: tree_hanoi.NodeHanoi, problem: hanoi_states.ProblemHanoi = problem):\n",
    "        return heuristicFun(node.state, problem.goal) + node.path_cost\n",
    "\n",
    "    # Dado que los elementos los vamos insertar ordenados, creamos una lista FIFO con el nodo inicial.\n",
    "    frontier = deque([tree_hanoi.NodeHanoi(problem.initial)])\n",
    "\n",
    "    explored = set()\n",
    "    while frontier:\n",
    "        node = frontier.pop()\n",
    "\n",
    "        explored.add(node.state)\n",
    "\n",
    "        if problem.goal_test(node.state):\n",
    "            if display:\n",
    "                print(len(explored), \"caminos se expandieron y\", len(frontier), \"caminos quedaron en la frontera\")\n",
    "            return node\n",
    "        \n",
    "        # Insertamos los elementos ordenados según la función heurística.\n",
    "        frontier.extend([child for child in sorted(node.expand(problem), key=totalCostPlusHeuristic, reverse=True)\n",
    "                        if child.state not in explored and child not in frontier])\n",
    "    return None"
   ]
  },
  {
   "cell_type": "markdown",
   "metadata": {},
   "source": [
    "### Ejercicio 5:\n",
    "\n",
    "> 5. ¿Qué complejidad en tiempo y memoria tiene el algoritmo elegido?"
   ]
  },
  {
   "cell_type": "markdown",
   "metadata": {},
   "source": [
    "La complejidad computacional es un concepto que se utiliza para medir la dificultad de resolver un problema de computación. En términos generales, la complejidad computacional se mide en términos de la cantidad de recursos necesarios para resolver un problema, como el _tiempo_ o el _espacio_.\n",
    "\n",
    "Existen varias métricas de complejidad computacional, entre las que se incluyen:\n",
    "- Tiempo de ejecución: Medida en términos de la cantidad de tiempo que se necesita para resolver un problema.\n",
    "- Espacio de almacenamiento: Medida en términos de la cantidad de espacio necesario para almacenar los datos y resultados durante la ejecución del programa.\n",
    "- Complejidad asintótica: Se utiliza para describir el comportamiento del tiempo de ejecución a medida que el tamaño del problema crece.\n",
    "\n",
    "La complejidad computacional es importante en la teoría de la computación porque ayuda a entender qué problemas son resolubles y qué problemas son intractables. Un problema es considerado resoluble si existe un algoritmo eficiente para resolverlo. Un problema es considerado intractable si no existe un algoritmo eficiente para resolverlo, incluso si existe un algoritmo que lo resuelve.\n",
    "\n",
    "La siguiente gráfica muestra la notación utilizada y su representación:\n",
    "\n",
    "![Complejidad](resources/complejidad_computacional.png \"Complejidad computacinal - Notación $O(n)$\")"
   ]
  },
  {
   "cell_type": "markdown",
   "metadata": {},
   "source": [
    "Para los algoritmos vistos, se tiene la siguiente información:"
   ]
  },
  {
   "cell_type": "markdown",
   "metadata": {},
   "source": [
    " **Algoritmo** | **Complejidad en tiempo** | **Complejidad en memoria** | **Descripción** \n",
    "---|---|---|---\n",
    " **BFS (breadth first search)** | $O(b^{d})$ | $O(b^{d})$ | Este algorimo, en su peor caso, tiene que recorrer todos los nodos. Sea $b$ el factor de ramificación (cantidad de hijos promedios, para este caso, nunca hay más de dos hijos) y $d$ la profundidad del arbol, entonces tanto como 0para la complejdiad en tiempo, como en memoria, BSF tiene $O(b^{d})$ en complejidad computacional. Sin embargo, es completo para un espacio finito. \n",
    " **DFS (depth first search)** | $O(b^{d})$ | $O(bd)$ | DFS mejora en complejidad de memoria (ya que no debe guardar todos los nodos en memoria de una rama) pero mantiene la complejidad en tiempo para el peor caso. No es óptimo, ya que puede no generar el camino más corto, a diferencia de BFS. \n",
    " **IDDFS (iterative deepening depth first serach)** | $O(b^{d})$ | $O(d)$ | La busqueda iteractiva, en sí no tiene ninguna mejora para el por caso posible (lo que se suele medir en complejidad computacional), sin embargo, hay una gran mejora para el caso promedio, ya que se aprovecha de la poca memoria que utiliza. Para un factor de ramificación finito, es completo, pero no óptimo, igual a su ánálogo de forma no iterativa. \n",
    " **BeFS (best first search)** | $O(b^{d})$ | $O(d)$ | La búsqueda voraz, utilizando una heursística consistente no asegura un camino óptimo y no mejora los peores casos. Sin embargo, para el caso promedio sí, y de hecho es mucho mejor que las anteriroes, ya que puede llegar a ser de orden $O(log d)$ (recorre el árbol como en una búsqueda en profundidad pero orientada). \n",
    " **A\\* (a-star search)** | $O(b^{d})$ | $O(b^{d})$ | Idem caso anterior pero muchas mejoras para los casos promedios. A demás, si la heurística es consistente, A* es completo y de óptima eficiencia. "
   ]
  },
  {
   "cell_type": "markdown",
   "metadata": {},
   "source": [
    "### Ejercicio 6:\n",
    "\n",
    "> 6. A nivel implementación, ¿qué tiempo y memoria ocupa el algoritmo? (Se recomienda correr 10 veces y calcular promedio y desvío estándar de las métricas)."
   ]
  },
  {
   "cell_type": "markdown",
   "metadata": {},
   "source": [
    "#### Busquedas"
   ]
  },
  {
   "cell_type": "code",
   "execution_count": 115,
   "metadata": {},
   "outputs": [],
   "source": [
    "import time # Funcionalidades para medir tiempos\n",
    "import tracemalloc # Funcionalidad para medir memoria\n",
    "\n",
    "max_disks = 5\n",
    "num_iterations = 10 # Cantidad de iteraciones\n",
    "algorithmsdf = pd.DataFrame(columns=[\"algorithm\", \"median elapsed_time (s)\", \"median memory_peak (MB)\", \"median accumulated_cost (unit)\"])"
   ]
  },
  {
   "cell_type": "code",
   "execution_count": 116,
   "metadata": {},
   "outputs": [],
   "source": [
    "def iteration(searchAlgoritm):\n",
    "    \"\"\"\n",
    "    Ejecuta una iteración del algoritmo de búsqueda pasado como parámetro\n",
    "\n",
    "    Args:\n",
    "        searchAlgoritm (functión): Algoritmo de búsqueda que devuelve el último nodo del arbol.\n",
    "\n",
    "    Returns:\n",
    "        elapsed_time (float): Tiempo de ejecución\n",
    "        memory_peak (float): Memoria utilizada\n",
    "        accumulated_cost (int): Costo acumulado total del camino\n",
    "    \"\"\"\n",
    "\n",
    "    initial_state = hanoi_states.StatesHanoi(\n",
    "        [5, 4, 3, 2, 1], [], [], max_disks=max_disks)\n",
    "    goal_state = hanoi_states.StatesHanoi([], [], [5, 4, 3, 2, 1], max_disks=max_disks)\n",
    "\n",
    "    # Crea una instancia del problema de la Torre de Hanoi\n",
    "    problem_hanoi = hanoi_states.ProblemHanoi(\n",
    "        initial=initial_state, goal=goal_state)\n",
    "\n",
    "    # Para medir tiempo consumido\n",
    "    start_time = time.perf_counter()\n",
    "    # Para medir memoria consumida (usamos el pico de memoria)\n",
    "    tracemalloc.start()\n",
    "\n",
    "    # Resuelve el problema utilizando un algoritmo de búsqueda.\n",
    "    last_node = searchAlgoritm(problem_hanoi)\n",
    "\n",
    "    _, memory_peak = tracemalloc.get_traced_memory()\n",
    "    memory_peak /= 1024*1024\n",
    "    tracemalloc.stop()\n",
    "\n",
    "    end_time = time.perf_counter()\n",
    "    elapsed_time = end_time - start_time\n",
    "\n",
    "    accumulated_cost = last_node.state.accumulated_cost if isinstance(last_node, tree_hanoi.NodeHanoi) else 0\n",
    "\n",
    "    return elapsed_time*10, round(memory_peak, 2), accumulated_cost"
   ]
  },
  {
   "cell_type": "markdown",
   "metadata": {},
   "source": [
    "##### Algoritmo de busqueda en anchura (realizado en clase)"
   ]
  },
  {
   "cell_type": "code",
   "execution_count": 117,
   "metadata": {},
   "outputs": [],
   "source": [
    "results = []\n",
    "for i in range(num_iterations):\n",
    "    results.append(iteration(breadth_first_graph_search))\n",
    "\n",
    "results = pd.DataFrame(results, columns=[\"elapsed_time (s)\", \"memory_peak (MB)\", \"accumulated_cost (unit)\"])\n",
    "# Agrego los resultados al total\n",
    "algorithmsdf.loc[len(algorithmsdf)] = [\"breadth_first_graph_search\"] + results.median().values.tolist()"
   ]
  },
  {
   "cell_type": "code",
   "execution_count": 118,
   "metadata": {},
   "outputs": [
    {
     "name": "stdout",
     "output_type": "stream",
     "text": [
      "Resultados BFS (breadth_first_graph_search)\n"
     ]
    },
    {
     "data": {
      "text/plain": [
       "elapsed_time (s)            1.818322\n",
       "memory_peak (MB)            0.230000\n",
       "accumulated_cost (unit)    31.000000\n",
       "dtype: float64"
      ]
     },
     "execution_count": 118,
     "metadata": {},
     "output_type": "execute_result"
    }
   ],
   "source": [
    "print(\"Resultados BFS (breadth_first_graph_search)\")\n",
    "results.median()"
   ]
  },
  {
   "cell_type": "markdown",
   "metadata": {},
   "source": [
    "##### Algoritmo de busqueda en profundidad"
   ]
  },
  {
   "cell_type": "code",
   "execution_count": 119,
   "metadata": {},
   "outputs": [],
   "source": [
    "results = []\n",
    "for i in range(num_iterations):\n",
    "    results.append(iteration(depth_first_graph_search))\n",
    "\n",
    "results = pd.DataFrame(results, columns=[\"elapsed_time (s)\", \"memory_peak (MB)\", \"accumulated_cost (unit)\"])\n",
    "# Agrego los resultados al total\n",
    "algorithmsdf.loc[len(algorithmsdf)] = [\"depth_first_graph_search\"] + results.median().values.tolist()"
   ]
  },
  {
   "cell_type": "code",
   "execution_count": 120,
   "metadata": {},
   "outputs": [
    {
     "name": "stdout",
     "output_type": "stream",
     "text": [
      "Resultados DFS (depth_first_graph_search)\n"
     ]
    },
    {
     "data": {
      "text/plain": [
       "elapsed_time (s)            0.519028\n",
       "memory_peak (MB)            0.130000\n",
       "accumulated_cost (unit)    81.000000\n",
       "dtype: float64"
      ]
     },
     "execution_count": 120,
     "metadata": {},
     "output_type": "execute_result"
    }
   ],
   "source": [
    "print(\"Resultados DFS (depth_first_graph_search)\")\n",
    "results.median()"
   ]
  },
  {
   "cell_type": "markdown",
   "metadata": {},
   "source": [
    "##### Algoritmo de busqueda en profundidad iterativa"
   ]
  },
  {
   "cell_type": "code",
   "execution_count": 121,
   "metadata": {},
   "outputs": [],
   "source": [
    "results = []\n",
    "for i in range(num_iterations):\n",
    "    results.append(iteration(depth_iterative_limited_search))\n",
    "\n",
    "results = pd.DataFrame(results, columns=[\"elapsed_time (s)\", \"memory_peak (MB)\", \"accumulated_cost (unit)\"])\n",
    "# Agrego los resultados al total\n",
    "algorithmsdf.loc[len(algorithmsdf)] = [\"depth_iterative_limited_search\"] + results.median().values.tolist()"
   ]
  },
  {
   "cell_type": "code",
   "execution_count": 122,
   "metadata": {},
   "outputs": [
    {
     "name": "stdout",
     "output_type": "stream",
     "text": [
      "Resultados IDDFS (depth_iterative_limited_search)\n"
     ]
    },
    {
     "data": {
      "text/plain": [
       "elapsed_time (s)           19.881695\n",
       "memory_peak (MB)            0.150000\n",
       "accumulated_cost (unit)    45.000000\n",
       "dtype: float64"
      ]
     },
     "execution_count": 122,
     "metadata": {},
     "output_type": "execute_result"
    }
   ],
   "source": [
    "print(\"Resultados IDDFS (depth_iterative_limited_search)\")\n",
    "results.median()"
   ]
  },
  {
   "cell_type": "markdown",
   "metadata": {},
   "source": [
    "##### Algoritmo de busqueda voraz el primero siempre"
   ]
  },
  {
   "cell_type": "code",
   "execution_count": 123,
   "metadata": {},
   "outputs": [],
   "source": [
    "results = []\n",
    "for i in range(num_iterations):\n",
    "    results.append(iteration(greedy_best_first_search))\n",
    "\n",
    "results = pd.DataFrame(results, columns=[\"elapsed_time (s)\", \"memory_peak (MB)\", \"accumulated_cost (unit)\"])\n",
    "# Agrego los resultados al total\n",
    "algorithmsdf.loc[len(algorithmsdf)] = [\"greedy_best_first_search\"] + results.median().values.tolist()"
   ]
  },
  {
   "cell_type": "code",
   "execution_count": 124,
   "metadata": {},
   "outputs": [
    {
     "name": "stdout",
     "output_type": "stream",
     "text": [
      "Resultados BeFS (greedy_best_first_search)\n"
     ]
    },
    {
     "data": {
      "text/plain": [
       "elapsed_time (s)            0.590766\n",
       "memory_peak (MB)            0.130000\n",
       "accumulated_cost (unit)    81.000000\n",
       "dtype: float64"
      ]
     },
     "execution_count": 124,
     "metadata": {},
     "output_type": "execute_result"
    }
   ],
   "source": [
    "print(\"Resultados BeFS (greedy_best_first_search)\")\n",
    "results.median()"
   ]
  },
  {
   "cell_type": "markdown",
   "metadata": {},
   "source": [
    "##### Algoritmo de busqueda A*"
   ]
  },
  {
   "cell_type": "code",
   "execution_count": 125,
   "metadata": {},
   "outputs": [],
   "source": [
    "results = []\n",
    "for i in range(num_iterations):\n",
    "    results.append(iteration(a_star_search))\n",
    "\n",
    "results = pd.DataFrame(results, columns=[\"elapsed_time (s)\", \"memory_peak (MB)\", \"accumulated_cost (unit)\"])\n",
    "# Agrego los resultados al total\n",
    "algorithmsdf.loc[len(algorithmsdf)] = [\"a_star_search\"] + results.median().values.tolist()"
   ]
  },
  {
   "cell_type": "code",
   "execution_count": 126,
   "metadata": {},
   "outputs": [
    {
     "name": "stdout",
     "output_type": "stream",
     "text": [
      "Resultados A* (a_star_search)\n"
     ]
    },
    {
     "data": {
      "text/plain": [
       "elapsed_time (s)            0.798224\n",
       "memory_peak (MB)            0.130000\n",
       "accumulated_cost (unit)    81.000000\n",
       "dtype: float64"
      ]
     },
     "execution_count": 126,
     "metadata": {},
     "output_type": "execute_result"
    }
   ],
   "source": [
    "print(\"Resultados A* (a_star_search)\")\n",
    "results.median()"
   ]
  },
  {
   "cell_type": "markdown",
   "metadata": {},
   "source": [
    "#### Conclusion"
   ]
  },
  {
   "cell_type": "markdown",
   "metadata": {},
   "source": [
    "Como conclusión, se puede observar la siguiente tabla comparativa de los algoritmos:"
   ]
  },
  {
   "cell_type": "code",
   "execution_count": 127,
   "metadata": {},
   "outputs": [
    {
     "data": {
      "text/html": [
       "<div>\n",
       "<style scoped>\n",
       "    .dataframe tbody tr th:only-of-type {\n",
       "        vertical-align: middle;\n",
       "    }\n",
       "\n",
       "    .dataframe tbody tr th {\n",
       "        vertical-align: top;\n",
       "    }\n",
       "\n",
       "    .dataframe thead th {\n",
       "        text-align: right;\n",
       "    }\n",
       "</style>\n",
       "<table border=\"1\" class=\"dataframe\">\n",
       "  <thead>\n",
       "    <tr style=\"text-align: right;\">\n",
       "      <th></th>\n",
       "      <th>algorithm</th>\n",
       "      <th>median elapsed_time (s)</th>\n",
       "      <th>median memory_peak (MB)</th>\n",
       "      <th>median accumulated_cost (unit)</th>\n",
       "    </tr>\n",
       "  </thead>\n",
       "  <tbody>\n",
       "    <tr>\n",
       "      <th>1</th>\n",
       "      <td>depth_first_graph_search</td>\n",
       "      <td>0.519028</td>\n",
       "      <td>0.13</td>\n",
       "      <td>81.0</td>\n",
       "    </tr>\n",
       "    <tr>\n",
       "      <th>3</th>\n",
       "      <td>greedy_best_first_search</td>\n",
       "      <td>0.590766</td>\n",
       "      <td>0.13</td>\n",
       "      <td>81.0</td>\n",
       "    </tr>\n",
       "    <tr>\n",
       "      <th>4</th>\n",
       "      <td>a_star_search</td>\n",
       "      <td>0.798224</td>\n",
       "      <td>0.13</td>\n",
       "      <td>81.0</td>\n",
       "    </tr>\n",
       "    <tr>\n",
       "      <th>0</th>\n",
       "      <td>breadth_first_graph_search</td>\n",
       "      <td>1.818322</td>\n",
       "      <td>0.23</td>\n",
       "      <td>31.0</td>\n",
       "    </tr>\n",
       "    <tr>\n",
       "      <th>2</th>\n",
       "      <td>depth_iterative_limited_search</td>\n",
       "      <td>19.881695</td>\n",
       "      <td>0.15</td>\n",
       "      <td>45.0</td>\n",
       "    </tr>\n",
       "  </tbody>\n",
       "</table>\n",
       "</div>"
      ],
      "text/plain": [
       "                        algorithm  median elapsed_time (s)  \\\n",
       "1        depth_first_graph_search                 0.519028   \n",
       "3        greedy_best_first_search                 0.590766   \n",
       "4                   a_star_search                 0.798224   \n",
       "0      breadth_first_graph_search                 1.818322   \n",
       "2  depth_iterative_limited_search                19.881695   \n",
       "\n",
       "   median memory_peak (MB)  median accumulated_cost (unit)  \n",
       "1                     0.13                            81.0  \n",
       "3                     0.13                            81.0  \n",
       "4                     0.13                            81.0  \n",
       "0                     0.23                            31.0  \n",
       "2                     0.15                            45.0  "
      ]
     },
     "execution_count": 127,
     "metadata": {},
     "output_type": "execute_result"
    }
   ],
   "source": [
    "algorithmsdf.sort_values(by=[\"median elapsed_time (s)\"], ascending=True)"
   ]
  },
  {
   "cell_type": "markdown",
   "metadata": {},
   "source": [
    "### Ejercicio 7:\n",
    "\n",
    "> 7. Si la solución óptima es $2^k-1$ movimientos con k igual al número de discos. Qué tan lejos está la solución del algoritmo implementado de esta solución óptima (se recomienda correr al menos 10 veces y usar el promedio de trayecto usado)."
   ]
  },
  {
   "cell_type": "markdown",
   "metadata": {},
   "source": [
    "Tomando en cuenta, que el número de movimientos, dado que el costo es una unidad, es equivalente al costo acumulado. El costo ideal para este caso es:"
   ]
  },
  {
   "cell_type": "code",
   "execution_count": 128,
   "metadata": {},
   "outputs": [
    {
     "name": "stdout",
     "output_type": "stream",
     "text": [
      "Para 5 discos, la solución óptima es 31.\n"
     ]
    }
   ],
   "source": [
    "optimal_solution = (2**max_disks) - 1\n",
    "print(f\"Para {max_disks} discos, la solución óptima es {optimal_solution}.\")"
   ]
  },
  {
   "cell_type": "markdown",
   "metadata": {},
   "source": [
    "La siguiente tabla muestra la comparativa entre los algoritmos (ordenada por el más óptimo empiricamente):"
   ]
  },
  {
   "cell_type": "code",
   "execution_count": 129,
   "metadata": {},
   "outputs": [
    {
     "data": {
      "text/html": [
       "<div>\n",
       "<style scoped>\n",
       "    .dataframe tbody tr th:only-of-type {\n",
       "        vertical-align: middle;\n",
       "    }\n",
       "\n",
       "    .dataframe tbody tr th {\n",
       "        vertical-align: top;\n",
       "    }\n",
       "\n",
       "    .dataframe thead th {\n",
       "        text-align: right;\n",
       "    }\n",
       "</style>\n",
       "<table border=\"1\" class=\"dataframe\">\n",
       "  <thead>\n",
       "    <tr style=\"text-align: right;\">\n",
       "      <th></th>\n",
       "      <th>algorithm</th>\n",
       "      <th>distance to optimal</th>\n",
       "    </tr>\n",
       "  </thead>\n",
       "  <tbody>\n",
       "    <tr>\n",
       "      <th>0</th>\n",
       "      <td>breadth_first_graph_search</td>\n",
       "      <td>0.0</td>\n",
       "    </tr>\n",
       "    <tr>\n",
       "      <th>2</th>\n",
       "      <td>depth_iterative_limited_search</td>\n",
       "      <td>14.0</td>\n",
       "    </tr>\n",
       "    <tr>\n",
       "      <th>1</th>\n",
       "      <td>depth_first_graph_search</td>\n",
       "      <td>50.0</td>\n",
       "    </tr>\n",
       "    <tr>\n",
       "      <th>3</th>\n",
       "      <td>greedy_best_first_search</td>\n",
       "      <td>50.0</td>\n",
       "    </tr>\n",
       "    <tr>\n",
       "      <th>4</th>\n",
       "      <td>a_star_search</td>\n",
       "      <td>50.0</td>\n",
       "    </tr>\n",
       "  </tbody>\n",
       "</table>\n",
       "</div>"
      ],
      "text/plain": [
       "                        algorithm  distance to optimal\n",
       "0      breadth_first_graph_search                  0.0\n",
       "2  depth_iterative_limited_search                 14.0\n",
       "1        depth_first_graph_search                 50.0\n",
       "3        greedy_best_first_search                 50.0\n",
       "4                   a_star_search                 50.0"
      ]
     },
     "execution_count": 129,
     "metadata": {},
     "output_type": "execute_result"
    }
   ],
   "source": [
    "algorithmsdf['distance to optimal'] = algorithmsdf['median accumulated_cost (unit)'] - optimal_solution\n",
    "algorithmsdf.iloc[:, [0,-1]].sort_values(by=['distance to optimal'], ascending=True)"
   ]
  },
  {
   "cell_type": "markdown",
   "metadata": {},
   "source": [
    "_Nota: En este punto podemos verificar que la heurística planteada para A* no es consistente_"
   ]
  }
 ],
 "metadata": {
  "kernelspec": {
   "display_name": ".venv",
   "language": "python",
   "name": "python3"
  },
  "language_info": {
   "codemirror_mode": {
    "name": "ipython",
    "version": 3
   },
   "file_extension": ".py",
   "mimetype": "text/x-python",
   "name": "python",
   "nbconvert_exporter": "python",
   "pygments_lexer": "ipython3",
   "version": "3.12.2"
  }
 },
 "nbformat": 4,
 "nbformat_minor": 2
}
