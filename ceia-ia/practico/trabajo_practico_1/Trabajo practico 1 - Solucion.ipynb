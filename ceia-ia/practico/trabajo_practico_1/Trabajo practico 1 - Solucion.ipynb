{
 "cells": [
  {
   "cell_type": "markdown",
   "metadata": {},
   "source": [
    "# TP1: Algoritmos de búsqueda en Torre de Hanoi - Solución\n",
    "\n",
    "TODO: Poner un poco de historia\n",
    "\n",
    "![Torres Hanoi](./torres.png \"Torres Hanoi\")"
   ]
  },
  {
   "cell_type": "markdown",
   "metadata": {},
   "source": [
    "## Tareas y preguntas a resolver:"
   ]
  },
  {
   "cell_type": "markdown",
   "metadata": {},
   "source": [
    "### Ejericio 1:\n",
    "\n",
    "> 1. ¿Cuáles son los PEAS de este problema? (Performance, Environment, Actuators, Sensors)\n",
    "\n",
    "El entorno de trabajo (lo que se denomina *_PEAS_*) para este caso es el siguiente (se plantea una visión donde se consideraría el problema en el mundo real y se lo modela en una simulación computacional):\n",
    "\n",
    "- Desempeño (_Performance_): En este problema, una medida de desempeño se puede basar en el la complejidad en tiempo como en espacio. O sea, cuando demora el algoritmo elejido y cuanda memoria ocupa. Otra medida posible es si es completo, o sea, si llega a una solución o no.\n",
    "\n",
    "- Entorno (_Environment_): El entorno de trabajo es simulado, que representa un modelo del mundo real. En este caso, en el modelo se representan las torres de Hanoi, los discos y los movimientos posibles. Todos los entes tienen su representación en números naturales.\n",
    "\n",
    "- Actuadores (_Actuactors_): En el mundo real, sería una persona que mueve un disco de una torre a otro. En el entorno de trabajo, se puede simular mediante listas ordenadas de números naturales, cambiando la posición de dichos números, representando un movimiento de discos en el mundo real.\n",
    "\n",
    "- Sensores (_Sensors_): Se podría idealizar que un sensor interpretaría cuando se colocó un disco en una torre, lo indica la finalización del movimiento.\n",
    "\n",
    "_**Nota**: En sí, el problema, al ser una simulación de computadora: el sensor sería cuando se terminó de mover un elemento de la lista, el actuador sería el movimento en sí y el entorno una lista con números naturales representando a los disos._"
   ]
  },
  {
   "cell_type": "markdown",
   "metadata": {},
   "source": [
    "### Ejericio 2:\n",
    "\n",
    "> 2. ¿Cuáles son las propiedades del entorno de trabajo?\n",
    "\n",
    "Las propiedades del ambiente de trabajo para este problema se especifica en las siguientes dimensiónes como:\n",
    "\n",
    "- **Totalmente observable** (vs \"parcialmente observable\"): El grafo de todas las soluciones es totalmente observable (contando con recursos infinitos, ya que dada las restricciones de memoria o tiempo, puede ser considerado como \"parcialmente observable\").\n",
    "\n",
    "- **Determinista** (vs \"estocástico\"): Es determinista, ya que no se involucra el azar en la generación de nodos del arbol de solución.\n",
    "\n",
    "- **Secuencial** (vs \"episódico\"): Un estado depende de otro, en forma de secuencia.\n",
    "\n",
    "- **Estático** (vs \"dinámico\"): No se cambian los estados por acciones externas o internas.\n",
    "\n",
    "- **Discreto** (vs \"continuo\"): El espacio de soluciones pertenece al conjunto de los Naturales _(Sea S el espacio de soluciones $\\Rightarrow S \\in \\N$)_.\n",
    "\n",
    "- **Agente individual** (vs \"multiagente\"): No participan otros agentes en el modelo."
   ]
  },
  {
   "cell_type": "markdown",
   "metadata": {},
   "source": [
    "### Ejercicio 3:\n",
    "\n",
    "> 3. En el contexto de este problema, establezca cuáles son los: estado, espacio de estados, árbol de búsqueda, nodo de búsqueda, objetivo, acción y frontera."
   ]
  },
  {
   "cell_type": "markdown",
   "metadata": {},
   "source": [
    "| **Definicón del problema** | **Descripción** | **Representación** |\n",
    "|---|---|---|\n",
    "| **Estado** | Un estado se representa con una tupla de tuplas, ordenada de derecha a izquierda, donde cada posición de la tupa exterior representa una torre y cada valor de la tupla exterior (una tupla en sí), representa el conjunto de discos que está, en ese momento, en dicha torre. Los números dentro de la tupla interior representan a los discos. | [posición1, … , posición N] donde posiciónn es [1, …, M] discos; para m y n pertenecientes a los naturales. Ej: [[3, 2, 1], [4], [5]], representa un estado en donde el disco 3, 2 , 1 se encuentran en la torre 1 (en ese orden), el disco 4 en la torre 2 y el disco 5 en la torre 3. |\n",
    "| **Espacio de estados** | Todas las combinaciones posibles, siendo el número de torres elevado al número de discos. | $n^m$ donde $n$ representa el número de torres y $m$ representa el número de discos, $\\forall n,m \\in \\N$ |\n",
    "| **Arbol de búsqueda** | Indica un camino posible, luego de aplicar la función de transición. Es una estructura de forma de arbol en donde se guardan los nodos y su posible camino. | Imagen de arbol de busqueda |\n",
    "| **Nodo de búsqueda** | Representa varios componentes, entre los cuales están, su antecesor, sus hijos y el estado actual. También se incluye el costo de llegar a dicho nodo. | Un nodo con los siguientes métodos: self.state = state  self.parent = parent  self.action = action      self.path_cost = path_cost        self.depth = 0        if parent:            self.depth = parent.depth + 1 |\n",
    "| **Objetivo** | Representa una tupla objetivo, que contiene el conjunto de discos (la tupla interior) como estado final. | Un estado objetivo. Ej: [[], [5,4,3,2], [1]], un estado final objetivo con el primer disco en la posición 3 y la siguiente secuencia en la posición 2: disco 2, disco 3, disco 4, disco 5; para un caso de 5 discos con tres torres. |\n",
    "| **Acción** | Se interpreta como mover un disco de una torre a otra. En la representación actual, es mover la posición en la tupla de un item de la tupla interna. | Sea $f(E, D) -> E$, en donde E es un estado y D es un disco a mover. |\n",
    "| **Frontera** | La función de transición indica que para pasar un disco de una torre a otra, solamente es posible si el disco actual es menor que el disco que se encuentra en la última posición de la torre objetivo. | Sea $f(E, D) -> E$, en donde E es un estado y D es un disco a mover. Solamente son posibles estados donde el disco a mover es menor al último disco en la torre objetivo. Ej: |\n"
   ]
  },
  {
   "cell_type": "markdown",
   "metadata": {},
   "source": []
  }
 ],
 "metadata": {
  "kernelspec": {
   "display_name": ".venv",
   "language": "python",
   "name": "python3"
  },
  "language_info": {
   "codemirror_mode": {
    "name": "ipython",
    "version": 3
   },
   "file_extension": ".py",
   "mimetype": "text/x-python",
   "name": "python",
   "nbconvert_exporter": "python",
   "pygments_lexer": "ipython3",
   "version": "3.12.2"
  }
 },
 "nbformat": 4,
 "nbformat_minor": 2
}
