{
 "cells": [
  {
   "cell_type": "markdown",
   "metadata": {},
   "source": [
    "# <div align=\"center\"><b> Trabajo Final - Visión por computadora 2  - CEIA </b></div>"
   ]
  },
  {
   "cell_type": "markdown",
   "metadata": {},
   "source": [
    "<div align=\"right\">📝 <em><small><font color='Gray'>Nota:</font></small></em></div>\n",
    "\n",
    "<div align=\"right\"> <em><small><font color='Gray'> La funcionalidad de visualización de jupyter notebooks en <a href=\"https://github.com/\" target=\"_blank\">github</a> es solamente un preview.</font></small></em> </div>\n",
    "\n",
    "<div align=\"right\"> <em><small><font color='Gray'> Para mejor visualización se sugiere utilizar el visualizador recomndado por la comunidad: <a href=\"https://nbviewer.org/\" target=\"_blank\">nbviewer</a></font></small></em> </div>\n",
    "\n",
    "<div align=\"right\"> <em><small><font color='Gray'> Puedes a acceder al sigiente enlace para ver este notebook en dicha página: <a href=\"https://nbviewer.org/github/brunomaso1/uba-ceia/blob/ceia-nlp/ceia-nlp/Desafio%201.ipynb\">Desafio 1</a></font></small></em> </div> \n",
    "\n",
    "<!-- TODO: Arreglar el link -->\n"
   ]
  },
  {
   "cell_type": "markdown",
   "metadata": {},
   "source": [
    "* * *"
   ]
  },
  {
   "cell_type": "markdown",
   "metadata": {},
   "source": [
    "<style>\n",
    "/* Limitar la altura de las celdas de salida en html */\n",
    ".jp-OutputArea.jp-Cell-outputArea {\n",
    "    max-height: 500px;\n",
    "}\n",
    "</style>"
   ]
  },
  {
   "cell_type": "markdown",
   "metadata": {},
   "source": [
    "<!-- Colab -->\n",
    "<!-- <div align=\"center\"><img src=\"https://drive.google.com/uc?export=view&id=1tUnWeK372o_yu0LxkMwtC4IR2jorDipN\" width=\"600\" alt=\"Figura 1: Detección de palmeras mediante modelos de aprendizaje profundo.\"></div> -->\n",
    "\n",
    "<div align=\"center\"><img src=\"./resources/portada.jpeg\" width=\"600\" alt=\"Figura 1: Detección de palmeras mediante modelos de aprendizaje profundo.\"></div>\n",
    "\n",
    "<div align=\"center\"><small><em>Figura 1: Detección de palmeras mediante modelos de aprendizaje profundo.</em></small></div>"
   ]
  },
  {
   "cell_type": "markdown",
   "metadata": {},
   "source": [
    "<div align=\"center\">✨Datos del proyecto:✨</div>\n",
    "\n",
    "<p></p>\n",
    "\n",
    "<div align=\"center\">\n",
    "\n",
    "| Subtitulo       | Trabajo final - VPC2 - FIUBA                                                                                                           |\n",
    "| --------------- | -------------------------------------------------------------------------------------------------------------------------------------- |\n",
    "| **Descrpción**  | Palm tree detector                                                                                                                     |\n",
    "| **Integrantes** | - Bruno Masoller (brunomaso1@gmail.com) </br> - Simón Rodriguez (simon.andre.r@gmail.com)                                              |\n",
    "\n",
    "</div>"
   ]
  },
  {
   "cell_type": "markdown",
   "metadata": {},
   "source": [
    "✋ <em><font color='DodgerBlue'>Importaciones:</font></em> ✋"
   ]
  },
  {
   "cell_type": "markdown",
   "metadata": {},
   "source": [
    "Inicialmente, cargamos los datos desde Google Drive (si no está disponible el link, se puede desacargar desde Kaggle también -hay información de esto más adelante-):"
   ]
  },
  {
   "cell_type": "code",
   "execution_count": 4,
   "metadata": {},
   "outputs": [
    {
     "name": "stdout",
     "output_type": "stream",
     "text": [
      "Requirement already satisfied: gdown in d:\\documentos\\git repositories\\uba-ceia\\.venv\\lib\\site-packages (5.2.0)\n",
      "Requirement already satisfied: beautifulsoup4 in d:\\documentos\\git repositories\\uba-ceia\\.venv\\lib\\site-packages (from gdown) (4.12.3)\n",
      "Requirement already satisfied: filelock in d:\\documentos\\git repositories\\uba-ceia\\.venv\\lib\\site-packages (from gdown) (3.14.0)\n",
      "Requirement already satisfied: requests[socks] in d:\\documentos\\git repositories\\uba-ceia\\.venv\\lib\\site-packages (from gdown) (2.32.3)\n",
      "Requirement already satisfied: tqdm in d:\\documentos\\git repositories\\uba-ceia\\.venv\\lib\\site-packages (from gdown) (4.66.4)\n",
      "Requirement already satisfied: soupsieve>1.2 in d:\\documentos\\git repositories\\uba-ceia\\.venv\\lib\\site-packages (from beautifulsoup4->gdown) (2.5)\n",
      "Requirement already satisfied: charset-normalizer<4,>=2 in d:\\documentos\\git repositories\\uba-ceia\\.venv\\lib\\site-packages (from requests[socks]->gdown) (3.3.2)\n",
      "Requirement already satisfied: idna<4,>=2.5 in d:\\documentos\\git repositories\\uba-ceia\\.venv\\lib\\site-packages (from requests[socks]->gdown) (3.7)\n",
      "Requirement already satisfied: urllib3<3,>=1.21.1 in d:\\documentos\\git repositories\\uba-ceia\\.venv\\lib\\site-packages (from requests[socks]->gdown) (2.2.1)\n",
      "Requirement already satisfied: certifi>=2017.4.17 in d:\\documentos\\git repositories\\uba-ceia\\.venv\\lib\\site-packages (from requests[socks]->gdown) (2024.6.2)\n",
      "Requirement already satisfied: PySocks!=1.5.7,>=1.5.6 in d:\\documentos\\git repositories\\uba-ceia\\.venv\\lib\\site-packages (from requests[socks]->gdown) (1.7.1)\n",
      "Requirement already satisfied: colorama in d:\\documentos\\git repositories\\uba-ceia\\.venv\\lib\\site-packages (from tqdm->gdown) (0.4.6)\n",
      "Note: you may need to restart the kernel to use updated packages.\n",
      "Retrieving folder 1OfDuCFXsTIGBNyfX4w-3UqLfH7-ZXZPt datasets\n",
      "Retrieving folder 1kBbFvw6DMuwvIO51tshEeFgRsq4ak3-6 compressed\n",
      "Processing file 1zSMCq0xHcfSidJFCKg1AJtgWlPVhAwUH palmeras.zip\n",
      "Processing file 1tUnWeK372o_yu0LxkMwtC4IR2jorDipN portada.jpeg\n",
      "La carpeta ./resources fue encontrada.\n"
     ]
    },
    {
     "name": "stderr",
     "output_type": "stream",
     "text": [
      "Retrieving folder contents\n",
      "Retrieving folder contents completed\n",
      "Building directory structure\n",
      "Building directory structure completed\n",
      "Downloading...\n",
      "From (original): https://drive.google.com/uc?id=1zSMCq0xHcfSidJFCKg1AJtgWlPVhAwUH\n",
      "From (redirected): https://drive.google.com/uc?id=1zSMCq0xHcfSidJFCKg1AJtgWlPVhAwUH&confirm=t&uuid=3ae8104b-4ce5-4afb-a6ba-ff2c9b3238bc\n",
      "To: d:\\Documentos\\Git Repositories\\uba-ceia\\ceia-vpc2\\resources\\datasets\\compressed\\palmeras.zip\n",
      "\n",
      "  0%|          | 0.00/818M [00:00<?, ?B/s]\n",
      "  0%|          | 1.05M/818M [00:00<01:28, 9.25MB/s]\n",
      "  1%|          | 4.19M/818M [00:00<00:37, 21.5MB/s]\n",
      "  1%|          | 6.82M/818M [00:00<00:47, 17.1MB/s]\n",
      "  1%|          | 8.91M/818M [00:00<00:48, 16.6MB/s]\n",
      "  1%|▏         | 11.0M/818M [00:00<00:49, 16.2MB/s]\n",
      "  2%|▏         | 14.7M/818M [00:00<00:38, 20.7MB/s]\n",
      "  2%|▏         | 17.3M/818M [00:01<00:47, 16.9MB/s]\n",
      "  3%|▎         | 21.0M/818M [00:01<00:38, 20.6MB/s]\n",
      "  3%|▎         | 23.6M/818M [00:01<00:46, 17.2MB/s]\n",
      "  3%|▎         | 26.7M/818M [00:01<00:40, 19.6MB/s]\n",
      "  4%|▎         | 29.9M/818M [00:01<00:36, 21.7MB/s]\n",
      "  4%|▍         | 32.5M/818M [00:01<00:37, 20.7MB/s]\n",
      "  4%|▍         | 36.2M/818M [00:01<00:33, 23.4MB/s]\n",
      "  5%|▍         | 39.8M/818M [00:01<00:30, 25.6MB/s]\n",
      "  5%|▌         | 43.0M/818M [00:02<00:33, 23.3MB/s]\n",
      "  6%|▌         | 46.1M/818M [00:02<00:30, 25.1MB/s]\n",
      "  6%|▌         | 49.3M/818M [00:02<00:30, 25.3MB/s]\n",
      "  6%|▋         | 51.9M/818M [00:02<00:32, 23.5MB/s]\n",
      "  7%|▋         | 55.1M/818M [00:02<00:31, 24.6MB/s]\n",
      "  7%|▋         | 58.2M/818M [00:02<00:29, 25.8MB/s]\n",
      "  7%|▋         | 61.3M/818M [00:02<00:30, 25.1MB/s]\n",
      "  8%|▊         | 64.5M/818M [00:02<00:28, 26.7MB/s]\n",
      "  8%|▊         | 67.6M/818M [00:03<00:26, 27.9MB/s]\n",
      "  9%|▊         | 71.3M/818M [00:03<00:26, 28.6MB/s]\n",
      "  9%|▉         | 74.4M/818M [00:03<00:25, 29.3MB/s]\n",
      "  9%|▉         | 77.6M/818M [00:03<00:25, 28.7MB/s]\n",
      " 10%|▉         | 80.7M/818M [00:03<00:25, 28.6MB/s]\n",
      " 10%|█         | 83.9M/818M [00:03<00:25, 29.1MB/s]\n",
      " 11%|█         | 87.6M/818M [00:03<00:23, 30.7MB/s]\n",
      " 11%|█         | 90.7M/818M [00:03<00:24, 30.1MB/s]\n",
      " 12%|█▏        | 94.4M/818M [00:03<00:23, 31.2MB/s]\n",
      " 12%|█▏        | 97.5M/818M [00:04<00:24, 29.8MB/s]\n",
      " 12%|█▏        | 101M/818M [00:04<00:23, 30.3MB/s] \n",
      " 13%|█▎        | 104M/818M [00:04<00:25, 28.4MB/s]\n",
      " 13%|█▎        | 107M/818M [00:04<00:28, 24.7MB/s]\n",
      " 14%|█▎        | 111M/818M [00:04<00:26, 26.8MB/s]\n",
      " 14%|█▍        | 114M/818M [00:04<00:25, 27.1MB/s]\n",
      " 14%|█▍        | 118M/818M [00:04<00:24, 28.4MB/s]\n",
      " 15%|█▍        | 121M/818M [00:04<00:24, 28.2MB/s]\n",
      " 15%|█▌        | 124M/818M [00:04<00:24, 28.8MB/s]\n",
      " 16%|█▌        | 127M/818M [00:05<00:25, 27.5MB/s]\n",
      " 16%|█▌        | 131M/818M [00:05<00:30, 22.5MB/s]\n",
      " 16%|█▋        | 134M/818M [00:05<00:28, 23.7MB/s]\n",
      " 17%|█▋        | 136M/818M [00:05<00:29, 23.1MB/s]\n",
      " 17%|█▋        | 139M/818M [00:05<00:27, 24.6MB/s]\n",
      " 17%|█▋        | 143M/818M [00:05<00:25, 26.4MB/s]\n",
      " 18%|█▊        | 146M/818M [00:05<00:25, 26.2MB/s]\n",
      " 18%|█▊        | 149M/818M [00:05<00:25, 26.6MB/s]\n",
      " 19%|█▊        | 152M/818M [00:06<00:33, 20.0MB/s]\n",
      " 19%|█▉        | 155M/818M [00:06<00:33, 20.1MB/s]\n",
      " 19%|█▉        | 158M/818M [00:06<00:40, 16.2MB/s]\n",
      " 20%|█▉        | 161M/818M [00:06<00:35, 18.6MB/s]\n",
      " 20%|█▉        | 164M/818M [00:07<00:50, 13.0MB/s]\n",
      " 20%|██        | 167M/818M [00:07<00:39, 16.5MB/s]\n",
      " 21%|██        | 170M/818M [00:07<00:48, 13.5MB/s]\n",
      " 21%|██        | 172M/818M [00:07<00:42, 15.2MB/s]\n",
      " 22%|██▏       | 176M/818M [00:07<00:34, 18.6MB/s]\n",
      " 22%|██▏       | 180M/818M [00:07<00:29, 21.7MB/s]\n",
      " 22%|██▏       | 184M/818M [00:07<00:26, 24.4MB/s]\n",
      " 23%|██▎       | 187M/818M [00:08<00:24, 26.1MB/s]\n",
      " 23%|██▎       | 190M/818M [00:08<00:24, 25.8MB/s]\n",
      " 24%|██▎       | 193M/818M [00:08<00:24, 25.2MB/s]\n",
      " 24%|██▍       | 198M/818M [00:08<00:21, 29.2MB/s]\n",
      " 25%|██▍       | 201M/818M [00:08<00:20, 30.5MB/s]\n",
      " 25%|██▌       | 205M/818M [00:09<00:39, 15.5MB/s]\n",
      " 25%|██▌       | 208M/818M [00:09<00:34, 17.9MB/s]\n",
      " 26%|██▌       | 211M/818M [00:09<00:45, 13.2MB/s]\n",
      " 26%|██▌       | 214M/818M [00:09<00:39, 15.4MB/s]\n",
      " 27%|██▋       | 218M/818M [00:09<00:32, 18.5MB/s]\n",
      " 27%|██▋       | 221M/818M [00:09<00:34, 17.3MB/s]\n",
      " 27%|██▋       | 224M/818M [00:10<00:29, 19.9MB/s]\n",
      " 28%|██▊       | 227M/818M [00:10<00:35, 16.8MB/s]\n",
      " 28%|██▊       | 230M/818M [00:10<00:32, 18.3MB/s]\n",
      " 28%|██▊       | 233M/818M [00:10<00:27, 21.0MB/s]\n",
      " 29%|██▉       | 235M/818M [00:10<00:32, 18.0MB/s]\n",
      " 29%|██▉       | 239M/818M [00:10<00:27, 20.8MB/s]\n",
      " 30%|██▉       | 242M/818M [00:10<00:24, 23.1MB/s]\n",
      " 30%|██▉       | 245M/818M [00:11<00:22, 25.4MB/s]\n",
      " 30%|███       | 249M/818M [00:11<00:25, 22.3MB/s]\n",
      " 31%|███       | 252M/818M [00:11<00:23, 24.3MB/s]\n",
      " 31%|███       | 255M/818M [00:11<00:24, 22.7MB/s]\n",
      " 31%|███▏      | 257M/818M [00:11<00:24, 23.3MB/s]\n",
      " 32%|███▏      | 260M/818M [00:11<00:23, 23.5MB/s]\n",
      " 32%|███▏      | 263M/818M [00:11<00:21, 25.4MB/s]\n",
      " 33%|███▎      | 267M/818M [00:11<00:19, 27.6MB/s]\n",
      " 33%|███▎      | 270M/818M [00:12<00:19, 27.8MB/s]\n",
      " 33%|███▎      | 273M/818M [00:12<00:19, 28.5MB/s]\n",
      " 34%|███▍      | 276M/818M [00:12<00:18, 29.2MB/s]\n",
      " 34%|███▍      | 280M/818M [00:12<00:18, 29.6MB/s]\n",
      " 35%|███▍      | 283M/818M [00:12<00:17, 30.1MB/s]\n",
      " 35%|███▌      | 287M/818M [00:12<00:17, 30.6MB/s]\n",
      " 35%|███▌      | 290M/818M [00:12<00:17, 30.9MB/s]\n",
      " 36%|███▌      | 294M/818M [00:12<00:16, 31.0MB/s]\n",
      " 36%|███▋      | 298M/818M [00:12<00:16, 31.2MB/s]\n",
      " 37%|███▋      | 301M/818M [00:13<00:17, 29.9MB/s]\n",
      " 37%|███▋      | 305M/818M [00:13<00:16, 31.2MB/s]\n",
      " 38%|███▊      | 308M/818M [00:13<00:16, 31.5MB/s]\n",
      " 38%|███▊      | 312M/818M [00:13<00:18, 28.1MB/s]\n",
      " 39%|███▊      | 315M/818M [00:13<00:19, 25.6MB/s]\n",
      " 39%|███▉      | 319M/818M [00:13<00:17, 29.2MB/s]\n",
      " 39%|███▉      | 322M/818M [00:13<00:17, 28.6MB/s]\n",
      " 40%|███▉      | 326M/818M [00:13<00:18, 26.1MB/s]\n",
      " 40%|████      | 330M/818M [00:14<00:17, 28.6MB/s]\n",
      " 41%|████      | 333M/818M [00:14<00:17, 28.1MB/s]\n",
      " 41%|████      | 336M/818M [00:14<00:17, 28.0MB/s]\n",
      " 41%|████▏     | 339M/818M [00:14<00:21, 22.6MB/s]\n",
      " 42%|████▏     | 345M/818M [00:14<00:15, 29.9MB/s]\n",
      " 43%|████▎     | 349M/818M [00:14<00:15, 29.5MB/s]\n",
      " 43%|████▎     | 352M/818M [00:14<00:16, 28.6MB/s]\n",
      " 43%|████▎     | 355M/818M [00:15<00:16, 28.6MB/s]\n",
      " 44%|████▍     | 359M/818M [00:15<00:16, 28.5MB/s]\n",
      " 44%|████▍     | 362M/818M [00:15<00:16, 28.4MB/s]\n",
      " 45%|████▍     | 365M/818M [00:15<00:15, 28.4MB/s]\n",
      " 45%|████▍     | 368M/818M [00:15<00:18, 24.9MB/s]\n",
      " 45%|████▌     | 371M/818M [00:15<00:17, 25.7MB/s]\n",
      " 46%|████▌     | 374M/818M [00:15<00:23, 18.7MB/s]\n",
      " 47%|████▋     | 383M/818M [00:16<00:13, 32.7MB/s]\n",
      " 47%|████▋     | 387M/818M [00:16<00:12, 33.2MB/s]\n",
      " 48%|████▊     | 392M/818M [00:16<00:12, 33.4MB/s]\n",
      " 48%|████▊     | 396M/818M [00:16<00:13, 31.8MB/s]\n",
      " 49%|████▉     | 400M/818M [00:16<00:14, 28.9MB/s]\n",
      " 49%|████▉     | 403M/818M [00:16<00:15, 26.6MB/s]\n",
      " 50%|████▉     | 406M/818M [00:16<00:16, 24.6MB/s]\n",
      " 50%|████▉     | 408M/818M [00:17<00:18, 22.7MB/s]\n",
      " 50%|█████     | 411M/818M [00:17<00:17, 22.9MB/s]\n",
      " 51%|█████     | 414M/818M [00:17<00:19, 20.8MB/s]\n",
      " 51%|█████     | 419M/818M [00:17<00:14, 27.3MB/s]\n",
      " 52%|█████▏    | 422M/818M [00:17<00:14, 28.2MB/s]\n",
      " 52%|█████▏    | 425M/818M [00:17<00:13, 28.8MB/s]\n",
      " 52%|█████▏    | 428M/818M [00:17<00:13, 28.8MB/s]\n",
      " 53%|█████▎    | 432M/818M [00:17<00:13, 29.5MB/s]\n",
      " 53%|█████▎    | 435M/818M [00:17<00:12, 29.8MB/s]\n",
      " 54%|█████▎    | 438M/818M [00:18<00:12, 30.1MB/s]\n",
      " 54%|█████▍    | 442M/818M [00:18<00:12, 30.3MB/s]\n",
      " 54%|█████▍    | 445M/818M [00:18<00:12, 30.1MB/s]\n",
      " 55%|█████▍    | 449M/818M [00:18<00:12, 30.5MB/s]\n",
      " 55%|█████▌    | 452M/818M [00:18<00:16, 22.1MB/s]\n",
      " 56%|█████▌    | 456M/818M [00:18<00:15, 24.0MB/s]\n",
      " 56%|█████▌    | 459M/818M [00:18<00:15, 23.5MB/s]\n",
      " 56%|█████▋    | 461M/818M [00:19<00:15, 23.2MB/s]\n",
      " 57%|█████▋    | 465M/818M [00:19<00:15, 22.8MB/s]\n",
      " 57%|█████▋    | 470M/818M [00:19<00:12, 28.3MB/s]\n",
      " 58%|█████▊    | 473M/818M [00:19<00:12, 28.6MB/s]\n",
      " 58%|█████▊    | 477M/818M [00:19<00:11, 29.2MB/s]\n",
      " 59%|█████▊    | 480M/818M [00:19<00:11, 29.7MB/s]\n",
      " 59%|█████▉    | 483M/818M [00:19<00:11, 29.4MB/s]\n",
      " 59%|█████▉    | 486M/818M [00:19<00:14, 23.7MB/s]\n",
      " 60%|█████▉    | 489M/818M [00:20<00:13, 24.0MB/s]\n",
      " 60%|██████    | 494M/818M [00:20<00:10, 32.3MB/s]\n",
      " 61%|██████    | 498M/818M [00:20<00:10, 30.1MB/s]\n",
      " 61%|██████▏   | 502M/818M [00:20<00:10, 30.1MB/s]\n",
      " 62%|██████▏   | 505M/818M [00:20<00:11, 27.3MB/s]\n",
      " 62%|██████▏   | 509M/818M [00:20<00:11, 27.5MB/s]\n",
      " 63%|██████▎   | 512M/818M [00:20<00:11, 27.7MB/s]\n",
      " 63%|██████▎   | 515M/818M [00:20<00:10, 27.8MB/s]\n",
      " 63%|██████▎   | 518M/818M [00:20<00:10, 28.6MB/s]\n",
      " 64%|██████▎   | 521M/818M [00:21<00:10, 28.4MB/s]\n",
      " 64%|██████▍   | 524M/818M [00:21<00:12, 24.4MB/s]\n",
      " 64%|██████▍   | 527M/818M [00:21<00:12, 24.2MB/s]\n",
      " 65%|██████▌   | 532M/818M [00:21<00:09, 30.4MB/s]\n",
      " 65%|██████▌   | 536M/818M [00:21<00:09, 31.1MB/s]\n",
      " 66%|██████▌   | 539M/818M [00:21<00:08, 31.8MB/s]\n",
      " 66%|██████▋   | 543M/818M [00:21<00:08, 31.7MB/s]\n",
      " 67%|██████▋   | 547M/818M [00:21<00:08, 31.9MB/s]\n",
      " 67%|██████▋   | 551M/818M [00:22<00:09, 28.9MB/s]\n",
      " 68%|██████▊   | 554M/818M [00:22<00:10, 24.8MB/s]\n",
      " 68%|██████▊   | 557M/818M [00:22<00:10, 26.0MB/s]\n",
      " 68%|██████▊   | 560M/818M [00:22<00:10, 23.9MB/s]\n",
      " 69%|██████▉   | 563M/818M [00:23<00:21, 11.7MB/s]\n",
      " 69%|██████▉   | 565M/818M [00:23<00:19, 12.8MB/s]\n",
      " 70%|███████   | 574M/818M [00:23<00:09, 24.9MB/s]\n",
      " 71%|███████   | 578M/818M [00:23<00:09, 24.7MB/s]\n",
      " 71%|███████   | 582M/818M [00:23<00:08, 28.9MB/s]\n",
      " 72%|███████▏  | 587M/818M [00:24<00:12, 18.2MB/s]\n",
      " 73%|███████▎  | 594M/818M [00:24<00:08, 26.3MB/s]\n",
      " 73%|███████▎  | 599M/818M [00:24<00:07, 27.9MB/s]\n",
      " 74%|███████▎  | 603M/818M [00:24<00:08, 26.1MB/s]\n",
      " 74%|███████▍  | 607M/818M [00:24<00:11, 17.9MB/s]\n",
      " 75%|███████▍  | 610M/818M [00:24<00:10, 19.2MB/s]\n",
      " 75%|███████▍  | 613M/818M [00:25<00:12, 16.2MB/s]\n",
      " 75%|███████▌  | 616M/818M [00:25<00:13, 15.0MB/s]\n",
      " 75%|███████▌  | 618M/818M [00:25<00:13, 15.0MB/s]\n",
      " 76%|███████▌  | 620M/818M [00:25<00:13, 14.5MB/s]\n",
      " 76%|███████▌  | 623M/818M [00:25<00:11, 17.3MB/s]\n",
      " 76%|███████▋  | 625M/818M [00:26<00:11, 17.1MB/s]\n",
      " 77%|███████▋  | 628M/818M [00:26<00:10, 19.0MB/s]\n",
      " 77%|███████▋  | 630M/818M [00:26<00:11, 16.2MB/s]\n",
      " 77%|███████▋  | 632M/818M [00:26<00:11, 16.7MB/s]\n",
      " 78%|███████▊  | 635M/818M [00:26<00:09, 19.5MB/s]\n",
      " 78%|███████▊  | 638M/818M [00:26<00:10, 17.4MB/s]\n",
      " 78%|███████▊  | 641M/818M [00:26<00:08, 20.4MB/s]\n",
      " 79%|███████▊  | 644M/818M [00:27<00:09, 19.2MB/s]\n",
      " 79%|███████▉  | 646M/818M [00:27<00:08, 20.6MB/s]\n",
      " 79%|███████▉  | 649M/818M [00:27<00:07, 21.3MB/s]\n",
      " 80%|███████▉  | 652M/818M [00:27<00:09, 18.4MB/s]\n",
      " 80%|███████▉  | 654M/818M [00:27<00:08, 19.3MB/s]\n",
      " 80%|████████  | 657M/818M [00:27<00:07, 22.0MB/s]\n",
      " 81%|████████  | 661M/818M [00:27<00:06, 24.9MB/s]\n",
      " 81%|████████  | 664M/818M [00:27<00:05, 26.1MB/s]\n",
      " 82%|████████▏ | 668M/818M [00:27<00:05, 29.4MB/s]\n",
      " 82%|████████▏ | 672M/818M [00:28<00:04, 30.5MB/s]\n",
      " 83%|████████▎ | 675M/818M [00:28<00:04, 29.8MB/s]\n",
      " 83%|████████▎ | 678M/818M [00:28<00:05, 27.8MB/s]\n",
      " 83%|████████▎ | 682M/818M [00:28<00:05, 24.7MB/s]\n",
      " 84%|████████▎ | 685M/818M [00:28<00:05, 25.4MB/s]\n",
      " 84%|████████▍ | 687M/818M [00:28<00:05, 24.3MB/s]\n",
      " 84%|████████▍ | 690M/818M [00:28<00:04, 26.0MB/s]\n",
      " 85%|████████▍ | 694M/818M [00:28<00:04, 26.8MB/s]\n",
      " 85%|████████▌ | 697M/818M [00:29<00:04, 28.2MB/s]\n",
      " 86%|████████▌ | 700M/818M [00:29<00:04, 28.1MB/s]\n",
      " 86%|████████▌ | 704M/818M [00:29<00:04, 28.6MB/s]\n",
      " 86%|████████▋ | 707M/818M [00:29<00:03, 29.1MB/s]\n",
      " 87%|████████▋ | 710M/818M [00:29<00:03, 29.5MB/s]\n",
      " 87%|████████▋ | 714M/818M [00:29<00:03, 30.5MB/s]\n",
      " 88%|████████▊ | 717M/818M [00:29<00:03, 26.1MB/s]\n",
      " 88%|████████▊ | 721M/818M [00:29<00:03, 31.3MB/s]\n",
      " 89%|████████▊ | 725M/818M [00:30<00:02, 31.1MB/s]\n",
      " 89%|████████▉ | 729M/818M [00:30<00:02, 30.3MB/s]\n",
      " 89%|████████▉ | 732M/818M [00:30<00:02, 30.4MB/s]\n",
      " 90%|████████▉ | 735M/818M [00:30<00:02, 30.5MB/s]\n",
      " 90%|█████████ | 738M/818M [00:30<00:03, 25.5MB/s]\n",
      " 91%|█████████ | 741M/818M [00:30<00:02, 26.4MB/s]\n",
      " 91%|█████████ | 744M/818M [00:30<00:03, 18.6MB/s]\n",
      " 92%|█████████▏| 752M/818M [00:31<00:02, 29.7MB/s]\n",
      " 92%|█████████▏| 756M/818M [00:31<00:02, 29.4MB/s]\n",
      " 93%|█████████▎| 760M/818M [00:31<00:01, 30.1MB/s]\n",
      " 93%|█████████▎| 763M/818M [00:31<00:01, 30.7MB/s]\n",
      " 94%|█████████▎| 767M/818M [00:31<00:01, 31.1MB/s]\n",
      " 94%|█████████▍| 771M/818M [00:31<00:01, 31.3MB/s]\n",
      " 95%|█████████▍| 774M/818M [00:31<00:01, 31.7MB/s]\n",
      " 95%|█████████▌| 778M/818M [00:31<00:01, 32.2MB/s]\n",
      " 96%|█████████▌| 782M/818M [00:31<00:01, 31.2MB/s]\n",
      " 96%|█████████▌| 785M/818M [00:32<00:01, 30.8MB/s]\n",
      " 96%|█████████▋| 789M/818M [00:32<00:01, 26.6MB/s]\n",
      " 97%|█████████▋| 794M/818M [00:32<00:00, 31.9MB/s]\n",
      " 97%|█████████▋| 797M/818M [00:32<00:00, 29.0MB/s]\n",
      " 98%|█████████▊| 801M/818M [00:32<00:00, 24.6MB/s]\n",
      " 98%|█████████▊| 804M/818M [00:32<00:00, 23.7MB/s]\n",
      " 99%|█████████▊| 806M/818M [00:32<00:00, 24.2MB/s]\n",
      " 99%|█████████▉| 810M/818M [00:33<00:00, 25.4MB/s]\n",
      " 99%|█████████▉| 813M/818M [00:33<00:00, 12.9MB/s]\n",
      "100%|█████████▉| 815M/818M [00:33<00:00, 14.8MB/s]\n",
      "100%|██████████| 818M/818M [00:33<00:00, 24.2MB/s]\n",
      "Downloading...\n",
      "From: https://drive.google.com/uc?id=1tUnWeK372o_yu0LxkMwtC4IR2jorDipN\n",
      "To: d:\\Documentos\\Git Repositories\\uba-ceia\\ceia-vpc2\\resources\\portada.jpeg\n",
      "\n",
      "  0%|          | 0.00/2.64M [00:00<?, ?B/s]\n",
      " 40%|███▉      | 1.05M/2.64M [00:00<00:00, 8.15MB/s]\n",
      "100%|██████████| 2.64M/2.64M [00:00<00:00, 13.9MB/s]\n",
      "Download completed\n",
      "C:\\Users\\Ferchita-Maso\\AppData\\Local\\Temp\\ipykernel_18872\\4171631205.py:21: UserWarning: El archivo ./resources\\requirements.txt no fue encontrado. No se instalarán los requerimientos.\n",
      "  warnings.warn(f\"El archivo {archivo_requerimientos} no fue encontrado. No se instalarán los requerimientos.\")\n"
     ]
    }
   ],
   "source": [
    "import os\n",
    "import warnings\n",
    "\n",
    "# Definimos la ruta de la carpeta y el archivo de requerimientos\n",
    "CARPETA_RESOURCES = './resources'\n",
    "archivo_requerimientos = os.path.join(CARPETA_RESOURCES, 'requirements.txt')\n",
    "\n",
    "# Descargamos la carpeta con archivos auxiliares\n",
    "%pip install gdown\n",
    "!gdown https://drive.google.com/drive/folders/1DFfgoGQ8-zLwQU85Uyq0X72GX4IITInV?usp=sharing --folder\n",
    "\n",
    "# Verificamos si la carpeta ha sido descargada correctamente\n",
    "if os.path.exists(CARPETA_RESOURCES):\n",
    "    print(f\"La carpeta {CARPETA_RESOURCES} fue encontrada.\")\n",
    "\n",
    "    # Verificamos si el archivo de requerimientos existe\n",
    "    if os.path.exists(archivo_requerimientos):\n",
    "        print(\"Archivo de requerimientos encontrado, instalando dependencias...\")\n",
    "        %pip install -r {archivo_requerimientos}\n",
    "    else:\n",
    "        warnings.warn(f\"El archivo {archivo_requerimientos} no fue encontrado. No se instalarán los requerimientos.\")\n",
    "else:\n",
    "    warnings.warn(f\"La carpeta {CARPETA_RESOURCES} no fue encontrada. Verifique la descarga.\")"
   ]
  },
  {
   "cell_type": "code",
   "execution_count": 6,
   "metadata": {},
   "outputs": [],
   "source": [
    "import zipfile\n",
    "import torch"
   ]
  },
  {
   "cell_type": "markdown",
   "metadata": {},
   "source": [
    "🔧 <em><font color='tomato'>Configuraciones:</font></em> 🔧\n"
   ]
  },
  {
   "cell_type": "code",
   "execution_count": 3,
   "metadata": {},
   "outputs": [
    {
     "name": "stdout",
     "output_type": "stream",
     "text": [
      "Dispositivo actual: cpu\n"
     ]
    }
   ],
   "source": [
    "# Parámetros\n",
    "VERBOSE = True # Muestra época a época la evolución\n",
    "DEVICE = 'cuda' if torch.cuda.is_available() else 'cpu'\n",
    "\n",
    "CARPETA_RESOURCES = './resources'\n",
    "CARPETA_COMPRESSED = './resources/datasets/compressed'\n",
    "CARPETA_RAW = './resources/datasets/raw'\n",
    "\n",
    "print(f'Dispositivo actual: {DEVICE}')"
   ]
  },
  {
   "cell_type": "markdown",
   "metadata": {},
   "source": [
    "## Introduction"
   ]
  },
  {
   "cell_type": "markdown",
   "metadata": {},
   "source": [
    "En el marco de la especialización en Inteligencia Artificial de la Facultad de Ingeniería de la Universidad de Buenos Aires, se plantea, como trabajo final de la materia Visión por Computadora 2, desarrollar un modelo de visión por computadora que utilice aprendizaje profundo para detectar las ubicaciones de palmeras en diversas imágenes áereas.\n",
    "\n",
    "Metodológicamente, se aplican principios de [CRISP-ML(Q)](https://ml-ops.org/content/crisp-ml) para el desarrollo del problema."
   ]
  },
  {
   "cell_type": "markdown",
   "metadata": {},
   "source": [
    "## Business and data understanding"
   ]
  },
  {
   "cell_type": "markdown",
   "metadata": {},
   "source": [
    "La detección de palmeras es ampliamente estudiado en el área de visión por computadora, dado su potencial como insumo de otras soluciones, como por ejemplo, aquellas que intentan mejorar la salud de las palmeras, donde inicalmente es deseable una detección aera para luego realizar una inspección manual (con el objetivo de reducir costos).\n",
    "\n",
    "Muchos estudios (como [este](https://www.researchgate.net/publication/382742087_Implementation_of_Slicing_Aided_Hyper_Inference_SAHI_in_YOLOv8_to_Counting_Oil_Palm_Trees_Using_High-Resolution_Aerial_Imagery_Data) por ejemplo) se realizan en paises en donde la mayoría de las palmeras son materia prima para la producción del \"aceite de palmera\". Sin embargo, en paises no productores, el cuidado de las palmeras también es importante, dado su impacto en el medio ambiente. "
   ]
  },
  {
   "cell_type": "markdown",
   "metadata": {},
   "source": [
    "## Data preparation"
   ]
  },
  {
   "cell_type": "markdown",
   "metadata": {},
   "source": [
    "Los datos fueron obenidos del sito de Kaggle: https://www.kaggle.com/datasets/riotulab/aerial-images-of-palm-trees, sin embargo, para una mejor manejo, se los importan desde Google Drive (https://drive.google.com/drive/folders/1DFfgoGQ8-zLwQU85Uyq0X72GX4IITInV)"
   ]
  },
  {
   "cell_type": "markdown",
   "metadata": {},
   "source": [
    "### Data visualization"
   ]
  },
  {
   "cell_type": "markdown",
   "metadata": {},
   "source": [
    "Luego de descargado los datos, tenemos la siguiente estructura de directorios:"
   ]
  },
  {
   "cell_type": "markdown",
   "metadata": {},
   "source": [
    "<!-- https://tree.nathanfriend.io/\n",
    "- resources\n",
    "  - datasets\n",
    "    - compressed\n",
    "      - palmeras_kaggle.zip\n",
    " -->\n",
    "\n",
    "<pre>\n",
    "resources/\n",
    "└── datasets/\n",
    "    └── compressed/\n",
    "        └── palmeras_kaggle.zip\n",
    "</pre>"
   ]
  },
  {
   "cell_type": "markdown",
   "metadata": {},
   "source": [
    "Descomprimimos los datos:"
   ]
  },
  {
   "cell_type": "code",
   "execution_count": 7,
   "metadata": {},
   "outputs": [
    {
     "name": "stdout",
     "output_type": "stream",
     "text": [
      "Descomprimiendo palmeras.zip en ./resources/datasets/raw...\n",
      "palmeras.zip descomprimido exitosamente.\n"
     ]
    }
   ],
   "source": [
    "# Crear la carpeta 'raw' si no existe\n",
    "os.makedirs(CARPETA_RAW, exist_ok=True)\n",
    "\n",
    "# Función para descomprimir archivos .zip\n",
    "def descomprimir_archivos(carpeta_origen, carpeta_destino):\n",
    "    archivos = [f for f in os.listdir(carpeta_origen) if f.endswith('.zip')]\n",
    "    \n",
    "    if not archivos:\n",
    "        warnings.warn(\"No se encontraron archivos .zip para descomprimir.\")\n",
    "        return\n",
    "    \n",
    "    for archivo in archivos:\n",
    "        ruta_archivo = os.path.join(carpeta_origen, archivo)\n",
    "        print(f\"Descomprimiendo {archivo} en {carpeta_destino}...\")\n",
    "        \n",
    "        # Descomprimir archivo\n",
    "        with zipfile.ZipFile(ruta_archivo, 'r') as zip_ref:\n",
    "            zip_ref.extractall(carpeta_destino)\n",
    "        print(f\"{archivo} descomprimido exitosamente.\")\n",
    "\n",
    "# Verificar si la carpeta compressed existe\n",
    "if os.path.exists(CARPETA_COMPRESSED):\n",
    "    descomprimir_archivos(CARPETA_COMPRESSED, CARPETA_RAW)\n",
    "else:\n",
    "    warnings.warn(f\"La carpeta {CARPETA_COMPRESSED} no fue encontrada. Verifique la estructura\")"
   ]
  },
  {
   "cell_type": "markdown",
   "metadata": {},
   "source": [
    "Una vez descomprimido los archivos, podemos observar que el conjunto está en formato PascalVOC (aunque también tiene dos archivos .csv que pueden utilizarse para otros formatos, ej: YOLO)."
   ]
  },
  {
   "cell_type": "markdown",
   "metadata": {},
   "source": [
    "Podemos observar las imágenes y su detección:"
   ]
  },
  {
   "cell_type": "markdown",
   "metadata": {},
   "source": [
    "## Machine learning model engineering"
   ]
  },
  {
   "cell_type": "markdown",
   "metadata": {},
   "source": [
    "Como experimentos, dado que inicialmente el modelo no tiene como objetivo el funcionamiento en tiempo real, se plantea utilizar modelos de detección en dos etapas (ej: Faster R-CNN). Sin embargo, también se tienen en cuenta modelos de una sola etapa (ej: YOLO)"
   ]
  },
  {
   "cell_type": "markdown",
   "metadata": {},
   "source": [
    "### Faster R-CNN"
   ]
  },
  {
   "cell_type": "markdown",
   "metadata": {},
   "source": [
    "### YOLO"
   ]
  },
  {
   "cell_type": "markdown",
   "metadata": {},
   "source": [
    "<!-- ## Quality assurance for machine learning applications -->"
   ]
  },
  {
   "cell_type": "markdown",
   "metadata": {},
   "source": [
    "<!-- ## Deployment -->"
   ]
  },
  {
   "cell_type": "markdown",
   "metadata": {},
   "source": [
    "<!-- ## Monitoring and maintenance -->"
   ]
  },
  {
   "cell_type": "markdown",
   "metadata": {},
   "source": [
    "## Referencias"
   ]
  },
  {
   "cell_type": "markdown",
   "metadata": {},
   "source": [
    "- Adel Ammar, and Anis Koubaa. (2023). Aerial images of palm trees [Data set]. Kaggle. https://doi.org/10.34740/KAGGLE/DSV/6382990"
   ]
  }
 ],
 "metadata": {
  "kernelspec": {
   "display_name": ".venv",
   "language": "python",
   "name": "python3"
  },
  "language_info": {
   "codemirror_mode": {
    "name": "ipython",
    "version": 3
   },
   "file_extension": ".py",
   "mimetype": "text/x-python",
   "name": "python",
   "nbconvert_exporter": "python",
   "pygments_lexer": "ipython3",
   "version": "3.12.2"
  }
 },
 "nbformat": 4,
 "nbformat_minor": 2
}
