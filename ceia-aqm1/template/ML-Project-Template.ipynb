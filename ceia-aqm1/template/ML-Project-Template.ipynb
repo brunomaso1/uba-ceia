{
 "cells": [
  {
   "cell_type": "markdown",
   "metadata": {},
   "source": [
    "TITULO DEL PROYECTO\n",
    "==="
   ]
  },
  {
   "cell_type": "markdown",
   "metadata": {},
   "source": [
    "*Datos del proyecto:*\n",
    "- Subtitulo\n",
    "- Descripción\n",
    "- Tabla de integrantes y roles"
   ]
  },
  {
   "cell_type": "markdown",
   "metadata": {},
   "source": [
    "## 1. Metodología"
   ]
  },
  {
   "cell_type": "markdown",
   "metadata": {},
   "source": [
    "> Tipo de metodología a utilizar para el proyecto."
   ]
  },
  {
   "cell_type": "markdown",
   "metadata": {},
   "source": [
    "---\n",
    "**Ejemplo:**\n",
    "\n",
    "En el campo de aprendizaje de máquina, la comunidad todavía está definiendo un proceso sistemático y estructurado para el cliclo de vida de soluciones basadas en aprendizaje automático. El objetivo es enfocar los procedimientos y estándares de calidad de la ingeniería de software clásica a metodologías de este sub-campo de la inteligencia artificial.\n",
    "\n",
    "Es en este punto que surge [CRISP-ML(Q)](https://arxiv.org/pdf/2003.05155.pdf), como una metodología que integra las mejores prácticas de la ingeniería de software sobre todo el ciclo de vida de soluciones enfocadas en resolver problemas con aprendizaje de máquina.\n",
    "\n",
    "CRISP-ML(Q) surge a partir de [CRISP-DM](https://es.wikipedia.org/wiki/Cross_Industry_Standard_Process_for_Data_Mining) como un intento de ampliar dicho \"framework\" al área de \"machine learning\".\n",
    "\n",
    "En palabras de los autores (Stefan Studer et al),  CRISP-ML(Q) propone un modelo de proceso al que llaman modelo de proceso estándar \"CRoss-Industry\" para el desarrollo de aplicaciones de \"Machine Learning\" con metodología de aseguramiento de la Calidad, donde resalta su compatibilidad con CRISP-DM. Está diseñado para el desarrollo de aplicaciones de máquina, es decir, escenarios de aplicaciones donde se implementa y mantiene un modelo de ML\n",
    "como parte de un producto o servicio.\n",
    "\n",
    "Consta de seis fases:\n",
    "1. Business and Data Understanding\n",
    "2. Data Engineering (Data Preparation) \n",
    "3. Machine Learning Model Engineering \n",
    "4. Quality Assurance for Machine Learning Applications \n",
    "5. Deployment \n",
    "6. Monitoring and Maintenance. \n",
    "\n",
    "![Figura 1: Machine Learning Development Life Cycle Process](.\\resources\\crisp-ml-process.jpg)\n",
    "\n",
    "*Figura 1: Machine Learning Development Life Cycle Process* \n",
    "\n",
    "En donde cada fase requiere el siguiente proceso:\n",
    "\n",
    "![Figura 2: Proceso dentro de cada fase](.\\resources\\crisp-ml-phase.jpg)\n",
    "\n",
    "*Figura 2: Proceso dentro de cada fase [^1]*\n",
    "\n",
    "Resumen de tareas de cada fase:\n",
    "*También se agrega infromación adiccional. Toada esta tabla se puede tomar como una especie de \"checklist\".*"
   ]
  },
  {
   "cell_type": "markdown",
   "metadata": {},
   "source": [
    "| CRISP-ML(Q) Phase                | Tasks                                                                                                                                                                             |\n",
    "| -------------------------------- | --------------------------------------------------------------------------------------------------------------------------------------------------------------------------------- |\n",
    "| *Business and Data Understanding*  | • Define the Scope of the ML Application<br>• Sucess criteria<br>• Feasibility<br>• Data collection<br>• Data quality verification<br>• Review of output documents                |\n",
    "| *Data Engineering*                 | • Select data<br>• Clean data<br>• Construct data<br>• Standarize data                                                                                                            |\n",
    "| *ML Model Engineering*             | • Modeling<br>• Assure reproducibility                                                                                                                                            |\n",
    "| *ML Model Evaluation*              | • Validate performance<br>• Determine robustness<br>•Increase explainability for ML practitioner and end user<br>• Compare results with defined success criteria                  |\n",
    "| *Model Deployment*                 | • Define inference hardware<br>• Model evaluation under production<br>• Assure user acceptance and usability<br>• Minimize the risks of unforseen errors<br>• Deployment strategy |\n",
    "| *Model Monitoring and Maintenance* | • Monitor<br>• Update                                                                                                                                                             |"
   ]
  },
  {
   "cell_type": "markdown",
   "metadata": {},
   "source": [
    "Un ejemplo de algunos de los modelos más utilizados se puede observar en la siguiente imagen:\n",
    "\n",
    "![Figura 3: Machine learning models example](.\\resources\\Machine-learning-models-overview.png)\n",
    "\n",
    "*Figura 3: Ejemplo de modelos de aprendizaje automático [^2]*"
   ]
  },
  {
   "cell_type": "markdown",
   "metadata": {},
   "source": [
    "## 2. Aplicación de metodología\n",
    "<!-- ## 2. CRISP-ML(Q) -->"
   ]
  },
  {
   "cell_type": "markdown",
   "metadata": {},
   "source": [
    "---\n",
    "Ejemplo: CRISP-ML(Q)\n",
    "\n",
    "## 2. CRISP-ML(Q)"
   ]
  },
  {
   "cell_type": "markdown",
   "metadata": {},
   "source": [
    "> Cada fase debería aplicar la metodología en cuestión. O sea, incluir un análisis de riesgos (identificar y tratar -mitigar, transferir, etc.-)"
   ]
  },
  {
   "cell_type": "markdown",
   "metadata": {},
   "source": [
    "### 2.1 Entendimiento del negocio y los datos (Business and Data Understanding)"
   ]
  },
  {
   "cell_type": "markdown",
   "metadata": {},
   "source": [
    "> Debería tener en cuenta los siguientes puntos:\n",
    "> - Define the Scope of the ML Application\n",
    ">     - Business objetives\n",
    ">         - Business description (business scenario)\n",
    ">         - ML requirements\n",
    ">         - Data constrains\n",
    ">             - Security\n",
    ">             - Availability\n",
    ">         - Translate business objetives into ML objetives\n",
    ">         - Type of analysis\n",
    ">             - Descriptive analysis\n",
    ">             - Diagnostic analysis\n",
    ">             - Predictive analysis\n",
    ">             - Prescriptive analysis\n",
    ">         - Use ML Canvas (https://www.ownml.co/machine-learning-canvas)\n",
    "> - Sucess criteria\n",
    ">     - Mesurables requirements (check software engineering requirements specification)\n",
    ">         - Correctness\n",
    ">         - Completeness\n",
    ">         - Consistency\n",
    ">         - Unambiguosness\n",
    ">         - Ranking for importance and stability\n",
    ">         - Modificability\n",
    ">         - Verificability\n",
    ">         - Traceability\n",
    ">         - Design independence\n",
    ">         - Testability\n",
    ">         - Undenstandable by the customer\n",
    ">         - Right level ob abstraction\n",
    ">     - Business sucess criteria\n",
    ">     - ML sucess criteria\n",
    ">         - Performance\n",
    ">         - Robustness\n",
    ">         - Scalability\n",
    ">         - Explainability\n",
    ">         - Model complexity\n",
    ">         - Resource demand\n",
    ">     - Economic sucess criteria\n",
    ">     - Check also system quality atributes\n",
    "> - Feasibility\n",
    ">     - Availability, size and quality of the training set\n",
    ">     - Applicability of ML technology\n",
    ">     - Legal constraints\n",
    ">     - Requirements on the application\n",
    "> - Data collection\n",
    ">     - Data version control\n",
    ">     - Data generation process\n",
    "> - Data quality verification\n",
    ">     - Data description\n",
    ">         - Data exploration with domain knownledge\n",
    ">            - Data attributes and meaning\n",
    ">            - Duplicated data\n",
    ">            - Data types\n",
    ">            - Momentums\n",
    ">            - Missing values\n",
    ">            - Outliers\n",
    ">            - Correlation between data\n",
    ">            - Data visualization\n",
    ">         - Data requirements\n",
    ">             - Missing values\n",
    ">             - Outliers\n",
    ">         - Data verification\n",
    ">             - Avoid low quality data\n",
    "> - Review of output documents\n",
    ">     - Re-define tasks and risks"
   ]
  },
  {
   "cell_type": "markdown",
   "metadata": {},
   "source": [
    "### 2.2 Ingeniería de datos (Data Engineering)"
   ]
  },
  {
   "cell_type": "markdown",
   "metadata": {},
   "source": [
    "> Debería tener en cuenta los siguientes puntos:\n",
    "> - Select data\n",
    ">     - Feature selection (uppon domain kwnonledge)\n",
    ">         - Filter methods\n",
    ">         - Wrapper methods\n",
    ">         - Embedded methods\n",
    ">     - Data selection\n",
    ">         - Descarting samples that don't satisfy with quality criteria\n",
    ">     - Unbalanced classes\n",
    ">         - Over-sampling and under-sampling\n",
    "> - Clean data\n",
    ">     - Noise reduction\n",
    ">     - Data imputation\n",
    ">     - Compare the model performance between different imputation techniques\n",
    "> - Construct data\n",
    ">     - Feature engineering\n",
    ">         - Feature transformation (time domain to frecuency domain)\n",
    ">         - Discretization of continuous fetures\n",
    ">         - Augmenting the features with additional features\n",
    ">         - Clustering\n",
    ">         - Dimensional reduction\n",
    ">         - Codificar variables nominales\n",
    ">         - Transformar variables ordinales a numéricas\n",
    ">         - Data masking if needed\n",
    ">     - Data augmentation\n",
    ">         - Ex: Gaussian noise to an image or elastic deformation\n",
    "> - Standarize data\n",
    ">     - File format\n",
    ">     - Normalization"
   ]
  },
  {
   "cell_type": "markdown",
   "metadata": {},
   "source": [
    "### 2.3 Ingeniería de modelos de aprendizaje automático (ML Model Engineering)"
   ]
  },
  {
   "cell_type": "markdown",
   "metadata": {},
   "source": [
    "> Debería tener en cuenta los siguientes puntos:\n",
    "> - Modelado\n",
    ">     - Literature reserch on similar problems (models baselines)\n",
    ">     - Define quality measures of the model\n",
    ">         - Besides a performance metric, also soft measures such as:\n",
    ">             - Robustness\n",
    ">             - Explainability\n",
    ">             - Scalability\n",
    ">             - Resource demand\n",
    ">             - Model compexity\n",
    ">         - Additionallly: model's fairness or trust\n",
    ">     - Model selection (https://en.wikipedia.org/wiki/Outline_of_machine_learning#Machine_learning_methods)\n",
    ">     - Incorporate domain knowledge (comparing vs baseline or domain knowledge)\n",
    ">         - Beware of false bias\n",
    ">     - Model training\n",
    ">         - Learining problem: objetive, optimizer, regularization and cross-validation\n",
    ">         - Specify model metadata (algorithm, training, validation, data testing, hipper-parameters, pre-conditions, model assumptions, environment)\n",
    ">         - Model asumptions\n",
    ">     - Using unlabeled data and pre-trained models (transfer learning?)\n",
    ">     - Model compresion (Model optimization)\n",
    ">     - Ensemble methods (boosting, baging, mixture of experts)\n",
    ">     - Add model to pipeline\n",
    "> - Assure reproducibility\n",
    ">     - Method reproducibility\n",
    ">     - Result reproducibility\n",
    ">     - Experimental documentation"
   ]
  },
  {
   "cell_type": "markdown",
   "metadata": {},
   "source": [
    "### 2.4 Evaluación de modelos de aprendizaje automático (ML Model Evaluation)"
   ]
  },
  {
   "cell_type": "markdown",
   "metadata": {},
   "source": [
    "> Debería tener en cuenta los siguientes puntos:\n",
    "> - Validate performance (test set)\n",
    ">     - Apply data transformation production pipelines\n",
    "> - Determine robustness\n",
    ">     - Noisy data testing\n",
    ">     - Wrong data testing\n",
    ">     - Statistically estimate model's local and globarl robustness\n",
    ">     - Should match model's quality attributes\n",
    "> - Increase explainability for ML practitioner and end user\n",
    ">     - Enriching the data set\n",
    "> - Compare results with defined success criteria\n",
    ">     - Iterations if success criteria are not met\n",
    ">     - Make a decision whether to deploy de model\n",
    ">     - Document the evaluation phase\n",
    "> - Recomendations\n",
    ">     - Offline testing\n",
    ">     - Confussion matrix\n",
    ">     - Show explainability reports"
   ]
  },
  {
   "cell_type": "markdown",
   "metadata": {},
   "source": [
    "### 2.5 Despliegue del modelo (Model Deployment)"
   ]
  },
  {
   "cell_type": "markdown",
   "metadata": {},
   "source": [
    "> Debería tener en cuenta los siguientes puntos:\n",
    "> - Define inference hardware (based on already defined requirements)\n",
    "> - Model evaluation under production condition (incrementally increasing production conditions by iteratively runing the evaluation tasks)\n",
    "> - Assure user acceptance and usability\n",
    ">     - User guide and disclaimer\n",
    "> - Minimize the risks of unforseen errors\n",
    ">     - Fall-back plan (e.g. rollback to a previous version, a pre-defined baseline or a rule-base system)\n",
    "> - Delpoyment strategy\n",
    ">     - Incremental deployment strategy that includes a pipeline for models and data\n",
    "> - Recomendations\n",
    ">     - Model governance\n",
    ">     - Deploy according to the selected strategy (A/B testing, multi-armed bandits)\n",
    ">     - CD/CI\n",
    ">     - DRP\n",
    ">     - Use pre-production if available"
   ]
  },
  {
   "cell_type": "markdown",
   "metadata": {},
   "source": [
    "### 2.6 Monitoreo y mantenimiento del modelo (Model Monitoring and Maintenance)"
   ]
  },
  {
   "cell_type": "markdown",
   "metadata": {},
   "source": [
    "> Debería tener en cuenta los siguientes puntos:\n",
    "> - Monitor\n",
    ">     - Evaluate the staleness of the model (does the model has to be updated?)\n",
    "> - Update\n",
    ">     - New data collection plan and re-train\n",
    ">     - Fine-tune model on new data\n",
    "> - Recomendations\n",
    ">     - Monitor the efficiency and efficacy of the model prediction serving\n",
    ">     - Compare to the previously specified success criteria (thresholds)\n",
    ">     - Retrain model if required\n",
    ">     - Collect new data\n",
    ">     - Perform labelling of the new data points\n",
    ">     - Repeat tasks from the *Model Engineering* and *Model Evaluation* phases\n",
    ">     - Continuous, integration, training, and deployment of the model\n",
    ">     - Check model's degradation (https://en.wikipedia.org/wiki/Lehman%27s_laws_of_software_evolution and https://en.wikipedia.org/wiki/Software_rot)\n",
    ">         - Non-stationary data distribution\n",
    ">         - Degradation of hardware\n",
    ">         - System updates\n",
    ">     - Plan technical debts payment and reduction\n",
    ">     - Maintenance plan and emergency plans\n",
    ">     - Create alarms of all the pipeline. Include data generation differences also\n",
    ">     - Plan for software substitution or destruction\n",
    ">     - Do correct loging of new data"
   ]
  },
  {
   "cell_type": "markdown",
   "metadata": {},
   "source": [
    "## 3. Mejora continua"
   ]
  },
  {
   "cell_type": "markdown",
   "metadata": {},
   "source": [
    "> Debería tener en cuenta los siguientes puntos:\n",
    "> - Fases que faltaron implementar o mejorar\n",
    "> - Mejorar los procesos\n",
    "> - Mejorar la documentación de los procesos"
   ]
  },
  {
   "cell_type": "markdown",
   "metadata": {},
   "source": [
    "## 4. Referencias"
   ]
  },
  {
   "cell_type": "markdown",
   "metadata": {},
   "source": [
    "[^1]: https://ml-ops.org/content/crisp-ml\n",
    "[^2]: https://www.researchgate.net/publication/369194767_A_Different_Traditional_Approach_for_Automatic_Comparative_Machine_Learning_in_Multimodality_Covid-19_Severity_Recognition"
   ]
  },
  {
   "cell_type": "markdown",
   "metadata": {},
   "source": [
    "## 5. Apendices"
   ]
  }
 ],
 "metadata": {
  "language_info": {
   "name": "python"
  }
 },
 "nbformat": 4,
 "nbformat_minor": 2
}
