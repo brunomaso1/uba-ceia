{
 "cells": [
  {
   "cell_type": "markdown",
   "metadata": {},
   "source": [
    "## <h1><center>TP2 - Aprendizaje profundo  - CEIA</center></h1>"
   ]
  },
  {
   "cell_type": "code",
   "execution_count": null,
   "metadata": {
    "vscode": {
     "languageId": "plaintext"
    }
   },
   "outputs": [],
   "source": [
    "# Descargamos la carpeta con archivos auxiliares\n",
    "%pip install gdown\n",
    "!gdown https://drive.google.com/drive/folders/1UBZ8PEbtmiWMGkULu7GAt3VhUpeTy9l7?usp=sharing --folder\n",
    "\n",
    "# Exportamos los requrimientos para reproducción local\n",
    "%pip freeze > requirements.txt"
   ]
  },
  {
   "cell_type": "code",
   "execution_count": null,
   "metadata": {
    "vscode": {
     "languageId": "plaintext"
    }
   },
   "outputs": [],
   "source": [
    "# Parámetros\n",
    "BATCH_SIZE = batch_size # Tamaño del batch\n",
    "N_EPOCHS = 10 # Número de épocas\n",
    "VERBOSE = True # Muestra época a época la evolución\n",
    "DEVICE = 'cuda' if torch.cuda.is_available() else 'cpu'\n",
    "\n",
    "print(f'Dispositivo actual: {DEVICE}')"
   ]
  },
  {
   "cell_type": "markdown",
   "metadata": {},
   "source": [
    "<center>\n",
    "\n",
    "<img src=\"https://drive.google.com/uc?id=1CRPFyP2rK5JN5H1R-2I496XHOOzNCDpL\" width=\"600\" alt=\"Figura 1: A data scientist playing with convolutional neural networks. - Generada con Microsoft Image Creator\">\n",
    "\n",
    "<small><em>Figura 1: A data scientist playing with convolutional neural networks. - Generada con Microsoft Image Creator</em></small>\n",
    "\n",
    "</center>"
   ]
  },
  {
   "cell_type": "markdown",
   "metadata": {},
   "source": [
    "<center>\n",
    "<p>✨Datos del proyecto:✨<p>\n",
    "\n",
    "| Subtitulo       | TP3 - Visión por computadora - FIUBA                                                                                                   |\n",
    "| --------------- | -------------------------------------------------------------------------------------------------------------------------------------- |\n",
    "| **Descrpción**  | Template matching                                                                                                                      |\n",
    "| **Integrantes** | Bruno Masoller (brunomaso1@gmail.com)                                                                                                |\n",
    "\n",
    "</center>"
   ]
  },
  {
   "cell_type": "markdown",
   "metadata": {},
   "source": [
    "🔮 <em><font color='violet'>Función auxiliar: Cargar imágenes de un directorio.</font></em>"
   ]
  },
  {
   "cell_type": "markdown",
   "metadata": {},
   "source": [
    "🔧 <em><font color='tomato'>Configuraciones:</font></em> 🔧\n"
   ]
  },
  {
   "cell_type": "markdown",
   "metadata": {},
   "source": [
    "✋ <em><font color='DodgerBlue'>Importaciones:</font></em> ✋"
   ]
  },
  {
   "cell_type": "markdown",
   "metadata": {},
   "source": [
    "⭐<strong>Conclusión</strong>⭐\n",
    "\n",
    "*Como conclusión final, podemos ver que el super algoritmo función muy bien en comparación con el anterior, y además no es necesario pre-calcular un umbral. Para el caso de **NMS=0.7**, devuelve 13 objetos, si le aumentamos un punto, ya empieza a dar falsos positivos en algunas otras imágenes, por lo que parecería que el valor ideal anda por ese número. También el espacio de búsqueda **linspace=(0.15, 2.1, 200)** parecería ser ideal también, ya que la escala mínima es de 0.16 y la máxima es de 2.05 (justamente la imágen con muchos objetos); sin embargo, este valor no es mucho problema, ya que se puede aumentar pero también aumenta la complejidad en tiempo y espacio acorde. Es más, para 300 ya se murió la máquina unas dos veces...*"
   ]
  },
  {
   "cell_type": "markdown",
   "metadata": {},
   "source": [
    "<em><font color='gold'>⚠ Problemas detectados: ⚠</font></em>"
   ]
  },
  {
   "cell_type": "markdown",
   "metadata": {},
   "source": [
    "<em><font color='MediumSeaGreen'>✔ Mejoras posibles: ✔</font></em>"
   ]
  },
  {
   "cell_type": "markdown",
   "metadata": {},
   "source": [
    "<em>📝 Nota: 📝</em>"
   ]
  },
  {
   "cell_type": "markdown",
   "metadata": {},
   "source": [
    "<em><font color='MediumPurple'>💡 Mejoras posibles: 💡</font><em>"
   ]
  }
 ],
 "metadata": {
  "language_info": {
   "name": "python"
  }
 },
 "nbformat": 4,
 "nbformat_minor": 2
}
