{
 "cells": [
  {
   "cell_type": "markdown",
   "metadata": {},
   "source": [
    "## <h1><center>TP2 - Aprendizaje profundo  - CEIA</center></h1>"
   ]
  },
  {
   "cell_type": "code",
   "execution_count": null,
   "metadata": {
    "vscode": {
     "languageId": "plaintext"
    }
   },
   "outputs": [],
   "source": [
    "# Descargamos la carpeta con archivos auxiliares\n",
    "%pip install gdown\n",
    "!gdown https://drive.google.com/drive/folders/1UBZ8PEbtmiWMGkULu7GAt3VhUpeTy9l7?usp=sharing --folder\n",
    "\n",
    "# Exportamos los requrimientos para reproducción local\n",
    "%pip freeze > requirements.txt"
   ]
  },
  {
   "cell_type": "code",
   "execution_count": null,
   "metadata": {
    "vscode": {
     "languageId": "plaintext"
    }
   },
   "outputs": [],
   "source": [
    "# Parámetros\n",
    "BATCH_SIZE = batch_size # Tamaño del batch\n",
    "N_EPOCHS = 10 # Número de épocas\n",
    "VERBOSE = True # Muestra época a época la evolución\n",
    "DEVICE = 'cuda' if torch.cuda.is_available() else 'cpu'\n",
    "\n",
    "print(f'Dispositivo actual: {DEVICE}')"
   ]
  },
  {
   "cell_type": "markdown",
   "metadata": {},
   "source": [
    "<center>\n",
    "\n",
    "<img src=\"https://drive.google.com/uc?id=1CRPFyP2rK5JN5H1R-2I496XHOOzNCDpL\" width=\"600\" alt=\"Figura 1: A data scientist playing with convolutional neural networks. - Generada con Microsoft Image Creator\">\n",
    "\n",
    "<small><em>Figura 1: A data scientist playing with convolutional neural networks. - Generada con Microsoft Image Creator</em></small>\n",
    "\n",
    "</center>"
   ]
  },
  {
   "cell_type": "markdown",
   "metadata": {},
   "source": [
    "<center>\n",
    "<p>✨Datos del proyecto:✨<p>\n",
    "\n",
    "| Subtitulo       | TP3 - Visión por computadora - FIUBA                                                                                                   |\n",
    "| --------------- | -------------------------------------------------------------------------------------------------------------------------------------- |\n",
    "| **Descrpción**  | Template matching                                                                                                                      |\n",
    "| **Integrantes** | Bruno Masoller (brunomaso1@gmail.com)                                                                                                |\n",
    "\n",
    "</center>"
   ]
  },
  {
   "cell_type": "markdown",
   "metadata": {},
   "source": [
    "🔮 <em><font color='violet'>Función auxiliar:</font></em> 🔮\n",
    "\n",
    "<em><font color='violet'>[Descripción de la función auxiliar...]</font></em>"
   ]
  },
  {
   "cell_type": "markdown",
   "metadata": {},
   "source": [
    "🔧 <em><font color='tomato'>Configuraciones:</font></em> 🔧\n"
   ]
  },
  {
   "cell_type": "markdown",
   "metadata": {},
   "source": [
    "✋ <em><font color='DodgerBlue'>Importaciones:</font></em> ✋"
   ]
  },
  {
   "cell_type": "markdown",
   "metadata": {},
   "source": [
    "⭐ <em><strong>Conclusión</strong></em> ⭐\n",
    "\n",
    "<em><strong>[Descripción de la conclusión...]</strong></em>"
   ]
  },
  {
   "cell_type": "markdown",
   "metadata": {},
   "source": [
    "⚠️ <em><font color='gold'>Problemas detectados:</font></em> ⚠️\n",
    "\n",
    "<em><font color='gold'>[Problemas detectados descripción...]</font></em>"
   ]
  },
  {
   "cell_type": "markdown",
   "metadata": {},
   "source": [
    "📝 <em><font color='LightGray'>Nota:</font></em> 📝\n",
    "\n",
    "<em><font color='LightGray'>[Descripción de la nota...]</font></em>"
   ]
  },
  {
   "cell_type": "markdown",
   "metadata": {},
   "source": [
    "💫 <em><font color='MediumPurple'> Mejoras posibles: </font></em> 💫\n",
    "\n",
    "<em><font color='MediumPurple'> [Descripción de la mejora] </font></em>"
   ]
  },
  {
   "cell_type": "markdown",
   "metadata": {},
   "source": [
    "💡 <em><font color='IndianRed'>Hipótesis:</font></em> 💡\n",
    "\n",
    "<em><font color='IndianRed'>[Descripción de la hipótesis...]</font></em>"
   ]
  },
  {
   "cell_type": "markdown",
   "metadata": {},
   "source": [
    "🤖 <em><font color='MistyRose'>Consulta a IA:</font></em> 🤖\n",
    "\n",
    "❔ <em><font color='NavajoWhite'>Prompt:</font></em> ❔\n",
    "\n",
    "<em><font color='NavajoWhite'>[Descripción del prompt...]</font></em>\n",
    "\n",
    "🔃 <em><font color='OldLace'>Respuesta:</font></em> 🔃\n",
    "\n",
    "<em><font color='OldLace'>[Descripción de la respuesta...]</font></em>"
   ]
  }
 ],
 "metadata": {
  "language_info": {
   "name": "python"
  }
 },
 "nbformat": 4,
 "nbformat_minor": 2
}
