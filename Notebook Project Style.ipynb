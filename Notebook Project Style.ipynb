{
 "cells": [
  {
   "cell_type": "markdown",
   "metadata": {},
   "source": [
    "<center>\n",
    "<p>✨Datos del proyecto:✨<p>\n",
    "\n",
    "| Subtitulo       | TP3 - Visión por computadora - FIUBA                                                                                                   |\n",
    "| --------------- | -------------------------------------------------------------------------------------------------------------------------------------- |\n",
    "| **Descrpción**  | Template matching                                                                                                                      |\n",
    "| **Integrantes** | Bruno Masoller (brunomaso1@gmail.com)                                                                                                |\n",
    "\n",
    "</center>"
   ]
  },
  {
   "cell_type": "markdown",
   "metadata": {},
   "source": [
    "🔮 <em><font color='violet'><strong>Función auxiliar:</strong> Cargar imágenes de un directorio.</font></em>"
   ]
  },
  {
   "cell_type": "markdown",
   "metadata": {},
   "source": [
    "🔧 <em><font color='tomato'><strong>Configuraciones:</strong></font></em>\n"
   ]
  },
  {
   "cell_type": "markdown",
   "metadata": {},
   "source": [
    "⭐**Conclusión**⭐\n",
    "\n",
    "*Como conclusión final, podemos ver que el super algoritmo función muy bien en comparación con el anterior, y además no es necesario pre-calcular un umbral. Para el caso de **NMS=0.7**, devuelve 13 objetos, si le aumentamos un punto, ya empieza a dar falsos positivos en algunas otras imágenes, por lo que parecería que el valor ideal anda por ese número. También el espacio de búsqueda **linspace=(0.15, 2.1, 200)** parecería ser ideal también, ya que la escala mínima es de 0.16 y la máxima es de 2.05 (justamente la imágen con muchos objetos); sin embargo, este valor no es mucho problema, ya que se puede aumentar pero también aumenta la complejidad en tiempo y espacio acorde. Es más, para 300 ya se murió la máquina unas dos veces...*"
   ]
  },
  {
   "cell_type": "markdown",
   "metadata": {},
   "source": [
    "<font color='orange'>⚠</font> *Problemas detectados:* <font color='orange'>⚠</font>"
   ]
  },
  {
   "cell_type": "markdown",
   "metadata": {},
   "source": [
    "<font color='MediumSeaGreen'>✔</font> *Mejoras posibles:* <font color='MediumSeaGreen'>✔</font>"
   ]
  }
 ],
 "metadata": {
  "language_info": {
   "name": "python"
  }
 },
 "nbformat": 4,
 "nbformat_minor": 2
}
