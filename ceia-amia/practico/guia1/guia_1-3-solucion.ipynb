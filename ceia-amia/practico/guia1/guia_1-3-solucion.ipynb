{
 "cells": [
  {
   "cell_type": "markdown",
   "metadata": {},
   "source": [
    "# Letra"
   ]
  },
  {
   "cell_type": "code",
   "execution_count": 1,
   "metadata": {},
   "outputs": [
    {
     "ename": "DelegateError",
     "evalue": "FailedToExecuteCommand `\"gswin64c.exe\" -q -dQUIET -dSAFER -dBATCH -dNOPAUSE -dNOPROMPT -dMaxBitmap=500000000 -dAlignToPixels=0 -dGridFitTT=2 \"-sDEVICE=pngalpha\" -dTextAlphaBits=4 -dGraphicsAlphaBits=4 \"-r72x72\" -dPrinted=false  \"-sOutputFile=C:/Users/imm/AppData/Local/Temp/magick-dG-jhkK7Sb4gW5ugA0EYXeapgMdGQtrD%d\" \"-fC:/Users/imm/AppData/Local/Temp/magick-UUB7X5Z7oa9jIImMFq2HYjvcLrJ75HNa\" \"-fC:/Users/imm/AppData/Local/Temp/magick-ZfCA9pmMW4JKsykkdtAXU8_-oP6L6hrJ\"' (127) @ error/ghostscript-private.h/ExecuteGhostscriptCommand/74",
     "output_type": "error",
     "traceback": [
      "\u001b[1;31m---------------------------------------------------------------------------\u001b[0m",
      "\u001b[1;31mDelegateError\u001b[0m                             Traceback (most recent call last)",
      "Cell \u001b[1;32mIn[1], line 2\u001b[0m\n\u001b[0;32m      1\u001b[0m \u001b[38;5;28;01mfrom\u001b[39;00m \u001b[38;5;21;01mwand\u001b[39;00m\u001b[38;5;21;01m.\u001b[39;00m\u001b[38;5;21;01mimage\u001b[39;00m \u001b[38;5;28;01mimport\u001b[39;00m Image \u001b[38;5;28;01mas\u001b[39;00m WImage\n\u001b[1;32m----> 2\u001b[0m img \u001b[38;5;241m=\u001b[39m \u001b[43mWImage\u001b[49m\u001b[43m(\u001b[49m\u001b[43mfilename\u001b[49m\u001b[38;5;241;43m=\u001b[39;49m\u001b[38;5;124;43m'\u001b[39;49m\u001b[38;5;124;43mguia_1-3.pdf\u001b[39;49m\u001b[38;5;124;43m'\u001b[39;49m\u001b[43m)\u001b[49m\n",
      "File \u001b[1;32mc:\\Users\\imm\\Documents\\uba-ceia\\.venv\\Lib\\site-packages\\wand\\image.py:9382\u001b[0m, in \u001b[0;36mImage.__init__\u001b[1;34m(self, image, blob, file, filename, pseudo, background, colorspace, depth, extract, format, height, interlace, resolution, sampling_factors, units, width)\u001b[0m\n\u001b[0;32m   9380\u001b[0m     \u001b[38;5;28mself\u001b[39m\u001b[38;5;241m.\u001b[39mread(blob\u001b[38;5;241m=\u001b[39mblob)\n\u001b[0;32m   9381\u001b[0m \u001b[38;5;28;01melif\u001b[39;00m filename \u001b[38;5;129;01mis\u001b[39;00m \u001b[38;5;129;01mnot\u001b[39;00m \u001b[38;5;28;01mNone\u001b[39;00m:\n\u001b[1;32m-> 9382\u001b[0m     \u001b[38;5;28;43mself\u001b[39;49m\u001b[38;5;241;43m.\u001b[39;49m\u001b[43mread\u001b[49m\u001b[43m(\u001b[49m\u001b[43mfilename\u001b[49m\u001b[38;5;241;43m=\u001b[39;49m\u001b[43mfilename\u001b[49m\u001b[43m)\u001b[49m\n\u001b[0;32m   9383\u001b[0m \u001b[38;5;66;03m# clear the wand format, otherwise any subsequent call to\u001b[39;00m\n\u001b[0;32m   9384\u001b[0m \u001b[38;5;66;03m# MagickGetImageBlob will silently change the image to this\u001b[39;00m\n\u001b[0;32m   9385\u001b[0m \u001b[38;5;66;03m# format again.\u001b[39;00m\n\u001b[0;32m   9386\u001b[0m library\u001b[38;5;241m.\u001b[39mMagickSetFormat(\u001b[38;5;28mself\u001b[39m\u001b[38;5;241m.\u001b[39mwand, binary(\u001b[38;5;124m\"\u001b[39m\u001b[38;5;124m\"\u001b[39m))\n",
      "File \u001b[1;32mc:\\Users\\imm\\Documents\\uba-ceia\\.venv\\Lib\\site-packages\\wand\\image.py:10137\u001b[0m, in \u001b[0;36mImage.read\u001b[1;34m(self, file, filename, blob, background, colorspace, depth, extract, format, height, interlace, resolution, sampling_factors, units, width)\u001b[0m\n\u001b[0;32m  10135\u001b[0m     r \u001b[38;5;241m=\u001b[39m library\u001b[38;5;241m.\u001b[39mMagickReadImage(\u001b[38;5;28mself\u001b[39m\u001b[38;5;241m.\u001b[39mwand, filename)\n\u001b[0;32m  10136\u001b[0m \u001b[38;5;28;01mif\u001b[39;00m \u001b[38;5;129;01mnot\u001b[39;00m r:\n\u001b[1;32m> 10137\u001b[0m     \u001b[38;5;28;43mself\u001b[39;49m\u001b[38;5;241;43m.\u001b[39;49m\u001b[43mraise_exception\u001b[49m\u001b[43m(\u001b[49m\u001b[43m)\u001b[49m\n\u001b[0;32m  10138\u001b[0m     msg \u001b[38;5;241m=\u001b[39m (\u001b[38;5;124m'\u001b[39m\u001b[38;5;124mMagickReadImage returns false, but did not raise \u001b[39m\u001b[38;5;124m'\u001b[39m\n\u001b[0;32m  10139\u001b[0m            \u001b[38;5;124m'\u001b[39m\u001b[38;5;124mImageMagick  exception. This can occur when a delegate \u001b[39m\u001b[38;5;124m'\u001b[39m\n\u001b[0;32m  10140\u001b[0m            \u001b[38;5;124m'\u001b[39m\u001b[38;5;124mis missing, or returns EXIT_SUCCESS without generating a \u001b[39m\u001b[38;5;124m'\u001b[39m\n\u001b[0;32m  10141\u001b[0m            \u001b[38;5;124m'\u001b[39m\u001b[38;5;124mraster.\u001b[39m\u001b[38;5;124m'\u001b[39m)\n\u001b[0;32m  10142\u001b[0m     \u001b[38;5;28;01mraise\u001b[39;00m WandRuntimeError(msg)\n",
      "File \u001b[1;32mc:\\Users\\imm\\Documents\\uba-ceia\\.venv\\Lib\\site-packages\\wand\\resource.py:225\u001b[0m, in \u001b[0;36mResource.raise_exception\u001b[1;34m(self, stacklevel)\u001b[0m\n\u001b[0;32m    223\u001b[0m     warnings\u001b[38;5;241m.\u001b[39mwarn(e, stacklevel\u001b[38;5;241m=\u001b[39mstacklevel \u001b[38;5;241m+\u001b[39m \u001b[38;5;241m1\u001b[39m)\n\u001b[0;32m    224\u001b[0m \u001b[38;5;28;01melif\u001b[39;00m \u001b[38;5;28misinstance\u001b[39m(e, \u001b[38;5;167;01mException\u001b[39;00m):\n\u001b[1;32m--> 225\u001b[0m     \u001b[38;5;28;01mraise\u001b[39;00m e\n",
      "\u001b[1;31mDelegateError\u001b[0m: FailedToExecuteCommand `\"gswin64c.exe\" -q -dQUIET -dSAFER -dBATCH -dNOPAUSE -dNOPROMPT -dMaxBitmap=500000000 -dAlignToPixels=0 -dGridFitTT=2 \"-sDEVICE=pngalpha\" -dTextAlphaBits=4 -dGraphicsAlphaBits=4 \"-r72x72\" -dPrinted=false  \"-sOutputFile=C:/Users/imm/AppData/Local/Temp/magick-dG-jhkK7Sb4gW5ugA0EYXeapgMdGQtrD%d\" \"-fC:/Users/imm/AppData/Local/Temp/magick-UUB7X5Z7oa9jIImMFq2HYjvcLrJ75HNa\" \"-fC:/Users/imm/AppData/Local/Temp/magick-ZfCA9pmMW4JKsykkdtAXU8_-oP6L6hrJ\"' (127) @ error/ghostscript-private.h/ExecuteGhostscriptCommand/74"
     ]
    }
   ],
   "source": [
    "from wand.image import Image as WImage\n",
    "img = WImage(filename='guia_1-3.pdf')"
   ]
  }
 ],
 "metadata": {
  "kernelspec": {
   "display_name": ".venv",
   "language": "python",
   "name": "python3"
  },
  "language_info": {
   "codemirror_mode": {
    "name": "ipython",
    "version": 3
   },
   "file_extension": ".py",
   "mimetype": "text/x-python",
   "name": "python",
   "nbconvert_exporter": "python",
   "pygments_lexer": "ipython3",
   "version": "3.12.0"
  }
 },
 "nbformat": 4,
 "nbformat_minor": 2
}
